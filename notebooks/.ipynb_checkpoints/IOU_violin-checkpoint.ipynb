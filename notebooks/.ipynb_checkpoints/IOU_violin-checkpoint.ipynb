{
 "cells": [
  {
   "cell_type": "markdown",
   "id": "e68637b7-1907-4ccb-8768-ab6327952779",
   "metadata": {},
   "source": [
    "# IOU of predictions"
   ]
  },
  {
   "cell_type": "markdown",
   "id": "364a265c-20b5-4f94-817f-ab4fb1ddbdc8",
   "metadata": {},
   "source": [
    "In this paper uncertainty of model trained on Arild's data is investigated"
   ]
  },
  {
   "cell_type": "markdown",
   "id": "60ccf328-7a6b-4a1b-8e89-aca7845a7c1b",
   "metadata": {
    "tags": []
   },
   "source": [
    "## imports"
   ]
  },
  {
   "cell_type": "code",
   "execution_count": 1,
   "id": "830d0156-99a2-4a33-9f90-fd9bcfa318f0",
   "metadata": {},
   "outputs": [],
   "source": [
    "%load_ext autoreload"
   ]
  },
  {
   "cell_type": "code",
   "execution_count": 2,
   "id": "cbd0f3a7-1320-43b8-9e35-4e3f5f790067",
   "metadata": {},
   "outputs": [
    {
     "name": "stderr",
     "output_type": "stream",
     "text": [
      "2022-05-15 20:43:25.752907: I tensorflow/stream_executor/platform/default/dso_loader.cc:49] Successfully opened dynamic library libcudart.so.10.1\n"
     ]
    }
   ],
   "source": [
    "%autoreload\n",
    "import numpy as np\n",
    "import sys\n",
    "import os\n",
    "import glob\n",
    "import imageio\n",
    "import time\n",
    "import matplotlib.pyplot as plt\n",
    "from scipy import ndimage, signal\n",
    "from cv2 import medianBlur\n",
    "import gdal\n",
    "from osgeo import ogr\n",
    "from osgeo import osr\n",
    "import seaborn as sns \n",
    "import pandas as pd\n",
    "\n",
    "sys.path.append(\"..\")\n",
    "\n",
    "from PIL import Image\n",
    "from costum_arild.source.utils import image_processing_utils, gdal_utils, notebook_utils, model_utils\n",
    "from costum_arild.source.data_processing import TrainingImage, divide_image, reassemble_big_image, reassemble_big_image_np"
   ]
  },
  {
   "cell_type": "code",
   "execution_count": 3,
   "id": "9b246685-0e00-45a5-b62d-e4f1d4545c94",
   "metadata": {},
   "outputs": [],
   "source": [
    "def get_image_list_geo_projection(base_path_list, river_id, image_idx, prediction_type, river_names):\n",
    "    all_image_paths = [sorted(glob.glob(os.path.join(base_path_list[exp_id], river_names[river_id], prediction_type, '*.tif'))) for exp_id in range(len(base_path_list))]\n",
    "    image_paths = [all_image_paths[exp_id][image_idx] for exp_id in range(len(base_path_list))]\n",
    "    # get the projection\n",
    "    _, geo, project = image_processing_utils.read_tiff_file(large_image_path=image_paths[0], numpy_array_only=False)\n",
    "    img_exp_arr_list = [image_processing_utils.read_tiff_file(large_image_path=image_path, numpy_array_only=True) for image_path in image_paths]\n",
    "    img_arr = np.stack(img_exp_arr_list, axis=0)\n",
    "    return img_arr, geo, project\n",
    "\n",
    "def make_number_classes_save(numpy_array, geo, project, dest_path):\n",
    "    os.makedirs(os.path.split(dest_path)[0], exist_ok=True)\n",
    "    if numpy_array.ndim > 3:\n",
    "        numpy_array = numpy_array.squeeze()\n",
    "    numpy_array_diff=image_processing_utils.unique_values_axis(numpy_array)\n",
    "    # write the array to file\n",
    "    print(numpy_array_diff.shape)\n",
    "    gdal_utils.write_array_to_raster(output_filepath=dest_path, array=numpy_array_diff, geo_transform=geo, projection=project)\n",
    "\n",
    "def save_number_classes_river(base_path_list, dest_base_path, river_names, prediction_type):\n",
    "    for river_id in range(len(river_names)):\n",
    "        \n",
    "        all_image_paths = [sorted(glob.glob(os.path.join(base_path_list[exp_id], river_names[river_id], prediction_type, '*.tif'))) for exp_id in range(len(base_path_list))]\n",
    "        for image_id in range(len(all_image_paths[river_id])):\n",
    "            print(all_image_paths[river_id][image_id])\n",
    "            image_name = os.path.split(all_image_paths[river_id][image_id])[-1]\n",
    "            print(f'working on image {image_name}')\n",
    "            dest_path = os.path.join(dest_base_path, f'{river_names[river_id]}/{image_name}.tif')\n",
    "            img_arr, geo, project = get_image_list_geo_projection(base_path_list=base_path_list, river_id=river_id, \n",
    "                                          image_idx=image_id, prediction_type=prediction_type, river_names=river_names)\n",
    "            \n",
    "            make_number_classes_save(numpy_array=img_arr, geo=geo, project=project, dest_path=dest_path)\n",
    "            \n",
    "\n",
    "def get_arr_using_id(arr_path, arr_id, file_type='tif'):\n",
    "    \"\"\"\n",
    "    get the path to arr number arr_id at arr_path which has type of file_type\n",
    "    \"\"\"\n",
    "    list_files = sorted(glob.glob(os.path.join(arr_path, f'*.{file_type}')))\n",
    "    return list_files[arr_id]"
   ]
  },
  {
   "cell_type": "code",
   "execution_count": 4,
   "id": "e7a4dd96-4c66-46d7-9194-ac7fe843804a",
   "metadata": {},
   "outputs": [],
   "source": [
    "def get_pred_lbl_mask_by_riverid(base_path_list, river_names, prediction_type, label_path_list, river_id):\n",
    "    img_exp_list = []\n",
    "    lbl_list = []\n",
    "    mask_list = []\n",
    "    list_images_rivers = [sorted( glob.glob (os.path.join(base_path_list[exp_id], river_names[river_id], prediction_type, '*.tif'))) \n",
    "                                      for exp_id in range(len(base_path_list))]\n",
    "\n",
    "    for image_idx, _ in enumerate(list_images_rivers[river_id]):\n",
    "\n",
    "        label_path = get_arr_using_id(arr_path=label_path_list[river_id], arr_id=image_idx, file_type='tif')\n",
    "        label_arr = image_processing_utils.read_tiff_file(large_image_path=label_path, numpy_array_only=True)\n",
    "        if unknown_zero:\n",
    "            label_arr = image_processing_utils.swap_labels(arr=label_arr, lbl1=0, lbl2=5)\n",
    "\n",
    "        img_arr, geo, project = get_image_list_geo_projection(base_path_list=base_path_list, \n",
    "                                                              river_id=river_id, \n",
    "                                                              image_idx=image_idx, \n",
    "                                                              prediction_type=prediction_type, \n",
    "                                                              river_names=river_names)\n",
    "\n",
    "        label_base=os.path.split(label_path_list[river_id])[0]\n",
    "        mask_shape_path = os.path.join(label_base, 'bounding_box.shp')\n",
    "        mask = gdal_utils.load_shapefile_mask(shape_path=mask_shape_path, \n",
    "                                              img_arr=img_arr, \n",
    "                                              geo_transform=geo, \n",
    "                                              projection=project)\n",
    "        img_list = []\n",
    "        for exp_idx_tmp in range(img_arr.shape[0]):\n",
    "            img_list.append(img_arr[exp_idx_tmp].flatten())\n",
    "        # images: [ img1 which is 5 experiments\n",
    "        #           img2 which is 5 experimets]\n",
    "        img_exp_list.append(img_list)\n",
    "        lbl_list.append(label_arr.flatten())\n",
    "        mask_list.append(mask.flatten())\n",
    "        \n",
    "    return img_exp_list, lbl_list, mask_list"
   ]
  },
  {
   "cell_type": "code",
   "execution_count": 5,
   "id": "529396a9-3d27-4a66-9445-596d855916f8",
   "metadata": {},
   "outputs": [],
   "source": [
    "def confusion_matrix(x, y, n, ignore_label=None, mask=None):\n",
    "    \"\"\"Compute confusion matrix\n",
    "\n",
    "    Args:\n",
    "        x (np.array): 1 x h x w\n",
    "            prediction array\n",
    "        y (np.array): 1 x h x w\n",
    "            groundtruth array\n",
    "        n (int): number of classes\n",
    "        ignore_label (int, optional): index of ignored label. Defaults to None.\n",
    "        mask (np.array, optional): mask of regions that is needed to compute. Defaults to None.\n",
    "\n",
    "    Returns:\n",
    "        np.array: n x n\n",
    "            confusion matrix\n",
    "    \"\"\"\n",
    "    if mask is None:\n",
    "        mask = np.ones_like(x) == 1\n",
    "    k = (x >= 0) & (y < n) & (x != ignore_label) & (mask.astype(np.bool))\n",
    "    return np.bincount(n * x[k].astype(int) + y[k], minlength=n ** 2).reshape(n, n)\n",
    "\n",
    "\n",
    "def getIoU(conf_matrix):\n",
    "    \"\"\"Compute IoU\n",
    "\n",
    "    Args:\n",
    "        conf_matrix (np.array): n x n\n",
    "            confusion matrix\n",
    "\n",
    "    Returns:\n",
    "        np.array: (n,)\n",
    "            IoU of classes\n",
    "    \"\"\"\n",
    "    if conf_matrix.sum() == 0:\n",
    "        return 0\n",
    "    with np.errstate(divide=\"ignore\", invalid=\"ignore\"):\n",
    "        union = np.maximum(1.0, conf_matrix.sum(axis=1) +\n",
    "                           conf_matrix.sum(axis=0) - np.diag(conf_matrix))\n",
    "        intersect = np.diag(conf_matrix)\n",
    "        IU = np.nan_to_num(intersect / union)\n",
    "    return IU\n",
    "\n",
    "\n",
    "def iou_single_class(labels, predictions, class_no):\n",
    "    \"\"\"\n",
    "    class should be number of classes\n",
    "    \"\"\"\n",
    "    labels_c = (labels == class_no)\n",
    "    pred_c = (predictions == class_no)\n",
    "    labels_c_sum = (labels_c).sum()\n",
    "    pred_c_sum = (pred_c).sum()\n",
    "\n",
    "    if (labels_c_sum > 0) or (pred_c_sum > 0):\n",
    "        intersect = np.logical_and(labels_c, pred_c).sum()\n",
    "        union = labels_c_sum + pred_c_sum - intersect\n",
    "        with np.errstate(divide=\"ignore\", invalid=\"ignore\"):\n",
    "            return (intersect / union)\n",
    "    return 0 "
   ]
  },
  {
   "cell_type": "markdown",
   "id": "399dcfc4-d65b-4e38-ba91-69bff504d00b",
   "metadata": {},
   "source": [
    "## iou of old predictions"
   ]
  },
  {
   "cell_type": "code",
   "execution_count": 14,
   "id": "0cbb5653-0044-43be-8ce0-3208f89b19b3",
   "metadata": {},
   "outputs": [],
   "source": [
    "g63_old = np.array([\n",
    "    0.6805,\n",
    "    0.7007,\n",
    "    0.6835,\n",
    "    0.6899,\n",
    "    0.7017,\n",
    "])\n",
    "\n",
    "g98_old = np.array([\n",
    "    0.5679,\n",
    "    0.4580,\n",
    "    0.5079,\n",
    "    0.4659,\n",
    "    0.5492,\n",
    "])\n",
    "\n",
    "n76_old = np.array([\n",
    "    0.6858,\n",
    "    0.7154,\n",
    "    0.7138,\n",
    "    0.7129,\n",
    "    0.6925,\n",
    "])\n",
    "\n",
    "old_miou_data = np.stack((g63_old, g98_old, n76_old), axis=-1)\n",
    "index_name = ['exp1', 'exp2', 'exp3', 'exp4', 'exp5']\n",
    "column_name = ['gaula_1963_v0', 'gaula_1998_v0', 'nea_1962_v0']\n",
    "old_miou_df = pd.DataFrame(data = old_miou_data, \n",
    "                  index = index_name,\n",
    "                  columns = column_name)"
   ]
  },
  {
   "cell_type": "code",
   "execution_count": 15,
   "id": "d550568f-20ff-47c4-9365-72af74366985",
   "metadata": {},
   "outputs": [
    {
     "data": {
      "text/plain": [
       "<AxesSubplot:>"
      ]
     },
     "execution_count": 15,
     "metadata": {},
     "output_type": "execute_result"
    },
    {
     "data": {
      "image/png": "[encoded data removed]",
      "text/plain": [
       "<Figure size 432x288 with 1 Axes>"
      ]
     },
     "metadata": {
      "needs_background": "light"
     },
     "output_type": "display_data"
    }
   ],
   "source": [
    "old_miou_df.boxplot()"
   ]
  },
  {
   "cell_type": "markdown",
   "id": "85ad2b1f-69f2-4bb3-a191-b9102a0d53d7",
   "metadata": {},
   "source": [
    "## iou of new predictions"
   ]
  },
  {
   "cell_type": "code",
   "execution_count": 58,
   "id": "d3075622-3772-482e-bf17-0a9ab8d9be95",
   "metadata": {},
   "outputs": [],
   "source": [
    "g63_new = np.array([\n",
    "    0.7892,\n",
    "    0.7950,\n",
    "    0.7801,\n",
    "    0.7892,\n",
    "    0.7912,\n",
    "])\n",
    "\n",
    "g98_new = np.array([\n",
    "    0.6160,\n",
    "    0.5989,\n",
    "    0.6259,\n",
    "    0.6066,\n",
    "    0.6002,\n",
    "])\n",
    "\n",
    "n76_new = np.array([\n",
    "    0.7351,\n",
    "    0.7389,\n",
    "    0.7156,\n",
    "    0.7377,\n",
    "    0.7284,\n",
    "])\n",
    "\n",
    "old_miou_df['gaula_1963_v1'] = g63_new\n",
    "old_miou_df['gaula_1998_v1'] = g98_new\n",
    "old_miou_df['nea_1962_v1'] = n76_new"
   ]
  },
  {
   "cell_type": "code",
   "execution_count": 59,
   "id": "3f113de4-bce1-4670-b2e2-ebd89bf4c7f9",
   "metadata": {},
   "outputs": [
    {
     "data": {
      "image/png": "[encoded data removed]",
      "text/plain": [
       "<Figure size 720x360 with 1 Axes>"
      ]
     },
     "metadata": {
      "needs_background": "light"
     },
     "output_type": "display_data"
    }
   ],
   "source": [
    "dest_path = '/home/saeid/phd/segmentation/experiments_testset_predictions/New_dataset_experiments/plots/violin_plot'\n",
    "plt.figure(figsize=(10,5))\n",
    "ax = sns.violinplot(data=old_miou_df[['gaula_1963_v0', 'gaula_1963_v1', 'gaula_1998_v0', 'gaula_1998_v1', 'nea_1962_v0', 'nea_1962_v1']], \n",
    "               palette=['r','royalblue','r','royalblue','r','royalblue'])\n",
    "plt.savefig(os.path.join(dest_path, 'old_new_data_v1.png'), dpi=500)"
   ]
  },
  {
   "cell_type": "code",
   "execution_count": 56,
   "id": "1d8cb534-3965-42df-8bb9-6852a8e8f09b",
   "metadata": {},
   "outputs": [
    {
     "data": {
      "text/plain": [
       "(0.78894, 0.6095200000000001, 0.73114)"
      ]
     },
     "execution_count": 56,
     "metadata": {},
     "output_type": "execute_result"
    }
   ],
   "source": [
    "g63_new.mean(), g98_new.mean(), n76_new.mean()"
   ]
  },
  {
   "cell_type": "code",
   "execution_count": 57,
   "id": "e8d890b9-6ed2-4720-bf82-86bae0ea3081",
   "metadata": {},
   "outputs": [
    {
     "data": {
      "text/plain": [
       "(0.004901265142797323, 0.01018300545025879, 0.008578251570104474)"
      ]
     },
     "execution_count": 57,
     "metadata": {},
     "output_type": "execute_result"
    }
   ],
   "source": [
    "g63_new.std(), g98_new.std(), n76_new.std()"
   ]
  },
  {
   "cell_type": "code",
   "execution_count": 37,
   "id": "94dcfc5d-7a0b-4372-bf36-49bb0f266db4",
   "metadata": {},
   "outputs": [],
   "source": [
    "g63_new_swa = np.array([\n",
    "    0.8010,\n",
    "    0.7991,\n",
    "    0.7931,\n",
    "    0.8122,\n",
    "    0.8103,\n",
    "])\n",
    "\n",
    "g98_new_swa = np.array([\n",
    "    0.6436,\n",
    "    0.6459,\n",
    "    0.6259,\n",
    "    0.6266,\n",
    "    0.6348,\n",
    "])\n",
    "\n",
    "n76_new_swa = np.array([\n",
    "    0.7360,\n",
    "    0.7226,\n",
    "    0.7443,\n",
    "    0.7377,\n",
    "    0.7330,\n",
    "])"
   ]
  },
  {
   "cell_type": "code",
   "execution_count": null,
   "id": "adcbf29f-7c64-446d-bbc8-0d245a9568e6",
   "metadata": {},
   "outputs": [],
   "source": []
  }
 ],
 "metadata": {
  "kernelspec": {
   "display_name": "Python 3 (ipykernel)",
   "language": "python",
   "name": "python3"
  },
  "language_info": {
   "codemirror_mode": {
    "name": "ipython",
    "version": 3
   },
   "file_extension": ".py",
   "mimetype": "text/x-python",
   "name": "python",
   "nbconvert_exporter": "python",
   "pygments_lexer": "ipython3",
   "version": "3.7.7"
  }
 },
 "nbformat": 4,
 "nbformat_minor": 5
}
