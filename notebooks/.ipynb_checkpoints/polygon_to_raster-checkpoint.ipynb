{
 "cells": [
  {
   "cell_type": "code",
   "execution_count": null,
   "id": "25f0275f-f635-4376-a6b4-eded2885c1ab",
   "metadata": {},
   "outputs": [],
   "source": [
    "shapefile = '/home/saeid/phd/segmentation/dataset/neurips dataset/aders orkla/no1/And-33-2-458-211-10.shp'\n",
    "\n",
    "#making the shapefile as an object.\n",
    "input_shp = ogr.Open(shapefile)\n",
    "\n",
    "#getting layer information of shapefile.\n",
    "shp_layer = input_shp.GetLayer()\n",
    "\n",
    "#pixel_size determines the size of the new raster.\n",
    "#pixel_size is proportional to size of shapefile.\n",
    "pixel_size = 0.1\n",
    "\n",
    "#get extent values to set size of output raster.\n",
    "x_min, x_max, y_min, y_max = shp_layer.GetExtent()\n",
    "\n",
    "#calculate size/resolution of the raster.\n",
    "x_res = int((x_max - x_min) / pixel_size)\n",
    "y_res = int((y_max - y_min) / pixel_size)\n"
   ]
  }
 ],
 "metadata": {
  "kernelspec": {
   "display_name": "Python 3 (ipykernel)",
   "language": "python",
   "name": "python3"
  },
  "language_info": {
   "codemirror_mode": {
    "name": "ipython",
    "version": 3
   },
   "file_extension": ".py",
   "mimetype": "text/x-python",
   "name": "python",
   "nbconvert_exporter": "python",
   "pygments_lexer": "ipython3",
   "version": "3.7.7"
  }
 },
 "nbformat": 4,
 "nbformat_minor": 5
}
