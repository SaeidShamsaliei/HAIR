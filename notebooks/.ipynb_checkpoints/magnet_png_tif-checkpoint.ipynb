{
 "cells": [
  {
   "cell_type": "markdown",
   "id": "e94c2150-94f2-44e8-80e4-57e947330928",
   "metadata": {},
   "source": [
    "# converting png files to tif file using geo data available in the directory"
   ]
  },
  {
   "cell_type": "code",
   "execution_count": 1,
   "id": "acab30b6-5e2e-4fca-998a-92012165c8a8",
   "metadata": {},
   "outputs": [],
   "source": [
    "%load_ext autoreload"
   ]
  },
  {
   "cell_type": "code",
   "execution_count": 2,
   "id": "c570ef08-84d5-4268-bf63-063621a384f5",
   "metadata": {},
   "outputs": [
    {
     "name": "stderr",
     "output_type": "stream",
     "text": [
      "2022-04-13 23:59:22.903197: I tensorflow/stream_executor/platform/default/dso_loader.cc:49] Successfully opened dynamic library libcudart.so.10.1\n"
     ]
    }
   ],
   "source": [
    "%autoreload\n",
    "import numpy as np\n",
    "import sys\n",
    "import os\n",
    "import glob\n",
    "import imageio\n",
    "import time\n",
    "import matplotlib.pyplot as plt\n",
    "from scipy import ndimage, signal\n",
    "from cv2 import medianBlur\n",
    "import gdal\n",
    "from osgeo import ogr\n",
    "from osgeo import osr\n",
    "\n",
    "sys.path.append(\"..\")\n",
    "\n",
    "from PIL import Image\n",
    "from costum_arild.source.utils import image_processing_utils, gdal_utils, notebook_utils, model_utils\n",
    "from costum_arild.source.data_processing import TrainingImage, divide_image, reassemble_big_image, reassemble_big_image_np"
   ]
  },
  {
   "cell_type": "code",
   "execution_count": 3,
   "id": "50958ec1-b165-4602-a5b5-05455784f31e",
   "metadata": {},
   "outputs": [],
   "source": [
    "png_base = '/home/saeid/phd/segmentation/experiments_testset_predictions/New_dataset_experiments/Magnet_exp_no25/'\n",
    "tif_base = '/home/saeid/phd/segmentation/experiments_testset_predictions/New_dataset_experiments/exp_no12/2022-02-15_22:15:20.922837_vgg16_freeze_0'\n",
    "river_names = ['gaula_1963_test', 'gaula_1998_test', 'nea_1962_test']"
   ]
  },
  {
   "cell_type": "code",
   "execution_count": 4,
   "id": "4f56ea8a-a49b-47ca-aac6-0f7c1d1b0151",
   "metadata": {},
   "outputs": [],
   "source": [
    "for river in river_names:\n",
    "    src_png_files = sorted(glob.glob(os.path.join(png_base, river, '*.png')))\n",
    "    src_tif_files = sorted(glob.glob(os.path.join(tif_base, river, 'predictions', '*.tif')))\n",
    "    for idx, png_path in enumerate(src_png_files):\n",
    "        img_name = os.path.split(png_path)[-1].replace('.png', '')\n",
    "        \n",
    "        assert img_name == os.path.split(src_tif_files[idx])[-1].replace('.tif', '')\n",
    "        \n",
    "        # read transform and projection\n",
    "        _, transform, projection = gdal_utils.read_tiff_file(large_image_path=src_tif_files[idx])\n",
    "        arr = image_processing_utils.read_png_file(png_path)\n",
    "        \n",
    "        os.makedirs(os.path.join(png_base, river, 'predictions'), exist_ok=True)\n",
    "        dest_path = os.path.join(png_base, river, 'predictions' ,f'{img_name}.tif')\n",
    "        gdal_utils.write_array_to_raster(output_filepath=dest_path, array=arr, \n",
    "                                         geo_transform=transform, projection=projection)"
   ]
  },
  {
   "cell_type": "code",
   "execution_count": null,
   "id": "f5810b3a-0a86-4136-8934-9f53ed791c89",
   "metadata": {},
   "outputs": [],
   "source": []
  }
 ],
 "metadata": {
  "kernelspec": {
   "display_name": "Python 3 (ipykernel)",
   "language": "python",
   "name": "python3"
  },
  "language_info": {
   "codemirror_mode": {
    "name": "ipython",
    "version": 3
   },
   "file_extension": ".py",
   "mimetype": "text/x-python",
   "name": "python",
   "nbconvert_exporter": "python",
   "pygments_lexer": "ipython3",
   "version": "3.7.7"
  }
 },
 "nbformat": 4,
 "nbformat_minor": 5
}
