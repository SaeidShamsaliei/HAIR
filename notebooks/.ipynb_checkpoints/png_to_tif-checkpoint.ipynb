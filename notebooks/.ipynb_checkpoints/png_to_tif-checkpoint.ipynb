{
 "cells": [
  {
   "cell_type": "markdown",
   "id": "8ec0a19f",
   "metadata": {},
   "source": [
    "# png to tif"
   ]
  },
  {
   "cell_type": "markdown",
   "id": "ef3248f0",
   "metadata": {},
   "source": [
    "## find the corresponding tif file and add the geo data to the numpy."
   ]
  },
  {
   "cell_type": "code",
   "execution_count": 1,
   "id": "1de09c8f",
   "metadata": {},
   "outputs": [],
   "source": [
    "%load_ext autoreload"
   ]
  },
  {
   "cell_type": "code",
   "execution_count": 2,
   "id": "ae28df12",
   "metadata": {},
   "outputs": [
    {
     "name": "stderr",
     "output_type": "stream",
     "text": [
      "2022-04-19 01:59:07.932488: I tensorflow/stream_executor/platform/default/dso_loader.cc:49] Successfully opened dynamic library libcudart.so.10.1\n"
     ]
    }
   ],
   "source": [
    "%autoreload\n",
    "import numpy as np\n",
    "import sys\n",
    "import os\n",
    "import glob\n",
    "import imageio\n",
    "import time\n",
    "from scipy import ndimage, signal\n",
    "from cv2 import medianBlur\n",
    "\n",
    "sys.path.append(\"..\")\n",
    "\n",
    "from PIL import Image\n",
    "from costum_arild.source.utils import image_processing_utils, gdal_utils\n",
    "from costum_arild.source.data_processing import TrainingImage"
   ]
  },
  {
   "cell_type": "code",
   "execution_count": 3,
   "id": "d370e7e7",
   "metadata": {},
   "outputs": [
    {
     "name": "stdout",
     "output_type": "stream",
     "text": [
      "working on river gaula_1963_test\n",
      "\n",
      "\n"
     ]
    }
   ],
   "source": [
    "# read all the images\n",
    "# river_names = ['lærdal_1976', 'gaula_1963', 'surna_1963', 'nea_1962']\n",
    "river_names = ['gaula_1963_test']\n",
    "\n",
    "color_matrix = np.array([[0,0,255], [255,255,0], [0,128,0], [128,128,0], [128,0,128], [0,0,0]], dtype=np.uint8)\n",
    "\n",
    "for river_name in river_names:\n",
    "    print(f'working on river {river_name}\\n\\n')\n",
    "#     src_label_base_png_path = f'/home/saeid/phd/segmentation/dataset/large images/rasters_png/all_label_correct_ipad/near_color_median'\n",
    "#     src_label_base_png_path = f'/home/saeid/phd/segmentation/dataset/large images/rasters_png/all_label_correct_ipad/new_image/near_color'\n",
    "    src_label_base_png_path = f'/home/saeid/phd/segmentation/dataset/large images/rasters_png/all_label_correct_ipad/new_image/n_c_4/label/'\n",
    "#     if river_name == 'nea_1962':\n",
    "#         src_label_base_tif_path = f'/home/saeid/phd/segmentation/dataset/test_dataset/nea_1962_test_set/nea_1962_plane_photos'\n",
    "#     else:\n",
    "#         src_label_base_tif_path = f'/home/saeid/phd/segmentation/dataset/large images/rasters/{river_name}'\n",
    "    \n",
    "    src_label_base_tif_path = '/home/saeid/phd/segmentation/dataset/new_rivers/gaula_1947_plane_photos'\n",
    "\n",
    "    tif_paths = glob.glob(os.path.join(src_label_base_tif_path, '*.tif'))\n",
    "    png_paths = glob.glob(os.path.join(src_label_base_png_path, '*.png'))\n",
    "\n",
    "    dest_save_path = fr'/home/saeid/phd/segmentation/dataset/large images/rasters/corrected_ipad/{river_name}'\n",
    "    os.makedirs(dest_save_path, exist_ok=True)  \n",
    "\n",
    "    info_list = []\n",
    "    for png_path in png_paths:\n",
    "        png_name = os.path.split(png_path)[-1]\n",
    "        if river_name == 'surna_1963' or river_name == 'nea_1962' or river_name == 'gaula_1963_test':\n",
    "            tif_name = f'{png_name}'.replace('.png','.tif')\n",
    "        else:\n",
    "            tif_name = f'label{png_name}'.replace('.png','.tif')\n",
    "            \n",
    "        tif_path = os.path.join(src_label_base_tif_path, tif_name)\n",
    "        if tif_path in tif_paths:\n",
    "            print(f'\\nsaveing {png_name}')\n",
    "            # read the tif file to store the projection data\n",
    "            _, geo_transform, projection = gdal_utils.read_tiff_file(tif_path)\n",
    "            # read png file to use as array for tif\n",
    "            png_array = image_processing_utils.read_png_file(os.path.join(src_label_base_png_path, png_name))\n",
    "            # convert image into 2d\n",
    "#             replaced_image_onehot = image_processing_utils.one_hot_encode(png_array.astype(np.uint8), color_matrix)\n",
    "#             png_array_2d = image_processing_utils.one_hot_decode(replaced_image_onehot)            \n",
    "            png_array_2d = image_processing_utils.replace_rgb_to_class(png_array, \n",
    "                                                                   unknown_zero_flag=True)\n",
    "\n",
    "            info_dict = {'name':png_name, 'geo_transform':geo_transform, 'projection':projection}\n",
    "            info_list.append(info_dict)\n",
    "\n",
    "            tif_object = TrainingImage(data=None, labels=png_array_2d, geo_transform=geo_transform, \n",
    "                                       projection=projection)\n",
    "            print(f'{png_name} saved\\n')\n",
    "            tif_object.write_labels_to_raster(os.path.join(dest_save_path, png_name.replace('png','tif')))\n",
    "        else:\n",
    "            print(f'{tif_name} not in {river_name}')"
   ]
  },
  {
   "cell_type": "markdown",
   "id": "4456978c",
   "metadata": {},
   "source": [
    "## check labels with no river assigned to them"
   ]
  },
  {
   "cell_type": "code",
   "execution_count": 4,
   "id": "5c15913f",
   "metadata": {},
   "outputs": [],
   "source": [
    "# check which one is not in any of the folders\n",
    "gaula_path = '/home/saeid/phd/segmentation/dataset/large images/rasters/gaula_1963'\n",
    "laerdal_path = '/home/saeid/phd/segmentation/dataset/large images/rasters/lærdal_1976'\n",
    "surna_path = '/home/saeid/phd/segmentation/dataset/large images/rasters/surna_1963'\n",
    "\n",
    "src_image = '/home/saeid/phd/segmentation/dataset/large images/rasters_png/all_label_correct_ipad/near_color_median'"
   ]
  },
  {
   "cell_type": "code",
   "execution_count": 5,
   "id": "e0cbf26b",
   "metadata": {},
   "outputs": [],
   "source": [
    "gaula_path_list = glob.glob(os.path.join(gaula_path, '*.tif'))\n",
    "laerdal_path_list = glob.glob(os.path.join(laerdal_path, '*.tif'))\n",
    "surna_path_list = glob.glob(os.path.join(surna_path, '*.tif'))\n",
    "src_path_list = glob.glob(os.path.join(src_image, '*.png'))\n",
    "\n",
    "gaula_list = [os.path.split(tif_name)[-1].replace('label','') for tif_name in gaula_path_list]\n",
    "laerdal_list = [os.path.split(tif_name)[-1].replace('label','') for tif_name in laerdal_path_list]\n",
    "surna_list = [os.path.split(tif_name)[-1].replace('label','') for tif_name in surna_path_list]\n",
    "src_list = [os.path.split(tif_name)[-1].replace('label','') for tif_name in src_path_list]"
   ]
  },
  {
   "cell_type": "code",
   "execution_count": 6,
   "id": "2eb4370b",
   "metadata": {},
   "outputs": [
    {
     "data": {
      "text/plain": [
       "87"
      ]
     },
     "execution_count": 6,
     "metadata": {},
     "output_type": "execute_result"
    }
   ],
   "source": [
    "len(src_list)"
   ]
  },
  {
   "cell_type": "code",
   "execution_count": 7,
   "id": "6284bc82",
   "metadata": {},
   "outputs": [
    {
     "name": "stdout",
     "output_type": "stream",
     "text": [
      "33-2-462-209-23_1.tif is no river\n",
      "33-2-462-209-12-new.tif is no river\n",
      "33-2-470-210-01.tif is no river\n",
      "33-2-470-210-03.tif is no river\n",
      "33-2-470-210-02.tif is no river\n",
      "33-2-462-211-33_old.tif is no river\n"
     ]
    }
   ],
   "source": [
    "for img_png in src_list:\n",
    "    img_png = img_png.replace('.png', '.tif')\n",
    "    if img_png in gaula_list:\n",
    "        continue\n",
    "    elif img_png in laerdal_list:\n",
    "        continue\n",
    "    elif img_png in surna_list:\n",
    "        continue\n",
    "    else:\n",
    "        print(f'{img_png} is no river')"
   ]
  },
  {
   "cell_type": "code",
   "execution_count": 8,
   "id": "0a91d1b9-fcb6-4f3f-877f-977d120aeb2d",
   "metadata": {},
   "outputs": [
    {
     "data": {
      "text/plain": [
       "(87, 179)"
      ]
     },
     "execution_count": 8,
     "metadata": {},
     "output_type": "execute_result"
    }
   ],
   "source": [
    "len(src_list), len(gaula_list)+len(laerdal_list)+len(surna_list)"
   ]
  },
  {
   "cell_type": "markdown",
   "id": "b1fc7fcb-b363-47ad-8d2d-4e4e38c17d7c",
   "metadata": {},
   "source": [
    "## Check the labels with no river"
   ]
  },
  {
   "cell_type": "code",
   "execution_count": 9,
   "id": "8316805a-57b0-4705-9a11-a202a487c3a8",
   "metadata": {},
   "outputs": [],
   "source": [
    "# check which one is not in any of the folders\n",
    "gaula_path = '/home/saeid/phd/segmentation/dataset/large images/rasters/corrected_ipad/gaula_1963'\n",
    "laerdal_path = '/home/saeid/phd/segmentation/dataset/large images/rasters/corrected_ipad/lærdal_1976'\n",
    "surna_path = '/home/saeid/phd/segmentation/dataset/large images/rasters/corrected_ipad/surna_1963'\n",
    "nea_path = '/home/saeid/phd/segmentation/dataset/large images/rasters/corrected_ipad/nea_1962'\n",
    "\n",
    "src_image = '/home/saeid/phd/segmentation/dataset/large images/rasters_png/all_label_correct_ipad/near_color_median'"
   ]
  },
  {
   "cell_type": "code",
   "execution_count": 10,
   "id": "99f97dc6-0ae7-4051-b322-620381762420",
   "metadata": {},
   "outputs": [],
   "source": [
    "gaula_path_list = glob.glob(os.path.join(gaula_path, '*.tif'))\n",
    "laerdal_path_list = glob.glob(os.path.join(laerdal_path, '*.tif'))\n",
    "surna_path_list = glob.glob(os.path.join(surna_path, '*.tif'))\n",
    "nea_path_list = glob.glob(os.path.join(nea_path, '*.tif'))\n",
    "src_path_list = glob.glob(os.path.join(src_image, '*.png'))\n",
    "\n",
    "gaula_list = [os.path.split(tif_name)[-1] for tif_name in gaula_path_list]\n",
    "laerdal_list = [os.path.split(tif_name)[-1] for tif_name in laerdal_path_list]\n",
    "surna_list = [os.path.split(tif_name)[-1] for tif_name in surna_path_list]\n",
    "nea_list = [os.path.split(tif_name)[-1] for tif_name in nea_path_list]\n",
    "src_list = [os.path.split(tif_name)[-1] for tif_name in src_path_list]"
   ]
  },
  {
   "cell_type": "code",
   "execution_count": 11,
   "id": "3f6561ae-444c-4cda-bad7-8f487be85699",
   "metadata": {},
   "outputs": [
    {
     "name": "stdout",
     "output_type": "stream",
     "text": [
      "33-2-462-209-23_1.tif is no river\n",
      "33-2-462-209-12-new.tif is no river\n",
      "33-2-462-211-33_old.tif is no river\n"
     ]
    }
   ],
   "source": [
    "for img_png in src_list:\n",
    "    img_png = img_png.replace('.png', '.tif')\n",
    "    if img_png in gaula_list:\n",
    "        continue\n",
    "    elif img_png in laerdal_list:\n",
    "        continue\n",
    "    elif img_png in surna_list:\n",
    "        continue\n",
    "    elif img_png in nea_list:\n",
    "        continue\n",
    "    else:\n",
    "        print(f'{img_png} is no river')"
   ]
  },
  {
   "cell_type": "markdown",
   "id": "3c87ec8a",
   "metadata": {},
   "source": [
    "## copy images corresponding to the labels corrected"
   ]
  },
  {
   "cell_type": "code",
   "execution_count": 41,
   "id": "fcbfd181",
   "metadata": {},
   "outputs": [],
   "source": [
    "import shutil\n",
    "\n",
    "# copy images and labels to the corresponding place\n",
    "label_path = '/home/saeid/phd/segmentation/dataset/new_dataset/label'\n",
    "# image_path = f'/home/saeid/phd/segmentation/dataset/large images/image_labeled_png/**'\n",
    "image_path = f'/home/saeid/phd/segmentation/dataset/large images/temp/img'\n",
    "label_list = glob.glob(os.path.join(label_path, '*.png'))\n",
    "image_list = glob.glob(os.path.join(image_path, '*.png'), recursive=True)\n",
    "\n",
    "label_names = [os.path.split(name)[-1] for name in label_list]\n",
    "image_names = [os.path.split(name)[-1] for name in image_list]\n",
    "\n",
    "image_dest_path = '/home/saeid/phd/segmentation/dataset/new_dataset/image'\n",
    "\n",
    "# for label_element in the label the image will copy to the destination\n",
    "for label_name in label_names:\n",
    "    for image_path in image_list:\n",
    "        image_name = os.path.split(image_path)[-1]\n",
    "        if image_name == label_name:\n",
    "            try:\n",
    "                shutil.copy(image_path, os.path.join(image_dest_path, image_name))\n",
    "            except:\n",
    "                raise OSError('error happened')"
   ]
  },
  {
   "cell_type": "code",
   "execution_count": 3,
   "id": "47281a9d",
   "metadata": {},
   "outputs": [
    {
     "name": "stdout",
     "output_type": "stream",
     "text": [
      "33-2-462-211-33_old.png\n"
     ]
    }
   ],
   "source": [
    "label_path = '/home/saeid/phd/segmentation/dataset/new_dataset/label'\n",
    "image_path = '/home/saeid/phd/segmentation/dataset/new_dataset/image'\n",
    "label_list = glob.glob(os.path.join(label_path, '*.png'))\n",
    "image_list = glob.glob(os.path.join(image_path, '*.png'), recursive=True)\n",
    "label_names = [os.path.split(name)[-1] for name in label_list]\n",
    "image_names = [os.path.split(name)[-1] for name in image_list]\n",
    "\n",
    "for label_name in label_names:\n",
    "    if label_name not in image_names:\n",
    "        print(label_name)"
   ]
  },
  {
   "cell_type": "code",
   "execution_count": 57,
   "id": "c3fc1fca",
   "metadata": {},
   "outputs": [],
   "source": [
    "import numpy as np\n",
    "import matplotlib.pyplot as plt\n",
    "import subprocess\n",
    "import glob\n",
    "import os\n",
    "import osr\n",
    "import glob\n",
    "import os\n",
    "import sys\n",
    "from osgeo import gdal, ogr\n",
    "from tensorflow.python.keras.backend import dtype\n",
    "\n",
    "def tif_to_png(src, dst_base, perform_augmentation=False):\n",
    "    ds = gdal.Open(src)\n",
    "    band_arrays = []\n",
    "    for band in range(ds.RasterCount):\n",
    "        band_array = ds.GetRasterBand(band + 1).ReadAsArray()\n",
    "        band_array = np.expand_dims(band_array, axis=-1)\n",
    "        band_arrays.append(band_array)\n",
    "    if ds.RasterCount > 1:\n",
    "        image_array = np.concatenate(\n",
    "            band_arrays, axis=-1).astype(np.uint8)\n",
    "    else:\n",
    "        image_array = band_array.squeeze(axis=-1)\n",
    "\n",
    "    # if we want to perform augmentation\n",
    "    if perform_augmentation:\n",
    "        image_array_augmented = image_augmentation(\n",
    "            np.expand_dims(image_array, axis=0))\n",
    "        for i in range(image_array_augmented.shape[0]):\n",
    "            im = Image.fromarray(image_array_augmented[i])\n",
    "            im.save(os.path.join(dest_dir, os.path.split(\n",
    "                src)[-1]).replace(\".tif\", f\"_{i}.png\"))\n",
    "    else:\n",
    "        im = Image.fromarray(image_array)\n",
    "        im.save(os.path.join(dst_base, os.path.split(\n",
    "            src)[-1]).replace(\".tif\", \".png\"))"
   ]
  },
  {
   "cell_type": "code",
   "execution_count": 58,
   "id": "08fe57fd",
   "metadata": {},
   "outputs": [],
   "source": [
    "dst_path = '/home/saeid/phd/segmentation/dataset/new_dataset/image'\n",
    "src_path = '/home/saeid/phd/segmentation/dataset/test_dataset/gaula_1998_test_set/gaula_1998_plane_photos/33-2-462-209-12.tif'\n",
    "\n",
    "tif_to_png(src=src_path, dst_base=dst_path)"
   ]
  },
  {
   "cell_type": "markdown",
   "id": "391d8f6b-e6e5-4e06-9881-e71674e8833e",
   "metadata": {},
   "source": [
    "## check if labels and images are the same"
   ]
  },
  {
   "cell_type": "code",
   "execution_count": 1,
   "id": "474bdc96-5f73-4846-845d-3b66dbc7a0ff",
   "metadata": {},
   "outputs": [
    {
     "name": "stderr",
     "output_type": "stream",
     "text": [
      "2022-02-16 21:54:27.569748: I tensorflow/stream_executor/platform/default/dso_loader.cc:49] Successfully opened dynamic library libcudart.so.10.1\n"
     ]
    }
   ],
   "source": [
    "import numpy as np\n",
    "import sys\n",
    "import os\n",
    "import glob\n",
    "import imageio\n",
    "import time\n",
    "from scipy import ndimage, signal\n",
    "from cv2 import medianBlur\n",
    "\n",
    "sys.path.append(\"..\")\n",
    "\n",
    "from PIL import Image\n",
    "from costum_arild.source.utils import image_processing_utils, gdal_utils\n",
    "from costum_arild.source.data_processing import TrainingImage"
   ]
  },
  {
   "cell_type": "code",
   "execution_count": 23,
   "id": "1536457d",
   "metadata": {},
   "outputs": [],
   "source": [
    "# check if label and images are the same\n",
    "image_path = '/home/saeid/phd/segmentation/dataset/machine_learning_dataset/png_train/images/img'\n",
    "label_path = '/home/saeid/phd/segmentation/dataset/machine_learning_dataset/png_train/labels/img'\n",
    "\n",
    "img_names = [os.path.split(name)[-1] for name in glob.glob(os.path.join(image_path, '*.png'))]\n",
    "label_names = [os.path.split(name)[-1] for name in glob.glob(os.path.join(label_path, '*.png'))]"
   ]
  },
  {
   "cell_type": "code",
   "execution_count": 24,
   "id": "97cf9593-0c64-4678-b911-a69bb306edc0",
   "metadata": {},
   "outputs": [],
   "source": [
    "for label in label_names:\n",
    "    if label not in img_names:\n",
    "        file_path = os.path.join(label_path, label)\n",
    "        print(file_path)"
   ]
  },
  {
   "cell_type": "code",
   "execution_count": 25,
   "id": "a9871954-7e49-49af-9a97-1fab8f3db87a",
   "metadata": {},
   "outputs": [],
   "source": [
    "for img in img_names:\n",
    "    if img not in label_names:\n",
    "        file_path = os.path.join(image_path, img)\n",
    "        print(file_path)"
   ]
  },
  {
   "cell_type": "code",
   "execution_count": 11,
   "id": "3ae61401-42a4-423e-a8e1-c86870473fed",
   "metadata": {},
   "outputs": [
    {
     "data": {
      "text/plain": [
       "('/home/saeid/phd/segmentation/dataset/machine_learning_dataset/png_train/labels_augment_replaced',\n",
       " 'img')"
      ]
     },
     "execution_count": 11,
     "metadata": {},
     "output_type": "execute_result"
    }
   ],
   "source": [
    "os.path.split(label_path)"
   ]
  },
  {
   "cell_type": "code",
   "execution_count": null,
   "id": "b86da0c0-1381-49f2-8302-e54a9218e0f4",
   "metadata": {},
   "outputs": [],
   "source": []
  }
 ],
 "metadata": {
  "kernelspec": {
   "display_name": "Python 3 (ipykernel)",
   "language": "python",
   "name": "python3"
  },
  "language_info": {
   "codemirror_mode": {
    "name": "ipython",
    "version": 3
   },
   "file_extension": ".py",
   "mimetype": "text/x-python",
   "name": "python",
   "nbconvert_exporter": "python",
   "pygments_lexer": "ipython3",
   "version": "3.7.7"
  }
 },
 "nbformat": 4,
 "nbformat_minor": 5
}
