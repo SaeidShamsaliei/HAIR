{
 "cells": [
  {
   "cell_type": "markdown",
   "id": "45d24f62",
   "metadata": {},
   "source": [
    "## converting a single channel label, to a RGB png file using the palette"
   ]
  },
  {
   "cell_type": "code",
   "execution_count": 1,
   "id": "960f6231",
   "metadata": {},
   "outputs": [],
   "source": [
    "from PIL import Image\n",
    "import glob\n",
    "import sys\n",
    "import numpy as np\n",
    "import gdal\n",
    "import os\n",
    "import faulthandler\n",
    "faulthandler.enable()\n",
    "\n",
    "import matplotlib.pyplot as plt"
   ]
  },
  {
   "cell_type": "code",
   "execution_count": 2,
   "id": "91200a0e-1d04-4b4c-a2e6-96e75cc38bf7",
   "metadata": {},
   "outputs": [],
   "source": [
    "gdal.UseExceptions()"
   ]
  },
  {
   "cell_type": "code",
   "execution_count": 4,
   "id": "fae5d51b",
   "metadata": {},
   "outputs": [],
   "source": [
    "# to color the segmentation mask\n",
    "palette = np.array([[0  ,   0,   0], #black     0000FF\n",
    "                    [255, 255, 0  ], #Yellow   FFFF00\n",
    "                    [0  , 128, 0  ], #Green    008000\n",
    "                    [128, 128, 0  ], #Olive    808000\n",
    "                    [128, 0  , 128], #Purple   800080\n",
    "                    [0  , 0  , 255],]) #blue], dtype=np.uint8) #Black  000000\n",
    "\n",
    "def color_mask(mask_array):\n",
    "    return palette[mask_array]"
   ]
  },
  {
   "cell_type": "code",
   "execution_count": 5,
   "id": "c214c8cd",
   "metadata": {},
   "outputs": [],
   "source": [
    "# convert tif to rgb using palette\n",
    "def tif_to_numpy(tif_path_element, label_palette):\n",
    "    try:\n",
    "        ds = gdal.Open(tif_path_element)\n",
    "    except Exception as e:\n",
    "            print(\"Oops!\", e.__class__, \"occurred during gdal.open\")\n",
    "        \n",
    "    band_arrays = []\n",
    "    for band in range(ds.RasterCount):\n",
    "        try:\n",
    "            band_array = ds.GetRasterBand(band + 1).ReadAsArray()\n",
    "        except:\n",
    "            print(\"Oops!\", e.__class__, \"occurred during ReadAsArray()\")\n",
    "        band_array = np.expand_dims(band_array, axis=-1)\n",
    "        band_arrays.append(band_array)\n",
    "    try:\n",
    "        if ds.RasterCount > 1:\n",
    "            image_array = np.concatenate(band_arrays, axis=-1).astype(np.uint8)\n",
    "        else:\n",
    "            image_array = band_array.squeeze(axis=-1)\n",
    "    except Exception as e:\n",
    "            print(\"Oops!\", e.__class__, \"occurred during concatination\")\n",
    "    # check if it is label and need to add colors\n",
    "    if label_palette:\n",
    "        try:\n",
    "            image_array = color_mask(image_array)\n",
    "        except Exception as e:\n",
    "            print(\"Oops!\", e.__class__, \"occurred.\")\n",
    "    ds = None\n",
    "    return image_array\n",
    "\n",
    "\n",
    "def tif_to_png_from_directory(source_dir, dest_dir, label_palette):\n",
    "    # make the destination\n",
    "    os.makedirs(dest_dir, exist_ok=True)    \n",
    "    tif_paths = glob.glob(os.path.join(source_dir, \"*.tif\"))\n",
    "\n",
    "    for idx, tif_path in enumerate(tif_paths):\n",
    "        print(f'image {idx} image name: {os.path.split(tif_path)[-1]}')\n",
    "        image_array = tif_to_numpy(tif_path, label_palette)\n",
    "        im = Image.fromarray(image_array)\n",
    "        im.save(os.path.join(dest_dir, os.path.split(tif_path)[-1]).replace(\".tif\", \".png\"))"
   ]
  },
  {
   "cell_type": "code",
   "execution_count": 6,
   "id": "a80d488d",
   "metadata": {},
   "outputs": [],
   "source": [
    "# river_name = 'surna_1963'\n",
    "\n",
    "# src_image_base_tif_path = f'/home/saeid/phd/segmentation/dataset/large images/image_labeled/{river_name}'\n",
    "# src_label_base_tif_path = f'/home/saeid/phd/segmentation/dataset/large images/rasters/{river_name}'\n",
    "\n",
    "# dest_image_base_tif_path = f'/home/saeid/phd/segmentation/dataset/large images/image_labeled_png/{river_name}'\n",
    "# dest_label_base_tif_path = f'/home/saeid/phd/segmentation/dataset/large images/rasters_png/{river_name}'"
   ]
  },
  {
   "cell_type": "code",
   "execution_count": 8,
   "id": "8257b4af-c8a0-4af1-b2cf-f29a488b8cce",
   "metadata": {},
   "outputs": [],
   "source": [
    "river_name = 'gaula_1998_test'\n",
    "\n",
    "src_image_base_tif_path = f'/home/saeid/phd/segmentation/dataset/test_dataset/bounding_box_images/{river_name}/images'\n",
    "src_label_base_tif_path = f'/home/saeid/phd/segmentation/dataset/test_dataset/bounding_box_images/{river_name}/labels'\n",
    "\n",
    "dest_image_base_tif_path = f'/home/saeid/phd/segmentation/dataset/test_dataset/bounding_box_images/{river_name}/png/image'\n",
    "dest_label_base_tif_path = f'/home/saeid/phd/segmentation/dataset/test_dataset/bounding_box_images/{river_name}/png/label'"
   ]
  },
  {
   "cell_type": "code",
   "execution_count": 9,
   "id": "82235530",
   "metadata": {},
   "outputs": [
    {
     "name": "stdout",
     "output_type": "stream",
     "text": [
      "image 0 image name: 33-2-462-213-31.tif\n",
      "image 1 image name: 33-2-463-213-01.tif\n",
      "image 2 image name: 33-2-463-213-02.tif\n",
      "image 3 image name: 33-2-462-213-33.tif\n",
      "image 4 image name: 33-2-462-213-32.tif\n",
      "image 5 image name: 33-2-463-213-00.tif\n"
     ]
    }
   ],
   "source": [
    "# numpy_image = tif_to_png_from_directory(source_dir=src_image_base_tif_path, dest_dir=dest_image_base_tif_path,\n",
    "#                                         label_palette=False)\n",
    "\n",
    "numpy_label = tif_to_png_from_directory(source_dir=src_label_base_tif_path, dest_dir=dest_label_base_tif_path,\n",
    "                                        label_palette=True)"
   ]
  },
  {
   "cell_type": "code",
   "execution_count": 7,
   "id": "c4a74a38",
   "metadata": {},
   "outputs": [
    {
     "ename": "NameError",
     "evalue": "name 'numpy_image' is not defined",
     "output_type": "error",
     "traceback": [
      "\u001b[0;31m---------------------------------------------------------------------------\u001b[0m",
      "\u001b[0;31mNameError\u001b[0m                                 Traceback (most recent call last)",
      "\u001b[0;32m/tmp/ipykernel_10574/188300535.py\u001b[0m in \u001b[0;36m<module>\u001b[0;34m\u001b[0m\n\u001b[0;32m----> 1\u001b[0;31m \u001b[0mplt\u001b[0m\u001b[0;34m.\u001b[0m\u001b[0mimshow\u001b[0m\u001b[0;34m(\u001b[0m\u001b[0mnumpy_image\u001b[0m\u001b[0;34m)\u001b[0m\u001b[0;34m\u001b[0m\u001b[0;34m\u001b[0m\u001b[0m\n\u001b[0m",
      "\u001b[0;31mNameError\u001b[0m: name 'numpy_image' is not defined"
     ]
    }
   ],
   "source": [
    "plt.imshow(numpy_image)"
   ]
  },
  {
   "cell_type": "code",
   "execution_count": null,
   "id": "49af46f5",
   "metadata": {},
   "outputs": [],
   "source": [
    "# convert png file to numpy of labels"
   ]
  }
 ],
 "metadata": {
  "kernelspec": {
   "display_name": "Python 3 (ipykernel)",
   "language": "python",
   "name": "python3"
  },
  "language_info": {
   "codemirror_mode": {
    "name": "ipython",
    "version": 3
   },
   "file_extension": ".py",
   "mimetype": "text/x-python",
   "name": "python",
   "nbconvert_exporter": "python",
   "pygments_lexer": "ipython3",
   "version": "3.7.7"
  }
 },
 "nbformat": 4,
 "nbformat_minor": 5
}
