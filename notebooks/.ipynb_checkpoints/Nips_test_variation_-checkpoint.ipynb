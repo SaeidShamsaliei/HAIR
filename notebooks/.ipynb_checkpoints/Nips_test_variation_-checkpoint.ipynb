{
 "cells": [
  {
   "cell_type": "code",
   "execution_count": 1,
   "id": "b65f3c36-c58b-422f-b0c5-34add593b59e",
   "metadata": {},
   "outputs": [],
   "source": [
    "%load_ext autoreload"
   ]
  },
  {
   "cell_type": "code",
   "execution_count": 2,
   "id": "f7531ead-eb8e-4fc4-b095-3447aa3842bb",
   "metadata": {},
   "outputs": [
    {
     "name": "stderr",
     "output_type": "stream",
     "text": [
      "2022-09-17 10:16:42.652225: I tensorflow/stream_executor/platform/default/dso_loader.cc:49] Successfully opened dynamic library libcudart.so.10.1\n"
     ]
    }
   ],
   "source": [
    "%autoreload\n",
    "import numpy as np\n",
    "import pandas as pd\n",
    "import sys\n",
    "import os\n",
    "import glob\n",
    "import imageio\n",
    "import time\n",
    "import matplotlib.pyplot as plt\n",
    "from scipy import ndimage, signal\n",
    "from cv2 import medianBlur\n",
    "import gdal\n",
    "from osgeo import ogr\n",
    "from osgeo import osr\n",
    "import tensorflow as tf\n",
    "sys.path.append(\"..\")\n",
    "sys.path.append(\"/home/saeid/phd/segmentation/costum_arild/source\")\n",
    "from PIL import Image \n",
    "from costum_arild.source.utils import image_processing_utils, gdal_utils, notebook_utils, model_utils\n",
    "from costum_arild.source.data_processing import TrainingImage, divide_image, reassemble_big_image, reassemble_big_image_np"
   ]
  },
  {
   "cell_type": "code",
   "execution_count": 3,
   "id": "b96d8867-dfab-47d3-8666-1b060bbba132",
   "metadata": {},
   "outputs": [],
   "source": [
    "def read_arr(file_path):\n",
    "    with open(file_path) as f:\n",
    "        lines = f.read().splitlines()[0]\n",
    "        iou = lines.strip('][').replace('   ',' ').replace('  ',' ').split(' ')\n",
    "        print(iou)\n",
    "        iou = np.array([round(float(numbers), 4) for numbers in iou])\n",
    "        return iou\n",
    "\n",
    "def read_miou_file(file_path):\n",
    "    with open(file_path) as f:\n",
    "        lines = f.read().splitlines()[0]\n",
    "        return round(float(lines), 4)"
   ]
  },
  {
   "cell_type": "code",
   "execution_count": 4,
   "id": "4337c498-ad39-4404-be2f-bc74906e080e",
   "metadata": {},
   "outputs": [],
   "source": [
    "def list_iou_model(exp_path, transformer=False):\n",
    "    iou_list = []\n",
    "    miou_list = []\n",
    "    list_direct = glob.glob( os.path.join(exp_path, '*'))\n",
    "\n",
    "    for idx, _ in enumerate(list_direct):\n",
    "                            \n",
    "        model_name = os.path.split(list_direct[idx])[-1]\n",
    "        # read one csv file of each IOU\n",
    "        base_path = os.path.join(exp_path, model_name)\n",
    "        if transformer:\n",
    "            arr_path = os.path.join(base_path, f'checkpoints_0_arr.txt')\n",
    "            miou_path = os.path.join(base_path, f'checkpoints_0.txt')\n",
    "        else:\n",
    "            arr_path = os.path.join(base_path, f'{model_name}_0_arr.txt')\n",
    "            miou_path = os.path.join(base_path, f'{model_name}_0.txt')\n",
    "        all_ious = read_arr(file_path=arr_path)\n",
    "        miou = read_miou_file(file_path=miou_path)\n",
    "        iou_list.append(all_ious)\n",
    "        miou_list.append(miou)\n",
    "        \n",
    "    iou_np = np.stack(iou_list, axis=0)\n",
    "    miou_np = np.stack(miou_list, axis=0)\n",
    "    return iou_np, miou_np"
   ]
  },
  {
   "cell_type": "markdown",
   "id": "62cc023c-ddb0-46ca-93a1-e4ed64c32beb",
   "metadata": {
    "tags": []
   },
   "source": [
    "# OOD"
   ]
  },
  {
   "cell_type": "markdown",
   "id": "44a82681-087d-4ddb-ad9a-26031176cd09",
   "metadata": {},
   "source": [
    "### FPN"
   ]
  },
  {
   "cell_type": "code",
   "execution_count": 67,
   "id": "80bb54b0-7e3f-4777-bcf6-ae003d6b8af9",
   "metadata": {},
   "outputs": [
    {
     "name": "stdout",
     "output_type": "stream",
     "text": [
      "['0.85659081', '0.16589447', '0.57446304', '0.62303749', '0.51480767', '0.45096911']\n",
      "['0.83851077', '0.18763695', '0.66633141', '0.64362208', '0.53800452', '0.59056659']\n",
      "['0.86089133', '0.19670491', '0.68191787', '0.63681569', '0.50148565', '0.66499245']\n",
      "['0.8316391', '0.15472799', '0.58015125', '0.64005822', '0.54602533', '0.57973905']\n",
      "['0.90364187', '0.18829475', '0.70451874', '0.66446355', '0.55611141', '0.69802233']\n"
     ]
    },
    {
     "data": {
      "text/plain": [
       "(array([0.02516606, 0.01571746, 0.05378269, 0.01341387, 0.02018072,\n",
       "        0.08541797]),\n",
       " array([0.85824, 0.17864, 0.64148, 0.6416 , 0.53128, 0.59686]),\n",
       " 0.032857668815666166,\n",
       " 0.51796)"
      ]
     },
     "execution_count": 67,
     "metadata": {},
     "output_type": "execute_result"
    }
   ],
   "source": [
    "exp_type = 'OOD'\n",
    "model_arch = 'fpn'\n",
    "\n",
    "# read one csv file of each IOU\n",
    "base_path = f'/home/saeid/phd/segmentation/dataset/neurips dataset/results/nips_5times/{exp_type}/{model_arch}'\n",
    "\n",
    "ious, mious = list_iou_model(base_path)\n",
    "\n",
    "ious.std(axis=0), ious.mean(axis=0), mious.std(axis=0), mious.mean(axis=0)"
   ]
  },
  {
   "cell_type": "markdown",
   "id": "d4db96e6-d7a5-4316-ae61-8b459a7c5134",
   "metadata": {},
   "source": [
    "### DeeplabV3+"
   ]
  },
  {
   "cell_type": "code",
   "execution_count": 21,
   "id": "fdc5deab-4faf-4199-a869-8b19b26d9835",
   "metadata": {},
   "outputs": [
    {
     "data": {
      "text/plain": [
       "(array([0.06455066, 0.01858541, 0.03256319, 0.03793663, 0.00505149,\n",
       "        0.03375591]),\n",
       " array([0.8224 , 0.19088, 0.72218, 0.6212 , 0.54748, 0.61582]),\n",
       " 0.010360887992831509,\n",
       " 0.5395)"
      ]
     },
     "execution_count": 21,
     "metadata": {},
     "output_type": "execute_result"
    }
   ],
   "source": [
    "exp_type = 'OOD'\n",
    "model_arch = 'deeplab_swa'\n",
    "\n",
    "# read one csv file of each IOU\n",
    "base_path = f'/home/saeid/phd/segmentation/dataset/neurips dataset/results/nips_5times/{exp_type}/{model_arch}'\n",
    "\n",
    "ious, mious = list_iou_model(base_path)\n",
    "\n",
    "ious.std(axis=0), ious.mean(axis=0), mious.std(axis=0), mious.mean(axis=0)"
   ]
  },
  {
   "cell_type": "markdown",
   "id": "ca8d5a99-cf74-4353-9194-a06e2bbc3501",
   "metadata": {},
   "source": [
    "### HRNet"
   ]
  },
  {
   "cell_type": "code",
   "execution_count": 31,
   "id": "5c26a733-defa-4e3c-80bc-c93d3199d71f",
   "metadata": {},
   "outputs": [
    {
     "name": "stdout",
     "output_type": "stream",
     "text": [
      "['0.84921894', '0.17133849', '0.560391', '0.55818846', '0.49212308', '0.53035979']\n",
      "['0.8996087', '0.17655008', '0.64687897', '0.55741535', '0.46399603', '0.5818591']\n",
      "['0.86857444', '0.17491732', '0.67281161', '0.53397806', '0.45138392', '0.56709471']\n",
      "['0.89776217', '0.17899838', '0.62670124', '0.5416698', '0.46868062', '0.58689331']\n",
      "['0.87814989', '0.17971402', '0.59340021', '0.56889055', '0.42847627', '0.51275449']\n"
     ]
    },
    {
     "data": {
      "text/plain": [
       "(array([0.01883737, 0.00302985, 0.03953746, 0.01251633, 0.02089924,\n",
       "        0.0292242 ]),\n",
       " array([0.87866, 0.1763 , 0.62004, 0.55204, 0.46094, 0.55582]),\n",
       " 0.011289464114828479,\n",
       " 0.473)"
      ]
     },
     "execution_count": 31,
     "metadata": {},
     "output_type": "execute_result"
    }
   ],
   "source": [
    "exp_type = 'OOD'\n",
    "model_arch = 'hrnet'\n",
    "\n",
    "# read one csv file of each IOU\n",
    "base_path = f'/home/saeid/phd/segmentation/dataset/neurips dataset/results/nips_5times/{exp_type}/{model_arch}'\n",
    "\n",
    "ious, mious = list_iou_model(base_path)\n",
    "\n",
    "ious.std(axis=0), ious.mean(axis=0), mious.std(axis=0), mious.mean(axis=0)"
   ]
  },
  {
   "cell_type": "markdown",
   "id": "8ae2be03-dfae-4f15-986f-be5658c01893",
   "metadata": {},
   "source": [
    "### SwinUnet"
   ]
  },
  {
   "cell_type": "code",
   "execution_count": 36,
   "id": "41ac0611-313a-413c-8444-4019e24e846c",
   "metadata": {},
   "outputs": [
    {
     "name": "stdout",
     "output_type": "stream",
     "text": [
      "['0.86488338', '0.14016413', '0.65278747', '0.63451962', '0.36745193', '0.47717832']\n",
      "['0.81148334', '0.12360964', '0.64977762', '0.5802706', '0.35087739', '0.44240091']\n",
      "['0.84443717', '0.12755341', '0.61136055', '0.58959482', '0.34586323', '0.45546935']\n",
      "['0.88460058', '0.13455097', '0.65586586', '0.62185791', '0.38573572', '0.46747652']\n",
      "['0.80606041', '0.1171297', '0.69119582', '0.51865012', '0.29001224', '0.48383772']\n"
     ]
    },
    {
     "data": {
      "text/plain": [
       "(array([0.03021106, 0.00810935, 0.02531975, 0.04042474, 0.03218186,\n",
       "        0.01489395]),\n",
       " array([0.8423 , 0.12862, 0.65222, 0.589  , 0.348  , 0.46528]),\n",
       " 0.014298587342811182,\n",
       " 0.43662)"
      ]
     },
     "execution_count": 36,
     "metadata": {},
     "output_type": "execute_result"
    }
   ],
   "source": [
    "exp_type = 'OOD'\n",
    "model_arch = 'swin'\n",
    "\n",
    "# read one csv file of each IOU\n",
    "base_path = f'/home/saeid/phd/segmentation/dataset/neurips dataset/results/nips_5times/{exp_type}/{model_arch}'\n",
    "\n",
    "ious, mious = list_iou_model(base_path, transformer=True)\n",
    "\n",
    "ious.std(axis=0), ious.mean(axis=0), mious.std(axis=0), mious.mean(axis=0)"
   ]
  },
  {
   "cell_type": "markdown",
   "id": "d0689541-642f-4f06-aa03-08fdf7c9163b",
   "metadata": {},
   "source": [
    "### MagNet"
   ]
  },
  {
   "cell_type": "code",
   "execution_count": 43,
   "id": "df4f6c34-3a9a-4cd5-ae1f-52140fb39447",
   "metadata": {},
   "outputs": [
    {
     "name": "stdout",
     "output_type": "stream",
     "text": [
      "['0.00131443', '0.13705166', '0.66547285', '0.42257968', '0.23672153', '0.26956792']\n",
      "['0.17298395', '0.12805883', '0.66515997', '0.48756413', '0.27911146', '0.2065985']\n",
      "['0.3837565', '0.10245769', '0.66055229', '0.28524702', '0.24364594', '0.24190672']\n",
      "['0.11328412', '0.16610612', '0.61971125', '0.54949298', '0.13635897', '0.29151565']\n",
      "['0.74909', '0.19255354', '0.67530085', '0.64166186', '0.34181012', '0.56926337']\n"
     ]
    },
    {
     "data": {
      "text/plain": [
       "(array([0.26368799, 0.03119246, 0.01938191, 0.12020049, 0.06688215,\n",
       "        0.12990229]),\n",
       " 0.06024428271628768)"
      ]
     },
     "execution_count": 43,
     "metadata": {},
     "output_type": "execute_result"
    }
   ],
   "source": [
    "exp_type = 'OOD'\n",
    "model_arch = 'magnet'\n",
    "\n",
    "# read one csv file of each IOU\n",
    "base_path = f'/home/saeid/phd/segmentation/dataset/neurips dataset/results/nips_5times/{exp_type}/{model_arch}'\n",
    "\n",
    "ious, mious = list_iou_model(base_path)\n",
    "\n",
    "ious.std(axis=0), mious.std(axis=0)"
   ]
  },
  {
   "cell_type": "code",
   "execution_count": 48,
   "id": "981f93e5-6043-4af3-bc32-edfff9bcbc82",
   "metadata": {},
   "outputs": [
    {
     "name": "stdout",
     "output_type": "stream",
     "text": [
      "['0.11328412', '0.16610612', '0.61971125', '0.54949298', '0.13635897', '0.29151565']\n",
      "['0.74909', '0.19255354', '0.67530085', '0.64166186', '0.34181012', '0.56926337']\n",
      "['0.19105819', '0.23615034', '0.62925225', '0.62921193', '0.46861466', '0.20281117']\n"
     ]
    },
    {
     "data": {
      "text/plain": [
       "(array([0.28316828, 0.02890063, 0.02426593, 0.04083732, 0.13687961,\n",
       "        0.1561206 ]),\n",
       " array([0.35116667, 0.1983    , 0.64143333, 0.6068    , 0.3156    ,\n",
       "        0.35453333]),\n",
       " 0.05413914172451078,\n",
       " 0.4233)"
      ]
     },
     "execution_count": 48,
     "metadata": {},
     "output_type": "execute_result"
    }
   ],
   "source": [
    "exp_type = 'OOD'\n",
    "model_arch = 'magnet_good'\n",
    "\n",
    "# read one csv file of each IOU\n",
    "base_path = f'/home/saeid/phd/segmentation/dataset/neurips dataset/results/nips_5times/{exp_type}/{model_arch}'\n",
    "\n",
    "ious, mious = list_iou_model(base_path)\n",
    "\n",
    "ious.std(axis=0), ious.mean(axis=0), mious.std(axis=0), mious.mean(axis=0)"
   ]
  },
  {
   "cell_type": "code",
   "execution_count": 66,
   "id": "683a83fa-0a9d-4d84-8d97-d7877de2c33b",
   "metadata": {},
   "outputs": [
    {
     "name": "stdout",
     "output_type": "stream",
     "text": [
      "['0.78900389', '0.16956727', '0.63703218', '0.63086798', '0.54454106', '0.61784255']\n",
      "['0.76041421', '0.15204597', '0.56251712', '0.63535511', '0.49681443', '0.55353415']\n",
      "['0.90494473', '0.1935318', '0.63751875', '0.64342893', '0.5686405', '0.68900002']\n",
      "['0.64778602', '0.17815234', '0.63438289', '0.52508132', '0.454346', '0.47809267']\n",
      "['0.88939917', '0.20801553', '0.64180931', '0.65085608', '0.54182829', '0.67870858']\n"
     ]
    },
    {
     "data": {
      "text/plain": [
       "(array([0.09363324, 0.0192941 , 0.03016373, 0.04652623, 0.04070622,\n",
       "        0.07924003]),\n",
       " array([0.7983 , 0.18026, 0.62264, 0.61714, 0.5212 , 0.60342]),\n",
       " 0.03638404045732139,\n",
       " 0.5089400000000001)"
      ]
     },
     "execution_count": 66,
     "metadata": {},
     "output_type": "execute_result"
    }
   ],
   "source": [
    "exp_type = 'OOD'\n",
    "model_arch = 'unet'\n",
    "\n",
    "# read one csv file of each IOU\n",
    "base_path = f'/home/saeid/phd/segmentation/dataset/neurips dataset/results/nips_5times/{exp_type}/{model_arch}'\n",
    "\n",
    "ious, mious = list_iou_model(base_path)\n",
    "\n",
    "ious.std(axis=0), ious.mean(axis=0), mious.std(axis=0), mious.mean(axis=0)"
   ]
  },
  {
   "cell_type": "markdown",
   "id": "10cf99b3-6f0f-4ef9-8e02-89c6d304ac6f",
   "metadata": {
    "heading_collapsed": "true",
    "tags": []
   },
   "source": [
    "# TestSet"
   ]
  },
  {
   "cell_type": "code",
   "execution_count": 50,
   "id": "7bd320c0-7bf1-4c9d-84c9-7353f06d516b",
   "metadata": {},
   "outputs": [
    {
     "name": "stdout",
     "output_type": "stream",
     "text": [
      "['0.31965293', '0.48778651', '0.77958258', '0.8031958', '0.58432977', '0.65830908']\n",
      "['0.3185745', '0.56642556', '0.77957187', '0.83795302', '0.62911337', '0.81532989']\n",
      "['0.31822519', '0.57884839', '0.75298971', '0.81247366', '0.61228029', '0.75391623']\n",
      "['0.31953502', '0.57305134', '0.7807478', '0.83787525', '0.64181702', '0.79820587']\n",
      "['0.32027032', '0.57295668', '0.77778203', '0.8394977', '0.62892486', '0.81905716']\n"
     ]
    },
    {
     "data": {
      "text/plain": [
       "(array([0.00076053, 0.03423591, 0.01061086, 0.01529515, 0.01984161,\n",
       "        0.05998138]),\n",
       " array([0.31926, 0.55582, 0.77414, 0.82622, 0.61928, 0.76896]),\n",
       " 0.024998447951822943,\n",
       " 0.7088599999999999)"
      ]
     },
     "execution_count": 50,
     "metadata": {},
     "output_type": "execute_result"
    }
   ],
   "source": [
    "exp_type = 'TestSet'\n",
    "model_arch = 'fpn'\n",
    "\n",
    "# read one csv file of each IOU\n",
    "base_path = f'/home/saeid/phd/segmentation/dataset/neurips dataset/results/nips_5times/{exp_type}/{model_arch}'\n",
    "\n",
    "ious, mious = list_iou_model(base_path)\n",
    "\n",
    "ious.std(axis=0), ious.mean(axis=0), mious.std(axis=0), mious.mean(axis=0)"
   ]
  },
  {
   "cell_type": "markdown",
   "id": "8a033888-1d2f-45d9-ada0-19c9893c75c1",
   "metadata": {},
   "source": [
    "### DeeplabV3+"
   ]
  },
  {
   "cell_type": "code",
   "execution_count": 52,
   "id": "24f490b4-a59d-45c8-b7ae-376cb401fc6e",
   "metadata": {},
   "outputs": [
    {
     "name": "stdout",
     "output_type": "stream",
     "text": [
      "['0.31745998', '0.60461086', '0.7891428', '0.84789598', '0.63517124', '0.82725016']\n",
      "['0.32007836', '0.58057049', '0.78773099', '0.84083013', '0.61699214', '0.82675924']\n",
      "['0.32043864', '0.58758584', '0.79004987', '0.84059742', '0.61206352', '0.81279551']\n",
      "['0.3193841', '0.58261712', '0.78612091', '0.84522903', '0.61381061', '0.81195885']\n",
      "['0.3187886', '0.59665082', '0.79312761', '0.85142833', '0.62342258', '0.82610538']\n"
     ]
    },
    {
     "data": {
      "text/plain": [
       "(array([0.00103267, 0.00901164, 0.00235457, 0.00415326, 0.00839047,\n",
       "        0.00703676]),\n",
       " array([0.31924, 0.59042, 0.7892 , 0.84518, 0.6203 , 0.821  ]),\n",
       " 0.005249380915879505,\n",
       " 0.7332000000000001)"
      ]
     },
     "execution_count": 52,
     "metadata": {},
     "output_type": "execute_result"
    }
   ],
   "source": [
    "exp_type = 'TestSet'\n",
    "model_arch = 'deeplab_swa'\n",
    "\n",
    "# read one csv file of each IOU\n",
    "base_path = f'/home/saeid/phd/segmentation/dataset/neurips dataset/results/nips_5times/{exp_type}/{model_arch}'\n",
    "\n",
    "ious, mious = list_iou_model(base_path)\n",
    "\n",
    "ious.std(axis=0), ious.mean(axis=0), mious.std(axis=0), mious.mean(axis=0)"
   ]
  },
  {
   "cell_type": "markdown",
   "id": "eedabd0b-a757-40f0-a990-1f12d4183234",
   "metadata": {},
   "source": [
    "### HRNet"
   ]
  },
  {
   "cell_type": "code",
   "execution_count": 53,
   "id": "69c44144-7e27-486e-b481-a340c46f2678",
   "metadata": {},
   "outputs": [
    {
     "name": "stdout",
     "output_type": "stream",
     "text": [
      "['0.3191897', '0.54605015', '0.77513776', '0.82844488', '0.60708327', '0.77487517']\n",
      "['0.3201365', '0.55422471', '0.7697905', '0.82235096', '0.61669577', '0.79003632']\n",
      "['0.31912608', '0.54772508', '0.77722139', '0.82552461', '0.61685904', '0.76606339']\n",
      "['0.3202457', '0.55628877', '0.77395476', '0.82891837', '0.6144619', '0.77591558']\n",
      "['0.31966344', '0.55480323', '0.76826746', '0.82508182', '0.60855439', '0.77958012']\n"
     ]
    },
    {
     "data": {
      "text/plain": [
       "(array([0.00044989, 0.00410629, 0.0033259 , 0.00237369, 0.00412388,\n",
       "        0.00774261]),\n",
       " array([0.31966, 0.55182, 0.77288, 0.82606, 0.61276, 0.7773 ]),\n",
       " 0.0017499714283381752,\n",
       " 0.70816)"
      ]
     },
     "execution_count": 53,
     "metadata": {},
     "output_type": "execute_result"
    }
   ],
   "source": [
    "exp_type = 'TestSet'\n",
    "model_arch = 'hrnet'\n",
    "\n",
    "# read one csv file of each IOU\n",
    "base_path = f'/home/saeid/phd/segmentation/dataset/neurips dataset/results/nips_5times/{exp_type}/{model_arch}'\n",
    "\n",
    "ious, mious = list_iou_model(base_path)\n",
    "\n",
    "ious.std(axis=0), ious.mean(axis=0), mious.std(axis=0), mious.mean(axis=0)"
   ]
  },
  {
   "cell_type": "markdown",
   "id": "3834f438-cc90-4194-9b5a-0412f6cc561f",
   "metadata": {},
   "source": [
    "### SwinUnet"
   ]
  },
  {
   "cell_type": "code",
   "execution_count": 55,
   "id": "6b77f5b4-8190-40b0-916f-f3a03094bb3c",
   "metadata": {},
   "outputs": [
    {
     "name": "stdout",
     "output_type": "stream",
     "text": [
      "['0.31480548', '0.45294952', '0.72992886', '0.7647082', '0.47372618', '0.56222473']\n",
      "['0.30883163', '0.47214935', '0.72509611', '0.76161651', '0.47553463', '0.56812193']\n",
      "['0.31548636', '0.44764685', '0.7330256', '0.76185263', '0.45630709', '0.57432099']\n",
      "['0.31543396', '0.48394816', '0.72853402', '0.7592334', '0.49496057', '0.6017075']\n",
      "['0.3082464', '0.45911572', '0.72838761', '0.74356824', '0.46867044', '0.53789265']\n"
     ]
    },
    {
     "data": {
      "text/plain": [
       "(array([0.00331276, 0.01322065, 0.00255453, 0.00750546, 0.01252671,\n",
       "        0.02055   ]),\n",
       " array([0.31254, 0.46312, 0.72898, 0.7582 , 0.47384, 0.56884]),\n",
       " 0.008653785298931332,\n",
       " 0.5986)"
      ]
     },
     "execution_count": 55,
     "metadata": {},
     "output_type": "execute_result"
    }
   ],
   "source": [
    "exp_type = 'TestSet'\n",
    "model_arch = 'swin'\n",
    "\n",
    "# read one csv file of each IOU\n",
    "base_path = f'/home/saeid/phd/segmentation/dataset/neurips dataset/results/nips_5times/{exp_type}/{model_arch}'\n",
    "\n",
    "ious, mious = list_iou_model(base_path, transformer=True)\n",
    "\n",
    "ious.std(axis=0), ious.mean(axis=0), mious.std(axis=0), mious.mean(axis=0)"
   ]
  },
  {
   "cell_type": "markdown",
   "id": "fd8c849e-f119-4081-b7d6-e3438081e408",
   "metadata": {},
   "source": [
    "### MagNet"
   ]
  },
  {
   "cell_type": "code",
   "execution_count": 59,
   "id": "d2c2e7b1-e56c-464a-b7e1-1e9bfce9d64f",
   "metadata": {},
   "outputs": [
    {
     "name": "stdout",
     "output_type": "stream",
     "text": [
      "['0.35786521', '0.42977002', '0.70581293', '0.7588104', '0.45742617', '0.67701969']\n",
      "['0.07165672', '0.37855144', '0.69851414', '0.69220826', '0.37503356', '0.32801797']\n",
      "['0.19300022', '0.40246957', '0.66993904', '0.61695899', '0.30917302', '0.5385339']\n",
      "['0.1369463', '0.31560108', '0.74385639', '0.78181746', '0.30579511', '0.5277126']\n"
     ]
    },
    {
     "data": {
      "text/plain": [
       "(array([0.10608234, 0.042205  , 0.02639701, 0.06418432, 0.06167729,\n",
       "        0.12439371]),\n",
       " 0.04304888935849566)"
      ]
     },
     "execution_count": 59,
     "metadata": {},
     "output_type": "execute_result"
    }
   ],
   "source": [
    "exp_type = 'TestSet'\n",
    "model_arch = 'magnet'\n",
    "\n",
    "# read one csv file of each IOU\n",
    "base_path = f'/home/saeid/phd/segmentation/dataset/neurips dataset/results/nips_5times/{exp_type}/{model_arch}'\n",
    "\n",
    "ious, mious = list_iou_model(base_path)\n",
    "\n",
    "ious.std(axis=0), mious.std(axis=0)"
   ]
  },
  {
   "cell_type": "code",
   "execution_count": 61,
   "id": "43d55ca5-81b0-4423-b9ba-50e4552cf8d4",
   "metadata": {},
   "outputs": [
    {
     "name": "stdout",
     "output_type": "stream",
     "text": [
      "['0.35786521', '0.42977002', '0.70581293', '0.7588104', '0.45742617', '0.67701969']\n",
      "['0.1369463', '0.31560108', '0.74385639', '0.78181746', '0.30579511', '0.5277126']\n",
      "['0.08692141', '0.50469766', '0.77535347', '0.81535409', '0.50805264', '0.39199952']\n"
     ]
    },
    {
     "data": {
      "text/plain": [
       "(array([0.11774832, 0.0777535 , 0.02845663, 0.02324153, 0.08594465,\n",
       "        0.11639491]),\n",
       " array([0.1939    , 0.4167    , 0.7417    , 0.78533333, 0.42376667,\n",
       "        0.53223333]),\n",
       " 0.03191366826646885,\n",
       " 0.5799666666666666)"
      ]
     },
     "execution_count": 61,
     "metadata": {},
     "output_type": "execute_result"
    }
   ],
   "source": [
    "exp_type = 'TestSet'\n",
    "model_arch = 'magnet_good'\n",
    "\n",
    "# read one csv file of each IOU\n",
    "base_path = f'/home/saeid/phd/segmentation/dataset/neurips dataset/results/nips_5times/{exp_type}/{model_arch}'\n",
    "\n",
    "ious, mious = list_iou_model(base_path)\n",
    "\n",
    "ious.std(axis=0), ious.mean(axis=0), mious.std(axis=0), mious.mean(axis=0)"
   ]
  },
  {
   "cell_type": "code",
   "execution_count": 65,
   "id": "f521f226-8551-4c18-a847-59457bd004bb",
   "metadata": {},
   "outputs": [
    {
     "name": "stdout",
     "output_type": "stream",
     "text": [
      "['0.31864209', '0.56523866', '0.7819421', '0.8393618', '0.63768818', '0.8131941']\n",
      "['0.31440663', '0.48842448', '0.77526056', '0.81056671', '0.58435405', '0.57058065']\n",
      "['0.31862859', '0.56938002', '0.77750777', '0.83778541', '0.61394939', '0.8132735']\n",
      "['0.27825598', '0.51250817', '0.73305001', '0.79881891', '0.5974002', '0.76099154']\n",
      "['0.32018293', '0.58872619', '0.78331869', '0.84603286', '0.62790317', '0.82865101']\n"
     ]
    },
    {
     "data": {
      "text/plain": [
       "(array([0.01597628, 0.03787551, 0.01878408, 0.01840895, 0.01944989,\n",
       "        0.09615543]),\n",
       " array([0.31002, 0.54484, 0.77022, 0.82652, 0.61226, 0.75736]),\n",
       " 0.03395565343208697,\n",
       " 0.70224)"
      ]
     },
     "execution_count": 65,
     "metadata": {},
     "output_type": "execute_result"
    }
   ],
   "source": [
    "exp_type = 'TestSet'\n",
    "model_arch = 'unet'\n",
    "\n",
    "# read one csv file of each IOU\n",
    "base_path = f'/home/saeid/phd/segmentation/dataset/neurips dataset/results/nips_5times/{exp_type}/{model_arch}'\n",
    "\n",
    "ious, mious = list_iou_model(base_path)\n",
    "\n",
    "ious.std(axis=0), ious.mean(axis=0), mious.std(axis=0), mious.mean(axis=0)"
   ]
  },
  {
   "cell_type": "markdown",
   "id": "3000cd81-e8dd-46d1-902c-1a267380b432",
   "metadata": {
    "tags": []
   },
   "source": [
    "# Get average of OOD datasets"
   ]
  },
  {
   "cell_type": "code",
   "execution_count": 5,
   "id": "5156d0f0-b2ab-4395-ae0c-8dc9e0a7ee4c",
   "metadata": {},
   "outputs": [],
   "source": [
    "# get average of test sets\n",
    "exp_type = 'OOD'\n",
    "model_arch = 'deeplab_swa'\n",
    "\n",
    "\n",
    "exp_path = '/home/saeid/phd/segmentation/dataset/neurips dataset/results/nips_5times/OOD/deeplab_swa/'\n",
    "list_direct = glob.glob( os.path.join(exp_path, '*'))\n",
    "miou_image = []\n",
    "for idx, _ in enumerate(list_direct):\n",
    "    model_name = os.path.split(list_direct[idx])[-1]\n",
    "    base_path = os.path.join(exp_path, model_name)\n",
    "    \n",
    "    csv_path = os.path.join(base_path, f'{model_name}_0.csv')\n",
    "    df = pd.read_csv(csv_path, skiprows=1, header=None)\n",
    "    arr = df.values.squeeze()\n",
    "    miou_image.append(arr)\n",
    "miou_image = np.stack(miou_image, axis=0)"
   ]
  },
  {
   "cell_type": "code",
   "execution_count": 6,
   "id": "a2d28b3e-a4dd-4194-9a42-6e0a66e61574",
   "metadata": {},
   "outputs": [
    {
     "data": {
      "text/plain": [
       "array([[0.67693481, 0.58262041, 0.46457611, 0.44143783],\n",
       "       [0.65921958, 0.54137836, 0.49984053, 0.38079158],\n",
       "       [0.70583162, 0.57465721, 0.43103228, 0.49375259],\n",
       "       [0.66181413, 0.5708433 , 0.50203841, 0.42547243],\n",
       "       [0.70232932, 0.5911813 , 0.44896052, 0.43561935]])"
      ]
     },
     "execution_count": 6,
     "metadata": {},
     "output_type": "execute_result"
    }
   ],
   "source": [
    "miou_image"
   ]
  },
  {
   "cell_type": "code",
   "execution_count": 7,
   "id": "b84cdfbc-ae80-43e2-b565-bce655a828fe",
   "metadata": {},
   "outputs": [],
   "source": [
    "orkla = miou_image[:,:2]\n",
    "gaula = miou_image[:,2:]"
   ]
  },
  {
   "cell_type": "code",
   "execution_count": 100,
   "id": "7c8fdcfd-c391-48bf-915c-5018f9de5b7c",
   "metadata": {},
   "outputs": [
    {
     "data": {
      "text/plain": [
       "(0.4523521637246145, 0.626681003801761)"
      ]
     },
     "execution_count": 100,
     "metadata": {},
     "output_type": "execute_result"
    }
   ],
   "source": [
    "gaula.mean(), orkla.mean()"
   ]
  },
  {
   "cell_type": "code",
   "execution_count": 14,
   "id": "7e932e82-3b9e-4c82-8850-ccbc8ce91892",
   "metadata": {},
   "outputs": [
    {
     "data": {
      "text/plain": [
       "0.016731494084994532"
      ]
     },
     "execution_count": 14,
     "metadata": {},
     "output_type": "execute_result"
    }
   ],
   "source": [
    "# average of each model\n",
    "orkla_avg_model = orkla.mean(axis = 1)\n",
    "orkla_avg_model.std()"
   ]
  },
  {
   "cell_type": "code",
   "execution_count": 15,
   "id": "549e1e26-5ce5-4490-9bdf-1689fe6f85f1",
   "metadata": {},
   "outputs": [
    {
     "data": {
      "text/plain": [
       "0.009771247470722524"
      ]
     },
     "execution_count": 15,
     "metadata": {},
     "output_type": "execute_result"
    }
   ],
   "source": [
    "# average of each model\n",
    "gaula_avg_model = gaula.mean(axis = 1)\n",
    "gaula_avg_model.std()"
   ]
  },
  {
   "cell_type": "code",
   "execution_count": null,
   "id": "d527a6e3-6342-43f6-8a9f-dd116a226f6b",
   "metadata": {},
   "outputs": [],
   "source": []
  }
 ],
 "metadata": {
  "kernelspec": {
   "display_name": "Python 3 (ipykernel)",
   "language": "python",
   "name": "python3"
  },
  "language_info": {
   "codemirror_mode": {
    "name": "ipython",
    "version": 3
   },
   "file_extension": ".py",
   "mimetype": "text/x-python",
   "name": "python",
   "nbconvert_exporter": "python",
   "pygments_lexer": "ipython3",
   "version": "3.7.7"
  }
 },
 "nbformat": 4,
 "nbformat_minor": 5
}
