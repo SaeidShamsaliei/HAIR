{
 "cells": [
  {
   "cell_type": "markdown",
   "id": "3aac6e76-7089-49d5-bcc0-fe73a294524e",
   "metadata": {
    "tags": []
   },
   "source": [
    "# New dataset prepration"
   ]
  },
  {
   "cell_type": "markdown",
   "id": "15346dac-8aba-4281-b2a4-d5cce856febb",
   "metadata": {},
   "source": [
    "## in this notebook, we make new dataset"
   ]
  },
  {
   "cell_type": "code",
   "execution_count": 1,
   "id": "39e2d63d-b437-4ab1-956b-4ddab43af570",
   "metadata": {},
   "outputs": [],
   "source": [
    "%load_ext autoreload"
   ]
  },
  {
   "cell_type": "code",
   "execution_count": 2,
   "id": "ec930c5b-204c-4234-bcdb-b991af49364a",
   "metadata": {},
   "outputs": [
    {
     "name": "stderr",
     "output_type": "stream",
     "text": [
      "2023-02-06 20:41:05.137951: I tensorflow/stream_executor/platform/default/dso_loader.cc:49] Successfully opened dynamic library libcudart.so.10.1\n"
     ]
    }
   ],
   "source": [
    "%autoreload\n",
    "import numpy as np\n",
    "import sys\n",
    "import os\n",
    "import glob\n",
    "import imageio\n",
    "import time\n",
    "import matplotlib.pyplot as plt\n",
    "\n",
    "from scipy import ndimage, signal\n",
    "from cv2 import medianBlur\n",
    "\n",
    "\n",
    "sys.path.append(\"..\")\n",
    "\n",
    "from PIL import Image\n",
    "from costum_arild.source.utils import image_processing_utils, gdal_utils\n",
    "from costum_arild.source.data_processing import TrainingImage"
   ]
  },
  {
   "cell_type": "code",
   "execution_count": 3,
   "id": "bd3d82ff-cec2-483b-a772-94844a9742ec",
   "metadata": {},
   "outputs": [],
   "source": [
    "def mask_unknown_class(arr, unknown_class):\n",
    "    \"\"\"\n",
    "    This function returns a numpy array which masks elements with has value of unknown class.\n",
    "    \"\"\"\n",
    "    if arr.ndim == 3:\n",
    "        if arr.shape[-1] != unknown_class.shape[0]:\n",
    "            raise ValueError(f'unknown class should be an array of [R,G,B] now it is {unknown_class.shape}')\n",
    "        return (arr == unknown_class).all(axis=-1)\n",
    "    elif arr.ndim == 2:\n",
    "        return arr == unknown_class\n",
    "\n",
    "def most_selected_class(image_matrix, select_class, threshold):\n",
    "    \"\"\"\n",
    "    True if select_class is more than threshold\n",
    "    \"\"\"\n",
    "    # Check that the amount of the unknown class\n",
    "    class_mask = image_matrix == select_class\n",
    "\n",
    "    if np.sum(class_mask) > threshold * class_mask.size:\n",
    "        return True\n",
    "    else:\n",
    "        return False\n",
    "\n",
    "\n",
    "def make_small_image_index(image_matrix, label_matrix=None, image_size=512, do_overlap=False):\n",
    "    \"\"\"\n",
    "    indecies to devide images into small images with image size of (image_size x image_size)\n",
    "    \"\"\"\n",
    "    if do_overlap:\n",
    "        shape_0_indices = list(\n",
    "            range(image_size // 4, image_matrix.shape[0], image_size // 4))[:-4]\n",
    "        shape_1_indices = list(\n",
    "            range(image_size // 4, image_matrix.shape[1], image_size // 4))[:-4]\n",
    "    else:\n",
    "        shape_0_indices = list(range(0, image_matrix.shape[0], image_size))\n",
    "        shape_0_indices[-1] = image_matrix.shape[0] - image_size\n",
    "        shape_1_indices = list(range(0, image_matrix.shape[1], image_size))\n",
    "        shape_1_indices[-1] = image_matrix.shape[1] - image_size\n",
    "\n",
    "    return shape_0_indices, shape_1_indices\n",
    "\n",
    "\n",
    "def devide_small_image(large_img_arr, large_lbl_arr_2d, image_size, dst_path, unknown_class, large_image_name):\n",
    "    \"\"\"\n",
    "    devide images and array into image_size and save them into dst_path\n",
    "    \"\"\"\n",
    "    if large_img_arr.shape != large_lbl_arr.shape:\n",
    "        raise ValueError(f'shape of image and labels should be the same {large_img_arr.shape} != {large_lbl_arr.shape}')\n",
    "        \n",
    "    # get indecies of small images\n",
    "    list_0_idx, list_1_idx = make_small_image_index(large_lbl_arr_2d, \n",
    "                                            image_size=image_size, do_overlap=False)\n",
    "    \n",
    "    # make the directories if needed\n",
    "    small_image_list = []\n",
    "    small_label_list = []\n",
    "    \n",
    "    for i_idx in list_0_idx:\n",
    "        for j_idx in list_1_idx:\n",
    "            small_label = large_lbl_arr_2d[ i_idx : i_idx+image_size,\n",
    "                                            j_idx : j_idx+image_size ]\n",
    "\n",
    "            small_image = large_img_arr[ i_idx : i_idx+image_size,\n",
    "                                            j_idx : j_idx+image_size ]\n",
    "            \n",
    "            # if more than 50% of class is unknown it will not be included\n",
    "            if most_selected_class(image_matrix=small_image, \n",
    "                                   select_class=unknown_class, threshold=0.5):\n",
    "#                 print(all_image_names'more than half is unknown so ignored')\n",
    "                continue\n",
    "                \n",
    "            # image name\n",
    "            tmp_img_name = f\"{large_image_name.replace('.png', '')}_{i_idx}_{j_idx}.png\"\n",
    "            \n",
    "            save_to_png(img_array=small_label, \n",
    "                        img_path=os.path.join(dst_path_lbl, tmp_img_name))\n",
    "            \n",
    "            save_to_png(img_array=small_image, \n",
    "                        img_path=os.path.join(dst_path_img, tmp_img_name))\n",
    "    return True\n",
    "\n",
    "def save_to_png(img_array, img_path):\n",
    "    # save to file\n",
    "    img_png = Image.fromarray(img_array.astype(np.uint8))\n",
    "    img_png.save(img_path)\n",
    "    "
   ]
  },
  {
   "cell_type": "markdown",
   "id": "0c208a0e-077c-462e-916d-d65698a58dd3",
   "metadata": {},
   "source": [
    "# fix the errors by median filters"
   ]
  },
  {
   "cell_type": "markdown",
   "id": "496260ce-4b29-4be7-9076-3b6a7e77193e",
   "metadata": {},
   "source": [
    "in this example, we change the dimention as well."
   ]
  },
  {
   "cell_type": "code",
   "execution_count": 4,
   "id": "55da0dd4-cdd6-49cb-8e71-6206a659dc7d",
   "metadata": {},
   "outputs": [],
   "source": [
    "all_images_path = '/media/saeid/LaCie/Saeid/segmentation/dataset/neurips dataset/After_revision/not_ready_yet/Gaula47_finished/png/image'\n",
    "all_label_path = '/media/saeid/LaCie/Saeid/segmentation/dataset/neurips dataset/After_revision/not_ready_yet/Gaula47_finished/png/label_3d'\n",
    "all_label_filtered_path = '/media/saeid/LaCie/Saeid/segmentation/dataset/neurips dataset/After_revision/not_ready_yet/Gaula47_finished/png/label_correct'"
   ]
  },
  {
   "cell_type": "code",
   "execution_count": 5,
   "id": "1ce85e9f-3291-4904-ab0e-64c06807493c",
   "metadata": {},
   "outputs": [],
   "source": [
    "all_label_paths = glob.glob(os.path.join(all_label_path, '*.png'))\n",
    "all_image_paths = glob.glob(os.path.join(all_images_path, '*.png'))"
   ]
  },
  {
   "cell_type": "code",
   "execution_count": 15,
   "id": "5aaab543-4a34-41c1-8031-3aff5553f9b4",
   "metadata": {},
   "outputs": [
    {
     "name": "stdout",
     "output_type": "stream",
     "text": [
      "applying median filters\n",
      "working on image 33-2-462-208-23.png\n",
      "get median filter one\n",
      "save it\n",
      "working on image 33-2-462-209-13.png\n",
      "get median filter one\n",
      "save it\n",
      "working on image 33-2-462-210-32.png\n",
      "get median filter one\n",
      "save it\n",
      "working on image 33-2-462-210-33.png\n",
      "get median filter one\n",
      "save it\n",
      "working on image 33-2-462-212-23.png\n",
      "get median filter one\n",
      "save it\n",
      "working on image 33-2-462-212-31.png\n",
      "get median filter one\n",
      "save it\n",
      "working on image 33-2-462-212-32.png\n",
      "get median filter one\n",
      "save it\n",
      "working on image 33-2-462-212-33.png\n",
      "get median filter one\n",
      "save it\n",
      "working on image 33-2-462-213-20.png\n",
      "get median filter one\n",
      "save it\n",
      "working on image 33-2-462-213-30.png\n",
      "get median filter one\n",
      "save it\n",
      "working on image 33-2-462-215-20.png\n",
      "get median filter one\n",
      "save it\n",
      "working on image 33-2-462-215-30.png\n",
      "get median filter one\n",
      "save it\n",
      "working on image 33-2-463-211-00.png\n",
      "get median filter one\n",
      "save it\n",
      "working on image 33-2-463-211-01.png\n",
      "get median filter one\n",
      "save it\n",
      "working on image 33-2-463-211-02.png\n",
      "get median filter one\n",
      "save it\n",
      "working on image 33-2-463-212-00 (1).png\n",
      "get median filter one\n",
      "save it\n",
      "working on image 33-2-463-212-01.png\n",
      "get median filter one\n",
      "save it\n",
      "working on image 33-2-463-213-01.png\n",
      "get median filter one\n",
      "save it\n",
      "working on image 33-2-463-213-02.png\n",
      "get median filter one\n",
      "save it\n",
      "working on image 33-2-463-214-00.png\n",
      "get median filter one\n",
      "save it\n",
      "working on image 33-2-463-214-01.png\n",
      "get median filter one\n",
      "save it\n",
      "working on image 33-2-463-214-02.png\n",
      "get median filter one\n",
      "save it\n"
     ]
    }
   ],
   "source": [
    "print('applying median filters')\n",
    "\n",
    "for lbl_path in all_label_paths:\n",
    "    lbl_name = os.path.split(lbl_path)[-1]\n",
    "    print(f\"working on image {lbl_name}\")\n",
    "    start = time.time()\n",
    "    large_lbl_arr = image_processing_utils.read_png_file(image_path=lbl_path)\n",
    "    \n",
    "    print('get median filter one')\n",
    "    # apply median filter\n",
    "    \n",
    "#     change 2d to 3d\n",
    "    large_lbl_arr = image_processing_utils.replace_rgb_to_class(large_lbl_arr, \n",
    "                                                                   unknown_zero_flag=True)\n",
    "#     print(large_lbl_arr_2d.shape, large_lbl_arr.shape, large_lbl_arr.ndim)\n",
    "    \n",
    "    \n",
    "    large_lbl_arr_filt = image_processing_utils.median_filter(image=large_lbl_arr, kernel_size=10)\n",
    "    \n",
    "    # check the issues\n",
    "#     assert (np.unique(large_lbl_arr_filt) == np.unique(large_lbl_arr)).all()\n",
    "    \n",
    "    print('save it')\n",
    "    dest_path = os.path.join(all_label_filtered_path, lbl_name)\n",
    "    # save the image\n",
    "    image_processing_utils.save_to_png(img_array=large_lbl_arr_filt, img_path=dest_path)"
   ]
  },
  {
   "cell_type": "code",
   "execution_count": 14,
   "id": "ed1236d6-e97c-4e98-92bd-b918ce0d86bb",
   "metadata": {},
   "outputs": [
    {
     "data": {
      "text/plain": [
       "array([0, 1, 2, 3, 4, 5])"
      ]
     },
     "execution_count": 14,
     "metadata": {},
     "output_type": "execute_result"
    }
   ],
   "source": [
    "np.unique(large_lbl_arr)"
   ]
  },
  {
   "cell_type": "markdown",
   "id": "4d854c49-0bd5-4b0e-b9ea-1ea05a06f616",
   "metadata": {
    "tags": []
   },
   "source": [
    "## Devide"
   ]
  },
  {
   "cell_type": "markdown",
   "id": "f9d6e846-27fe-4b8b-9912-a9588ab68207",
   "metadata": {},
   "source": [
    "in this experiment we just devide images into 512x512 images"
   ]
  },
  {
   "cell_type": "code",
   "execution_count": 6,
   "id": "5d96a937-a6f9-439e-ba32-238072f15acf",
   "metadata": {},
   "outputs": [],
   "source": [
    "all_images_path = '/home/saeid/phd/segmentation/dataset/neurips dataset/dataset_division/all_train_png/fullsize/image/img'\n",
    "all_label_path = '/home/saeid/phd/segmentation/dataset/neurips dataset/dataset_division/all_train_png/fullsize/label/img'\n",
    "all_label_filtered_path = '/home/saeid/phd/segmentation/dataset/neurips dataset/dataset_division/all_train_png/fullsize/label/img'"
   ]
  },
  {
   "cell_type": "code",
   "execution_count": 7,
   "id": "6e8def1d-b80e-4a7b-8e4a-774865e0e578",
   "metadata": {},
   "outputs": [],
   "source": [
    "all_label_paths = glob.glob(os.path.join(all_label_filtered_path, '*.png'))\n",
    "all_image_paths = glob.glob(os.path.join(all_images_path, '*.png'))\n",
    "# get all the image names\n",
    "all_label_names = [os.path.split(name)[-1] for name in all_label_paths]\n",
    "all_image_names = [os.path.split(name)[-1] for name in all_image_paths]"
   ]
  },
  {
   "cell_type": "code",
   "execution_count": 8,
   "id": "9bb66b65-37bc-4ae8-a803-e5b7acea01c7",
   "metadata": {},
   "outputs": [],
   "source": [
    "dst_path = '/home/saeid/phd/segmentation/dataset/neurips dataset/dataset_division/all_train_png/2448'"
   ]
  },
  {
   "cell_type": "code",
   "execution_count": 9,
   "id": "31d13b0a-b7f9-4d64-bd5d-dd8ed1fc63da",
   "metadata": {},
   "outputs": [
    {
     "name": "stdout",
     "output_type": "stream",
     "text": [
      "working on image 33-2-463-211-03\n",
      "working on image 33-2-462-209-12\n",
      "working on image 33-2-462-207-32\n",
      "working on image 33-2-437-164-22\n",
      "working on image 33-2-465-205-13\n",
      "working on image 33-2-450-207-13\n",
      "working on image 33-2-464-206-13\n",
      "working on image 33-2-465-206-00\n",
      "working on image 33-2-462-208-31\n",
      "working on image 33-2-451-208-21\n",
      "working on image 33-2-464-207-01\n",
      "working on image 33-2-462-209-20\n",
      "working on image 33-2-450-208-20\n",
      "working on image 33-2-439-164-13\n",
      "working on image 33-2-437-164-23\n",
      "working on image 33-2-436-165-33\n",
      "working on image 33-2-468-211-33\n",
      "working on image 33-2-465-205-03\n",
      "working on image 33-2-468-211-31\n",
      "working on image 33-2-462-209-10\n",
      "working on image 33-2-464-206-03\n",
      "working on image 33-2-462-210-10\n",
      "working on image 33-2-463-207-21\n",
      "working on image 33-2-464-207-00\n",
      "working on image 33-2-464-206-31\n",
      "working on image 33-2-462-209-23\n",
      "working on image 33-2-462-210-20\n",
      "working on image 33-2-466-205-02\n",
      "working on image 33-2-436-166-20\n",
      "working on image 33-2-463-207-32\n",
      "working on image 33-2-450-207-33\n",
      "working on image 33-2-463-207-22\n",
      "working on image 33-2-462-212-30\n",
      "working on image 33-2-468-211-22\n",
      "working on image 33-2-462-208-20\n",
      "working on image 33-2-468-211-32\n",
      "working on image 33-2-463-208-00\n",
      "working on image 33-2-462-212-31\n",
      "working on image 33-2-465-205-12\n",
      "working on image 33-2-462-209-13\n",
      "working on image 33-2-462-210-22\n",
      "working on image 33-2-470-210-01\n",
      "working on image 33-2-449-207-23\n",
      "working on image 33-2-469-211-00\n",
      "working on image 33-2-436-166-21\n",
      "working on image 33-2-462-212-32\n",
      "working on image 33-2-450-208-10\n",
      "working on image 33-2-436-166-30\n",
      "working on image 33-2-470-208-23\n",
      "working on image 33-2-450-207-23\n",
      "working on image 33-2-468-211-23\n",
      "working on image 33-2-439-165-20\n",
      "working on image 33-2-462-209-21\n",
      "working on image 33-2-470-210-03\n",
      "working on image 33-2-462-208-30\n",
      "working on image 33-2-439-164-21\n",
      "working on image 33-2-462-209-11\n",
      "working on image 33-2-437-164-32\n",
      "working on image 33-2-470-210-02\n",
      "working on image 33-2-439-165-31\n",
      "working on image 33-2-462-210-32\n",
      "working on image 33-2-462-209-22\n",
      "working on image 33-2-462-208-23\n",
      "working on image 33-2-462-212-33\n",
      "working on image 33-2-462-208-32\n",
      "working on image 33-2-464-206-32\n",
      "working on image 33-2-439-165-30\n",
      "working on image 33-2-449-207-33\n",
      "working on image 33-2-437-164-33\n",
      "working on image 33-2-463-207-11\n",
      "working on image 33-2-437-165-00\n",
      "working on image 33-2-439-164-11\n",
      "working on image 33-2-439-164-12\n",
      "working on image 33-2-451-208-00\n",
      "working on image 33-2-465-205-22\n",
      "working on image 33-2-462-207-23\n",
      "working on image 33-2-463-207-31\n",
      "working on image 33-2-464-206-23\n",
      "working on image 33-2-464-206-30\n",
      "working on image 33-2-463-207-02\n",
      "working on image 33-2-462-211-33\n",
      "working on image 33-2-462-209-30\n",
      "working on image 33-2-437-164-03\n",
      "working on image 33-2-439-164-23\n",
      "working on image 33-2-463-207-03\n",
      "working on image 33-2-463-212-01\n",
      "working on image 33-2-464-206-22\n",
      "working on image 33-2-462-210-21\n"
     ]
    }
   ],
   "source": [
    "image_size = 2448\n",
    "# determines if we need to show messages or not\n",
    "verbose = True\n",
    "UNKNOWN_CLASS = 0\n",
    "small_image_list = []\n",
    "small_label_list = []\n",
    "verbose = False\n",
    "\n",
    "dst_path_img = os.path.join(dst_path, 'image')\n",
    "dst_path_lbl = os.path.join(dst_path, 'label')\n",
    "\n",
    "os.makedirs(dst_path_img, exist_ok=True)\n",
    "os.makedirs(dst_path_lbl, exist_ok=True)\n",
    "\n",
    "for idx, img_path in enumerate(all_image_paths):    \n",
    "    print(f\"working on image {all_image_names[idx].replace('.png', '')}\")\n",
    "    start = time.time()\n",
    "    large_img_arr = image_processing_utils.read_png_file(image_path=all_image_paths[idx])\n",
    "    large_lbl_arr = image_processing_utils.read_png_file(image_path=all_label_paths[idx])\n",
    "    # change rgb to 2d_class labels\n",
    "    \n",
    "#     large_lbl_arr_2d = image_processing_utils.replace_rgb_to_class(large_lbl_arr, \n",
    "#                                                                    unknown_zero_flag=True)\n",
    "    current_time = time.time()\n",
    "    if verbose:\n",
    "        print(f'loading images took: {current_time - start}')\n",
    "    \n",
    "    # now we dont need to rotate the image\n",
    "    # rotate image by angle\n",
    "    # rotated_lbl_arr_2d = image_processing_utils.rotate_image_skimage(angle=30, \n",
    "    #                                                                      img=large_lbl_arr_2d)\n",
    "    \n",
    "#     # we might need to swap the value of unknown class\n",
    "#     UNKNOWN_CLASS = 0\n",
    "#     large_lbl_arr_2d = image_processing_utils.swap_value_np(array=large_lbl_arr_2d, val1=5, val2=0)\n",
    "#     current_time = time.time()\n",
    "#     if verbose:\n",
    "#         print(f'swapping classes took: {current_time - start}')\n",
    "    \n",
    "    \n",
    "    devide_small_image(large_img_arr=large_img_arr, large_lbl_arr_2d = large_lbl_arr, \n",
    "                       image_size=image_size, dst_path=dst_path, unknown_class=UNKNOWN_CLASS, large_image_name=all_image_names[idx])\n",
    "    \n",
    "    current_time = time.time()\n",
    "    if verbose:\n",
    "        print(f'deviding took: {current_time - start}')\n"
   ]
  },
  {
   "cell_type": "markdown",
   "id": "d73d49dd-d174-4ac2-9a1d-51e8f8a6df56",
   "metadata": {},
   "source": [
    "## split dataset"
   ]
  },
  {
   "cell_type": "code",
   "execution_count": 3,
   "id": "fd73e4a3-7586-4b4c-8293-3068fdc61059",
   "metadata": {},
   "outputs": [],
   "source": [
    "def dataset_split_train_vlidation_test_notebook(src_path, dst_path, train_rate=0.7,\n",
    "                                       val_rate=0.2, test_rate=0.1):\n",
    "    \"\"\"\n",
    "    function to split train validation and test based on the rate\n",
    "    \"\"\"\n",
    "    src_imgs_list = glob.glob(os.path.join(src_path, 'image', '*.png'))\n",
    "    src_lbls_list = glob.glob(os.path.join(src_path, 'label', '*.png'))\n",
    "    print(f'there are {len(src_imgs_list)} images')\n",
    "    if len(src_imgs_list) != len(src_lbls_list):\n",
    "        raise ValueError('len of image and label are not the same')\n",
    "\n",
    "    index = np.arange(len(src_imgs_list))\n",
    "    np.random.shuffle(index)\n",
    "    train_end = round(train_rate * len(src_imgs_list))\n",
    "    val_end = round((train_rate+val_rate) * len(src_imgs_list))\n",
    "\n",
    "    train_img_paths = [src_imgs_list[idx] for idx in index[:train_end]]\n",
    "    train_lbl_paths = [src_lbls_list[idx] for idx in index[:train_end]]\n",
    "\n",
    "    val_img_paths = [src_imgs_list[idx] for idx in index[train_end:val_end]]\n",
    "    val_lbl_paths = [src_lbls_list[idx] for idx in index[train_end:val_end]]\n",
    "\n",
    "    test_img_paths = [src_imgs_list[idx] for idx in index[val_end:]]\n",
    "    test_lbl_paths = [src_lbls_list[idx] for idx in index[val_end:]]\n",
    "\n",
    "    # check if train image and labels are the same\n",
    "    dest_img_path = os.path.join(dst_path, 'trian', 'image', 'img')\n",
    "    dest_lbl_path = os.path.join(dst_path, 'trian', 'label', 'img')\n",
    "    os.makedirs(dest_img_path, exist_ok=True)\n",
    "    os.makedirs(dest_lbl_path, exist_ok=True)\n",
    "    for idx in range(len(train_img_paths)):\n",
    "        if os.path.split(train_img_paths[idx])[-1] != os.path.split(train_lbl_paths[idx])[-1]:\n",
    "            print(\n",
    "                f'{os.path.split(train_img_paths[idx])[-1]} != {os.path.split(train_lbl_paths[idx])[-1]}')\n",
    "        file_name = os.path.split(train_img_paths[idx])[-1]\n",
    "        # move the image\n",
    "        shutil.copyfile(src=train_img_paths[idx], dst=os.path.join(\n",
    "            dest_img_path, file_name))\n",
    "        # move the label\n",
    "        shutil.copyfile(src=train_lbl_paths[idx], dst=os.path.join(\n",
    "            dest_lbl_path, file_name))\n",
    "\n",
    "    # check if val image and labels are the same\n",
    "    dest_img_path = os.path.join(dst_path, 'val', 'image', 'img')\n",
    "    dest_lbl_path = os.path.join(dst_path, 'val', 'label', 'img')\n",
    "    os.makedirs(dest_img_path, exist_ok=True)\n",
    "    os.makedirs(dest_lbl_path, exist_ok=True)\n",
    "    for idx in range(len(val_img_paths)):\n",
    "        if os.path.split(val_img_paths[idx])[-1] != os.path.split(val_lbl_paths[idx])[-1]:\n",
    "            print(\n",
    "                f'{os.path.split(val_img_paths[idx])[-1]} != {os.path.split(val_lbl_paths[idx])[-1]}')\n",
    "        file_name = os.path.split(val_img_paths[idx])[-1]\n",
    "        # move the image\n",
    "        shutil.copyfile(src=val_img_paths[idx], dst=os.path.join(\n",
    "            dest_img_path, file_name))\n",
    "        # move the label\n",
    "        shutil.copyfile(src=val_lbl_paths[idx], dst=os.path.join(\n",
    "            dest_lbl_path, file_name))\n",
    "\n",
    "    # check if test image and labels are the same\n",
    "    dest_img_path = os.path.join(dst_path, 'test', 'image', 'img')\n",
    "    dest_lbl_path = os.path.join(dst_path, 'test', 'label', 'img')\n",
    "    os.makedirs(dest_img_path, exist_ok=True)\n",
    "    os.makedirs(dest_lbl_path, exist_ok=True)\n",
    "    for idx in range(len(test_img_paths)):\n",
    "        if os.path.split(test_img_paths[idx])[-1] != os.path.split(test_lbl_paths[idx])[-1]:\n",
    "            print(\n",
    "                f'{os.path.split(test_img_paths[idx])[-1]} != {os.path.split(test_lbl_paths[idx])[-1]}')\n",
    "        file_name = os.path.split(test_img_paths[idx])[-1]\n",
    "        # move the image\n",
    "        shutil.copyfile(src=test_img_paths[idx], dst=os.path.join(\n",
    "            dest_img_path, file_name))\n",
    "        # move the label\n",
    "        shutil.copyfile(src=test_lbl_paths[idx], dst=os.path.join(\n",
    "            dest_lbl_path, file_name))"
   ]
  },
  {
   "cell_type": "markdown",
   "id": "c2f73862-b232-4445-a659-6fed1087aa51",
   "metadata": {},
   "source": [
    "### Split images to train validate and test"
   ]
  },
  {
   "cell_type": "code",
   "execution_count": 5,
   "id": "aec48b9e-d7f8-4a08-98ed-9868773a72b6",
   "metadata": {},
   "outputs": [
    {
     "name": "stdout",
     "output_type": "stream",
     "text": [
      "there are 1050 images\n"
     ]
    }
   ],
   "source": [
    "train_rate=0.8\n",
    "val_rate=0.2\n",
    "\n",
    "\n",
    "src_path = '/home/saeid/phd/segmentation/dataset/new_dataset/AAAI_ex2/devided/nea_orkla_g_512'\n",
    "dst_path = '/home/saeid/phd/segmentation/dataset/new_dataset/AAAI_ex2/devided/512'\n",
    "\n",
    "dataset_split_train_vlidation_test_notebook(\n",
    "                                    src_path=src_path, dst_path=dst_path, \n",
    "                                    train_rate=train_rate,\n",
    "                                    val_rate=val_rate)"
   ]
  },
  {
   "cell_type": "markdown",
   "id": "5f2dfab5-3b73-41db-aca1-7d1252c29f39",
   "metadata": {},
   "source": [
    "# remove unpared images"
   ]
  },
  {
   "cell_type": "code",
   "execution_count": 24,
   "id": "5a64039f-70a8-4739-b200-5792d0804537",
   "metadata": {},
   "outputs": [],
   "source": [
    "# remove things in dst that are not in src\n",
    "dst_path = '/home/saeid/phd/segmentation/dataset/neurips dataset/dataset_division/all_train_png/fullsize/image'\n",
    "src_path = '/home/saeid/phd/segmentation/dataset/neurips dataset/dataset_division/all_train_png/fullsize/label'\n",
    "\n",
    "file_type = '*.tif'\n",
    "\n",
    "all_src_files = glob.glob(os.path.join(src_path, file_type))\n",
    "all_dst_files = glob.glob(os.path.join(dst_path, file_type))\n",
    "\n",
    "all_src_names = [os.path.split(name)[-1] for name in all_src_files]\n",
    "all_dst_names = [os.path.split(name)[-1] for name in all_dst_files]\n",
    "\n",
    "for idx, the_name in enumerate(all_dst_names):\n",
    "    # for each image\n",
    "    found_flag = False\n",
    "    for jdx, src_name in enumerate(all_src_names):\n",
    "        if the_name == src_name:\n",
    "            found_flag = True\n",
    "    \n",
    "    if not found_flag:\n",
    "        print(f'name {all_dst_files[idx]} not found')\n",
    "#         os.remove(all_dst_files[idx])"
   ]
  },
  {
   "cell_type": "markdown",
   "id": "2c88a63a-8c10-45f6-b2a5-df79912dc53d",
   "metadata": {
    "tags": []
   },
   "source": [
    "## Draft"
   ]
  },
  {
   "cell_type": "code",
   "execution_count": 36,
   "id": "98519196-6655-4e02-8d25-96e7462581ca",
   "metadata": {},
   "outputs": [],
   "source": [
    "# read the images of Orkdal\n",
    "inp_path = '/home/saeid/phd/segmentation/dataset/neurips dataset/raster_corrected/orkdal_1962_corrected_rasters/tif/label/33-2-459-212-02.tif'\n",
    "\n",
    "lbl = gdal_utils.read_tiff_file(large_image_path=inp_path, normalize=inp_path, zeropadsize=None, numpy_array_only=True, grayscale_only=False)\n",
    "\n",
    "img_path = '/home/saeid/phd/segmentation/dataset/neurips dataset/raster_corrected/orkdal_1962_corrected_rasters/tif/image/33-2-459-212-02_image.tif'\n",
    "\n",
    "im = gdal_utils.read_tiff_file(large_image_path=img_path, normalize=img_path, zeropadsize=None, numpy_array_only=True, grayscale_only=False)"
   ]
  },
  {
   "cell_type": "code",
   "execution_count": 37,
   "id": "b6a4452e-fd9d-4cd1-8add-9b5b776e9414",
   "metadata": {},
   "outputs": [
    {
     "data": {
      "text/plain": [
       "((12000, 12591, 3), (12000, 12591, 1))"
      ]
     },
     "execution_count": 37,
     "metadata": {},
     "output_type": "execute_result"
    }
   ],
   "source": [
    "im.shape, lbl.shape"
   ]
  },
  {
   "cell_type": "code",
   "execution_count": 38,
   "id": "a3ad7ca2-b569-4900-8b82-26ed4e0f8d01",
   "metadata": {},
   "outputs": [
    {
     "data": {
      "text/plain": [
       "<matplotlib.image.AxesImage at 0x7f38c9182090>"
      ]
     },
     "execution_count": 38,
     "metadata": {},
     "output_type": "execute_result"
    },
    {
     "data": {
      "image/png": "[encoded data removed]",
      "text/plain": [
       "<Figure size 432x288 with 1 Axes>"
      ]
     },
     "metadata": {
      "needs_background": "light"
     },
     "output_type": "display_data"
    }
   ],
   "source": [
    "plt.imshow(im)"
   ]
  },
  {
   "cell_type": "code",
   "execution_count": 39,
   "id": "e88d8a53-db80-4f9b-99e2-2f6ccb06cf8e",
   "metadata": {},
   "outputs": [
    {
     "data": {
      "text/plain": [
       "<matplotlib.image.AxesImage at 0x7f38c79ec750>"
      ]
     },
     "execution_count": 39,
     "metadata": {},
     "output_type": "execute_result"
    },
    {
     "data": {
      "image/png": "[encoded data removed]",
      "text/plain": [
       "<Figure size 432x288 with 1 Axes>"
      ]
     },
     "metadata": {
      "needs_background": "light"
     },
     "output_type": "display_data"
    }
   ],
   "source": [
    "plt.imshow(lbl)"
   ]
  },
  {
   "cell_type": "code",
   "execution_count": 6,
   "id": "112c0662-f527-4dad-85b7-d863747c1917",
   "metadata": {},
   "outputs": [],
   "source": [
    "# input image and output small division of it\n",
    "# check if image and label has the same name\n",
    "idx = 0\n",
    "large_img_arr = image_processing_utils.read_png_file(image_path=pare_img_image_path[idx])\n",
    "large_lbl_arr = image_processing_utils.read_png_file(image_path=pare_label_image_path[idx])\n",
    "# change rgb to 2d_class labels\n",
    "UNKNOWN_CLASS = 0\n",
    "large_lbl_arr_2d = image_processing_utils.replace_rgb_to_class(large_lbl_arr, \n",
    "                                                               unknown_zero_flag=True)"
   ]
  },
  {
   "cell_type": "code",
   "execution_count": 14,
   "id": "61729806-a52e-4d30-b312-6ad147cf70a3",
   "metadata": {},
   "outputs": [
    {
     "data": {
      "text/plain": [
       "<matplotlib.image.AxesImage at 0x7ff8b2552ed0>"
      ]
     },
     "execution_count": 14,
     "metadata": {},
     "output_type": "execute_result"
    },
    {
     "data": {
      "image/png": "[encoded data removed]",
      "text/plain": [
       "<Figure size 432x288 with 1 Axes>"
      ]
     },
     "metadata": {
      "needs_background": "light"
     },
     "output_type": "display_data"
    }
   ],
   "source": [
    "plt.imshow(image_processing_utils.label_to_rgb(large_lbl_arr_2d, unknown_zero_flag=True))"
   ]
  },
  {
   "cell_type": "code",
   "execution_count": 19,
   "id": "e8092209-0abd-47b5-9b69-1de3d6fa56c1",
   "metadata": {},
   "outputs": [
    {
     "data": {
      "text/plain": [
       "<matplotlib.image.AxesImage at 0x7ff8b27129d0>"
      ]
     },
     "execution_count": 19,
     "metadata": {},
     "output_type": "execute_result"
    },
    {
     "data": {
      "image/png": "[encoded data removed]",
      "text/plain": [
       "<Figure size 432x288 with 1 Axes>"
      ]
     },
     "metadata": {
      "needs_background": "light"
     },
     "output_type": "display_data"
    }
   ],
   "source": [
    "# scipy\n",
    "# rotated_img_arr = image_processing_utils.rotate_image_scipy(angle=30, img=large_img_arr)\n",
    "# rotated_lbl_arr = image_processing_utils.rotate_image_scipy(angle=30, img=large_lbl_arr)\n",
    "# skimage\n",
    "rotated_img_arr = image_processing_utils.rotate_image_skimage(angle=30, img=large_img_arr)\n",
    "rotated_lbl_arr_2d = image_processing_utils.rotate_image_skimage(angle=30, img=large_lbl_arr_2d)\n",
    "plt.imshow(image_processing_utils.label_to_rgb(rotated_lbl_arr_2d, unknown_zero_flag=True))"
   ]
  },
  {
   "cell_type": "code",
   "execution_count": 18,
   "id": "a9fb9217-a714-4171-84c2-fcda759b785f",
   "metadata": {},
   "outputs": [
    {
     "data": {
      "text/plain": [
       "array([0, 1, 2, 3, 4, 5], dtype=uint8)"
      ]
     },
     "execution_count": 18,
     "metadata": {},
     "output_type": "execute_result"
    }
   ],
   "source": [
    "np.unique(rotated_lbl_arr_2d)"
   ]
  },
  {
   "cell_type": "code",
   "execution_count": 21,
   "id": "435fa8ab-5db5-4154-b692-412ff3a0a419",
   "metadata": {},
   "outputs": [],
   "source": [
    "# tmp_unknown_class=np.array([0,0,0])\n",
    "# unknown_mask_3d = mask_unknown_class(rotated_lbl_arr, unknown_class=tmp_unknown_class)\n",
    "# unknown_mask = mask_unknown_class(rotated_lbl_arr_2d, unknown_class=UNKNOWN_CLASS)"
   ]
  },
  {
   "cell_type": "code",
   "execution_count": 64,
   "id": "f461310f-0df0-4315-9f18-cff72e7f39f6",
   "metadata": {},
   "outputs": [],
   "source": [
    "tmp_0_idx, tmp_1_idx = make_small_images(rotated_lbl_arr_2d, image_size=512, do_overlap=False)"
   ]
  },
  {
   "cell_type": "code",
   "execution_count": 72,
   "id": "6b7eae41-b1e7-4bf0-ab65-10938a1ae683",
   "metadata": {},
   "outputs": [
    {
     "data": {
      "text/plain": [
       "<matplotlib.image.AxesImage at 0x7ff8ad5f3dd0>"
      ]
     },
     "execution_count": 72,
     "metadata": {},
     "output_type": "execute_result"
    },
    {
     "data": {
      "image/png": "[encoded data removed]",
      "text/plain": [
       "<Figure size 432x288 with 1 Axes>"
      ]
     },
     "metadata": {
      "needs_background": "light"
     },
     "output_type": "display_data"
    }
   ],
   "source": [
    "img_idx = 1\n",
    "small_label = rotated_lbl_arr_2d[tmp_0_idx[img_idx]:tmp_0_idx[img_idx]+512,\n",
    "                                 tmp_1_idx[img_idx]:tmp_1_idx[img_idx]+512]\n",
    "\n",
    "small_image = rotated_img_arr[tmp_0_idx[img_idx]:tmp_0_idx[img_idx]+512,\n",
    "                                 tmp_1_idx[img_idx]:tmp_1_idx[img_idx]+512]\n",
    "plt.imshow(small_image)"
   ]
  },
  {
   "cell_type": "code",
   "execution_count": 73,
   "id": "cbede1fb-cf31-48ee-9a80-1592be7c1878",
   "metadata": {},
   "outputs": [
    {
     "data": {
      "text/plain": [
       "<matplotlib.image.AxesImage at 0x7ff8ad6a98d0>"
      ]
     },
     "execution_count": 73,
     "metadata": {},
     "output_type": "execute_result"
    },
    {
     "data": {
      "image/png": "[encoded data removed]",
      "text/plain": [
       "<Figure size 432x288 with 1 Axes>"
      ]
     },
     "metadata": {
      "needs_background": "light"
     },
     "output_type": "display_data"
    }
   ],
   "source": [
    "plt.imshow(small_label)"
   ]
  },
  {
   "cell_type": "code",
   "execution_count": 74,
   "id": "c299e93c-ff31-4ea2-8d28-cddbe34e70a1",
   "metadata": {},
   "outputs": [
    {
     "data": {
      "text/plain": [
       "True"
      ]
     },
     "execution_count": 74,
     "metadata": {},
     "output_type": "execute_result"
    }
   ],
   "source": [
    "most_selected_class(image_matrix=small_label, select_class=0, threshold=0.9)"
   ]
  },
  {
   "cell_type": "markdown",
   "id": "27d0311c-7f2e-478b-99a5-481cc25a3358",
   "metadata": {},
   "source": [
    "# Calculating class information"
   ]
  },
  {
   "cell_type": "code",
   "execution_count": 1,
   "id": "4daa65cb-ad18-4453-9fd3-073f033b3c26",
   "metadata": {},
   "outputs": [],
   "source": [
    "import numpy as np\n",
    "import sys\n",
    "import os\n",
    "import glob\n",
    "import imageio\n",
    "import time\n",
    "sys.path.append(\"..\")\n",
    "from scipy import ndimage, signal\n",
    "from cv2 import medianBlur\n",
    "import pandas as pd\n",
    "\n",
    "from PIL import Image\n",
    "from costum_arild.source.utils import image_processing_utils"
   ]
  },
  {
   "cell_type": "code",
   "execution_count": 2,
   "id": "1a1c3114-a2e9-46b5-98ae-0b134d02d874",
   "metadata": {},
   "outputs": [],
   "source": [
    "def class_count_list_dataframe(class_count_list, unknown_zero):\n",
    "    class_df = pd.DataFrame(class_count_list, dtype='float32')\n",
    "\n",
    "    class_df.loc['class_sum'] = class_df.sum(axis=0)\n",
    "\n",
    "    if unknown_zero == True:\n",
    "        class_df = class_df.rename(columns={5: \"water\", 1: \"gravel\", 2: \"vegetation\", 3: \"farmland\", 4: \"human construction\", 0: \"unknown\"})\n",
    "    else:\n",
    "        class_df = class_df.rename(columns={0: \"water\", 1: \"gravel\", 2: \"vegetation\", 3: \"farmland\", 4: \"human construction\", 5: \"unknown\"})\n",
    "\n",
    "    class_df.loc['class_sum_percent'] = ((class_df.loc['class_sum'] / class_df.loc['class_sum'].sum()) * 100)\n",
    "    pd.set_option('display.float_format', lambda x: '%.2f' % x)\n",
    "    return class_df"
   ]
  },
  {
   "cell_type": "markdown",
   "id": "56554847-d3b4-4ed8-8e84-c9f9e0e85d06",
   "metadata": {},
   "source": [
    "### All images"
   ]
  },
  {
   "cell_type": "code",
   "execution_count": 25,
   "id": "6a33c2cd-44f8-414b-8ead-6d0e0d50c021",
   "metadata": {},
   "outputs": [],
   "source": [
    "all_lbl_path = '/home/saeid/phd/segmentation/dataset/new_dataset/Ex1_image_unknown0/complete_dataset/label'\n",
    "all_lbl_class_count = image_processing_utils.count_class_list_directory_2d(all_lbl_path)"
   ]
  },
  {
   "cell_type": "code",
   "execution_count": 39,
   "id": "636370fd-f37d-4767-8e1a-6fb05337b6bd",
   "metadata": {},
   "outputs": [
    {
     "data": {
      "text/html": [
       "<div>\n",
       "<style scoped>\n",
       "    .dataframe tbody tr th:only-of-type {\n",
       "        vertical-align: middle;\n",
       "    }\n",
       "\n",
       "    .dataframe tbody tr th {\n",
       "        vertical-align: top;\n",
       "    }\n",
       "\n",
       "    .dataframe thead th {\n",
       "        text-align: right;\n",
       "    }\n",
       "</style>\n",
       "<table border=\"1\" class=\"dataframe\">\n",
       "  <thead>\n",
       "    <tr style=\"text-align: right;\">\n",
       "      <th></th>\n",
       "      <th>unknown</th>\n",
       "      <th>gravel</th>\n",
       "      <th>vegetation</th>\n",
       "      <th>farmland</th>\n",
       "      <th>human construction</th>\n",
       "      <th>water</th>\n",
       "    </tr>\n",
       "  </thead>\n",
       "  <tbody>\n",
       "    <tr>\n",
       "      <th>0</th>\n",
       "      <td>0.00</td>\n",
       "      <td>57146.00</td>\n",
       "      <td>64831.00</td>\n",
       "      <td>0.00</td>\n",
       "      <td>8259.00</td>\n",
       "      <td>131908.00</td>\n",
       "    </tr>\n",
       "    <tr>\n",
       "      <th>1</th>\n",
       "      <td>91290.00</td>\n",
       "      <td>0.00</td>\n",
       "      <td>0.00</td>\n",
       "      <td>165405.00</td>\n",
       "      <td>5449.00</td>\n",
       "      <td>0.00</td>\n",
       "    </tr>\n",
       "    <tr>\n",
       "      <th>2</th>\n",
       "      <td>72293.00</td>\n",
       "      <td>0.00</td>\n",
       "      <td>189851.00</td>\n",
       "      <td>0.00</td>\n",
       "      <td>0.00</td>\n",
       "      <td>0.00</td>\n",
       "    </tr>\n",
       "    <tr>\n",
       "      <th>3</th>\n",
       "      <td>0.00</td>\n",
       "      <td>0.00</td>\n",
       "      <td>262144.00</td>\n",
       "      <td>0.00</td>\n",
       "      <td>0.00</td>\n",
       "      <td>0.00</td>\n",
       "    </tr>\n",
       "    <tr>\n",
       "      <th>4</th>\n",
       "      <td>0.00</td>\n",
       "      <td>0.00</td>\n",
       "      <td>262144.00</td>\n",
       "      <td>0.00</td>\n",
       "      <td>0.00</td>\n",
       "      <td>0.00</td>\n",
       "    </tr>\n",
       "    <tr>\n",
       "      <th>...</th>\n",
       "      <td>...</td>\n",
       "      <td>...</td>\n",
       "      <td>...</td>\n",
       "      <td>...</td>\n",
       "      <td>...</td>\n",
       "      <td>...</td>\n",
       "    </tr>\n",
       "    <tr>\n",
       "      <th>13358</th>\n",
       "      <td>0.00</td>\n",
       "      <td>37911.00</td>\n",
       "      <td>107079.00</td>\n",
       "      <td>0.00</td>\n",
       "      <td>0.00</td>\n",
       "      <td>117154.00</td>\n",
       "    </tr>\n",
       "    <tr>\n",
       "      <th>13359</th>\n",
       "      <td>0.00</td>\n",
       "      <td>454.00</td>\n",
       "      <td>126879.00</td>\n",
       "      <td>134811.00</td>\n",
       "      <td>0.00</td>\n",
       "      <td>0.00</td>\n",
       "    </tr>\n",
       "    <tr>\n",
       "      <th>13360</th>\n",
       "      <td>0.00</td>\n",
       "      <td>0.00</td>\n",
       "      <td>262144.00</td>\n",
       "      <td>0.00</td>\n",
       "      <td>0.00</td>\n",
       "      <td>0.00</td>\n",
       "    </tr>\n",
       "    <tr>\n",
       "      <th>class_sum</th>\n",
       "      <td>20838972.00</td>\n",
       "      <td>73477888.00</td>\n",
       "      <td>2178562560.00</td>\n",
       "      <td>922013056.00</td>\n",
       "      <td>144504192.00</td>\n",
       "      <td>163109392.00</td>\n",
       "    </tr>\n",
       "    <tr>\n",
       "      <th>class_sum_percent</th>\n",
       "      <td>0.59</td>\n",
       "      <td>2.10</td>\n",
       "      <td>62.20</td>\n",
       "      <td>26.32</td>\n",
       "      <td>4.13</td>\n",
       "      <td>4.66</td>\n",
       "    </tr>\n",
       "  </tbody>\n",
       "</table>\n",
       "<p>13363 rows × 6 columns</p>\n",
       "</div>"
      ],
      "text/plain": [
       "                      unknown      gravel    vegetation     farmland  \\\n",
       "0                        0.00    57146.00      64831.00         0.00   \n",
       "1                    91290.00        0.00          0.00    165405.00   \n",
       "2                    72293.00        0.00     189851.00         0.00   \n",
       "3                        0.00        0.00     262144.00         0.00   \n",
       "4                        0.00        0.00     262144.00         0.00   \n",
       "...                       ...         ...           ...          ...   \n",
       "13358                    0.00    37911.00     107079.00         0.00   \n",
       "13359                    0.00      454.00     126879.00    134811.00   \n",
       "13360                    0.00        0.00     262144.00         0.00   \n",
       "class_sum         20838972.00 73477888.00 2178562560.00 922013056.00   \n",
       "class_sum_percent        0.59        2.10         62.20        26.32   \n",
       "\n",
       "                   human construction        water  \n",
       "0                             8259.00    131908.00  \n",
       "1                             5449.00         0.00  \n",
       "2                                0.00         0.00  \n",
       "3                                0.00         0.00  \n",
       "4                                0.00         0.00  \n",
       "...                               ...          ...  \n",
       "13358                            0.00    117154.00  \n",
       "13359                            0.00         0.00  \n",
       "13360                            0.00         0.00  \n",
       "class_sum                144504192.00 163109392.00  \n",
       "class_sum_percent                4.13         4.66  \n",
       "\n",
       "[13363 rows x 6 columns]"
      ]
     },
     "execution_count": 39,
     "metadata": {},
     "output_type": "execute_result"
    }
   ],
   "source": [
    "unknown_zero = True\n",
    "all_class_df = class_count_list_dataframe(class_count_list=all_lbl_class_count, unknown_zero=unknown_zero)\n",
    "all_class_df#.loc['class_sum_percent'].to_frame()"
   ]
  },
  {
   "cell_type": "code",
   "execution_count": 27,
   "id": "ba30b2ea-0248-406a-afec-7b568401450f",
   "metadata": {},
   "outputs": [
    {
     "name": "stdout",
     "output_type": "stream",
     "text": [
      "all the images: (just vegetation images: 4919) | (rest of images:8442)\n"
     ]
    }
   ],
   "source": [
    "# all images that are just forst\n",
    "all_vegetation_only = (all_class_df['unknown'] == 0) & (all_class_df['gravel'] == 0) & (all_class_df['farmland'] == 0) & (all_class_df['human construction'] == 0) & (all_class_df['water'] == 0)\n",
    "print(f'all the images: (just vegetation images: {all_vegetation_only.sum()}) | (rest of images:{all_vegetation_only.shape[0]-2-all_vegetation_only.sum()})')"
   ]
  },
  {
   "cell_type": "markdown",
   "id": "d655a71d-8417-47f4-95b6-5c353e2279df",
   "metadata": {},
   "source": [
    "### Train images"
   ]
  },
  {
   "cell_type": "code",
   "execution_count": 36,
   "id": "4b58004e-9cc6-4045-9bdb-dab9cf9c6b29",
   "metadata": {},
   "outputs": [
    {
     "data": {
      "text/html": [
       "<div>\n",
       "<style scoped>\n",
       "    .dataframe tbody tr th:only-of-type {\n",
       "        vertical-align: middle;\n",
       "    }\n",
       "\n",
       "    .dataframe tbody tr th {\n",
       "        vertical-align: top;\n",
       "    }\n",
       "\n",
       "    .dataframe thead th {\n",
       "        text-align: right;\n",
       "    }\n",
       "</style>\n",
       "<table border=\"1\" class=\"dataframe\">\n",
       "  <thead>\n",
       "    <tr style=\"text-align: right;\">\n",
       "      <th></th>\n",
       "      <th>class_sum_percent</th>\n",
       "    </tr>\n",
       "  </thead>\n",
       "  <tbody>\n",
       "    <tr>\n",
       "      <th>unknown</th>\n",
       "      <td>0.60</td>\n",
       "    </tr>\n",
       "    <tr>\n",
       "      <th>gravel</th>\n",
       "      <td>2.13</td>\n",
       "    </tr>\n",
       "    <tr>\n",
       "      <th>vegetation</th>\n",
       "      <td>62.53</td>\n",
       "    </tr>\n",
       "    <tr>\n",
       "      <th>farmland</th>\n",
       "      <td>26.12</td>\n",
       "    </tr>\n",
       "    <tr>\n",
       "      <th>human construction</th>\n",
       "      <td>4.09</td>\n",
       "    </tr>\n",
       "    <tr>\n",
       "      <th>water</th>\n",
       "      <td>4.52</td>\n",
       "    </tr>\n",
       "  </tbody>\n",
       "</table>\n",
       "</div>"
      ],
      "text/plain": [
       "                    class_sum_percent\n",
       "unknown                          0.60\n",
       "gravel                           2.13\n",
       "vegetation                      62.53\n",
       "farmland                        26.12\n",
       "human construction               4.09\n",
       "water                            4.52"
      ]
     },
     "execution_count": 36,
     "metadata": {},
     "output_type": "execute_result"
    }
   ],
   "source": [
    "train_lbl_path = '/home/saeid/phd/segmentation/dataset/new_dataset/Ex1_image_unknown0/train/label/img'\n",
    "train_lbl_class_count = image_processing_utils.count_class_list_directory_2d(train_lbl_path)\n",
    "train_class_df = class_count_list_dataframe(class_count_list=train_lbl_class_count, unknown_zero=unknown_zero)\n",
    "train_class_df.loc['class_sum_percent'].to_frame()"
   ]
  },
  {
   "cell_type": "code",
   "execution_count": 24,
   "id": "41032014-ef0f-42ae-87bd-094ac34eca6a",
   "metadata": {},
   "outputs": [
    {
     "name": "stdout",
     "output_type": "stream",
     "text": [
      "Train the images: (just vegetation images: 3482) | (rest of images:5871)\n"
     ]
    }
   ],
   "source": [
    "# train images that are just forst\n",
    "train_vegetation_only = (train_class_df['unknown'] == 0) & (train_class_df['gravel'] == 0) & (train_class_df['farmland'] == 0) & (train_class_df['human construction'] == 0) & (train_class_df['water'] == 0)\n",
    "print(f'Train the images: (just vegetation images: {train_vegetation_only.sum()}) | (rest of images:{train_vegetation_only.shape[0]-2-train_vegetation_only.sum()})')"
   ]
  },
  {
   "cell_type": "markdown",
   "id": "26f43f55-b722-4205-b67c-e78e7d8818b1",
   "metadata": {},
   "source": [
    "### Val images"
   ]
  },
  {
   "cell_type": "code",
   "execution_count": 38,
   "id": "3fe29443-4aea-446e-93fd-e7e0a586b8d1",
   "metadata": {},
   "outputs": [
    {
     "data": {
      "text/html": [
       "<div>\n",
       "<style scoped>\n",
       "    .dataframe tbody tr th:only-of-type {\n",
       "        vertical-align: middle;\n",
       "    }\n",
       "\n",
       "    .dataframe tbody tr th {\n",
       "        vertical-align: top;\n",
       "    }\n",
       "\n",
       "    .dataframe thead th {\n",
       "        text-align: right;\n",
       "    }\n",
       "</style>\n",
       "<table border=\"1\" class=\"dataframe\">\n",
       "  <thead>\n",
       "    <tr style=\"text-align: right;\">\n",
       "      <th></th>\n",
       "      <th>unknown</th>\n",
       "      <th>gravel</th>\n",
       "      <th>vegetation</th>\n",
       "      <th>farmland</th>\n",
       "      <th>human construction</th>\n",
       "      <th>water</th>\n",
       "    </tr>\n",
       "  </thead>\n",
       "  <tbody>\n",
       "    <tr>\n",
       "      <th>0</th>\n",
       "      <td>0.00</td>\n",
       "      <td>0.00</td>\n",
       "      <td>181377.00</td>\n",
       "      <td>66490.00</td>\n",
       "      <td>14277.00</td>\n",
       "      <td>0.00</td>\n",
       "    </tr>\n",
       "    <tr>\n",
       "      <th>1</th>\n",
       "      <td>0.00</td>\n",
       "      <td>0.00</td>\n",
       "      <td>0.00</td>\n",
       "      <td>259740.00</td>\n",
       "      <td>2404.00</td>\n",
       "      <td>0.00</td>\n",
       "    </tr>\n",
       "    <tr>\n",
       "      <th>2</th>\n",
       "      <td>0.00</td>\n",
       "      <td>0.00</td>\n",
       "      <td>115152.00</td>\n",
       "      <td>19742.00</td>\n",
       "      <td>127250.00</td>\n",
       "      <td>0.00</td>\n",
       "    </tr>\n",
       "    <tr>\n",
       "      <th>3</th>\n",
       "      <td>0.00</td>\n",
       "      <td>0.00</td>\n",
       "      <td>259177.00</td>\n",
       "      <td>2967.00</td>\n",
       "      <td>0.00</td>\n",
       "      <td>0.00</td>\n",
       "    </tr>\n",
       "    <tr>\n",
       "      <th>4</th>\n",
       "      <td>0.00</td>\n",
       "      <td>0.00</td>\n",
       "      <td>262144.00</td>\n",
       "      <td>0.00</td>\n",
       "      <td>0.00</td>\n",
       "      <td>0.00</td>\n",
       "    </tr>\n",
       "    <tr>\n",
       "      <th>...</th>\n",
       "      <td>...</td>\n",
       "      <td>...</td>\n",
       "      <td>...</td>\n",
       "      <td>...</td>\n",
       "      <td>...</td>\n",
       "      <td>...</td>\n",
       "    </tr>\n",
       "    <tr>\n",
       "      <th>2669</th>\n",
       "      <td>0.00</td>\n",
       "      <td>0.00</td>\n",
       "      <td>61981.00</td>\n",
       "      <td>200163.00</td>\n",
       "      <td>0.00</td>\n",
       "      <td>0.00</td>\n",
       "    </tr>\n",
       "    <tr>\n",
       "      <th>2670</th>\n",
       "      <td>0.00</td>\n",
       "      <td>0.00</td>\n",
       "      <td>262144.00</td>\n",
       "      <td>0.00</td>\n",
       "      <td>0.00</td>\n",
       "      <td>0.00</td>\n",
       "    </tr>\n",
       "    <tr>\n",
       "      <th>2671</th>\n",
       "      <td>0.00</td>\n",
       "      <td>0.00</td>\n",
       "      <td>262144.00</td>\n",
       "      <td>0.00</td>\n",
       "      <td>0.00</td>\n",
       "      <td>0.00</td>\n",
       "    </tr>\n",
       "    <tr>\n",
       "      <th>class_sum</th>\n",
       "      <td>4433145.00</td>\n",
       "      <td>14231834.00</td>\n",
       "      <td>425890752.00</td>\n",
       "      <td>191943200.00</td>\n",
       "      <td>29635136.00</td>\n",
       "      <td>34314692.00</td>\n",
       "    </tr>\n",
       "    <tr>\n",
       "      <th>class_sum_percent</th>\n",
       "      <td>0.63</td>\n",
       "      <td>2.03</td>\n",
       "      <td>60.80</td>\n",
       "      <td>27.40</td>\n",
       "      <td>4.23</td>\n",
       "      <td>4.90</td>\n",
       "    </tr>\n",
       "  </tbody>\n",
       "</table>\n",
       "<p>2674 rows × 6 columns</p>\n",
       "</div>"
      ],
      "text/plain": [
       "                     unknown      gravel   vegetation     farmland  \\\n",
       "0                       0.00        0.00    181377.00     66490.00   \n",
       "1                       0.00        0.00         0.00    259740.00   \n",
       "2                       0.00        0.00    115152.00     19742.00   \n",
       "3                       0.00        0.00    259177.00      2967.00   \n",
       "4                       0.00        0.00    262144.00         0.00   \n",
       "...                      ...         ...          ...          ...   \n",
       "2669                    0.00        0.00     61981.00    200163.00   \n",
       "2670                    0.00        0.00    262144.00         0.00   \n",
       "2671                    0.00        0.00    262144.00         0.00   \n",
       "class_sum         4433145.00 14231834.00 425890752.00 191943200.00   \n",
       "class_sum_percent       0.63        2.03        60.80        27.40   \n",
       "\n",
       "                   human construction       water  \n",
       "0                            14277.00        0.00  \n",
       "1                             2404.00        0.00  \n",
       "2                           127250.00        0.00  \n",
       "3                                0.00        0.00  \n",
       "4                                0.00        0.00  \n",
       "...                               ...         ...  \n",
       "2669                             0.00        0.00  \n",
       "2670                             0.00        0.00  \n",
       "2671                             0.00        0.00  \n",
       "class_sum                 29635136.00 34314692.00  \n",
       "class_sum_percent                4.23        4.90  \n",
       "\n",
       "[2674 rows x 6 columns]"
      ]
     },
     "execution_count": 38,
     "metadata": {},
     "output_type": "execute_result"
    }
   ],
   "source": [
    "val_lbl_path = '/home/saeid/phd/segmentation/dataset/new_dataset/Ex1_image_unknown0/val/label/img'\n",
    "val_lbl_class_count = image_processing_utils.count_class_list_directory_2d(val_lbl_path)\n",
    "val_class_df = class_count_list_dataframe(class_count_list=val_lbl_class_count, unknown_zero=unknown_zero)\n",
    "val_class_df"
   ]
  },
  {
   "cell_type": "code",
   "execution_count": 23,
   "id": "fa95b25d-54d1-44ff-aa00-0fe24ee369ff",
   "metadata": {},
   "outputs": [
    {
     "name": "stdout",
     "output_type": "stream",
     "text": [
      "val the images: (just vegetation images: 952) | (rest of images:1720)\n"
     ]
    }
   ],
   "source": [
    "# all images that are just forst\n",
    "val_vegetation_only = (val_class_df['unknown'] == 0) & (val_class_df['gravel'] == 0) & (val_class_df['farmland'] == 0) & (val_class_df['human construction'] == 0) & (val_class_df['water'] == 0)\n",
    "print(f'val the images: (just vegetation images: {val_vegetation_only.sum()}) | (rest of images:{val_vegetation_only.shape[0]-2-val_vegetation_only.sum()})')"
   ]
  },
  {
   "cell_type": "code",
   "execution_count": null,
   "id": "97bc7340-a80b-442c-93b7-ccc129fff0a7",
   "metadata": {},
   "outputs": [],
   "source": []
  }
 ],
 "metadata": {
  "kernelspec": {
   "display_name": "Python 3 (ipykernel)",
   "language": "python",
   "name": "python3"
  },
  "language_info": {
   "codemirror_mode": {
    "name": "ipython",
    "version": 3
   },
   "file_extension": ".py",
   "mimetype": "text/x-python",
   "name": "python",
   "nbconvert_exporter": "python",
   "pygments_lexer": "ipython3",
   "version": "3.7.7"
  }
 },
 "nbformat": 4,
 "nbformat_minor": 5
}
