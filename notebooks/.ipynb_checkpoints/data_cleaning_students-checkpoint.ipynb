{
 "cells": [
  {
   "cell_type": "markdown",
   "id": "6dc2e38b-c181-4b10-95da-d0b7574659d6",
   "metadata": {
    "tags": []
   },
   "source": [
    "# Fixing the label of students"
   ]
  },
  {
   "cell_type": "code",
   "execution_count": 1,
   "id": "ffd32a55-031f-4ccc-816c-d576cca4e8ec",
   "metadata": {},
   "outputs": [],
   "source": [
    "%load_ext autoreload"
   ]
  },
  {
   "cell_type": "code",
   "execution_count": 2,
   "id": "2439ee62-2616-4248-9485-938c57553126",
   "metadata": {},
   "outputs": [
    {
     "name": "stderr",
     "output_type": "stream",
     "text": [
      "2023-05-28 16:11:19.290638: I tensorflow/stream_executor/platform/default/dso_loader.cc:49] Successfully opened dynamic library libcudart.so.10.1\n"
     ]
    },
    {
     "name": "stdout",
     "output_type": "stream",
     "text": [
      "Segmentation Models: using `tf.keras` framework.\n"
     ]
    }
   ],
   "source": [
    "%autoreload\n",
    "import numpy as np\n",
    "import sys\n",
    "import os\n",
    "import glob\n",
    "import imageio\n",
    "import time\n",
    "import matplotlib.pyplot as plt\n",
    "import shutil\n",
    "\n",
    "from scipy import ndimage, signal\n",
    "from cv2 import medianBlur\n",
    "\n",
    "\n",
    "sys.path.append(\"..\")\n",
    "sys.path.append('/home/saeid/phd/segmentation/costum_arild/source')\n",
    "\n",
    "from PIL import Image\n",
    "from costum_arild.source.utils import image_processing_utils, gdal_utils, model_utils\n",
    "from costum_arild.source.data_processing import TrainingImage"
   ]
  },
  {
   "cell_type": "markdown",
   "id": "84347547-d428-477e-a2ec-edcb18d42ec9",
   "metadata": {
    "heading_collapsed": "true",
    "tags": []
   },
   "source": [
    "## first we need to fix the png to be nearest color"
   ]
  },
  {
   "cell_type": "code",
   "execution_count": 46,
   "id": "4a714ce5-3a64-4a8d-963c-1841c8f4a7de",
   "metadata": {},
   "outputs": [],
   "source": [
    "# list of valid colors\n",
    "color_matrix = np.array([[0,0,255], [255,255,0], [0,128,0], [128,128,0], [128,0,128], [0,0,0]], dtype=np.uint8)\n",
    "color_matrix_float = color_matrix / 255\n",
    "\n",
    "# list of all images\n",
    "src_image_path = '/media/saeid/LaCie/Saeid/segmentation/dataset/neurips dataset/After_revision/not_ready_yet/augmenting_testset_hair/surna_1963/label_png'\n",
    "dest_folder_path = '/media/saeid/LaCie/Saeid/segmentation/dataset/neurips dataset/After_revision/not_ready_yet/augmenting_testset_hair/surna_1963/label_png/new'"
   ]
  },
  {
   "cell_type": "code",
   "execution_count": 47,
   "id": "f49d0ff1-ebea-4a95-9c3f-5905cfbd9012",
   "metadata": {},
   "outputs": [
    {
     "name": "stdout",
     "output_type": "stream",
     "text": [
      "working on image 33-2-451-208-21_lbl.png\n",
      "the time takes 26.312025547027588\n"
     ]
    }
   ],
   "source": [
    "os.makedirs(dest_folder_path, exist_ok=True)\n",
    "for image_path in glob.glob(os.path.join(src_image_path, '*.png')):\n",
    "    start = time.time()\n",
    "    print(f'working on image {os.path.split(image_path)[-1]}')\n",
    "    \n",
    "    dest_path = os.path.join(dest_folder_path, os.path.split(image_path)[-1])\n",
    "    # read image\n",
    "    original_image_matrix = imageio.imread(image_path)\n",
    "    if original_image_matrix.shape[-1] > 3:\n",
    "        print('image has more than 3 channels, only first 3 channels are used')\n",
    "        original_image_matrix = original_image_matrix[:,:,:3]\n",
    "    original_image_matrix = original_image_matrix / 255\n",
    "    \n",
    "    # modify it and replace the colors\n",
    "    replaced_image_matrix = image_processing_utils.color_nearest_neighbors(img_matrix=original_image_matrix, clr_matrix=color_matrix_float)\n",
    "    replaced_image_matrix = replaced_image_matrix * 255\n",
    "    \n",
    "    # convert image into 2d\n",
    "    replaced_image_onehot = image_processing_utils.one_hot_encode(replaced_image_matrix.astype(np.uint8), color_matrix)\n",
    "    replaced_image_2d = image_processing_utils.one_hot_decode(replaced_image_onehot)\n",
    "    \n",
    "    # perform median filter\n",
    "    size_val = 7\n",
    "    replaced_image_2d_median = image_processing_utils.median_filter(image=replaced_image_2d, kernel_size=size_val)\n",
    "    \n",
    "    # convert back\n",
    "    replaced_image_cleaned = image_processing_utils.label_to_rgb(replaced_image_2d_median)\n",
    "        \n",
    "    # save to file\n",
    "    replaced_image_png = Image.fromarray(replaced_image_cleaned.astype(np.uint8))\n",
    "    replaced_image_png.save(dest_path)\n",
    "    \n",
    "    end = time.time()\n",
    "    print(f'the time takes {end - start}')"
   ]
  },
  {
   "cell_type": "markdown",
   "id": "5b9e3041-a7d4-492e-afdd-6627f25b0153",
   "metadata": {
    "heading_collapsed": "true",
    "tags": []
   },
   "source": [
    "## 3d to 2d, rgb to label"
   ]
  },
  {
   "cell_type": "code",
   "execution_count": 48,
   "id": "8e4d3422-90f0-4d6a-9eb6-efbb911c933d",
   "metadata": {},
   "outputs": [],
   "source": [
    "# list of valid colors\n",
    "color_matrix = np.array([[0,0,255], [255,255,0], [0,128,0], [128,128,0], [128,0,128], [0,0,0]], dtype=np.uint8)\n",
    "color_matrix_float = color_matrix / 255\n",
    "\n",
    "# list of all images\n",
    "# src_image_path = '/media/saeid/LaCie/Saeid/segmentation/dataset/neurips dataset/After_revision/not_ready_yet/augmenting_testset_hair/gaula_1947/label_png_3d'\n",
    "# dest_folder_path = '/media/saeid/LaCie/Saeid/segmentation/dataset/neurips dataset/After_revision/not_ready_yet/augmenting_testset_hair/gaula_1947/label_png_2d'\n",
    "\n",
    "# src_image_path = '/media/saeid/LaCie/Saeid/segmentation/dataset/neurips dataset/After_revision/not_ready_yet/augmenting_testset_hair/gaula_1998/label_png_3d'\n",
    "# dest_folder_path = '/media/saeid/LaCie/Saeid/segmentation/dataset/neurips dataset/After_revision/not_ready_yet/augmenting_testset_hair/gaula_1998/label_png_2d'\n",
    "\n",
    "src_image_path = '/media/saeid/LaCie/Saeid/segmentation/dataset/neurips dataset/After_revision/not_ready_yet/augmenting_testset_hair/surna_1963/label'\n",
    "dest_folder_path = '/media/saeid/LaCie/Saeid/segmentation/dataset/neurips dataset/After_revision/not_ready_yet/augmenting_testset_hair/surna_1963/label_png'"
   ]
  },
  {
   "cell_type": "code",
   "execution_count": 49,
   "id": "442114ce-3d66-4e1e-9b4e-94fc0e712963",
   "metadata": {},
   "outputs": [
    {
     "name": "stdout",
     "output_type": "stream",
     "text": [
      "working on image 33-2-451-208-21_lbl.png\n",
      "the time takes 28.8097882270813\n"
     ]
    }
   ],
   "source": [
    "os.makedirs(dest_folder_path, exist_ok=True)\n",
    "for image_path in glob.glob(os.path.join(src_image_path, '*.png')):\n",
    "    start = time.time()\n",
    "    print(f'working on image {os.path.split(image_path)[-1]}')\n",
    "    \n",
    "    dest_path = os.path.join(dest_folder_path, os.path.split(image_path)[-1])\n",
    "    # read image\n",
    "    original_image_matrix = imageio.imread(image_path)\n",
    "    if original_image_matrix.shape[-1] > 3:\n",
    "        print('image has more than 3 channels, only first 3 channels are used')\n",
    "        original_image_matrix = original_image_matrix[:,:,:3]\n",
    "    original_image_matrix = original_image_matrix / 255\n",
    "    \n",
    "    # modify it and replace the colors\n",
    "    replaced_image_matrix = image_processing_utils.color_nearest_neighbors(img_matrix=original_image_matrix, clr_matrix=color_matrix_float)\n",
    "    replaced_image_matrix = replaced_image_matrix * 255\n",
    "    \n",
    "    # convert image into 2d\n",
    "    replaced_image_onehot = image_processing_utils.one_hot_encode(replaced_image_matrix.astype(np.uint8), color_matrix)\n",
    "    replaced_image_2d = image_processing_utils.one_hot_decode(replaced_image_onehot)\n",
    "    \n",
    "    # perform median filter\n",
    "    size_val = 7\n",
    "    replaced_image_2d_median = image_processing_utils.median_filter(image=replaced_image_2d, kernel_size=size_val)\n",
    "    \n",
    "    # convert back\n",
    "    replaced_image_cleaned = image_processing_utils.label_to_rgb(replaced_image_2d_median)\n",
    "    \n",
    "    # change rgb to 2d_class labels\n",
    "    replaced_image_cleaned = image_processing_utils.replace_rgb_to_class(replaced_image_cleaned, \n",
    "                                                                   unknown_zero_flag=True)\n",
    "    # save to file\n",
    "    replaced_image_png = Image.fromarray(replaced_image_cleaned.astype(np.uint8))\n",
    "    replaced_image_png.save(dest_path)\n",
    "    \n",
    "    end = time.time()\n",
    "    print(f'the time takes {end - start}')"
   ]
  },
  {
   "cell_type": "markdown",
   "id": "0c09424b-4b80-4cca-9fdc-b97b5622e56b",
   "metadata": {
    "heading_collapsed": "true",
    "tags": []
   },
   "source": [
    "## 2d label to 3d, add color to the label (both png and tif)"
   ]
  },
  {
   "cell_type": "code",
   "execution_count": 43,
   "id": "42848502-5bd3-40ca-8b39-2264074284bb",
   "metadata": {},
   "outputs": [
    {
     "name": "stdout",
     "output_type": "stream",
     "text": [
      "0\n"
     ]
    }
   ],
   "source": [
    "# read labels and save them as colored 3d png file\n",
    "# for images use utils/geotiff_to_png.py\n",
    "\n",
    "file_type = 'png'\n",
    "is_label = True\n",
    "\n",
    "src_lbl_path = '/media/saeid/LaCie/Saeid/segmentation/dataset/neurips dataset/After_revision/not_ready_yet/augmenting_testset_hair/surna_1963/label'\n",
    "dst_lbl_path = '/media/saeid/LaCie/Saeid/segmentation/dataset/neurips dataset/After_revision/not_ready_yet/augmenting_testset_hair/surna_1963/'\n",
    "os.makedirs(dst_lbl_path, exist_ok=True)\n",
    "\n",
    "label_list = glob.glob(os.path.join(src_lbl_path, f'*.{file_type}'))\n",
    "\n",
    "for idx, label_path in enumerate(label_list):\n",
    "    label_name = os.path.split(label_path)[-1]\n",
    "    \n",
    "    # read png or tif\n",
    "    if file_type == 'tif':\n",
    "        lbl_arr = gdal_utils.read_tiff_file(large_image_path=label_path, \n",
    "                                            normalize=False, \n",
    "                                            zeropadsize=None, \n",
    "                                            numpy_array_only=True, \n",
    "                                            grayscale_only=False)\n",
    "        lbl_arr = np.squeeze(lbl_arr)\n",
    "        \n",
    "    elif file_type == 'png':\n",
    "        lbl_arr = image_processing_utils.read_png_file(label_path)\n",
    "\n",
    "    if is_label:\n",
    "        lbl_arr = image_processing_utils.label_to_rgb(label_2d=lbl_arr, \n",
    "                                                  unknown_zero_flag=True, \n",
    "                                                  most_distant=False)\n",
    "    image_processing_utils.save_to_png(\n",
    "        img_array=lbl_arr,\n",
    "        img_path=os.path.join(\n",
    "            dst_lbl_path, label_name),\n",
    "    )\n",
    "    if idx%1 == 0:\n",
    "        print(idx)"
   ]
  },
  {
   "cell_type": "markdown",
   "id": "13cd1da1-4238-4963-8567-4e533ba14e0e",
   "metadata": {
    "tags": []
   },
   "source": [
    "## Add GEO information, png to tif"
   ]
  },
  {
   "cell_type": "markdown",
   "id": "38a6b778-4941-4607-874b-a15296945f0d",
   "metadata": {},
   "source": [
    "Reads the png file and adds the tif file geo information to it, then saves the filae as a tif file."
   ]
  },
  {
   "cell_type": "code",
   "execution_count": 9,
   "id": "1794e52f-5519-4327-b026-b00ae5c1a0d7",
   "metadata": {},
   "outputs": [
    {
     "name": "stdout",
     "output_type": "stream",
     "text": [
      "33-2-466-205-02.tif not in there\n",
      "33-2-463-211-02.tif not in there\n",
      "33-2-462-211-30.tif not in there\n",
      "33-2-462-210-33.tif not in there\n",
      "33-2-463-211-01.tif not in there\n",
      "33-2-463-212-00.tif not in there\n",
      "33-2-462-207-23.tif not in there\n",
      "33-2-462-211-33.tif not in there\n",
      "33-2-462-212-33.tif not in there\n",
      "33-2-462-209-13.tif not in there\n",
      "33-2-463-207-11.tif not in there\n",
      "33-2-463-207-02.tif not in there\n",
      "33-2-462-207-32.tif not in there\n",
      "33-2-463-207-03.tif not in there\n",
      "33-2-462-208-20.tif not in there\n",
      "33-2-464-207-00.tif not in there\n",
      "33-2-463-207-31.tif not in there\n",
      "33-2-462-209-20.tif not in there\n",
      "33-2-462-210-22.tif not in there\n",
      "33-2-462-212-32.tif not in there\n",
      "33-2-462-209-21.tif not in there\n",
      "33-2-463-208-00.tif not in there\n",
      "33-2-462-209-10.tif not in there\n",
      "33-2-464-206-23.tif not in there\n",
      "33-2-463-211-03.tif not in there\n",
      "33-2-464-206-13.tif not in there\n",
      "33-2-462-210-32.tif not in there\n",
      "33-2-464-206-30.tif not in there\n",
      "33-2-464-206-32.tif not in there\n",
      "33-2-463-211-00.tif not in there\n",
      "33-2-462-208-31.tif not in there\n",
      "33-2-464-207-01.tif not in there\n",
      "33-2-462-210-21.tif not in there\n",
      "33-2-462-209-23.tif not in there\n",
      "33-2-465-205-03.tif not in there\n",
      "33-2-462-208-23.tif not in there\n",
      "33-2-463-207-32.tif not in there\n",
      "33-2-464-206-31.tif not in there\n",
      "33-2-462-209-12.tif not in there\n",
      "33-2-463-207-22.tif not in there\n",
      "33-2-465-206-00.tif not in there\n",
      "33-2-462-210-20.tif not in there\n",
      "33-2-462-212-30.tif not in there\n",
      "33-2-465-205-22.tif not in there\n",
      "33-2-462-209-30.tif not in there\n",
      "33-2-462-208-30.tif not in there\n",
      "33-2-465-205-13.tif not in there\n",
      "33-2-462-212-31.tif not in there\n",
      "33-2-463-212-01.tif not in there\n",
      "33-2-462-208-32.tif not in there\n",
      "33-2-465-205-12.tif not in there\n",
      "33-2-462-209-11.tif not in there\n",
      "33-2-463-207-21.tif not in there\n",
      "33-2-462-210-10.tif not in there\n",
      "33-2-464-206-03.tif not in there\n",
      "33-2-462-209-22.tif not in there\n",
      "33-2-464-206-22.tif not in there\n"
     ]
    }
   ],
   "source": [
    "# src_label_base_png_path = '/media/saeid/LaCie/Saeid/segmentation/dataset/neurips dataset/After_revision/not_ready_yet/augmenting_testset_hair/gaula_1947/label_png_2d'\n",
    "# src_label_base_tif_path = '/media/saeid/LaCie/Saeid/segmentation/dataset/neurips dataset/After_revision/not_ready_yet/augmenting_testset_hair/gaula_1947/image_tif'\n",
    "# dest_save_path = fr'/media/saeid/LaCie/Saeid/segmentation/dataset/neurips dataset/After_revision/not_ready_yet/augmenting_testset_hair/gaula_1947/label_tif'\n",
    "\n",
    "src_label_base_png_path = '/media/saeid/LaCie/Saeid/segmentation/dataset/neurips dataset/After_revision/ml_final_version/full_images/png/gaula_1963/image'\n",
    "# src_label_base_tif_path = '/home/saeid/phd/segmentation/dataset/neurips dataset/dataset_division/train_set/gaula_1963/tif/image'\n",
    "src_label_base_tif_path = '/home/saeid/phd/segmentation/dataset/new_rivers/predictions/gaula_1963/tif/image'\n",
    "# src_label_base_tif_path = '/home/saeid/phd/segmentation/dataset/test_dataset/gaula_1963_test_set/gaula_1963_plane_photos_not_annotated'\n",
    "dest_save_path = fr'/media/saeid/LaCie/Saeid/segmentation/dataset/neurips dataset/After_revision/ml_final_version/full_images/tif/gaula_1963/image'\n",
    "\n",
    "# src_label_base_png_path = '/media/saeid/LaCie/Saeid/segmentation/dataset/neurips dataset/After_revision/not_ready_yet/augmenting_testset_hair/laerdal_1976/label_png_2d'\n",
    "# src_label_base_tif_path = '/media/saeid/LaCie/Saeid/segmentation/dataset/neurips dataset/After_revision/not_ready_yet/augmenting_testset_hair/laerdal_1976/image_tif'\n",
    "# dest_save_path = fr'/media/saeid/LaCie/Saeid/segmentation/dataset/neurips dataset/After_revision/not_ready_yet/augmenting_testset_hair/laerdal_1976/label_tif'\n",
    "\n",
    "tif_paths = glob.glob(os.path.join(src_label_base_tif_path, '*.tif'))\n",
    "png_paths = glob.glob(os.path.join(src_label_base_png_path, '*.png'))\n",
    "\n",
    "os.makedirs(dest_save_path, exist_ok=True)  \n",
    "\n",
    "info_list = []\n",
    "for png_path in png_paths:\n",
    "    png_name = os.path.split(png_path)[-1]\n",
    "    tif_name = f'{png_name}'.replace('.png','.tif')\n",
    "#     if river_name == 'surna_1963' or river_name == 'nea_1962' or river_name == 'gaula_1963_test':\n",
    "#         tif_name = f'{png_name}'.replace('.png','.tif')\n",
    "#     else:\n",
    "#         tif_name = f'label{png_name}'.replace('.png','.tif')\n",
    "\n",
    "    tif_path = os.path.join(src_label_base_tif_path, tif_name)\n",
    "    if tif_path in tif_paths:\n",
    "#         print(f'\\nsaveing {png_name}')\n",
    "        # read the tif file to store the projection data\n",
    "        _, geo_transform, projection = gdal_utils.read_tiff_file(tif_path)\n",
    "        # read png file to use as array for tif\n",
    "        png_array = image_processing_utils.read_png_file(os.path.join(src_label_base_png_path, png_name))\n",
    "        \n",
    "#         print(png_array.shape)\n",
    "\n",
    "        # convert image into 2d if it is 3d (rgb)\n",
    "#         if png_array.ndim > 2:\n",
    "#             png_array = image_processing_utils.replace_rgb_to_class(png_array, \n",
    "#                                                                    unknown_zero_flag=True)\n",
    "\n",
    "        info_dict = {'name':png_name, 'geo_transform':geo_transform, 'projection':projection}\n",
    "        info_list.append(info_dict)\n",
    "\n",
    "        tif_object = TrainingImage(data=None, labels=png_array, geo_transform=geo_transform, \n",
    "                                   projection=projection)\n",
    "#         print(f'{png_name} saved\\n')\n",
    "        tif_object.write_labels_to_raster(os.path.join(dest_save_path, png_name.replace('png','tif')))\n",
    "    else:\n",
    "        print(f'{tif_name} not in there')"
   ]
  },
  {
   "cell_type": "markdown",
   "id": "80d4b7ac-3515-43e9-b3ca-9cf9a4ea2167",
   "metadata": {},
   "source": [
    "33-2-463-207-10.tif not in there\n",
    "33-2-463-212-02.tif not in there\n",
    "33-2-464-206-11.tif not in there\n",
    "33-2-464-206-21.tif not in there\n",
    "33-2-466-205-02.tif not in there\n",
    "33-2-462-207-23.tif not in there\n",
    "33-2-462-209-13.tif not in there\n",
    "33-2-462-207-32.tif not in there\n",
    "33-2-462-208-20.tif not in there\n",
    "33-2-463-208-00.tif not in there\n",
    "33-2-462-209-10.tif not in there\n",
    "33-2-463-211-03.tif not in there\n",
    "33-2-464-207-01.tif not in there\n",
    "33-2-462-209-23.tif not in there\n",
    "33-2-463-207-32.tif not in there\n",
    "33-2-463-207-22.tif not in there\n",
    "33-2-465-206-00.tif not in there\n",
    "33-2-462-210-20.tif not in there\n",
    "33-2-465-205-22.tif not in there\n",
    "33-2-462-212-31.tif not in there\n",
    "33-2-464-206-03.tif not in there\n",
    "33-2-462-209-22.tif not in there\n",
    "33-2-464-206-22.tif not in there"
   ]
  },
  {
   "cell_type": "markdown",
   "id": "b654e0bd-d549-43bc-9639-64acd902e2d6",
   "metadata": {
    "heading_collapsed": "true",
    "tags": []
   },
   "source": [
    "# Fixing pairs of label and images"
   ]
  },
  {
   "cell_type": "markdown",
   "id": "03c67f01-3f32-49f4-a8d8-078c2b4417bd",
   "metadata": {},
   "source": [
    "delete the unpaired images"
   ]
  },
  {
   "cell_type": "markdown",
   "id": "96aee4c6-83d6-431a-be6a-b93d1c1dddb5",
   "metadata": {},
   "source": [
    "remove things in dst that are not in src"
   ]
  },
  {
   "cell_type": "code",
   "execution_count": 47,
   "id": "45f1be57-3aa9-4261-a275-86fdecbfc663",
   "metadata": {},
   "outputs": [
    {
     "name": "stdout",
     "output_type": "stream",
     "text": [
      "working on river gaula_1947\n",
      "working on river gaula_1998\n",
      "working on river nea_1962\n",
      "working on river gaula_1963\n",
      "working on river laerdal_1978\n",
      "working on river orkla_1962\n",
      "working on river surna_1963\n"
     ]
    }
   ],
   "source": [
    "# remove things in dst that are not in src\n",
    "data_types = {'png'}\n",
    "river_names = {'gaula_1947','gaula_1963', 'gaula_1998', 'laerdal_1978', 'nea_1962', 'orkla_1962', 'surna_1963'}\n",
    "\n",
    "for data_type in data_types:\n",
    "    for river_name in river_names:\n",
    "        \n",
    "        print(f'working on river {river_name}')\n",
    "        \n",
    "        # original operation\n",
    "        \n",
    "        src_path = f'/media/saeid/LaCie/Saeid/segmentation/dataset/neurips dataset/After_revision/ml_final_version/test_set/{data_type}/{river_name}/label'\n",
    "        dst_path = f'/media/saeid/LaCie/Saeid/segmentation/dataset/neurips dataset/After_revision/ml_final_version/test_set/{data_type}/{river_name}/label_3d'\n",
    "        \n",
    "\n",
    "\n",
    "        src_file_type = f'*.{data_type}'\n",
    "        dst_file_type = f'*.{data_type}'\n",
    "\n",
    "        all_src_files = glob.glob(os.path.join(src_path, src_file_type))\n",
    "        all_dst_files = glob.glob(os.path.join(dst_path, dst_file_type))\n",
    "\n",
    "        all_src_names = [os.path.split(name)[-1] for name in all_src_files]\n",
    "        all_dst_names = [os.path.split(name)[-1] for name in all_dst_files]\n",
    "\n",
    "        for idx, the_name in enumerate(all_dst_names):\n",
    "            # for each image\n",
    "            found_flag = False\n",
    "            for jdx, src_name in enumerate(all_src_names):\n",
    "                if the_name == src_name.replace(data_type, data_type):\n",
    "                    found_flag = True\n",
    "\n",
    "            if not found_flag:\n",
    "                print(f'name {all_dst_files[idx]} not found')\n",
    "                os.remove(all_dst_files[idx])"
   ]
  },
  {
   "cell_type": "markdown",
   "id": "422d35e2-31b6-4c4b-9f65-fcfe61623228",
   "metadata": {},
   "source": [
    "removing images in dst that are in the src"
   ]
  },
  {
   "cell_type": "code",
   "execution_count": 7,
   "id": "ca291443-c6db-48b8-b8d4-b46aff0b573a",
   "metadata": {},
   "outputs": [],
   "source": [
    "# remove things in dst that are not in src\n",
    "src_path = '/media/saeid/LaCie/Saeid/segmentation/dataset/neurips dataset/After_revision/not_ready_yet/Gaula47_finished/tif/image'\n",
    "dst_path = '/media/saeid/LaCie/Saeid/segmentation/dataset/neurips dataset/After_revision/not_ready_yet/Gaula47_finished/tif/image_unlabeled_new_version'\n",
    "\n",
    "\n",
    "data_type = 'tif'\n",
    "src_file_type = f'*.{data_type}'\n",
    "dst_file_type = f'*.{data_type}'\n",
    "\n",
    "all_src_files = glob.glob(os.path.join(src_path, src_file_type))\n",
    "all_dst_files = glob.glob(os.path.join(dst_path, dst_file_type))\n",
    "\n",
    "all_src_names = [os.path.split(name)[-1] for name in all_src_files]\n",
    "all_dst_names = [os.path.split(name)[-1] for name in all_dst_files]\n",
    "\n",
    "for idx, the_name in enumerate(all_dst_names):\n",
    "    # for each image\n",
    "    found_flag = False\n",
    "    for jdx, src_name in enumerate(all_src_names):\n",
    "        if the_name == src_name.replace(data_type, data_type):\n",
    "            found_flag = True\n",
    "    \n",
    "    if found_flag:\n",
    "        print(f'name {all_dst_files[idx]} found')\n",
    "        os.remove(all_dst_files[idx])"
   ]
  },
  {
   "cell_type": "markdown",
   "id": "487d83c3-8151-4f85-9879-3484b2e4751a",
   "metadata": {},
   "source": [
    "### removing the images, for neurips"
   ]
  },
  {
   "cell_type": "code",
   "execution_count": 49,
   "id": "b4d9ecc9-b8cd-4560-97ff-4849a66531c4",
   "metadata": {},
   "outputs": [
    {
     "name": "stdout",
     "output_type": "stream",
     "text": [
      "working on river surna_1963\n",
      "name /media/saeid/LaCie/Saeid/segmentation/dataset/neurips dataset/After_revision/ml_final_version/train_set/png/surna_1963/label/33-2-450-207-03.png found\n",
      "working on river gaula_1998\n",
      "name /media/saeid/LaCie/Saeid/segmentation/dataset/neurips dataset/After_revision/ml_final_version/train_set/png/gaula_1998/label/33-2-462-209-12.png found\n",
      "name /media/saeid/LaCie/Saeid/segmentation/dataset/neurips dataset/After_revision/ml_final_version/train_set/png/gaula_1998/label/33-2-462-213-32.png found\n",
      "working on river laerdal_1978\n",
      "name /media/saeid/LaCie/Saeid/segmentation/dataset/neurips dataset/After_revision/ml_final_version/train_set/png/laerdal_1978/label/33-2-437-165-02.png found\n",
      "name /media/saeid/LaCie/Saeid/segmentation/dataset/neurips dataset/After_revision/ml_final_version/train_set/png/laerdal_1978/label/33-2-436-165-32.png found\n",
      "name /media/saeid/LaCie/Saeid/segmentation/dataset/neurips dataset/After_revision/ml_final_version/train_set/png/laerdal_1978/label/33-2-436-165-31.png found\n",
      "working on river orkla_1962\n",
      "name /media/saeid/LaCie/Saeid/segmentation/dataset/neurips dataset/After_revision/ml_final_version/train_set/png/orkla_1962/label/33-2-459-212-02.png found\n",
      "name /media/saeid/LaCie/Saeid/segmentation/dataset/neurips dataset/After_revision/ml_final_version/train_set/png/orkla_1962/label/33-2-458-211-11.png found\n",
      "working on river nea_1962\n",
      "name /media/saeid/LaCie/Saeid/segmentation/dataset/neurips dataset/After_revision/ml_final_version/train_set/png/nea_1962/label/33-2-469-211-20.png found\n",
      "working on river gaula_1963\n",
      "name /media/saeid/LaCie/Saeid/segmentation/dataset/neurips dataset/After_revision/ml_final_version/train_set/png/gaula_1963/label/33-2-462-210-33.png found\n",
      "name /media/saeid/LaCie/Saeid/segmentation/dataset/neurips dataset/After_revision/ml_final_version/train_set/png/gaula_1963/label/33-2-462-211-30.png found\n",
      "name /media/saeid/LaCie/Saeid/segmentation/dataset/neurips dataset/After_revision/ml_final_version/train_set/png/gaula_1963/label/33-2-463-211-00.png found\n",
      "name /media/saeid/LaCie/Saeid/segmentation/dataset/neurips dataset/After_revision/ml_final_version/train_set/png/gaula_1963/label/33-2-463-211-01.png found\n",
      "name /media/saeid/LaCie/Saeid/segmentation/dataset/neurips dataset/After_revision/ml_final_version/train_set/png/gaula_1963/label/33-2-463-211-02.png found\n",
      "name /media/saeid/LaCie/Saeid/segmentation/dataset/neurips dataset/After_revision/ml_final_version/train_set/png/gaula_1963/label/33-2-463-212-00.png found\n",
      "name /media/saeid/LaCie/Saeid/segmentation/dataset/neurips dataset/After_revision/ml_final_version/train_set/png/gaula_1963/label/33-2-466-205-02.png found\n",
      "working on river surna_1963\n",
      "name /media/saeid/LaCie/Saeid/segmentation/dataset/neurips dataset/After_revision/ml_final_version/train_set/png/surna_1963/image/33-2-450-207-03.png found\n",
      "working on river gaula_1998\n",
      "name /media/saeid/LaCie/Saeid/segmentation/dataset/neurips dataset/After_revision/ml_final_version/train_set/png/gaula_1998/image/33-2-462-209-12.png found\n",
      "name /media/saeid/LaCie/Saeid/segmentation/dataset/neurips dataset/After_revision/ml_final_version/train_set/png/gaula_1998/image/33-2-462-213-32.png found\n",
      "working on river laerdal_1978\n",
      "name /media/saeid/LaCie/Saeid/segmentation/dataset/neurips dataset/After_revision/ml_final_version/train_set/png/laerdal_1978/image/33-2-437-165-02.png found\n",
      "name /media/saeid/LaCie/Saeid/segmentation/dataset/neurips dataset/After_revision/ml_final_version/train_set/png/laerdal_1978/image/33-2-436-165-32.png found\n",
      "name /media/saeid/LaCie/Saeid/segmentation/dataset/neurips dataset/After_revision/ml_final_version/train_set/png/laerdal_1978/image/33-2-436-165-31.png found\n",
      "working on river orkla_1962\n",
      "name /media/saeid/LaCie/Saeid/segmentation/dataset/neurips dataset/After_revision/ml_final_version/train_set/png/orkla_1962/image/33-2-458-211-11.png found\n",
      "name /media/saeid/LaCie/Saeid/segmentation/dataset/neurips dataset/After_revision/ml_final_version/train_set/png/orkla_1962/image/33-2-459-212-02.png found\n",
      "working on river nea_1962\n",
      "name /media/saeid/LaCie/Saeid/segmentation/dataset/neurips dataset/After_revision/ml_final_version/train_set/png/nea_1962/image/33-2-469-211-20.png found\n",
      "working on river gaula_1963\n",
      "name /media/saeid/LaCie/Saeid/segmentation/dataset/neurips dataset/After_revision/ml_final_version/train_set/png/gaula_1963/image/33-2-463-211-00.png found\n",
      "name /media/saeid/LaCie/Saeid/segmentation/dataset/neurips dataset/After_revision/ml_final_version/train_set/png/gaula_1963/image/33-2-466-205-02.png found\n",
      "name /media/saeid/LaCie/Saeid/segmentation/dataset/neurips dataset/After_revision/ml_final_version/train_set/png/gaula_1963/image/33-2-463-211-02.png found\n",
      "name /media/saeid/LaCie/Saeid/segmentation/dataset/neurips dataset/After_revision/ml_final_version/train_set/png/gaula_1963/image/33-2-462-211-30.png found\n",
      "name /media/saeid/LaCie/Saeid/segmentation/dataset/neurips dataset/After_revision/ml_final_version/train_set/png/gaula_1963/image/33-2-462-210-33.png found\n",
      "name /media/saeid/LaCie/Saeid/segmentation/dataset/neurips dataset/After_revision/ml_final_version/train_set/png/gaula_1963/image/33-2-463-211-01.png found\n",
      "name /media/saeid/LaCie/Saeid/segmentation/dataset/neurips dataset/After_revision/ml_final_version/train_set/png/gaula_1963/image/33-2-463-212-00.png found\n",
      "working on river surna_1963\n",
      "name /media/saeid/LaCie/Saeid/segmentation/dataset/neurips dataset/After_revision/ml_final_version/train_set/tif/surna_1963/label/33-2-450-207-03.tif found\n",
      "working on river gaula_1998\n",
      "name /media/saeid/LaCie/Saeid/segmentation/dataset/neurips dataset/After_revision/ml_final_version/train_set/tif/gaula_1998/label/33-2-462-209-12.tif found\n",
      "name /media/saeid/LaCie/Saeid/segmentation/dataset/neurips dataset/After_revision/ml_final_version/train_set/tif/gaula_1998/label/33-2-462-213-32.tif found\n",
      "working on river laerdal_1978\n",
      "name /media/saeid/LaCie/Saeid/segmentation/dataset/neurips dataset/After_revision/ml_final_version/train_set/tif/laerdal_1978/label/33-2-436-165-31.tif found\n",
      "name /media/saeid/LaCie/Saeid/segmentation/dataset/neurips dataset/After_revision/ml_final_version/train_set/tif/laerdal_1978/label/33-2-436-165-32.tif found\n",
      "name /media/saeid/LaCie/Saeid/segmentation/dataset/neurips dataset/After_revision/ml_final_version/train_set/tif/laerdal_1978/label/33-2-437-165-02.tif found\n",
      "working on river orkla_1962\n",
      "name /media/saeid/LaCie/Saeid/segmentation/dataset/neurips dataset/After_revision/ml_final_version/train_set/tif/orkla_1962/label/33-2-459-212-02.tif found\n",
      "name /media/saeid/LaCie/Saeid/segmentation/dataset/neurips dataset/After_revision/ml_final_version/train_set/tif/orkla_1962/label/33-2-458-211-11.tif found\n",
      "working on river nea_1962\n",
      "name /media/saeid/LaCie/Saeid/segmentation/dataset/neurips dataset/After_revision/ml_final_version/train_set/tif/nea_1962/label/33-2-469-211-20.tif found\n",
      "working on river gaula_1963\n",
      "name /media/saeid/LaCie/Saeid/segmentation/dataset/neurips dataset/After_revision/ml_final_version/train_set/tif/gaula_1963/label/33-2-462-210-33.tif found\n",
      "name /media/saeid/LaCie/Saeid/segmentation/dataset/neurips dataset/After_revision/ml_final_version/train_set/tif/gaula_1963/label/33-2-462-211-30.tif found\n",
      "name /media/saeid/LaCie/Saeid/segmentation/dataset/neurips dataset/After_revision/ml_final_version/train_set/tif/gaula_1963/label/33-2-463-211-00.tif found\n",
      "name /media/saeid/LaCie/Saeid/segmentation/dataset/neurips dataset/After_revision/ml_final_version/train_set/tif/gaula_1963/label/33-2-463-211-01.tif found\n",
      "name /media/saeid/LaCie/Saeid/segmentation/dataset/neurips dataset/After_revision/ml_final_version/train_set/tif/gaula_1963/label/33-2-463-211-02.tif found\n",
      "name /media/saeid/LaCie/Saeid/segmentation/dataset/neurips dataset/After_revision/ml_final_version/train_set/tif/gaula_1963/label/33-2-463-212-00.tif found\n",
      "name /media/saeid/LaCie/Saeid/segmentation/dataset/neurips dataset/After_revision/ml_final_version/train_set/tif/gaula_1963/label/33-2-466-205-02.tif found\n",
      "working on river surna_1963\n",
      "name /media/saeid/LaCie/Saeid/segmentation/dataset/neurips dataset/After_revision/ml_final_version/train_set/tif/surna_1963/image/33-2-450-207-03.tif found\n",
      "working on river gaula_1998\n",
      "name /media/saeid/LaCie/Saeid/segmentation/dataset/neurips dataset/After_revision/ml_final_version/train_set/tif/gaula_1998/image/33-2-462-213-32.tif found\n",
      "name /media/saeid/LaCie/Saeid/segmentation/dataset/neurips dataset/After_revision/ml_final_version/train_set/tif/gaula_1998/image/33-2-462-209-12.tif found\n",
      "working on river laerdal_1978\n",
      "name /media/saeid/LaCie/Saeid/segmentation/dataset/neurips dataset/After_revision/ml_final_version/train_set/tif/laerdal_1978/image/33-2-436-165-31.tif found\n",
      "name /media/saeid/LaCie/Saeid/segmentation/dataset/neurips dataset/After_revision/ml_final_version/train_set/tif/laerdal_1978/image/33-2-436-165-32.tif found\n",
      "name /media/saeid/LaCie/Saeid/segmentation/dataset/neurips dataset/After_revision/ml_final_version/train_set/tif/laerdal_1978/image/33-2-437-165-02.tif found\n",
      "working on river orkla_1962\n",
      "name /media/saeid/LaCie/Saeid/segmentation/dataset/neurips dataset/After_revision/ml_final_version/train_set/tif/orkla_1962/image/33-2-458-211-11.tif found\n",
      "name /media/saeid/LaCie/Saeid/segmentation/dataset/neurips dataset/After_revision/ml_final_version/train_set/tif/orkla_1962/image/33-2-459-212-02.tif found\n",
      "working on river nea_1962\n",
      "name /media/saeid/LaCie/Saeid/segmentation/dataset/neurips dataset/After_revision/ml_final_version/train_set/tif/nea_1962/image/33-2-469-211-20.tif found\n",
      "working on river gaula_1963\n",
      "name /media/saeid/LaCie/Saeid/segmentation/dataset/neurips dataset/After_revision/ml_final_version/train_set/tif/gaula_1963/image/33-2-462-210-33.tif found\n",
      "name /media/saeid/LaCie/Saeid/segmentation/dataset/neurips dataset/After_revision/ml_final_version/train_set/tif/gaula_1963/image/33-2-462-211-30.tif found\n",
      "name /media/saeid/LaCie/Saeid/segmentation/dataset/neurips dataset/After_revision/ml_final_version/train_set/tif/gaula_1963/image/33-2-463-211-00.tif found\n",
      "name /media/saeid/LaCie/Saeid/segmentation/dataset/neurips dataset/After_revision/ml_final_version/train_set/tif/gaula_1963/image/33-2-463-211-01.tif found\n",
      "name /media/saeid/LaCie/Saeid/segmentation/dataset/neurips dataset/After_revision/ml_final_version/train_set/tif/gaula_1963/image/33-2-463-211-02.tif found\n",
      "name /media/saeid/LaCie/Saeid/segmentation/dataset/neurips dataset/After_revision/ml_final_version/train_set/tif/gaula_1963/image/33-2-463-212-00.tif found\n",
      "name /media/saeid/LaCie/Saeid/segmentation/dataset/neurips dataset/After_revision/ml_final_version/train_set/tif/gaula_1963/image/33-2-466-205-02.tif found\n"
     ]
    }
   ],
   "source": [
    "data_types = ['png', 'tif'] \n",
    "image_labels = ['label', 'image']\n",
    "\n",
    "for data_type in data_types:\n",
    "    for image_label in image_labels:\n",
    "        \n",
    "        meta_src_path = '/media/saeid/LaCie/Saeid/segmentation/dataset/neurips dataset/dataset_division/test sets/*'\n",
    "        all_src_paths = glob.glob(meta_src_path)\n",
    "\n",
    "        meta_dst_path = f'/media/saeid/LaCie/Saeid/segmentation/dataset/neurips dataset/After_revision/ml_final_version/train_set/{data_type}'\n",
    "\n",
    "        for idx, src_path in enumerate(all_src_paths):\n",
    "            #     get the correct directory\n",
    "            name = os.path.split(src_path)[-1].replace('_test', '')\n",
    "            dst_path = os.path.join(meta_dst_path, name)\n",
    "\n",
    "            src_path = os.path.join(src_path, data_type)\n",
    "\n",
    "            print(f'working on river {name}')\n",
    "\n",
    "        #      main operation     \n",
    "            src_file_type = f'*.{data_type}'\n",
    "            dst_file_type = f'*.{data_type}'\n",
    "\n",
    "            all_src_files = glob.glob(os.path.join(src_path, image_label, src_file_type))\n",
    "            all_dst_files = glob.glob(os.path.join(dst_path, image_label, dst_file_type))\n",
    "\n",
    "            all_src_names = [os.path.split(name)[-1] for name in all_src_files]\n",
    "            all_dst_names = [os.path.split(name)[-1] for name in all_dst_files]\n",
    "            for idx, the_name in enumerate(all_dst_names):\n",
    "                # for each image\n",
    "                found_flag = False\n",
    "                for jdx, src_name in enumerate(all_src_names):\n",
    "                    if the_name == src_name.replace(data_type, data_type):\n",
    "                        found_flag = True\n",
    "\n",
    "                if found_flag:\n",
    "                    print(f'name {all_dst_files[idx]} found')\n",
    "                    os.remove(all_dst_files[idx])"
   ]
  },
  {
   "cell_type": "code",
   "execution_count": 23,
   "id": "483738cf-d90d-4071-b25d-c9d9c166326e",
   "metadata": {},
   "outputs": [
    {
     "data": {
      "text/plain": [
       "['/media/saeid/LaCie/Saeid/segmentation/dataset/neurips dataset/dataset_division/test sets/gaula_1963_test/tif/image']"
      ]
     },
     "execution_count": 23,
     "metadata": {},
     "output_type": "execute_result"
    }
   ],
   "source": [
    "all_src_files"
   ]
  },
  {
   "cell_type": "markdown",
   "id": "de785de7-3e1f-477a-8272-6075c6278695",
   "metadata": {},
   "source": [
    "## Make the png to tif again"
   ]
  },
  {
   "cell_type": "code",
   "execution_count": 32,
   "id": "37077fa0-b442-4250-96f8-61f6e519efb4",
   "metadata": {},
   "outputs": [
    {
     "name": "stdout",
     "output_type": "stream",
     "text": [
      "\n",
      "saveing 33-2-463-213-01.png\n",
      "33-2-463-213-01.png saved\n",
      "\n"
     ]
    }
   ],
   "source": [
    "src_label_base_png_path = '/home/saeid/phd/segmentation/dataset/neurips dataset/raster_corrected/students/praktisk/gaula_47/img/png'\n",
    "src_label_base_tif_path = '/home/saeid/phd/segmentation/dataset/neurips dataset/raster_corrected/students/praktisk/gaula_47/lbl/lbl_tif'\n",
    "dest_save_path = fr'/home/saeid/phd/segmentation/dataset/neurips dataset/raster_corrected/students/praktisk/gaula_47/img/tif'\n",
    "\n",
    "tif_paths = glob.glob(os.path.join(src_label_base_tif_path, '*.tif'))\n",
    "png_paths = glob.glob(os.path.join(src_label_base_png_path, '*.png'))\n",
    "\n",
    "os.makedirs(dest_save_path, exist_ok=True)  \n",
    "\n",
    "info_list = []\n",
    "for png_path in png_paths:\n",
    "    png_name = os.path.split(png_path)[-1]\n",
    "    tif_name = f'{png_name}'.replace('.png','.tif')\n",
    "#     if river_name == 'surna_1963' or river_name == 'nea_1962' or river_name == 'gaula_1963_test':\n",
    "#         tif_name = f'{png_name}'.replace('.png','.tif')\n",
    "#     else:\n",
    "#         tif_name = f'label{png_name}'.replace('.png','.tif')\n",
    "\n",
    "    tif_path = os.path.join(src_label_base_tif_path, tif_name)\n",
    "    if tif_path in tif_paths:\n",
    "        print(f'\\nsaveing {png_name}')\n",
    "        # read the tif file to store the projection data\n",
    "        _, geo_transform, projection = gdal_utils.read_tiff_file(tif_path)\n",
    "        # read png file to use as array for tif\n",
    "        png_array = image_processing_utils.read_png_file(os.path.join(src_label_base_png_path, png_name))\n",
    "\n",
    "        # convert image into 2d if it is 3d (rgb)\n",
    "        if png_array.ndim > 2:\n",
    "            png_array = image_processing_utils.replace_rgb_to_class(png_array, \n",
    "                                                                   unknown_zero_flag=True)\n",
    "\n",
    "        info_dict = {'name':png_name, 'geo_transform':geo_transform, 'projection':projection}\n",
    "        info_list.append(info_dict)\n",
    "\n",
    "        tif_object = TrainingImage(data=None, labels=png_array, geo_transform=geo_transform, \n",
    "                                   projection=projection)\n",
    "        print(f'{png_name} saved\\n')\n",
    "        tif_object.write_labels_to_raster(os.path.join(dest_save_path, png_name.replace('png','tif')))\n",
    "    else:\n",
    "        print(f'{tif_name} not in there')"
   ]
  },
  {
   "cell_type": "markdown",
   "id": "cc7e7182-a153-48b9-84d2-046e2b092351",
   "metadata": {
    "heading_collapsed": "true",
    "tags": []
   },
   "source": [
    "# Tif to png"
   ]
  },
  {
   "cell_type": "code",
   "execution_count": 8,
   "id": "20975b7e-917e-4e31-af1f-757b5abc70e4",
   "metadata": {},
   "outputs": [],
   "source": [
    "tif_dir = '/media/saeid/LaCie/Saeid/segmentation/dataset/neurips dataset/After_revision/not_ready_yet/Gaula47_finished/tif/prediction_unlabeled_new_version'\n",
    "dest_dir = '/media/saeid/LaCie/Saeid/segmentation/dataset/neurips dataset/After_revision/not_ready_yet/Gaula47_finished/png/non_annotated/label_2d'"
   ]
  },
  {
   "cell_type": "code",
   "execution_count": 9,
   "id": "2452f293-e24f-4b91-9b1f-11829cb9c537",
   "metadata": {},
   "outputs": [
    {
     "name": "stdout",
     "output_type": "stream",
     "text": [
      "there are 41 images\n",
      "image 0\n"
     ]
    }
   ],
   "source": [
    "image_processing_utils.tif_to_png(tif_dir=tif_dir, dest_dir=dest_dir)"
   ]
  },
  {
   "cell_type": "markdown",
   "id": "30dea734-8458-496d-9fb9-a7b348f44643",
   "metadata": {
    "tags": []
   },
   "source": [
    "# Devide images into smaller patches"
   ]
  },
  {
   "cell_type": "code",
   "execution_count": 92,
   "id": "72cdb517-68d2-45e4-94b2-1dacddf3987b",
   "metadata": {},
   "outputs": [],
   "source": [
    "all_image_path = '/media/saeid/LaCie/Saeid/segmentation/dataset/neurips dataset/After_revision/ml_final_version/all_train_png/image'\n",
    "all_label_path = '/media/saeid/LaCie/Saeid/segmentation/dataset/neurips dataset/After_revision/ml_final_version/all_train_png/label'\n",
    "\n",
    "all_label_paths = glob.glob(os.path.join(all_label_path, '*.png'))\n",
    "all_image_paths = glob.glob(os.path.join(all_image_path, '*.png'))\n",
    "# get all the image names\n",
    "all_label_names = [os.path.split(name)[-1] for name in all_label_paths]\n",
    "all_image_names = [os.path.split(name)[-1] for name in all_image_paths]\n",
    "\n",
    "all_label_paths.sort()\n",
    "all_image_paths.sort()\n",
    "\n",
    "all_label_names.sort()\n",
    "all_image_names.sort()\n",
    "\n",
    "dst_path = '/media/saeid/LaCie/Saeid/segmentation/dataset/neurips dataset/After_revision/ml_final_version/all_train_512_png'"
   ]
  },
  {
   "cell_type": "code",
   "execution_count": 93,
   "id": "4cfe5eea-3dba-4eea-b303-1e8e33e0977a",
   "metadata": {},
   "outputs": [
    {
     "name": "stdout",
     "output_type": "stream",
     "text": [
      "140\n"
     ]
    }
   ],
   "source": [
    "# check if label and images are the same\n",
    "for idx, _ in enumerate(all_label_paths):\n",
    "    lbl_name = os.path.split(all_label_paths[idx])[-1]\n",
    "    img_name = os.path.split(all_image_paths[idx])[-1]\n",
    "    \n",
    "    if lbl_name != img_name:\n",
    "        print(lbl_name, img_name)\n",
    "        break\n",
    "print(idx)"
   ]
  },
  {
   "cell_type": "code",
   "execution_count": 94,
   "id": "7fbde72d-8c85-40bc-91cb-c6b55921ab55",
   "metadata": {},
   "outputs": [
    {
     "name": "stdout",
     "output_type": "stream",
     "text": [
      "working on image 33-2-436-164-33\n",
      "loading images took: 0.40317630767822266\n",
      "deviding took: 1.8701298236846924\n",
      "working on image 33-2-436-165-30\n",
      "loading images took: 0.5795493125915527\n",
      "deviding took: 4.454867362976074\n",
      "working on image 33-2-436-165-33\n",
      "loading images took: 0.4509239196777344\n",
      "deviding took: 2.137493133544922\n",
      "working on image 33-2-436-166-20\n",
      "loading images took: 0.5334219932556152\n",
      "deviding took: 3.5540261268615723\n",
      "working on image 33-2-436-166-21\n",
      "loading images took: 0.28371381759643555\n",
      "deviding took: 1.2676270008087158\n",
      "working on image 33-2-436-166-30\n",
      "loading images took: 0.7195782661437988\n",
      "deviding took: 6.705756902694702\n",
      "working on image 33-2-437-164-03\n",
      "loading images took: 0.5759778022766113\n",
      "deviding took: 4.17607855796814\n",
      "working on image 33-2-437-164-13\n",
      "loading images took: 0.6837379932403564\n",
      "deviding took: 7.225241661071777\n",
      "working on image 33-2-437-164-22\n",
      "loading images took: 0.5540335178375244\n",
      "deviding took: 3.4187674522399902\n",
      "working on image 33-2-437-164-23\n",
      "loading images took: 0.476776123046875\n",
      "deviding took: 2.7720510959625244\n",
      "working on image 33-2-437-164-32\n",
      "loading images took: 0.7050292491912842\n",
      "deviding took: 4.8654468059539795\n",
      "working on image 33-2-437-164-33\n",
      "loading images took: 0.4148681163787842\n",
      "deviding took: 2.193646192550659\n",
      "working on image 33-2-437-165-00\n",
      "loading images took: 0.6686646938323975\n",
      "deviding took: 4.565393686294556\n",
      "working on image 33-2-437-165-03\n",
      "loading images took: 0.885401725769043\n",
      "deviding took: 8.014278411865234\n",
      "working on image 33-2-437-166-00\n",
      "loading images took: 0.6301965713500977\n",
      "deviding took: 6.407348871231079\n",
      "working on image 33-2-438-164-02\n",
      "loading images took: 0.5451226234436035\n",
      "deviding took: 3.7461912631988525\n",
      "working on image 33-2-438-164-03\n",
      "loading images took: 0.7205567359924316\n",
      "deviding took: 7.798301458358765\n",
      "working on image 33-2-438-164-12\n",
      "loading images took: 0.7788472175598145\n",
      "deviding took: 6.254148244857788\n",
      "working on image 33-2-438-164-13\n",
      "loading images took: 0.7272739410400391\n",
      "deviding took: 6.648026704788208\n",
      "working on image 33-2-438-164-22\n",
      "loading images took: 0.8332436084747314\n",
      "deviding took: 7.361802339553833\n",
      "working on image 33-2-438-164-23\n",
      "loading images took: 0.8902623653411865\n",
      "deviding took: 7.391963958740234\n",
      "working on image 33-2-438-164-31\n",
      "loading images took: 0.50341796875\n",
      "deviding took: 3.399733304977417\n",
      "working on image 33-2-438-164-33\n",
      "loading images took: 0.4107520580291748\n",
      "deviding took: 2.9203646183013916\n",
      "working on image 33-2-439-164-00\n",
      "loading images took: 0.4780392646789551\n",
      "deviding took: 3.4900248050689697\n",
      "working on image 33-2-439-164-02\n",
      "loading images took: 0.6040911674499512\n",
      "deviding took: 4.40554666519165\n",
      "working on image 33-2-439-164-11\n",
      "loading images took: 0.7926883697509766\n",
      "deviding took: 5.171119689941406\n",
      "working on image 33-2-439-164-12\n",
      "loading images took: 0.6520910263061523\n",
      "deviding took: 3.8842127323150635\n",
      "working on image 33-2-439-164-13\n",
      "loading images took: 0.47523021697998047\n",
      "deviding took: 2.275146007537842\n",
      "working on image 33-2-439-164-21\n",
      "loading images took: 0.5074183940887451\n",
      "deviding took: 2.419603109359741\n",
      "working on image 33-2-439-164-22\n",
      "loading images took: 0.5271584987640381\n",
      "deviding took: 3.8939568996429443\n",
      "working on image 33-2-439-164-23\n",
      "loading images took: 0.6965689659118652\n",
      "deviding took: 4.456503629684448\n",
      "working on image 33-2-439-165-10\n",
      "loading images took: 0.41239428520202637\n",
      "deviding took: 3.008364200592041\n",
      "working on image 33-2-439-165-20\n",
      "loading images took: 0.667412519454956\n",
      "deviding took: 5.311285018920898\n",
      "working on image 33-2-439-165-21\n",
      "loading images took: 0.38840532302856445\n",
      "deviding took: 2.714548349380493\n",
      "working on image 33-2-440-164-03\n",
      "loading images took: 0.4211597442626953\n",
      "deviding took: 2.6580238342285156\n",
      "working on image 33-2-440-164-13\n",
      "loading images took: 0.7198405265808105\n",
      "deviding took: 6.187507629394531\n",
      "working on image 33-2-440-164-33\n",
      "loading images took: 0.6584875583648682\n",
      "deviding took: 5.279078245162964\n",
      "working on image 33-2-440-165-10\n",
      "loading images took: 0.646613359451294\n",
      "deviding took: 6.6204047203063965\n",
      "working on image 33-2-440-165-30\n",
      "loading images took: 0.709061861038208\n",
      "deviding took: 8.225447654724121\n",
      "working on image 33-2-441-165-00\n",
      "loading images took: 0.6085793972015381\n",
      "deviding took: 5.3461174964904785\n",
      "working on image 33-2-441-165-01\n",
      "loading images took: 0.7218990325927734\n",
      "deviding took: 8.298379182815552\n",
      "working on image 33-2-441-165-11\n",
      "loading images took: 0.5929069519042969\n",
      "deviding took: 5.407076358795166\n",
      "working on image 33-2-449-207-23\n",
      "loading images took: 0.45601868629455566\n",
      "deviding took: 3.5575356483459473\n",
      "working on image 33-2-449-207-33\n",
      "loading images took: 0.5403752326965332\n",
      "deviding took: 4.988624811172485\n",
      "working on image 33-2-450-207-13\n",
      "loading images took: 0.5560073852539062\n",
      "deviding took: 5.100438594818115\n",
      "working on image 33-2-450-207-23\n",
      "loading images took: 0.5548508167266846\n",
      "deviding took: 5.148151874542236\n",
      "working on image 33-2-450-207-33\n",
      "loading images took: 0.5478129386901855\n",
      "deviding took: 5.089114189147949\n",
      "working on image 33-2-450-208-10\n",
      "loading images took: 0.7496962547302246\n",
      "deviding took: 7.822467088699341\n",
      "working on image 33-2-450-208-20\n",
      "loading images took: 0.7359325885772705\n",
      "deviding took: 7.6860761642456055\n",
      "working on image 33-2-451-208-00\n",
      "loading images took: 0.7453339099884033\n",
      "deviding took: 7.731234550476074\n",
      "working on image 33-2-451-208-21\n",
      "loading images took: 0.6487851142883301\n",
      "deviding took: 6.703089952468872\n",
      "working on image 33-2-462-207-22\n",
      "loading images took: 0.3748617172241211\n",
      "deviding took: 2.5771403312683105\n",
      "working on image 33-2-462-207-23\n",
      "loading images took: 0.8233332633972168\n",
      "deviding took: 5.966208219528198\n",
      "working on image 33-2-462-207-32\n",
      "loading images took: 0.7714107036590576\n",
      "deviding took: 6.5669846534729\n",
      "working on image 33-2-462-208-20\n",
      "loading images took: 0.8973371982574463\n",
      "deviding took: 6.30908989906311\n",
      "working on image 33-2-462-208-23\n",
      "loading images took: 0.7473971843719482\n",
      "deviding took: 5.978336334228516\n",
      "working on image 33-2-462-208-30\n",
      "loading images took: 0.7581765651702881\n",
      "deviding took: 6.399611711502075\n",
      "working on image 33-2-462-208-31\n",
      "loading images took: 0.8360433578491211\n",
      "deviding took: 6.7294957637786865\n",
      "working on image 33-2-462-208-32\n",
      "loading images took: 0.8314504623413086\n",
      "deviding took: 6.557565212249756\n",
      "working on image 33-2-462-209-10\n",
      "loading images took: 0.8483593463897705\n",
      "deviding took: 5.787912368774414\n",
      "working on image 33-2-462-209-11\n",
      "loading images took: 0.7187032699584961\n",
      "deviding took: 5.645473480224609\n",
      "working on image 33-2-462-209-12\n",
      "loading images took: 0.8741941452026367\n",
      "deviding took: 6.28036093711853\n",
      "working on image 33-2-462-209-13\n",
      "loading images took: 0.7562882900238037\n",
      "deviding took: 5.639691114425659\n",
      "working on image 33-2-462-209-20\n",
      "loading images took: 0.7163739204406738\n",
      "deviding took: 5.581040859222412\n",
      "working on image 33-2-462-209-21\n",
      "loading images took: 0.8035998344421387\n",
      "deviding took: 5.8291308879852295\n",
      "working on image 33-2-462-209-22\n",
      "loading images took: 0.7473835945129395\n",
      "deviding took: 5.72729229927063\n",
      "working on image 33-2-462-209-23\n",
      "loading images took: 0.920769214630127\n",
      "deviding took: 6.66255521774292\n",
      "working on image 33-2-462-209-30\n",
      "loading images took: 0.48577117919921875\n",
      "deviding took: 3.463663339614868\n",
      "working on image 33-2-462-210-10\n",
      "loading images took: 1.0440824031829834\n",
      "deviding took: 7.189177989959717\n",
      "working on image 33-2-462-210-11\n",
      "loading images took: 0.6301507949829102\n",
      "deviding took: 5.23084568977356\n",
      "working on image 33-2-462-210-20\n",
      "loading images took: 0.8329989910125732\n",
      "deviding took: 6.339938402175903\n",
      "working on image 33-2-462-210-21\n",
      "loading images took: 0.797191858291626\n",
      "deviding took: 6.0029730796813965\n",
      "working on image 33-2-462-210-22\n",
      "loading images took: 0.8099136352539062\n",
      "deviding took: 6.277657985687256\n",
      "working on image 33-2-462-210-23\n",
      "loading images took: 0.6063840389251709\n",
      "deviding took: 5.716750621795654\n",
      "working on image 33-2-462-210-32\n",
      "loading images took: 0.7927844524383545\n",
      "deviding took: 6.349590301513672\n",
      "working on image 33-2-462-210-33\n",
      "loading images took: 0.8026456832885742\n",
      "deviding took: 9.665635347366333\n",
      "working on image 33-2-462-211-20\n",
      "loading images took: 0.5441691875457764\n",
      "deviding took: 4.150114059448242\n",
      "working on image 33-2-462-211-33\n",
      "loading images took: 0.827404260635376\n",
      "deviding took: 6.16152548789978\n",
      "working on image 33-2-462-212-30\n",
      "loading images took: 0.7256195545196533\n",
      "deviding took: 5.738472938537598\n",
      "working on image 33-2-462-212-31\n",
      "loading images took: 0.6708106994628906\n",
      "deviding took: 5.760709047317505\n",
      "working on image 33-2-462-212-32\n",
      "loading images took: 0.7076313495635986\n",
      "deviding took: 5.501262187957764\n",
      "working on image 33-2-462-212-33\n",
      "loading images took: 0.4761977195739746\n",
      "deviding took: 4.27652382850647\n",
      "working on image 33-2-462-213-20\n",
      "loading images took: 0.7397749423980713\n",
      "deviding took: 10.054866313934326\n",
      "working on image 33-2-462-213-30\n",
      "loading images took: 0.7632873058319092\n",
      "deviding took: 9.31118130683899\n",
      "working on image 33-2-462-215-20\n",
      "loading images took: 0.6897306442260742\n",
      "deviding took: 10.0549156665802\n",
      "working on image 33-2-462-215-30\n",
      "loading images took: 0.7975842952728271\n",
      "deviding took: 10.978565454483032\n",
      "working on image 33-2-463-207-02\n",
      "loading images took: 0.7364106178283691\n",
      "deviding took: 6.976348161697388\n",
      "working on image 33-2-463-207-03\n",
      "loading images took: 0.7525606155395508\n",
      "deviding took: 6.800033330917358\n",
      "working on image 33-2-463-207-10\n",
      "loading images took: 0.6250145435333252\n",
      "deviding took: 5.919934511184692\n",
      "working on image 33-2-463-207-11\n",
      "loading images took: 0.954791784286499\n",
      "deviding took: 7.535672426223755\n",
      "working on image 33-2-463-207-20\n",
      "loading images took: 0.5810678005218506\n",
      "deviding took: 5.189808368682861\n",
      "working on image 33-2-463-207-21\n",
      "loading images took: 0.8450562953948975\n",
      "deviding took: 7.251920938491821\n",
      "working on image 33-2-463-207-22\n",
      "loading images took: 0.7449207305908203\n",
      "deviding took: 6.1768927574157715\n",
      "working on image 33-2-463-207-31\n",
      "loading images took: 0.8048868179321289\n",
      "deviding took: 8.016258716583252\n",
      "working on image 33-2-463-207-32\n",
      "loading images took: 0.7426815032958984\n",
      "deviding took: 6.7609100341796875\n",
      "working on image 33-2-463-208-00\n",
      "loading images took: 0.8124775886535645\n",
      "deviding took: 8.26669979095459\n",
      "working on image 33-2-463-208-01\n",
      "loading images took: 0.49092698097229004\n",
      "deviding took: 4.870363712310791\n",
      "working on image 33-2-463-210-02\n",
      "loading images took: 0.7140252590179443\n",
      "deviding took: 6.508545160293579\n",
      "working on image 33-2-463-211-00\n",
      "loading images took: 0.9084208011627197\n",
      "deviding took: 12.832033157348633\n",
      "working on image 33-2-463-211-01\n",
      "loading images took: 1.265732765197754\n",
      "deviding took: 13.046388149261475\n",
      "working on image 33-2-463-211-02\n",
      "loading images took: 0.8536267280578613\n",
      "deviding took: 12.78317141532898\n",
      "working on image 33-2-463-211-03\n",
      "loading images took: 0.940532922744751\n",
      "deviding took: 9.208816528320312\n",
      "working on image 33-2-463-211-13\n",
      "loading images took: 0.6663284301757812\n",
      "deviding took: 6.134901762008667\n",
      "working on image 33-2-463-212-00\n",
      "loading images took: 0.855177640914917\n",
      "deviding took: 12.84446668624878\n",
      "working on image 33-2-463-212-01\n",
      "loading images took: 0.9826397895812988\n",
      "deviding took: 9.468435525894165\n",
      "working on image 33-2-463-212-02\n",
      "loading images took: 0.753605842590332\n",
      "deviding took: 6.576683759689331\n",
      "working on image 33-2-463-212-10\n",
      "loading images took: 0.6386244297027588\n",
      "deviding took: 5.851600646972656\n",
      "working on image 33-2-463-213-01\n",
      "loading images took: 0.9647266864776611\n",
      "deviding took: 13.352882623672485\n",
      "working on image 33-2-463-213-02\n",
      "loading images took: 0.8608298301696777\n",
      "deviding took: 13.380922794342041\n",
      "working on image 33-2-463-214-00\n",
      "loading images took: 0.954970121383667\n",
      "deviding took: 14.345243453979492\n",
      "working on image 33-2-463-214-01\n",
      "loading images took: 0.9315528869628906\n",
      "deviding took: 14.251445293426514\n",
      "working on image 33-2-463-214-02\n",
      "loading images took: 0.9638302326202393\n",
      "deviding took: 13.665902853012085\n",
      "working on image 33-2-464-206-02\n",
      "loading images took: 0.6239626407623291\n",
      "deviding took: 6.8864524364471436\n",
      "working on image 33-2-464-206-03\n",
      "loading images took: 0.8475470542907715\n",
      "deviding took: 10.363078355789185\n",
      "working on image 33-2-464-206-11\n",
      "loading images took: 0.5099959373474121\n",
      "deviding took: 5.843608856201172\n",
      "working on image 33-2-464-206-13\n",
      "loading images took: 0.9233880043029785\n",
      "deviding took: 9.846986293792725\n",
      "working on image 33-2-464-206-21\n",
      "loading images took: 0.8513615131378174\n",
      "deviding took: 10.103262662887573\n",
      "working on image 33-2-464-206-30\n",
      "loading images took: 0.8846025466918945\n",
      "deviding took: 12.008192777633667\n",
      "working on image 33-2-464-206-31\n",
      "loading images took: 0.9611911773681641\n",
      "deviding took: 12.069051504135132\n",
      "working on image 33-2-464-206-32\n",
      "loading images took: 0.939985990524292\n",
      "deviding took: 9.751104354858398\n",
      "working on image 33-2-464-207-00\n",
      "loading images took: 0.910691499710083\n",
      "deviding took: 9.643372297286987\n",
      "working on image 33-2-464-207-01\n",
      "loading images took: 0.892596960067749\n",
      "deviding took: 8.801697492599487\n",
      "working on image 33-2-465-205-03\n",
      "loading images took: 0.8067967891693115\n",
      "deviding took: 10.099177360534668\n",
      "working on image 33-2-465-205-12\n",
      "loading images took: 0.9087600708007812\n",
      "deviding took: 9.606254577636719\n",
      "working on image 33-2-465-205-13\n",
      "loading images took: 0.9952986240386963\n",
      "deviding took: 9.993104219436646\n",
      "working on image 33-2-465-205-21\n",
      "loading images took: 0.946951150894165\n",
      "deviding took: 10.007760286331177\n",
      "working on image 33-2-465-205-22\n",
      "loading images took: 0.8981201648712158\n",
      "deviding took: 9.112329006195068\n",
      "working on image 33-2-465-205-33\n",
      "loading images took: 0.6846990585327148\n",
      "deviding took: 8.507163047790527\n",
      "working on image 33-2-465-206-00\n",
      "loading images took: 0.9247820377349854\n",
      "deviding took: 10.635763168334961\n",
      "working on image 33-2-466-205-03\n",
      "loading images took: 0.7194473743438721\n",
      "deviding took: 9.344966888427734\n",
      "working on image 33-2-466-205-23\n",
      "loading images took: 0.6762127876281738\n",
      "deviding took: 8.920653104782104\n",
      "working on image 33-2-468-211-22\n",
      "loading images took: 0.566685676574707\n",
      "deviding took: 5.841057300567627\n",
      "working on image 33-2-468-211-23\n",
      "loading images took: 0.7527127265930176\n",
      "deviding took: 6.530471086502075\n",
      "working on image 33-2-468-211-31\n",
      "loading images took: 0.6707890033721924\n",
      "deviding took: 6.362663507461548\n",
      "working on image 33-2-468-211-32\n",
      "loading images took: 0.5720698833465576\n",
      "deviding took: 6.398710012435913\n",
      "working on image 33-2-468-211-33\n",
      "loading images took: 0.5129094123840332\n",
      "deviding took: 6.107496976852417\n",
      "working on image 33-2-469-211-00\n",
      "loading images took: 0.6247797012329102\n",
      "deviding took: 6.5486907958984375\n",
      "working on image 33-2-470-208-23\n",
      "loading images took: 0.561880350112915\n",
      "deviding took: 6.002137660980225\n",
      "working on image 33-2-470-210-01\n",
      "loading images took: 0.43932199478149414\n",
      "deviding took: 5.264204740524292\n",
      "working on image 33-2-470-210-02\n",
      "loading images took: 0.5619606971740723\n",
      "deviding took: 6.669955253601074\n",
      "working on image 33-2-470-210-03\n",
      "loading images took: 0.6383600234985352\n",
      "deviding took: 6.267807483673096\n"
     ]
    }
   ],
   "source": [
    "image_size = 512\n",
    "# determines if we need to show messages or not\n",
    "verbose = True\n",
    "UNKNOWN_CLASS = 6\n",
    "small_image_list = []\n",
    "small_label_list = []\n",
    "verbose = True\n",
    "\n",
    "dst_path_img = os.path.join(dst_path, 'image', 'img')\n",
    "dst_path_lbl = os.path.join(dst_path, 'label', 'img')\n",
    "\n",
    "os.makedirs(dst_path_img, exist_ok=True)\n",
    "os.makedirs(dst_path_lbl, exist_ok=True)\n",
    "\n",
    "for idx, img_path in enumerate(all_image_paths):    \n",
    "    if verbose:\n",
    "#         if idx % 100 == 0:\n",
    "            print(f\"working on image {all_image_names[idx].replace('.png', '')}\")\n",
    "    start = time.time()\n",
    "    large_img_arr = image_processing_utils.read_png_file(image_path=all_image_paths[idx])\n",
    "    large_lbl_arr = image_processing_utils.read_png_file(image_path=all_label_paths[idx])\n",
    "    \n",
    "#     large_lbl_arr_2d = image_processing_utils.replace_rgb_to_class(large_lbl_arr, \n",
    "#                                                                    unknown_zero_flag=True)\n",
    "    current_time = time.time()\n",
    "    if verbose:\n",
    "#         if idx % 100 == 0:\n",
    "            print(f'loading images took: {current_time - start}')\n",
    "    \n",
    "    image_processing_utils.devide_small_image(\n",
    "        large_img_arr=large_img_arr, \n",
    "        large_lbl_arr_2d = large_lbl_arr, \n",
    "        image_size=image_size, \n",
    "        dst_path_lbl=dst_path_lbl, \n",
    "        dst_path_img=dst_path_img,\n",
    "        unknown_class=UNKNOWN_CLASS, \n",
    "        large_image_name=all_image_names[idx])\n",
    "    \n",
    "    current_time = time.time()\n",
    "    if verbose:\n",
    "#         if idx % 100 == 0:\n",
    "            print(f'deviding took: {current_time - start}')\n"
   ]
  },
  {
   "cell_type": "code",
   "execution_count": null,
   "id": "b36d66ed-3617-4c0d-9366-a8c043614c28",
   "metadata": {},
   "outputs": [],
   "source": []
  },
  {
   "cell_type": "markdown",
   "id": "21bb63d0-dfc4-4fae-a099-f384e36c00d6",
   "metadata": {},
   "source": [
    "# get all the images and labels into one directory"
   ]
  },
  {
   "cell_type": "code",
   "execution_count": 79,
   "id": "2478d0ae-5665-4a48-9a82-497e47c62238",
   "metadata": {},
   "outputs": [],
   "source": [
    "image_labels = ['image', 'label']\n",
    "src_path = '/media/saeid/LaCie/Saeid/segmentation/dataset/neurips dataset/After_revision/ml_final_version/test_set/png'\n",
    "dst_path = '/media/saeid/LaCie/Saeid/segmentation/dataset/neurips dataset/After_revision/ml_final_version/all_test_png'\n",
    "file_type = 'png'\n",
    "\n",
    "river_path_lists = glob.glob(os.path.join(src_path, '*'))\n",
    "\n",
    "for image_label in image_labels:\n",
    "    for river_path in river_path_lists:\n",
    "        \n",
    "        src_path_final = os.path.join(river_path, image_label)\n",
    "        dst_path_final = os.path.join(dst_path, image_label)\n",
    "        \n",
    "        image_processing_utils.move_all_files_to_dest(src_path_funct=src_path_final, \n",
    "                                                      dst_path_func=dst_path_final, \n",
    "                                                      file_type='png',)"
   ]
  },
  {
   "cell_type": "markdown",
   "id": "bc0642b6-b29e-4344-a9d1-5cf805b96670",
   "metadata": {},
   "source": [
    "# resize images"
   ]
  },
  {
   "cell_type": "code",
   "execution_count": 87,
   "id": "85fa1c09-d02a-484d-b950-147001815156",
   "metadata": {},
   "outputs": [
    {
     "data": {
      "text/plain": [
       "array([0, 1, 2, 3, 4], dtype=uint8)"
      ]
     },
     "execution_count": 87,
     "metadata": {},
     "output_type": "execute_result"
    }
   ],
   "source": [
    "size = (8000, 6000)\n",
    "src_image_path = '/media/saeid/LaCie/Saeid/segmentation/dataset/neurips dataset/After_revision/ml_final_version/all_train_png/label/33-2-436-164-33.png'\n",
    "userImage = Image.open(src_image_path)\n",
    "userImage = userImage.resize(size)\n",
    "\n",
    "# np.unique(userImage)\n",
    "userImage.save(\"/media/saeid/LaCie/Saeid/segmentation/dataset/neurips dataset/After_revision/ml_final_version/33-2-436-164-33.png\")"
   ]
  },
  {
   "cell_type": "markdown",
   "id": "53e11986-c42d-4586-bb26-cd7f9b1e4624",
   "metadata": {},
   "source": [
    "# Test HAIR 2023 MIOU issue"
   ]
  },
  {
   "cell_type": "code",
   "execution_count": 1,
   "id": "27f09bf7-9e37-4750-a150-8f7019694055",
   "metadata": {},
   "outputs": [
    {
     "ename": "NameError",
     "evalue": "name 'os' is not defined",
     "output_type": "error",
     "traceback": [
      "\u001b[0;31m---------------------------------------------------------------------------\u001b[0m",
      "\u001b[0;31mNameError\u001b[0m                                 Traceback (most recent call last)",
      "\u001b[0;32m/tmp/ipykernel_12934/91616202.py\u001b[0m in \u001b[0;36m<module>\u001b[0;34m\u001b[0m\n\u001b[1;32m      1\u001b[0m \u001b[0mfile_name\u001b[0m \u001b[0;34m=\u001b[0m \u001b[0;34m'33-2-436-165-23.tif'\u001b[0m\u001b[0;34m\u001b[0m\u001b[0;34m\u001b[0m\u001b[0m\n\u001b[1;32m      2\u001b[0m \u001b[0mbase_file\u001b[0m \u001b[0;34m=\u001b[0m \u001b[0;34m'/home/saeid/phd/segmentation/dataset/neurips dataset/2023 submission/dataset_division/all_test_tif/IOD'\u001b[0m\u001b[0;34m\u001b[0m\u001b[0;34m\u001b[0m\u001b[0m\n\u001b[0;32m----> 3\u001b[0;31m \u001b[0mimage_file_path\u001b[0m \u001b[0;34m=\u001b[0m \u001b[0mos\u001b[0m\u001b[0;34m.\u001b[0m\u001b[0mpath\u001b[0m\u001b[0;34m.\u001b[0m\u001b[0mjoin\u001b[0m\u001b[0;34m(\u001b[0m\u001b[0mbase_file\u001b[0m\u001b[0;34m,\u001b[0m \u001b[0;34m'image'\u001b[0m\u001b[0;34m,\u001b[0m \u001b[0mfile_name\u001b[0m\u001b[0;34m)\u001b[0m\u001b[0;34m\u001b[0m\u001b[0;34m\u001b[0m\u001b[0m\n\u001b[0m\u001b[1;32m      4\u001b[0m \u001b[0mlabel_file_path\u001b[0m \u001b[0;34m=\u001b[0m \u001b[0mos\u001b[0m\u001b[0;34m.\u001b[0m\u001b[0mpath\u001b[0m\u001b[0;34m.\u001b[0m\u001b[0mjoin\u001b[0m\u001b[0;34m(\u001b[0m\u001b[0mbase_file\u001b[0m\u001b[0;34m,\u001b[0m \u001b[0;34m'label'\u001b[0m\u001b[0;34m,\u001b[0m \u001b[0mfile_name\u001b[0m\u001b[0;34m)\u001b[0m\u001b[0;34m\u001b[0m\u001b[0;34m\u001b[0m\u001b[0m\n\u001b[1;32m      5\u001b[0m img = gdal_utils.read_tiff_file(image_file_path, \n",
      "\u001b[0;31mNameError\u001b[0m: name 'os' is not defined"
     ]
    }
   ],
   "source": [
    "file_name = '33-2-436-165-23.tif'\n",
    "base_file = '/home/saeid/phd/segmentation/dataset/neurips dataset/2023 submission/dataset_division/all_test_tif/IOD'\n",
    "image_file_path = os.path.join(base_file, 'image', file_name)\n",
    "label_file_path = os.path.join(base_file, 'label', file_name)\n",
    "img = gdal_utils.read_tiff_file(image_file_path, \n",
    "                               numpy_array_only=True)\n",
    "\n",
    "lbl = gdal_utils.read_tiff_file(label_file_path,\n",
    "                               numpy_array_only=True)"
   ]
  },
  {
   "cell_type": "code",
   "execution_count": 123,
   "id": "a31c0635-c8be-4708-b66c-ca4a12abefa3",
   "metadata": {},
   "outputs": [],
   "source": [
    "from costum_arild.source.Nips_test_miou import predict_model_one_image\n",
    "from costum_arild.source.utils import miou_utils"
   ]
  },
  {
   "cell_type": "code",
   "execution_count": 105,
   "id": "0a8cf5c5-3991-4ce5-8412-41d9836416d2",
   "metadata": {},
   "outputs": [
    {
     "name": "stdout",
     "output_type": "stream",
     "text": [
      "load model with Adam optimizer\n"
     ]
    }
   ],
   "source": [
    "# load the model\n",
    "model_path = '/home/saeid/phd/segmentation/dataset/neurips dataset/2023 submission/exp/deeplab/2023-04-08_11:52:38.972098_deeplabv3_resnet50_freeze_0/model.hdf5'\n",
    "\n",
    "lr = 0.01\n",
    "\n",
    "model_loaded = model_utils.load_model(model_file_path=model_path, \n",
    "                                      have_lr_scheduler=True, \n",
    "                                      swin_transformer_flag=False,\n",
    "                                      lr=lr)"
   ]
  },
  {
   "cell_type": "code",
   "execution_count": 120,
   "id": "3ea5917e-c7f6-44f3-9ca8-42afba53efd0",
   "metadata": {},
   "outputs": [],
   "source": [
    "prd = predict_model_one_image(\n",
    "    model_fn=model_loaded,\n",
    "    big_image_path_fn=image_file_path,\n",
    "    image_size=512,\n",
    "    big_image_shape=(\n",
    "    img.shape[0], img.shape[1]),\n",
    "    median_after_segmentation=False,)\n",
    "\n",
    "# get the miou of single image\n",
    "if lbl.ndim > 2:\n",
    "    lbl = lbl[:, :, 0]\n",
    "# get the miou of single image\n",
    "if prd.ndim > 2:\n",
    "    prd = prd[:, :, 0]"
   ]
  },
  {
   "cell_type": "code",
   "execution_count": 121,
   "id": "3f6dc0e1-ac02-412e-89e3-bbdb1d45dd77",
   "metadata": {},
   "outputs": [
    {
     "data": {
      "text/plain": [
       "((6000, 8000), (6000, 8000))"
      ]
     },
     "execution_count": 121,
     "metadata": {},
     "output_type": "execute_result"
    }
   ],
   "source": [
    "lbl.shape, prd.shape"
   ]
  },
  {
   "cell_type": "code",
   "execution_count": 128,
   "id": "3c0dcb33-ad32-4759-ab2f-90f20d0e0a67",
   "metadata": {},
   "outputs": [],
   "source": [
    "conf, iou = miou_utils.get_cof_arr(true_label=lbl,\n",
    "                 predict_label=prd,\n",
    "                 number_classes=6)"
   ]
  },
  {
   "cell_type": "code",
   "execution_count": 132,
   "id": "2be48fd8-36a0-4c27-8130-c7dbec0327d2",
   "metadata": {},
   "outputs": [],
   "source": [
    "intersect = np.diag(conf) \n",
    "union = np.maximum(1.0, conf.sum(axis=1) +\n",
    "            conf.sum(axis=0) - np.diag(conf))\n",
    "IU = np.nan_to_num(intersect / union)"
   ]
  },
  {
   "cell_type": "code",
   "execution_count": 137,
   "id": "26c0ad3e-1ff7-401e-92d5-069f96a344ef",
   "metadata": {},
   "outputs": [
    {
     "data": {
      "text/plain": [
       "array([0.9965184 , 0.        , 0.98925341, 0.        , 0.76810751,\n",
       "       0.        ])"
      ]
     },
     "execution_count": 137,
     "metadata": {},
     "output_type": "execute_result"
    }
   ],
   "source": [
    "iou"
   ]
  },
  {
   "cell_type": "code",
   "execution_count": 136,
   "id": "da5a039f-0b20-4c38-bf1a-e8f437010177",
   "metadata": {},
   "outputs": [
    {
     "ename": "ValueError",
     "evalue": "Target is multiclass but average='binary'. Please choose another average setting, one of [None, 'micro', 'macro', 'weighted'].",
     "output_type": "error",
     "traceback": [
      "\u001b[0;31m---------------------------------------------------------------------------\u001b[0m",
      "\u001b[0;31mValueError\u001b[0m                                Traceback (most recent call last)",
      "\u001b[0;32m/tmp/ipykernel_67359/3389958068.py\u001b[0m in \u001b[0;36m<module>\u001b[0;34m\u001b[0m\n\u001b[1;32m      1\u001b[0m \u001b[0;32mfrom\u001b[0m \u001b[0msklearn\u001b[0m\u001b[0;34m.\u001b[0m\u001b[0mmetrics\u001b[0m \u001b[0;32mimport\u001b[0m \u001b[0mjaccard_score\u001b[0m\u001b[0;34m\u001b[0m\u001b[0;34m\u001b[0m\u001b[0m\n\u001b[1;32m      2\u001b[0m \u001b[0;34m\u001b[0m\u001b[0m\n\u001b[0;32m----> 3\u001b[0;31m \u001b[0mjaccard_score\u001b[0m\u001b[0;34m(\u001b[0m\u001b[0mlbl\u001b[0m\u001b[0;34m.\u001b[0m\u001b[0mflatten\u001b[0m\u001b[0;34m(\u001b[0m\u001b[0;34m)\u001b[0m\u001b[0;34m,\u001b[0m \u001b[0mprd\u001b[0m\u001b[0;34m.\u001b[0m\u001b[0mflatten\u001b[0m\u001b[0;34m(\u001b[0m\u001b[0;34m)\u001b[0m\u001b[0;34m)\u001b[0m\u001b[0;34m\u001b[0m\u001b[0;34m\u001b[0m\u001b[0m\n\u001b[0m",
      "\u001b[0;32m~/anaconda3/envs/arildenv/lib/python3.7/site-packages/sklearn/utils/validation.py\u001b[0m in \u001b[0;36minner_f\u001b[0;34m(*args, **kwargs)\u001b[0m\n\u001b[1;32m     61\u001b[0m             \u001b[0mextra_args\u001b[0m \u001b[0;34m=\u001b[0m \u001b[0mlen\u001b[0m\u001b[0;34m(\u001b[0m\u001b[0margs\u001b[0m\u001b[0;34m)\u001b[0m \u001b[0;34m-\u001b[0m \u001b[0mlen\u001b[0m\u001b[0;34m(\u001b[0m\u001b[0mall_args\u001b[0m\u001b[0;34m)\u001b[0m\u001b[0;34m\u001b[0m\u001b[0;34m\u001b[0m\u001b[0m\n\u001b[1;32m     62\u001b[0m             \u001b[0;32mif\u001b[0m \u001b[0mextra_args\u001b[0m \u001b[0;34m<=\u001b[0m \u001b[0;36m0\u001b[0m\u001b[0;34m:\u001b[0m\u001b[0;34m\u001b[0m\u001b[0;34m\u001b[0m\u001b[0m\n\u001b[0;32m---> 63\u001b[0;31m                 \u001b[0;32mreturn\u001b[0m \u001b[0mf\u001b[0m\u001b[0;34m(\u001b[0m\u001b[0;34m*\u001b[0m\u001b[0margs\u001b[0m\u001b[0;34m,\u001b[0m \u001b[0;34m**\u001b[0m\u001b[0mkwargs\u001b[0m\u001b[0;34m)\u001b[0m\u001b[0;34m\u001b[0m\u001b[0;34m\u001b[0m\u001b[0m\n\u001b[0m\u001b[1;32m     64\u001b[0m \u001b[0;34m\u001b[0m\u001b[0m\n\u001b[1;32m     65\u001b[0m             \u001b[0;31m# extra_args > 0\u001b[0m\u001b[0;34m\u001b[0m\u001b[0;34m\u001b[0m\u001b[0;34m\u001b[0m\u001b[0m\n",
      "\u001b[0;32m~/anaconda3/envs/arildenv/lib/python3.7/site-packages/sklearn/metrics/_classification.py\u001b[0m in \u001b[0;36mjaccard_score\u001b[0;34m(y_true, y_pred, labels, pos_label, average, sample_weight, zero_division)\u001b[0m\n\u001b[1;32m    760\u001b[0m     \"\"\"\n\u001b[1;32m    761\u001b[0m     labels = _check_set_wise_labels(y_true, y_pred, average, labels,\n\u001b[0;32m--> 762\u001b[0;31m                                     pos_label)\n\u001b[0m\u001b[1;32m    763\u001b[0m     \u001b[0msamplewise\u001b[0m \u001b[0;34m=\u001b[0m \u001b[0maverage\u001b[0m \u001b[0;34m==\u001b[0m \u001b[0;34m'samples'\u001b[0m\u001b[0;34m\u001b[0m\u001b[0;34m\u001b[0m\u001b[0m\n\u001b[1;32m    764\u001b[0m     MCM = multilabel_confusion_matrix(y_true, y_pred,\n",
      "\u001b[0;32m~/anaconda3/envs/arildenv/lib/python3.7/site-packages/sklearn/metrics/_classification.py\u001b[0m in \u001b[0;36m_check_set_wise_labels\u001b[0;34m(y_true, y_pred, average, labels, pos_label)\u001b[0m\n\u001b[1;32m   1294\u001b[0m             raise ValueError(\"Target is %s but average='binary'. Please \"\n\u001b[1;32m   1295\u001b[0m                              \u001b[0;34m\"choose another average setting, one of %r.\"\u001b[0m\u001b[0;34m\u001b[0m\u001b[0;34m\u001b[0m\u001b[0m\n\u001b[0;32m-> 1296\u001b[0;31m                              % (y_type, average_options))\n\u001b[0m\u001b[1;32m   1297\u001b[0m     \u001b[0;32melif\u001b[0m \u001b[0mpos_label\u001b[0m \u001b[0;32mnot\u001b[0m \u001b[0;32min\u001b[0m \u001b[0;34m(\u001b[0m\u001b[0;32mNone\u001b[0m\u001b[0;34m,\u001b[0m \u001b[0;36m1\u001b[0m\u001b[0;34m)\u001b[0m\u001b[0;34m:\u001b[0m\u001b[0;34m\u001b[0m\u001b[0;34m\u001b[0m\u001b[0m\n\u001b[1;32m   1298\u001b[0m         warnings.warn(\"Note that pos_label (set to %r) is ignored when \"\n",
      "\u001b[0;31mValueError\u001b[0m: Target is multiclass but average='binary'. Please choose another average setting, one of [None, 'micro', 'macro', 'weighted']."
     ]
    }
   ],
   "source": [
    "from sklearn.metrics import jaccard_score\n",
    "\n",
    "jaccard_score(lbl.flatten(), prd.flatten())"
   ]
  },
  {
   "cell_type": "code",
   "execution_count": null,
   "id": "0c1f42bd-b63b-489f-8edf-421072519fa8",
   "metadata": {},
   "outputs": [],
   "source": []
  },
  {
   "cell_type": "code",
   "execution_count": 85,
   "id": "015dedce-5643-4c02-a5d2-ea9693dc26e7",
   "metadata": {},
   "outputs": [],
   "source": [
    "# get black and white\n",
    "from PIL import Image\n",
    "img1 = np.array(Image.fromarray(img.squeeze()).convert('L'))\n",
    "\n",
    "img2 = np.array(Image.fromarray(img2.squeeze()).convert('L'))"
   ]
  },
  {
   "cell_type": "code",
   "execution_count": 30,
   "id": "63f226a4-6b68-450a-b475-13e6d982c11b",
   "metadata": {},
   "outputs": [
    {
     "name": "stdout",
     "output_type": "stream",
     "text": [
      "it is > 2\n"
     ]
    },
    {
     "ename": "TypeError",
     "evalue": "Cannot handle this data type: (1, 1, 1), <i2",
     "output_type": "error",
     "traceback": [
      "\u001b[0;31m---------------------------------------------------------------------------\u001b[0m",
      "\u001b[0;31mKeyError\u001b[0m                                  Traceback (most recent call last)",
      "\u001b[0;32m~/anaconda3/envs/arildenv/lib/python3.7/site-packages/PIL/Image.py\u001b[0m in \u001b[0;36mfromarray\u001b[0;34m(obj, mode)\u001b[0m\n\u001b[1;32m   2771\u001b[0m         \u001b[0;32mtry\u001b[0m\u001b[0;34m:\u001b[0m\u001b[0;34m\u001b[0m\u001b[0;34m\u001b[0m\u001b[0m\n\u001b[0;32m-> 2772\u001b[0;31m             \u001b[0mmode\u001b[0m\u001b[0;34m,\u001b[0m \u001b[0mrawmode\u001b[0m \u001b[0;34m=\u001b[0m \u001b[0m_fromarray_typemap\u001b[0m\u001b[0;34m[\u001b[0m\u001b[0mtypekey\u001b[0m\u001b[0;34m]\u001b[0m\u001b[0;34m\u001b[0m\u001b[0;34m\u001b[0m\u001b[0m\n\u001b[0m\u001b[1;32m   2773\u001b[0m         \u001b[0;32mexcept\u001b[0m \u001b[0mKeyError\u001b[0m \u001b[0;32mas\u001b[0m \u001b[0me\u001b[0m\u001b[0;34m:\u001b[0m\u001b[0;34m\u001b[0m\u001b[0;34m\u001b[0m\u001b[0m\n",
      "\u001b[0;31mKeyError\u001b[0m: ((1, 1, 1), '<i2')",
      "\nThe above exception was the direct cause of the following exception:\n",
      "\u001b[0;31mTypeError\u001b[0m                                 Traceback (most recent call last)",
      "\u001b[0;32m/tmp/ipykernel_67359/550688723.py\u001b[0m in \u001b[0;36m<module>\u001b[0;34m\u001b[0m\n\u001b[1;32m     15\u001b[0m \u001b[0;31m# get black and white\u001b[0m\u001b[0;34m\u001b[0m\u001b[0;34m\u001b[0m\u001b[0;34m\u001b[0m\u001b[0m\n\u001b[1;32m     16\u001b[0m \u001b[0;32mfrom\u001b[0m \u001b[0mPIL\u001b[0m \u001b[0;32mimport\u001b[0m \u001b[0mImage\u001b[0m\u001b[0;34m\u001b[0m\u001b[0;34m\u001b[0m\u001b[0m\n\u001b[0;32m---> 17\u001b[0;31m \u001b[0mimage_matrix\u001b[0m \u001b[0;34m=\u001b[0m \u001b[0mnp\u001b[0m\u001b[0;34m.\u001b[0m\u001b[0marray\u001b[0m\u001b[0;34m(\u001b[0m\u001b[0mImage\u001b[0m\u001b[0;34m.\u001b[0m\u001b[0mfromarray\u001b[0m\u001b[0;34m(\u001b[0m\u001b[0mimage_matrix\u001b[0m\u001b[0;34m)\u001b[0m\u001b[0;34m.\u001b[0m\u001b[0mconvert\u001b[0m\u001b[0;34m(\u001b[0m\u001b[0;34m'L'\u001b[0m\u001b[0;34m)\u001b[0m\u001b[0;34m)\u001b[0m\u001b[0;34m\u001b[0m\u001b[0;34m\u001b[0m\u001b[0m\n\u001b[0m\u001b[1;32m     18\u001b[0m \u001b[0mimage_ds\u001b[0m \u001b[0;34m=\u001b[0m \u001b[0;32mNone\u001b[0m\u001b[0;34m\u001b[0m\u001b[0;34m\u001b[0m\u001b[0m\n",
      "\u001b[0;32m~/anaconda3/envs/arildenv/lib/python3.7/site-packages/PIL/Image.py\u001b[0m in \u001b[0;36mfromarray\u001b[0;34m(obj, mode)\u001b[0m\n\u001b[1;32m   2772\u001b[0m             \u001b[0mmode\u001b[0m\u001b[0;34m,\u001b[0m \u001b[0mrawmode\u001b[0m \u001b[0;34m=\u001b[0m \u001b[0m_fromarray_typemap\u001b[0m\u001b[0;34m[\u001b[0m\u001b[0mtypekey\u001b[0m\u001b[0;34m]\u001b[0m\u001b[0;34m\u001b[0m\u001b[0;34m\u001b[0m\u001b[0m\n\u001b[1;32m   2773\u001b[0m         \u001b[0;32mexcept\u001b[0m \u001b[0mKeyError\u001b[0m \u001b[0;32mas\u001b[0m \u001b[0me\u001b[0m\u001b[0;34m:\u001b[0m\u001b[0;34m\u001b[0m\u001b[0;34m\u001b[0m\u001b[0m\n\u001b[0;32m-> 2774\u001b[0;31m             \u001b[0;32mraise\u001b[0m \u001b[0mTypeError\u001b[0m\u001b[0;34m(\u001b[0m\u001b[0;34m\"Cannot handle this data type: %s, %s\"\u001b[0m \u001b[0;34m%\u001b[0m \u001b[0mtypekey\u001b[0m\u001b[0;34m)\u001b[0m \u001b[0;32mfrom\u001b[0m \u001b[0me\u001b[0m\u001b[0;34m\u001b[0m\u001b[0;34m\u001b[0m\u001b[0m\n\u001b[0m\u001b[1;32m   2775\u001b[0m     \u001b[0;32melse\u001b[0m\u001b[0;34m:\u001b[0m\u001b[0;34m\u001b[0m\u001b[0;34m\u001b[0m\u001b[0m\n\u001b[1;32m   2776\u001b[0m         \u001b[0mrawmode\u001b[0m \u001b[0;34m=\u001b[0m \u001b[0mmode\u001b[0m\u001b[0;34m\u001b[0m\u001b[0;34m\u001b[0m\u001b[0m\n",
      "\u001b[0;31mTypeError\u001b[0m: Cannot handle this data type: (1, 1, 1), <i2"
     ]
    }
   ],
   "source": [
    "# Load image\n",
    "import gdal\n",
    "\n",
    "image_ds = gdal.Open(image_file_path)\n",
    "geo_transform = image_ds.GetGeoTransform()\n",
    "projection = image_ds.GetProjection()\n",
    "# check the number of rasters\n",
    "image_matrix = np.array(([image_ds.GetRasterBand(\n",
    "    band_idx+1).ReadAsArray() for band_idx in range(image_ds.RasterCount)]))\n",
    "\n",
    "if len(image_matrix.shape) > 2:\n",
    "    # get (x,y, channel) form\n",
    "    print('it is > 2')\n",
    "    image_matrix = np.transpose(image_matrix, axes=[1, 2, 0])\n",
    "# get black and white\n",
    "from PIL import Image\n",
    "image_matrix = np.array(Image.fromarray(image_matrix).convert('L'))\n",
    "image_ds = None"
   ]
  },
  {
   "cell_type": "code",
   "execution_count": 31,
   "id": "41c9757b-9ef8-4998-b2a3-4f2750980faa",
   "metadata": {},
   "outputs": [
    {
     "data": {
      "text/plain": [
       "<matplotlib.image.AxesImage at 0x7fb4dbace9d0>"
      ]
     },
     "execution_count": 31,
     "metadata": {},
     "output_type": "execute_result"
    },
    {
     "data": {
      "image/png": "[encoded data removed]",
      "text/plain": [
       "<Figure size 432x288 with 1 Axes>"
      ]
     },
     "metadata": {
      "needs_background": "light"
     },
     "output_type": "display_data"
    }
   ],
   "source": [
    "plt.imshow(img)"
   ]
  },
  {
   "cell_type": "code",
   "execution_count": null,
   "id": "7196fcf1-79dd-4422-b95b-b8ef5f424039",
   "metadata": {},
   "outputs": [],
   "source": []
  }
 ],
 "metadata": {
  "kernelspec": {
   "display_name": "Python 3 (ipykernel)",
   "language": "python",
   "name": "python3"
  },
  "language_info": {
   "codemirror_mode": {
    "name": "ipython",
    "version": 3
   },
   "file_extension": ".py",
   "mimetype": "text/x-python",
   "name": "python",
   "nbconvert_exporter": "python",
   "pygments_lexer": "ipython3",
   "version": "3.7.7"
  }
 },
 "nbformat": 4,
 "nbformat_minor": 5
}
