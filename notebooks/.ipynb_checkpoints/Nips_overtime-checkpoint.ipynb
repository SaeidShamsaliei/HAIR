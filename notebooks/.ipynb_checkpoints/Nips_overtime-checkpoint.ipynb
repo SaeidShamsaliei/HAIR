{
 "cells": [
  {
   "cell_type": "code",
   "execution_count": 2,
   "id": "52daa801-8703-459b-b35c-16004caf7048",
   "metadata": {},
   "outputs": [],
   "source": [
    "# this notebook will read the results to show"
   ]
  },
  {
   "cell_type": "code",
   "execution_count": 3,
   "id": "bd906bda-890c-4bd4-ba55-3d5855ad9b8c",
   "metadata": {},
   "outputs": [],
   "source": [
    "%load_ext autoreload"
   ]
  },
  {
   "cell_type": "code",
   "execution_count": 4,
   "id": "7e8d0507-83b4-4225-94c7-36b78443a7b8",
   "metadata": {},
   "outputs": [
    {
     "name": "stderr",
     "output_type": "stream",
     "text": [
      "2022-07-01 17:03:14.358592: I tensorflow/stream_executor/platform/default/dso_loader.cc:49] Successfully opened dynamic library libcudart.so.10.1\n"
     ]
    }
   ],
   "source": [
    "%autoreload\n",
    "import random\n",
    "import numpy as np\n",
    "import sys\n",
    "import os\n",
    "import glob\n",
    "import imageio\n",
    "import time\n",
    "import shutil\n",
    "import matplotlib.pyplot as plt\n",
    "sys.path.append(\"..\")\n",
    "from scipy import ndimage, signal\n",
    "from cv2 import medianBlur\n",
    "\n",
    "from PIL import Image\n",
    "Image.MAX_IMAGE_PIXELS = None\n",
    "from costum_arild.source.utils import image_processing_utils, model_utils, gdal_utils"
   ]
  },
  {
   "cell_type": "code",
   "execution_count": 5,
   "id": "3077c46e-e16c-47cb-b376-5f109c3a430e",
   "metadata": {},
   "outputs": [],
   "source": [
    "def dataset_split_train_vlidation_test_notebook(src_path, dst_path, train_rate=0.7,\n",
    "                                       val_rate=0.2, test_rate=0.1):\n",
    "    \"\"\"\n",
    "    function to split train validation and test based on the rate\n",
    "    \"\"\"\n",
    "    src_imgs_list = glob.glob(os.path.join(src_path, 'image', '*.png'))\n",
    "    src_lbls_list = glob.glob(os.path.join(src_path, 'label', '*.png'))\n",
    "    print(f'there are {len(src_imgs_list)} images')\n",
    "    if len(src_imgs_list) != len(src_lbls_list):\n",
    "        raise ValueError('len of image and label are not the same')\n",
    "\n",
    "    index = np.arange(len(src_imgs_list))\n",
    "    np.random.shuffle(index)\n",
    "    train_end = round(train_rate * len(src_imgs_list))\n",
    "    val_end = round((train_rate+val_rate) * len(src_imgs_list))\n",
    "\n",
    "    train_img_paths = [src_imgs_list[idx] for idx in index[:train_end]]\n",
    "    train_lbl_paths = [src_lbls_list[idx] for idx in index[:train_end]]\n",
    "\n",
    "    val_img_paths = [src_imgs_list[idx] for idx in index[train_end:val_end]]\n",
    "    val_lbl_paths = [src_lbls_list[idx] for idx in index[train_end:val_end]]\n",
    "\n",
    "    test_img_paths = [src_imgs_list[idx] for idx in index[val_end:]]\n",
    "    test_lbl_paths = [src_lbls_list[idx] for idx in index[val_end:]]\n",
    "\n",
    "    # check if train image and labels are the same\n",
    "    dest_img_path = os.path.join(dst_path, 'trian', 'image', 'img')\n",
    "    dest_lbl_path = os.path.join(dst_path, 'trian', 'label', 'img')\n",
    "    os.makedirs(dest_img_path, exist_ok=True)\n",
    "    os.makedirs(dest_lbl_path, exist_ok=True)\n",
    "    for idx in range(len(train_img_paths)):\n",
    "        if os.path.split(train_img_paths[idx])[-1] != os.path.split(train_lbl_paths[idx])[-1]:\n",
    "            print(\n",
    "                f'{os.path.split(train_img_paths[idx])[-1]} != {os.path.split(train_lbl_paths[idx])[-1]}')\n",
    "        file_name = os.path.split(train_img_paths[idx])[-1]\n",
    "        # move the image\n",
    "        shutil.copyfile(src=train_img_paths[idx], dst=os.path.join(\n",
    "            dest_img_path, file_name))\n",
    "        # move the label\n",
    "        shutil.copyfile(src=train_lbl_paths[idx], dst=os.path.join(\n",
    "            dest_lbl_path, file_name))\n",
    "\n",
    "    # check if val image and labels are the same\n",
    "    dest_img_path = os.path.join(dst_path, 'val', 'image', 'img')\n",
    "    dest_lbl_path = os.path.join(dst_path, 'val', 'label', 'img')\n",
    "    os.makedirs(dest_img_path, exist_ok=True)\n",
    "    os.makedirs(dest_lbl_path, exist_ok=True)\n",
    "    for idx in range(len(val_img_paths)):\n",
    "        if os.path.split(val_img_paths[idx])[-1] != os.path.split(val_lbl_paths[idx])[-1]:\n",
    "            print(\n",
    "                f'{os.path.split(val_img_paths[idx])[-1]} != {os.path.split(val_lbl_paths[idx])[-1]}')\n",
    "        file_name = os.path.split(val_img_paths[idx])[-1]\n",
    "        # move the image\n",
    "        shutil.copyfile(src=val_img_paths[idx], dst=os.path.join(\n",
    "            dest_img_path, file_name))\n",
    "        # move the label\n",
    "        shutil.copyfile(src=val_lbl_paths[idx], dst=os.path.join(\n",
    "            dest_lbl_path, file_name))\n",
    "\n",
    "    # check if test image and labels are the same\n",
    "    dest_img_path = os.path.join(dst_path, 'test', 'image', 'img')\n",
    "    dest_lbl_path = os.path.join(dst_path, 'test', 'label', 'img')\n",
    "    os.makedirs(dest_img_path, exist_ok=True)\n",
    "    os.makedirs(dest_lbl_path, exist_ok=True)\n",
    "    for idx in range(len(test_img_paths)):\n",
    "        if os.path.split(test_img_paths[idx])[-1] != os.path.split(test_lbl_paths[idx])[-1]:\n",
    "            print(\n",
    "                f'{os.path.split(test_img_paths[idx])[-1]} != {os.path.split(test_lbl_paths[idx])[-1]}')\n",
    "        file_name = os.path.split(test_img_paths[idx])[-1]\n",
    "        # move the image\n",
    "        shutil.copyfile(src=test_img_paths[idx], dst=os.path.join(\n",
    "            dest_img_path, file_name))\n",
    "        # move the label\n",
    "        shutil.copyfile(src=test_lbl_paths[idx], dst=os.path.join(\n",
    "            dest_lbl_path, file_name))"
   ]
  },
  {
   "cell_type": "code",
   "execution_count": null,
   "id": "8f5b1f12-04f3-4bdf-9242-438f0e40e86b",
   "metadata": {},
   "outputs": [],
   "source": [
    "train_rate=0.8\n",
    "val_rate=0.2\n",
    "\n",
    "\n",
    "src_path = '/home/saeid/phd/segmentation/dataset/new_dataset/AAAI_ex2/devided/nea_orkla_g_512'\n",
    "dst_path = '/home/saeid/phd/segmentation/dataset/new_dataset/AAAI_ex2/devided/512'\n",
    "\n",
    "dataset_split_train_vlidation_test_notebook(\n",
    "                                    src_path=src_path, dst_path=dst_path, \n",
    "                                    train_rate=train_rate,\n",
    "                                    val_rate=val_rate)"
   ]
  }
 ],
 "metadata": {
  "kernelspec": {
   "display_name": "Python 3 (ipykernel)",
   "language": "python",
   "name": "python3"
  },
  "language_info": {
   "codemirror_mode": {
    "name": "ipython",
    "version": 3
   },
   "file_extension": ".py",
   "mimetype": "text/x-python",
   "name": "python",
   "nbconvert_exporter": "python",
   "pygments_lexer": "ipython3",
   "version": "3.7.7"
  }
 },
 "nbformat": 4,
 "nbformat_minor": 5
}
