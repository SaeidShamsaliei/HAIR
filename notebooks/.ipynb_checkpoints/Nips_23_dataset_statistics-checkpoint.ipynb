{
 "cells": [
  {
   "cell_type": "markdown",
   "id": "00fffba7-a28c-4099-87fc-7a2270e4e071",
   "metadata": {},
   "source": [
    "# This notebook provides the statistics of the datsets"
   ]
  },
  {
   "cell_type": "code",
   "execution_count": 1,
   "id": "3ce7b201-9e58-4e9e-8e97-20b80723c749",
   "metadata": {},
   "outputs": [],
   "source": [
    "%load_ext autoreload"
   ]
  },
  {
   "cell_type": "code",
   "execution_count": 2,
   "id": "04c2797b-571f-4543-9b3c-75b5feff65a3",
   "metadata": {},
   "outputs": [
    {
     "name": "stderr",
     "output_type": "stream",
     "text": [
      "2022-06-08 13:48:49.236923: I tensorflow/stream_executor/platform/default/dso_loader.cc:49] Successfully opened dynamic library libcudart.so.10.1\n"
     ]
    }
   ],
   "source": [
    "%autoreload\n",
    "import numpy as np\n",
    "import pandas as pd\n",
    "import sys\n",
    "import os\n",
    "import glob\n",
    "import imageio\n",
    "import time\n",
    "from scipy import ndimage, signal\n",
    "from cv2 import medianBlur\n",
    "\n",
    "sys.path.append(\"..\")\n",
    "\n",
    "from PIL import Image\n",
    "from costum_arild.source.utils import image_processing_utils, gdal_utils\n",
    "from costum_arild.source.data_processing import TrainingImage"
   ]
  },
  {
   "cell_type": "code",
   "execution_count": 3,
   "id": "c473456d-156d-42eb-89ed-20f5b4740e3b",
   "metadata": {},
   "outputs": [],
   "source": [
    "def class_count_list_dataframe(class_count_list, unknown_zero):\n",
    "    class_df = pd.DataFrame(class_count_list, dtype='float32')\n",
    "\n",
    "    class_df.loc['class_sum'] = class_df.sum(axis=0)\n",
    "\n",
    "    if unknown_zero == True:\n",
    "        class_df = class_df.rename(columns={5: \"W\", 1: \"G\", 2: \"V\", 3: \"F\", 4: \"A\", 0: \"U\"})\n",
    "    else:\n",
    "        class_df = class_df.rename(columns={0: \"W\", 1: \"G\", 2: \"V\", 3: \"F\", 4: \"A\", 5: \"U\"})\n",
    "\n",
    "    class_df.loc['class_sum_percent'] = ((class_df.loc['class_sum'] / class_df.loc['class_sum'].sum()) * 100)\n",
    "    pd.set_option('display.float_format', lambda x: '%.2f' % x)\n",
    "    return class_df"
   ]
  },
  {
   "cell_type": "code",
   "execution_count": 4,
   "id": "eb740c64-d9a5-421a-8eab-3b3037fca2b4",
   "metadata": {},
   "outputs": [],
   "source": [
    "dest_save = '/home/saeid/phd/segmentation/dataset/neurips dataset/dataset_division/all_train_png/dataset_statistics'"
   ]
  },
  {
   "cell_type": "markdown",
   "id": "161895f7-0aa9-4586-af2c-fb82bb0ca58a",
   "metadata": {
    "tags": []
   },
   "source": [
    "# new image"
   ]
  },
  {
   "cell_type": "markdown",
   "id": "2b4e02ef-9cdd-44e4-9414-6a90f1af4d07",
   "metadata": {},
   "source": [
    "### ex1"
   ]
  },
  {
   "cell_type": "markdown",
   "id": "856fa8ed-fe61-46d9-b486-1149b89382fb",
   "metadata": {},
   "source": [
    "the first version of dataset"
   ]
  },
  {
   "cell_type": "code",
   "execution_count": 5,
   "id": "95089e5c-c587-4227-9222-fead0b415e35",
   "metadata": {},
   "outputs": [],
   "source": [
    "new_dataset = None"
   ]
  },
  {
   "cell_type": "code",
   "execution_count": 6,
   "id": "5baf629f-0ab9-4c30-92af-9d2be2946b67",
   "metadata": {},
   "outputs": [],
   "source": [
    "all_lbl_path_train = '/home/saeid/phd/segmentation/dataset/neurips dataset/dataset_division/all_train_png/EX2/trian/label/img'\n",
    "all_lbl_path_val = '/home/saeid/phd/segmentation/dataset/neurips dataset/dataset_division/all_train_png/EX2/val/label/img'\n",
    "\n",
    "all_lbl_class_count_train = image_processing_utils.count_class_list_directory_2d(all_lbl_path_train)\n",
    "all_lbl_class_count_val = image_processing_utils.count_class_list_directory_2d(all_lbl_path_val)"
   ]
  },
  {
   "cell_type": "code",
   "execution_count": 7,
   "id": "7f24f9d5-6da3-446a-ac87-5a41e298245d",
   "metadata": {},
   "outputs": [],
   "source": [
    "all_lbl_class_count = all_lbl_class_count_train + all_lbl_class_count_val"
   ]
  },
  {
   "cell_type": "markdown",
   "id": "66e7073e-d5cd-4782-b019-34ee63214a2a",
   "metadata": {},
   "source": [
    "all images"
   ]
  },
  {
   "cell_type": "code",
   "execution_count": 8,
   "id": "614793fb-ba20-4b8d-9ad8-e3d54560b7c5",
   "metadata": {},
   "outputs": [
    {
     "data": {
      "text/html": [
       "<div>\n",
       "<style scoped>\n",
       "    .dataframe tbody tr th:only-of-type {\n",
       "        vertical-align: middle;\n",
       "    }\n",
       "\n",
       "    .dataframe tbody tr th {\n",
       "        vertical-align: top;\n",
       "    }\n",
       "\n",
       "    .dataframe thead th {\n",
       "        text-align: right;\n",
       "    }\n",
       "</style>\n",
       "<table border=\"1\" class=\"dataframe\">\n",
       "  <thead>\n",
       "    <tr style=\"text-align: right;\">\n",
       "      <th></th>\n",
       "      <th>class_sum_percent</th>\n",
       "    </tr>\n",
       "  </thead>\n",
       "  <tbody>\n",
       "    <tr>\n",
       "      <th>U</th>\n",
       "      <td>0.51</td>\n",
       "    </tr>\n",
       "    <tr>\n",
       "      <th>G</th>\n",
       "      <td>1.96</td>\n",
       "    </tr>\n",
       "    <tr>\n",
       "      <th>V</th>\n",
       "      <td>62.87</td>\n",
       "    </tr>\n",
       "    <tr>\n",
       "      <th>F</th>\n",
       "      <td>25.01</td>\n",
       "    </tr>\n",
       "    <tr>\n",
       "      <th>A</th>\n",
       "      <td>3.92</td>\n",
       "    </tr>\n",
       "    <tr>\n",
       "      <th>W</th>\n",
       "      <td>5.73</td>\n",
       "    </tr>\n",
       "  </tbody>\n",
       "</table>\n",
       "</div>"
      ],
      "text/plain": [
       "   class_sum_percent\n",
       "U               0.51\n",
       "G               1.96\n",
       "V              62.87\n",
       "F              25.01\n",
       "A               3.92\n",
       "W               5.73"
      ]
     },
     "execution_count": 8,
     "metadata": {},
     "output_type": "execute_result"
    }
   ],
   "source": [
    "unknown_zero = True\n",
    "all_class_df = class_count_list_dataframe(class_count_list=all_lbl_class_count, unknown_zero=unknown_zero)\n",
    "new_dataset = all_class_df.loc['class_sum_percent'].to_frame()\n",
    "new_dataset = new_dataset.rename(columns={\"class_sum_percent\": \"initial\"})\n",
    "\n",
    "all_class_df.loc['class_sum_percent'].to_frame()"
   ]
  },
  {
   "cell_type": "markdown",
   "id": "27b0a67f-6f8f-481b-aa36-5acaed49ffa3",
   "metadata": {},
   "source": [
    "training images"
   ]
  },
  {
   "cell_type": "code",
   "execution_count": 9,
   "id": "5c10f4bd-dab2-4cb7-8101-7bead2d6467c",
   "metadata": {},
   "outputs": [
    {
     "data": {
      "text/html": [
       "<div>\n",
       "<style scoped>\n",
       "    .dataframe tbody tr th:only-of-type {\n",
       "        vertical-align: middle;\n",
       "    }\n",
       "\n",
       "    .dataframe tbody tr th {\n",
       "        vertical-align: top;\n",
       "    }\n",
       "\n",
       "    .dataframe thead th {\n",
       "        text-align: right;\n",
       "    }\n",
       "</style>\n",
       "<table border=\"1\" class=\"dataframe\">\n",
       "  <thead>\n",
       "    <tr style=\"text-align: right;\">\n",
       "      <th></th>\n",
       "      <th>class_sum_percent</th>\n",
       "    </tr>\n",
       "  </thead>\n",
       "  <tbody>\n",
       "    <tr>\n",
       "      <th>U</th>\n",
       "      <td>0.48</td>\n",
       "    </tr>\n",
       "    <tr>\n",
       "      <th>G</th>\n",
       "      <td>2.02</td>\n",
       "    </tr>\n",
       "    <tr>\n",
       "      <th>V</th>\n",
       "      <td>62.54</td>\n",
       "    </tr>\n",
       "    <tr>\n",
       "      <th>F</th>\n",
       "      <td>25.18</td>\n",
       "    </tr>\n",
       "    <tr>\n",
       "      <th>A</th>\n",
       "      <td>3.91</td>\n",
       "    </tr>\n",
       "    <tr>\n",
       "      <th>W</th>\n",
       "      <td>5.86</td>\n",
       "    </tr>\n",
       "  </tbody>\n",
       "</table>\n",
       "</div>"
      ],
      "text/plain": [
       "   class_sum_percent\n",
       "U               0.48\n",
       "G               2.02\n",
       "V              62.54\n",
       "F              25.18\n",
       "A               3.91\n",
       "W               5.86"
      ]
     },
     "execution_count": 9,
     "metadata": {},
     "output_type": "execute_result"
    }
   ],
   "source": [
    "unknown_zero = True\n",
    "all_class_df = class_count_list_dataframe(class_count_list=all_lbl_class_count_train, unknown_zero=unknown_zero)\n",
    "all_class_df.loc['class_sum_percent'].to_frame()"
   ]
  },
  {
   "cell_type": "code",
   "execution_count": 15,
   "id": "055914e6-157c-4898-8da5-f5ad0058e070",
   "metadata": {},
   "outputs": [
    {
     "data": {
      "image/png": "[encoded data removed]",
      "text/plain": [
       "<Figure size 432x288 with 1 Axes>"
      ]
     },
     "metadata": {
      "needs_background": "light"
     },
     "output_type": "display_data"
    }
   ],
   "source": [
    "%matplotlib inline\n",
    "import matplotlib.pyplot as plt\n",
    "\n",
    "old_dataset = all_class_df.loc['class_sum_percent'].to_frame()\n",
    "old_dataset = old_dataset.rename(columns={\"class_sum_percent\": \"class percentage\"})\n",
    "plot = old_dataset.plot.bar(legend=False, color='teal', width=0.85)\n",
    "\n",
    "for p in plot.patches:\n",
    "    plot.annotate(np.round(p.get_height(),decimals=2), (p.get_x()+p.get_width()/2., p.get_height()), ha='center', va='center', xytext=(0, 10), textcoords='offset points')\n",
    "\n",
    "plot.set(ylabel=\"Percentage, %\")\n",
    "\n",
    "fig = plot.get_figure()\n",
    "plot.set_ylim(0,70)\n",
    "plt.xticks(rotation='horizontal')\n",
    "fig.tight_layout()\n",
    "fig.savefig( os.path.join(dest_save, 'dataset_statistics_percent.pdf'))"
   ]
  },
  {
   "cell_type": "code",
   "execution_count": 36,
   "id": "d3c13cc6-362f-413e-ac0b-c1848707855f",
   "metadata": {},
   "outputs": [
    {
     "data": {
      "text/plain": [
       "'/home/saeid/phd/segmentation/dataset/neurips dataset/dataset_division/all_train_png/dataset_statistics'"
      ]
     },
     "execution_count": 36,
     "metadata": {},
     "output_type": "execute_result"
    }
   ],
   "source": [
    "dest_save"
   ]
  },
  {
   "cell_type": "code",
   "execution_count": null,
   "id": "aef519c2-6dc1-44b1-9594-524f27a0ba94",
   "metadata": {},
   "outputs": [],
   "source": []
  }
 ],
 "metadata": {
  "kernelspec": {
   "display_name": "Python 3 (ipykernel)",
   "language": "python",
   "name": "python3"
  },
  "language_info": {
   "codemirror_mode": {
    "name": "ipython",
    "version": 3
   },
   "file_extension": ".py",
   "mimetype": "text/x-python",
   "name": "python",
   "nbconvert_exporter": "python",
   "pygments_lexer": "ipython3",
   "version": "3.7.7"
  }
 },
 "nbformat": 4,
 "nbformat_minor": 5
}
