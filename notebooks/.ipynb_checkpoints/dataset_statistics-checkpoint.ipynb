{
 "cells": [
  {
   "cell_type": "markdown",
   "id": "00fffba7-a28c-4099-87fc-7a2270e4e071",
   "metadata": {},
   "source": [
    "# This notebook provides the statistics of the datsets"
   ]
  },
  {
   "cell_type": "code",
   "execution_count": 1,
   "id": "3ce7b201-9e58-4e9e-8e97-20b80723c749",
   "metadata": {},
   "outputs": [],
   "source": [
    "%load_ext autoreload"
   ]
  },
  {
   "cell_type": "code",
   "execution_count": 2,
   "id": "04c2797b-571f-4543-9b3c-75b5feff65a3",
   "metadata": {},
   "outputs": [
    {
     "name": "stderr",
     "output_type": "stream",
     "text": [
      "2022-04-15 19:11:31.228804: I tensorflow/stream_executor/platform/default/dso_loader.cc:49] Successfully opened dynamic library libcudart.so.10.1\n"
     ]
    }
   ],
   "source": [
    "%autoreload\n",
    "import numpy as np\n",
    "import pandas as pd\n",
    "import sys\n",
    "import os\n",
    "import glob\n",
    "import imageio\n",
    "import time\n",
    "from scipy import ndimage, signal\n",
    "from cv2 import medianBlur\n",
    "\n",
    "sys.path.append(\"..\")\n",
    "\n",
    "from PIL import Image\n",
    "from costum_arild.source.utils import image_processing_utils, gdal_utils\n",
    "from costum_arild.source.data_processing import TrainingImage"
   ]
  },
  {
   "cell_type": "code",
   "execution_count": 3,
   "id": "c473456d-156d-42eb-89ed-20f5b4740e3b",
   "metadata": {},
   "outputs": [],
   "source": [
    "def class_count_list_dataframe(class_count_list, unknown_zero):\n",
    "    class_df = pd.DataFrame(class_count_list, dtype='float32')\n",
    "\n",
    "    class_df.loc['class_sum'] = class_df.sum(axis=0)\n",
    "\n",
    "    if unknown_zero == True:\n",
    "        class_df = class_df.rename(columns={5: \"water\", 1: \"gravel\", 2: \"vegetation\", 3: \"farmland\", 4: \"h_c\", 0: \"unknown\"})\n",
    "    else:\n",
    "        class_df = class_df.rename(columns={0: \"water\", 1: \"gravel\", 2: \"vegetation\", 3: \"farmland\", 4: \"h_c\", 5: \"unknown\"})\n",
    "\n",
    "    class_df.loc['class_sum_percent'] = ((class_df.loc['class_sum'] / class_df.loc['class_sum'].sum()) * 100)\n",
    "    pd.set_option('display.float_format', lambda x: '%.2f' % x)\n",
    "    return class_df"
   ]
  },
  {
   "cell_type": "markdown",
   "id": "161895f7-0aa9-4586-af2c-fb82bb0ca58a",
   "metadata": {
    "tags": []
   },
   "source": [
    "# new image"
   ]
  },
  {
   "cell_type": "markdown",
   "id": "2b4e02ef-9cdd-44e4-9414-6a90f1af4d07",
   "metadata": {},
   "source": [
    "### ex1"
   ]
  },
  {
   "cell_type": "code",
   "execution_count": 4,
   "id": "eb740c64-d9a5-421a-8eab-3b3037fca2b4",
   "metadata": {},
   "outputs": [],
   "source": [
    "dest_save = '/home/saeid/phd/segmentation/experiments_testset_predictions/New_dataset_experiments/plots/dataset_statistics'"
   ]
  },
  {
   "cell_type": "markdown",
   "id": "856fa8ed-fe61-46d9-b486-1149b89382fb",
   "metadata": {},
   "source": [
    "the first version of dataset"
   ]
  },
  {
   "cell_type": "code",
   "execution_count": 56,
   "id": "95089e5c-c587-4227-9222-fead0b415e35",
   "metadata": {},
   "outputs": [],
   "source": [
    "new_dataset = None"
   ]
  },
  {
   "cell_type": "code",
   "execution_count": 57,
   "id": "5baf629f-0ab9-4c30-92af-9d2be2946b67",
   "metadata": {},
   "outputs": [],
   "source": [
    "all_lbl_path_train = '/home/saeid/phd/segmentation/dataset/new_dataset/Ex1_image_unknown0/train/label/img'\n",
    "all_lbl_path_val = '/home/saeid/phd/segmentation/dataset/new_dataset/Ex1_image_unknown0/val/label/img'\n",
    "all_lbl_path_test = '/home/saeid/phd/segmentation/dataset/new_dataset/Ex1_image_unknown0/test/label/img'\n",
    "\n",
    "all_lbl_class_count_train = image_processing_utils.count_class_list_directory_2d(all_lbl_path_train)\n",
    "all_lbl_class_count_val = image_processing_utils.count_class_list_directory_2d(all_lbl_path_val)\n",
    "all_lbl_class_count_test = image_processing_utils.count_class_list_directory_2d(all_lbl_path_test)"
   ]
  },
  {
   "cell_type": "code",
   "execution_count": 58,
   "id": "7f24f9d5-6da3-446a-ac87-5a41e298245d",
   "metadata": {},
   "outputs": [],
   "source": [
    "all_lbl_class_count = all_lbl_class_count_train + all_lbl_class_count_val + all_lbl_class_count_test"
   ]
  },
  {
   "cell_type": "markdown",
   "id": "66e7073e-d5cd-4782-b019-34ee63214a2a",
   "metadata": {},
   "source": [
    "all images"
   ]
  },
  {
   "cell_type": "code",
   "execution_count": 59,
   "id": "614793fb-ba20-4b8d-9ad8-e3d54560b7c5",
   "metadata": {},
   "outputs": [
    {
     "data": {
      "text/html": [
       "<div>\n",
       "<style scoped>\n",
       "    .dataframe tbody tr th:only-of-type {\n",
       "        vertical-align: middle;\n",
       "    }\n",
       "\n",
       "    .dataframe tbody tr th {\n",
       "        vertical-align: top;\n",
       "    }\n",
       "\n",
       "    .dataframe thead th {\n",
       "        text-align: right;\n",
       "    }\n",
       "</style>\n",
       "<table border=\"1\" class=\"dataframe\">\n",
       "  <thead>\n",
       "    <tr style=\"text-align: right;\">\n",
       "      <th></th>\n",
       "      <th>class_sum_percent</th>\n",
       "    </tr>\n",
       "  </thead>\n",
       "  <tbody>\n",
       "    <tr>\n",
       "      <th>unknown</th>\n",
       "      <td>0.59</td>\n",
       "    </tr>\n",
       "    <tr>\n",
       "      <th>gravel</th>\n",
       "      <td>2.10</td>\n",
       "    </tr>\n",
       "    <tr>\n",
       "      <th>vegetation</th>\n",
       "      <td>62.20</td>\n",
       "    </tr>\n",
       "    <tr>\n",
       "      <th>farmland</th>\n",
       "      <td>26.32</td>\n",
       "    </tr>\n",
       "    <tr>\n",
       "      <th>h_c</th>\n",
       "      <td>4.13</td>\n",
       "    </tr>\n",
       "    <tr>\n",
       "      <th>water</th>\n",
       "      <td>4.66</td>\n",
       "    </tr>\n",
       "  </tbody>\n",
       "</table>\n",
       "</div>"
      ],
      "text/plain": [
       "            class_sum_percent\n",
       "unknown                  0.59\n",
       "gravel                   2.10\n",
       "vegetation              62.20\n",
       "farmland                26.32\n",
       "h_c                      4.13\n",
       "water                    4.66"
      ]
     },
     "execution_count": 59,
     "metadata": {},
     "output_type": "execute_result"
    }
   ],
   "source": [
    "unknown_zero = True\n",
    "all_class_df = class_count_list_dataframe(class_count_list=all_lbl_class_count, unknown_zero=unknown_zero)\n",
    "new_dataset = all_class_df.loc['class_sum_percent'].to_frame()\n",
    "new_dataset = new_dataset.rename(columns={\"class_sum_percent\": \"initial\"})\n",
    "\n",
    "all_class_df.loc['class_sum_percent'].to_frame()"
   ]
  },
  {
   "cell_type": "markdown",
   "id": "27b0a67f-6f8f-481b-aa36-5acaed49ffa3",
   "metadata": {},
   "source": [
    "training images"
   ]
  },
  {
   "cell_type": "code",
   "execution_count": 21,
   "id": "5c10f4bd-dab2-4cb7-8101-7bead2d6467c",
   "metadata": {},
   "outputs": [
    {
     "data": {
      "text/html": [
       "<div>\n",
       "<style scoped>\n",
       "    .dataframe tbody tr th:only-of-type {\n",
       "        vertical-align: middle;\n",
       "    }\n",
       "\n",
       "    .dataframe tbody tr th {\n",
       "        vertical-align: top;\n",
       "    }\n",
       "\n",
       "    .dataframe thead th {\n",
       "        text-align: right;\n",
       "    }\n",
       "</style>\n",
       "<table border=\"1\" class=\"dataframe\">\n",
       "  <thead>\n",
       "    <tr style=\"text-align: right;\">\n",
       "      <th></th>\n",
       "      <th>class_sum_percent</th>\n",
       "    </tr>\n",
       "  </thead>\n",
       "  <tbody>\n",
       "    <tr>\n",
       "      <th>unknown</th>\n",
       "      <td>0.60</td>\n",
       "    </tr>\n",
       "    <tr>\n",
       "      <th>gravel</th>\n",
       "      <td>2.13</td>\n",
       "    </tr>\n",
       "    <tr>\n",
       "      <th>vegetation</th>\n",
       "      <td>62.53</td>\n",
       "    </tr>\n",
       "    <tr>\n",
       "      <th>farmland</th>\n",
       "      <td>26.12</td>\n",
       "    </tr>\n",
       "    <tr>\n",
       "      <th>human construction</th>\n",
       "      <td>4.09</td>\n",
       "    </tr>\n",
       "    <tr>\n",
       "      <th>water</th>\n",
       "      <td>4.52</td>\n",
       "    </tr>\n",
       "  </tbody>\n",
       "</table>\n",
       "</div>"
      ],
      "text/plain": [
       "                    class_sum_percent\n",
       "unknown                          0.60\n",
       "gravel                           2.13\n",
       "vegetation                      62.53\n",
       "farmland                        26.12\n",
       "human construction               4.09\n",
       "water                            4.52"
      ]
     },
     "execution_count": 21,
     "metadata": {},
     "output_type": "execute_result"
    }
   ],
   "source": [
    "unknown_zero = True\n",
    "all_class_df = class_count_list_dataframe(class_count_list=all_lbl_class_count_train, unknown_zero=unknown_zero)\n",
    "all_class_df.loc['class_sum_percent'].to_frame()"
   ]
  },
  {
   "cell_type": "markdown",
   "id": "2812c556-66f1-45ba-8af1-001a427eff61",
   "metadata": {},
   "source": [
    "### ex2"
   ]
  },
  {
   "cell_type": "code",
   "execution_count": 61,
   "id": "0ddf92fe-3ac5-4c68-b887-03f480381594",
   "metadata": {},
   "outputs": [],
   "source": [
    "all_lbl_path_train = '/home/saeid/phd/segmentation/dataset/new_dataset/Ex2_images/train/label/img'\n",
    "all_lbl_path_val = '/home/saeid/phd/segmentation/dataset/new_dataset/Ex1_image_unknown0/val/label/img'\n",
    "all_lbl_path_test = '/home/saeid/phd/segmentation/dataset/new_dataset/Ex1_image_unknown0/test/label/img'\n",
    "\n",
    "all_lbl_class_count_train = image_processing_utils.count_class_list_directory_2d(all_lbl_path_train)\n",
    "all_lbl_class_count_val = image_processing_utils.count_class_list_directory_2d(all_lbl_path_val)\n",
    "all_lbl_class_count_test = image_processing_utils.count_class_list_directory_2d(all_lbl_path_test)"
   ]
  },
  {
   "cell_type": "code",
   "execution_count": 62,
   "id": "5b4c9966-9455-4d98-a2ef-8819a0363e2c",
   "metadata": {},
   "outputs": [],
   "source": [
    "all_lbl_class_count = all_lbl_class_count_train + all_lbl_class_count_val + all_lbl_class_count_test"
   ]
  },
  {
   "cell_type": "code",
   "execution_count": 63,
   "id": "4302999e-38b7-4a2a-9db6-03654196e9ed",
   "metadata": {},
   "outputs": [
    {
     "data": {
      "text/html": [
       "<div>\n",
       "<style scoped>\n",
       "    .dataframe tbody tr th:only-of-type {\n",
       "        vertical-align: middle;\n",
       "    }\n",
       "\n",
       "    .dataframe tbody tr th {\n",
       "        vertical-align: top;\n",
       "    }\n",
       "\n",
       "    .dataframe thead th {\n",
       "        text-align: right;\n",
       "    }\n",
       "</style>\n",
       "<table border=\"1\" class=\"dataframe\">\n",
       "  <thead>\n",
       "    <tr style=\"text-align: right;\">\n",
       "      <th></th>\n",
       "      <th>class_sum_percent</th>\n",
       "    </tr>\n",
       "  </thead>\n",
       "  <tbody>\n",
       "    <tr>\n",
       "      <th>unknown</th>\n",
       "      <td>0.79</td>\n",
       "    </tr>\n",
       "    <tr>\n",
       "      <th>gravel</th>\n",
       "      <td>14.98</td>\n",
       "    </tr>\n",
       "    <tr>\n",
       "      <th>vegetation</th>\n",
       "      <td>43.45</td>\n",
       "    </tr>\n",
       "    <tr>\n",
       "      <th>farmland</th>\n",
       "      <td>18.03</td>\n",
       "    </tr>\n",
       "    <tr>\n",
       "      <th>h_c</th>\n",
       "      <td>3.36</td>\n",
       "    </tr>\n",
       "    <tr>\n",
       "      <th>water</th>\n",
       "      <td>19.38</td>\n",
       "    </tr>\n",
       "  </tbody>\n",
       "</table>\n",
       "</div>"
      ],
      "text/plain": [
       "            class_sum_percent\n",
       "unknown                  0.79\n",
       "gravel                  14.98\n",
       "vegetation              43.45\n",
       "farmland                18.03\n",
       "h_c                      3.36\n",
       "water                   19.38"
      ]
     },
     "execution_count": 63,
     "metadata": {},
     "output_type": "execute_result"
    }
   ],
   "source": [
    "unknown_zero = True\n",
    "all_class_df = class_count_list_dataframe(class_count_list=all_lbl_class_count, unknown_zero=unknown_zero)\n",
    "new_dataset['rotated'] = all_class_df.loc['class_sum_percent'].to_frame()\n",
    "\n",
    "all_class_df.loc['class_sum_percent'].to_frame()"
   ]
  },
  {
   "cell_type": "code",
   "execution_count": 78,
   "id": "62affcd7-35a1-4587-854d-b076bc0f0728",
   "metadata": {},
   "outputs": [
    {
     "data": {
      "image/png": "[encoded data removed]",
      "text/plain": [
       "<Figure size 432x288 with 1 Axes>"
      ]
     },
     "metadata": {
      "needs_background": "light"
     },
     "output_type": "display_data"
    }
   ],
   "source": [
    "plot = new_dataset.plot.bar(color=['teal', 'darkblue'], width=0.7)\n",
    "fig = plot.get_figure()\n",
    "fig.savefig( os.path.join(dest_save, 'new_dataset.png'))"
   ]
  },
  {
   "cell_type": "markdown",
   "id": "05c418ad-e280-43d6-a475-571d2b0146e3",
   "metadata": {},
   "source": [
    "# Old dataset"
   ]
  },
  {
   "cell_type": "markdown",
   "id": "62d8c911-ad06-432e-9487-b0a7781a57c4",
   "metadata": {
    "tags": []
   },
   "source": [
    "### ex1"
   ]
  },
  {
   "cell_type": "code",
   "execution_count": 5,
   "id": "6376e87e-41e5-408f-b0de-1b4cc3efbed0",
   "metadata": {},
   "outputs": [],
   "source": [
    "old_dataset = None"
   ]
  },
  {
   "cell_type": "code",
   "execution_count": 10,
   "id": "ff359476-c299-4120-a2e9-0f033a8400d1",
   "metadata": {},
   "outputs": [],
   "source": [
    "def count_class_list_directory_2d_tif(src_label_path, verbose=0):\n",
    "    \"\"\" returns list of vectors in which number of classes of one image is mentioned (2d)\"\"\"\n",
    "    class_count_list = []\n",
    "    start = time.time()\n",
    "    for label_path in glob.glob(os.path.join(src_label_path, '*.tif')):\n",
    "        if verbose == 1:\n",
    "            print(f'working on label {os.path.split(label_path)[-1]}')\n",
    "\n",
    "        # read label\n",
    "        original_label_matrix = imageio.imread(label_path)\n",
    "\n",
    "        if original_label_matrix.shape[-1] != 3:\n",
    "            # it is not a 3 channel label so we can calculate the class info\n",
    "            # get the information about the classes\n",
    "            (unique_tmp, counts_tmp) = np.unique(\n",
    "                original_label_matrix, return_counts=True)\n",
    "            class_count_vec = np.zeros(6)\n",
    "            class_count_vec[unique_tmp] = counts_tmp\n",
    "            class_count_list.append(class_count_vec)\n",
    "        else:\n",
    "            raise NotImplementedError('it is not 2d')\n",
    "\n",
    "    end = time.time()\n",
    "    if verbose == 1:\n",
    "        print(f'the time takes {end - start}')\n",
    "    return class_count_list"
   ]
  },
  {
   "cell_type": "code",
   "execution_count": 11,
   "id": "4e440238-5fd4-4881-9f83-e3ba40bed478",
   "metadata": {},
   "outputs": [],
   "source": [
    "all_lbl_path_train = '/home/saeid/phd/segmentation/dataset/machine_learning_dataset/train/labels'\n",
    "all_lbl_path_val = '/home/saeid/phd/segmentation/dataset/machine_learning_dataset/val/labels'\n",
    "# all_lbl_path_test = '/home/saeid/phd/segmentation/dataset/new_dataset/Ex1_image_unknown0/test/label/img'\n",
    "\n",
    "all_lbl_class_count_train = count_class_list_directory_2d_tif(all_lbl_path_train)\n",
    "all_lbl_class_count_val = count_class_list_directory_2d_tif(all_lbl_path_val)\n",
    "# all_lbl_class_count_test = image_processing_utils.count_class_list_directory_2d(all_lbl_path_test)"
   ]
  },
  {
   "cell_type": "code",
   "execution_count": 12,
   "id": "988f23f3-554a-43aa-ba6d-a585bd614ee9",
   "metadata": {},
   "outputs": [],
   "source": [
    "all_lbl_class_count = all_lbl_class_count_val + all_lbl_class_count_train"
   ]
  },
  {
   "cell_type": "markdown",
   "id": "84156212-6b74-4136-852c-89fb031ea6bc",
   "metadata": {},
   "source": [
    "all images"
   ]
  },
  {
   "cell_type": "code",
   "execution_count": 13,
   "id": "1e60cd76-206f-425c-88f5-da7d83ce6e74",
   "metadata": {},
   "outputs": [],
   "source": [
    "unknown_zero = False\n",
    "all_class_df_old = class_count_list_dataframe(class_count_list=all_lbl_class_count, unknown_zero=unknown_zero)\n",
    "all_class_df_old.loc['class_sum_percent'].to_frame()\n",
    "\n",
    "old_dataset = all_class_df_old.loc['class_sum_percent'].to_frame()\n",
    "old_dataset = old_dataset.rename(columns={\"class_sum_percent\": \"initial\"})"
   ]
  },
  {
   "cell_type": "markdown",
   "id": "6f8747c7-4859-4103-af80-ce1bf431345f",
   "metadata": {},
   "source": [
    "train"
   ]
  },
  {
   "cell_type": "code",
   "execution_count": 14,
   "id": "6a641278-079a-4aef-b451-d73e99ed2c93",
   "metadata": {},
   "outputs": [
    {
     "data": {
      "text/plain": [
       "<AxesSubplot:>"
      ]
     },
     "execution_count": 14,
     "metadata": {},
     "output_type": "execute_result"
    },
    {
     "data": {
      "image/png": "[encoded data removed]",
      "text/plain": [
       "<Figure size 432x288 with 1 Axes>"
      ]
     },
     "metadata": {
      "needs_background": "light"
     },
     "output_type": "display_data"
    }
   ],
   "source": [
    "old_dataset.plot.bar()"
   ]
  },
  {
   "cell_type": "markdown",
   "id": "521eeffb-5642-4401-a12c-d9953e6f9562",
   "metadata": {},
   "source": [
    "### ex2"
   ]
  },
  {
   "cell_type": "code",
   "execution_count": 18,
   "id": "d632c71f-bc68-4b5f-a7d8-013e8005dcf5",
   "metadata": {},
   "outputs": [],
   "source": [
    "all_lbl_path_train = '/media/saeid/ADATA HD710/NTNU/PHD/old dataset/rotation_augmentation/train/label/img'\n",
    "all_lbl_path_val = '/media/saeid/ADATA HD710/NTNU/PHD/old dataset/rotation_augmentation/val/label/img'\n",
    "\n",
    "all_lbl_class_count_train = count_class_list_directory_2d_tif(all_lbl_path_train)\n",
    "all_lbl_class_count_val = count_class_list_directory_2d_tif(all_lbl_path_val)"
   ]
  },
  {
   "cell_type": "code",
   "execution_count": 19,
   "id": "c9177a46-cca7-425b-a955-b4de09fa44b4",
   "metadata": {},
   "outputs": [],
   "source": [
    "all_lbl_class_count = all_lbl_class_count_val + all_lbl_class_count_train"
   ]
  },
  {
   "cell_type": "code",
   "execution_count": 20,
   "id": "938bd117-a31d-4a69-939e-fbfe82b316c0",
   "metadata": {},
   "outputs": [
    {
     "ename": "ValueError",
     "evalue": "cannot set a frame with no defined columns",
     "output_type": "error",
     "traceback": [
      "\u001b[0;31m---------------------------------------------------------------------------\u001b[0m",
      "\u001b[0;31mValueError\u001b[0m                                Traceback (most recent call last)",
      "\u001b[0;32m/tmp/ipykernel_137023/691248290.py\u001b[0m in \u001b[0;36m<module>\u001b[0;34m\u001b[0m\n\u001b[1;32m      1\u001b[0m \u001b[0munknown_zero\u001b[0m \u001b[0;34m=\u001b[0m \u001b[0;32mFalse\u001b[0m\u001b[0;34m\u001b[0m\u001b[0;34m\u001b[0m\u001b[0m\n\u001b[0;32m----> 2\u001b[0;31m \u001b[0mall_class_df_old\u001b[0m \u001b[0;34m=\u001b[0m \u001b[0mclass_count_list_dataframe\u001b[0m\u001b[0;34m(\u001b[0m\u001b[0mclass_count_list\u001b[0m\u001b[0;34m=\u001b[0m\u001b[0mall_lbl_class_count\u001b[0m\u001b[0;34m,\u001b[0m \u001b[0munknown_zero\u001b[0m\u001b[0;34m=\u001b[0m\u001b[0munknown_zero\u001b[0m\u001b[0;34m)\u001b[0m\u001b[0;34m\u001b[0m\u001b[0;34m\u001b[0m\u001b[0m\n\u001b[0m\u001b[1;32m      3\u001b[0m \u001b[0mall_class_df_old\u001b[0m\u001b[0;34m.\u001b[0m\u001b[0mloc\u001b[0m\u001b[0;34m[\u001b[0m\u001b[0;34m'class_sum_percent'\u001b[0m\u001b[0;34m]\u001b[0m\u001b[0;34m.\u001b[0m\u001b[0mto_frame\u001b[0m\u001b[0;34m(\u001b[0m\u001b[0;34m)\u001b[0m\u001b[0;34m\u001b[0m\u001b[0;34m\u001b[0m\u001b[0m\n\u001b[1;32m      4\u001b[0m \u001b[0;34m\u001b[0m\u001b[0m\n\u001b[1;32m      5\u001b[0m \u001b[0mold_dataset\u001b[0m\u001b[0;34m[\u001b[0m\u001b[0;34m'rotated'\u001b[0m\u001b[0;34m]\u001b[0m \u001b[0;34m=\u001b[0m \u001b[0mall_class_df_old\u001b[0m\u001b[0;34m.\u001b[0m\u001b[0mloc\u001b[0m\u001b[0;34m[\u001b[0m\u001b[0;34m'class_sum_percent'\u001b[0m\u001b[0;34m]\u001b[0m\u001b[0;34m.\u001b[0m\u001b[0mto_frame\u001b[0m\u001b[0;34m(\u001b[0m\u001b[0;34m)\u001b[0m\u001b[0;34m\u001b[0m\u001b[0;34m\u001b[0m\u001b[0m\n",
      "\u001b[0;32m/tmp/ipykernel_137023/3096719126.py\u001b[0m in \u001b[0;36mclass_count_list_dataframe\u001b[0;34m(class_count_list, unknown_zero)\u001b[0m\n\u001b[1;32m      2\u001b[0m     \u001b[0mclass_df\u001b[0m \u001b[0;34m=\u001b[0m \u001b[0mpd\u001b[0m\u001b[0;34m.\u001b[0m\u001b[0mDataFrame\u001b[0m\u001b[0;34m(\u001b[0m\u001b[0mclass_count_list\u001b[0m\u001b[0;34m,\u001b[0m \u001b[0mdtype\u001b[0m\u001b[0;34m=\u001b[0m\u001b[0;34m'float32'\u001b[0m\u001b[0;34m)\u001b[0m\u001b[0;34m\u001b[0m\u001b[0;34m\u001b[0m\u001b[0m\n\u001b[1;32m      3\u001b[0m \u001b[0;34m\u001b[0m\u001b[0m\n\u001b[0;32m----> 4\u001b[0;31m     \u001b[0mclass_df\u001b[0m\u001b[0;34m.\u001b[0m\u001b[0mloc\u001b[0m\u001b[0;34m[\u001b[0m\u001b[0;34m'class_sum'\u001b[0m\u001b[0;34m]\u001b[0m \u001b[0;34m=\u001b[0m \u001b[0mclass_df\u001b[0m\u001b[0;34m.\u001b[0m\u001b[0msum\u001b[0m\u001b[0;34m(\u001b[0m\u001b[0maxis\u001b[0m\u001b[0;34m=\u001b[0m\u001b[0;36m0\u001b[0m\u001b[0;34m)\u001b[0m\u001b[0;34m\u001b[0m\u001b[0;34m\u001b[0m\u001b[0m\n\u001b[0m\u001b[1;32m      5\u001b[0m \u001b[0;34m\u001b[0m\u001b[0m\n\u001b[1;32m      6\u001b[0m     \u001b[0;32mif\u001b[0m \u001b[0munknown_zero\u001b[0m \u001b[0;34m==\u001b[0m \u001b[0;32mTrue\u001b[0m\u001b[0;34m:\u001b[0m\u001b[0;34m\u001b[0m\u001b[0;34m\u001b[0m\u001b[0m\n",
      "\u001b[0;32m~/anaconda3/envs/arildenv/lib/python3.7/site-packages/pandas/core/indexing.py\u001b[0m in \u001b[0;36m__setitem__\u001b[0;34m(self, key, value)\u001b[0m\n\u001b[1;32m    690\u001b[0m \u001b[0;34m\u001b[0m\u001b[0m\n\u001b[1;32m    691\u001b[0m         \u001b[0miloc\u001b[0m \u001b[0;34m=\u001b[0m \u001b[0mself\u001b[0m \u001b[0;32mif\u001b[0m \u001b[0mself\u001b[0m\u001b[0;34m.\u001b[0m\u001b[0mname\u001b[0m \u001b[0;34m==\u001b[0m \u001b[0;34m\"iloc\"\u001b[0m \u001b[0;32melse\u001b[0m \u001b[0mself\u001b[0m\u001b[0;34m.\u001b[0m\u001b[0mobj\u001b[0m\u001b[0;34m.\u001b[0m\u001b[0miloc\u001b[0m\u001b[0;34m\u001b[0m\u001b[0;34m\u001b[0m\u001b[0m\n\u001b[0;32m--> 692\u001b[0;31m         \u001b[0miloc\u001b[0m\u001b[0;34m.\u001b[0m\u001b[0m_setitem_with_indexer\u001b[0m\u001b[0;34m(\u001b[0m\u001b[0mindexer\u001b[0m\u001b[0;34m,\u001b[0m \u001b[0mvalue\u001b[0m\u001b[0;34m,\u001b[0m \u001b[0mself\u001b[0m\u001b[0;34m.\u001b[0m\u001b[0mname\u001b[0m\u001b[0;34m)\u001b[0m\u001b[0;34m\u001b[0m\u001b[0;34m\u001b[0m\u001b[0m\n\u001b[0m\u001b[1;32m    693\u001b[0m \u001b[0;34m\u001b[0m\u001b[0m\n\u001b[1;32m    694\u001b[0m     \u001b[0;32mdef\u001b[0m \u001b[0m_validate_key\u001b[0m\u001b[0;34m(\u001b[0m\u001b[0mself\u001b[0m\u001b[0;34m,\u001b[0m \u001b[0mkey\u001b[0m\u001b[0;34m,\u001b[0m \u001b[0maxis\u001b[0m\u001b[0;34m:\u001b[0m \u001b[0mint\u001b[0m\u001b[0;34m)\u001b[0m\u001b[0;34m:\u001b[0m\u001b[0;34m\u001b[0m\u001b[0;34m\u001b[0m\u001b[0m\n",
      "\u001b[0;32m~/anaconda3/envs/arildenv/lib/python3.7/site-packages/pandas/core/indexing.py\u001b[0m in \u001b[0;36m_setitem_with_indexer\u001b[0;34m(self, indexer, value, name)\u001b[0m\n\u001b[1;32m   1627\u001b[0m \u001b[0;34m\u001b[0m\u001b[0m\n\u001b[1;32m   1628\u001b[0m             \u001b[0;32mif\u001b[0m \u001b[0mmissing\u001b[0m\u001b[0;34m:\u001b[0m\u001b[0;34m\u001b[0m\u001b[0;34m\u001b[0m\u001b[0m\n\u001b[0;32m-> 1629\u001b[0;31m                 \u001b[0mself\u001b[0m\u001b[0;34m.\u001b[0m\u001b[0m_setitem_with_indexer_missing\u001b[0m\u001b[0;34m(\u001b[0m\u001b[0mindexer\u001b[0m\u001b[0;34m,\u001b[0m \u001b[0mvalue\u001b[0m\u001b[0;34m)\u001b[0m\u001b[0;34m\u001b[0m\u001b[0;34m\u001b[0m\u001b[0m\n\u001b[0m\u001b[1;32m   1630\u001b[0m                 \u001b[0;32mreturn\u001b[0m\u001b[0;34m\u001b[0m\u001b[0;34m\u001b[0m\u001b[0m\n\u001b[1;32m   1631\u001b[0m \u001b[0;34m\u001b[0m\u001b[0m\n",
      "\u001b[0;32m~/anaconda3/envs/arildenv/lib/python3.7/site-packages/pandas/core/indexing.py\u001b[0m in \u001b[0;36m_setitem_with_indexer_missing\u001b[0;34m(self, indexer, value)\u001b[0m\n\u001b[1;32m   1901\u001b[0m             \u001b[0;32mif\u001b[0m \u001b[0;32mnot\u001b[0m \u001b[0mlen\u001b[0m\u001b[0;34m(\u001b[0m\u001b[0mself\u001b[0m\u001b[0;34m.\u001b[0m\u001b[0mobj\u001b[0m\u001b[0;34m.\u001b[0m\u001b[0mcolumns\u001b[0m\u001b[0;34m)\u001b[0m\u001b[0;34m:\u001b[0m\u001b[0;34m\u001b[0m\u001b[0;34m\u001b[0m\u001b[0m\n\u001b[1;32m   1902\u001b[0m                 \u001b[0;31m# no columns and scalar\u001b[0m\u001b[0;34m\u001b[0m\u001b[0;34m\u001b[0m\u001b[0;34m\u001b[0m\u001b[0m\n\u001b[0;32m-> 1903\u001b[0;31m                 \u001b[0;32mraise\u001b[0m \u001b[0mValueError\u001b[0m\u001b[0;34m(\u001b[0m\u001b[0;34m\"cannot set a frame with no defined columns\"\u001b[0m\u001b[0;34m)\u001b[0m\u001b[0;34m\u001b[0m\u001b[0;34m\u001b[0m\u001b[0m\n\u001b[0m\u001b[1;32m   1904\u001b[0m \u001b[0;34m\u001b[0m\u001b[0m\n\u001b[1;32m   1905\u001b[0m             \u001b[0;32mif\u001b[0m \u001b[0misinstance\u001b[0m\u001b[0;34m(\u001b[0m\u001b[0mvalue\u001b[0m\u001b[0;34m,\u001b[0m \u001b[0mABCSeries\u001b[0m\u001b[0;34m)\u001b[0m\u001b[0;34m:\u001b[0m\u001b[0;34m\u001b[0m\u001b[0;34m\u001b[0m\u001b[0m\n",
      "\u001b[0;31mValueError\u001b[0m: cannot set a frame with no defined columns"
     ]
    }
   ],
   "source": [
    "unknown_zero = False\n",
    "all_class_df_old = class_count_list_dataframe(class_count_list=all_lbl_class_count, unknown_zero=unknown_zero)\n",
    "all_class_df_old.loc['class_sum_percent'].to_frame()\n",
    "\n",
    "old_dataset['rotated'] = all_class_df_old.loc['class_sum_percent'].to_frame()"
   ]
  },
  {
   "cell_type": "code",
   "execution_count": null,
   "id": "8da10cf5-6734-4006-bd59-569e8e02f238",
   "metadata": {},
   "outputs": [],
   "source": []
  }
 ],
 "metadata": {
  "kernelspec": {
   "display_name": "Python 3 (ipykernel)",
   "language": "python",
   "name": "python3"
  },
  "language_info": {
   "codemirror_mode": {
    "name": "ipython",
    "version": 3
   },
   "file_extension": ".py",
   "mimetype": "text/x-python",
   "name": "python",
   "nbconvert_exporter": "python",
   "pygments_lexer": "ipython3",
   "version": "3.7.7"
  }
 },
 "nbformat": 4,
 "nbformat_minor": 5
}
