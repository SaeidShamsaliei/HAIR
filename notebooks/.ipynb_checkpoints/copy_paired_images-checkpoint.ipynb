{
 "cells": [
  {
   "cell_type": "markdown",
   "id": "eada16d1-a86e-419b-9240-75544603b524",
   "metadata": {},
   "source": [
    "in this notebook we copy images that have labels into new directory"
   ]
  },
  {
   "cell_type": "code",
   "execution_count": 3,
   "id": "257516ab-941f-41f9-a077-c3b1d3f349c0",
   "metadata": {},
   "outputs": [],
   "source": [
    "import os\n",
    "import shutil"
   ]
  },
  {
   "cell_type": "code",
   "execution_count": 4,
   "id": "2edffb18-792b-416c-abe8-4199a9a4713a",
   "metadata": {},
   "outputs": [],
   "source": [
    "# this function gives us a pair of label-image of corresponding folder\n",
    "def get_img_lbl_pair(image_addr, label_addr, river_name, image_number):\n",
    "\n",
    "    \n",
    "    # get all the files in the path in a list\n",
    "    label_addr_river_list = os.listdir(label_addr_river)\n",
    "    image_addr_river_list = os.listdir(image_addr_river)\n",
    "    \n",
    "    # select on label based on number and remover label at the beginning\n",
    "    single_label_addr = label_addr_river_list[image_number]\n",
    "    single_image_addr = single_label_addr.replace('label','')\n",
    "    \n",
    "    # look for the same name in the images, if not raise an error\n",
    "    if not single_image_addr in image_addr_river_list:\n",
    "        raise Exception(f'the label and image {single_image_addr} are not the same')\n",
    "    \n",
    "    return os.path.join(image_addr_river, single_image_addr), os.path.join(label_addr_river, single_label_addr)"
   ]
  },
  {
   "cell_type": "code",
   "execution_count": 5,
   "id": "3d62b823-b2c3-4551-a8b6-e767769e014a",
   "metadata": {},
   "outputs": [],
   "source": [
    "def copy_labeled_image(img_path, lbl_path, dest_path):\n",
    "    label_addr_river_list = os.listdir(lbl_path)\n",
    "    image_addr_river_list = os.listdir(img_path)\n",
    "\n",
    "    for label_name in label_addr_river_list:\n",
    "        label_name = label_name.replace('aug', '')\n",
    "\n",
    "        source_image_address = os.path.join(img_path, label_name)\n",
    "        dest_image_address = os.path.join(dest_path, label_name)\n",
    "        \n",
    "        dest_address = shutil.copyfile(source_image_address, dest_image_address)\n",
    "\n",
    "#         print(f'image {label_name} copied')"
   ]
  },
  {
   "cell_type": "code",
   "execution_count": 6,
   "id": "a3182cdf-eb2c-44ce-beb2-771a2ffe0057",
   "metadata": {},
   "outputs": [],
   "source": [
    "river_name = 'surna_1963'\n",
    "label_address = fr'/home/saeid/phd/segmentation/dataset/machine_learning_dataset_3channel/train/image_png3d/img'\n",
    "image_address = fr'/home/saeid/phd/segmentation/dataset/machine_learning_dataset_3channel/train/labels_augment/img'\n",
    "image_new_address = fr'/home/saeid/phd/segmentation/dataset/machine_learning_dataset_3channel/train/labels_png3d/img'"
   ]
  },
  {
   "cell_type": "code",
   "execution_count": 7,
   "id": "d5930694-c97d-426a-b3b1-4031be4af59c",
   "metadata": {},
   "outputs": [
    {
     "ename": "FileNotFoundError",
     "evalue": "[Errno 2] No such file or directory: '/home/saeid/phd/segmentation/dataset/machine_learning_dataset_3channel/train/labels_augment/img/33-2-453-209-31_n_5120_e_1536_5.png'",
     "output_type": "error",
     "traceback": [
      "\u001b[0;31m---------------------------------------------------------------------------\u001b[0m",
      "\u001b[0;31mFileNotFoundError\u001b[0m                         Traceback (most recent call last)",
      "\u001b[0;32m/tmp/ipykernel_292521/686878223.py\u001b[0m in \u001b[0;36m<module>\u001b[0;34m\u001b[0m\n\u001b[0;32m----> 1\u001b[0;31m \u001b[0mcopy_labeled_image\u001b[0m\u001b[0;34m(\u001b[0m\u001b[0mimg_path\u001b[0m\u001b[0;34m=\u001b[0m\u001b[0mimage_address\u001b[0m\u001b[0;34m,\u001b[0m \u001b[0mlbl_path\u001b[0m\u001b[0;34m=\u001b[0m\u001b[0mlabel_address\u001b[0m\u001b[0;34m,\u001b[0m \u001b[0mdest_path\u001b[0m\u001b[0;34m=\u001b[0m\u001b[0mimage_new_address\u001b[0m\u001b[0;34m)\u001b[0m\u001b[0;34m\u001b[0m\u001b[0;34m\u001b[0m\u001b[0m\n\u001b[0m",
      "\u001b[0;32m/tmp/ipykernel_292521/707075529.py\u001b[0m in \u001b[0;36mcopy_labeled_image\u001b[0;34m(img_path, lbl_path, dest_path)\u001b[0m\n\u001b[1;32m      9\u001b[0m         \u001b[0mdest_image_address\u001b[0m \u001b[0;34m=\u001b[0m \u001b[0mos\u001b[0m\u001b[0;34m.\u001b[0m\u001b[0mpath\u001b[0m\u001b[0;34m.\u001b[0m\u001b[0mjoin\u001b[0m\u001b[0;34m(\u001b[0m\u001b[0mdest_path\u001b[0m\u001b[0;34m,\u001b[0m \u001b[0mlabel_name\u001b[0m\u001b[0;34m)\u001b[0m\u001b[0;34m\u001b[0m\u001b[0;34m\u001b[0m\u001b[0m\n\u001b[1;32m     10\u001b[0m \u001b[0;34m\u001b[0m\u001b[0m\n\u001b[0;32m---> 11\u001b[0;31m         \u001b[0mdest_address\u001b[0m \u001b[0;34m=\u001b[0m \u001b[0mshutil\u001b[0m\u001b[0;34m.\u001b[0m\u001b[0mcopyfile\u001b[0m\u001b[0;34m(\u001b[0m\u001b[0msource_image_address\u001b[0m\u001b[0;34m,\u001b[0m \u001b[0mdest_image_address\u001b[0m\u001b[0;34m)\u001b[0m\u001b[0;34m\u001b[0m\u001b[0;34m\u001b[0m\u001b[0m\n\u001b[0m\u001b[1;32m     12\u001b[0m \u001b[0;34m\u001b[0m\u001b[0m\n\u001b[1;32m     13\u001b[0m \u001b[0;31m#         print(f'image {label_name} copied')\u001b[0m\u001b[0;34m\u001b[0m\u001b[0;34m\u001b[0m\u001b[0;34m\u001b[0m\u001b[0m\n",
      "\u001b[0;32m~/anaconda3/envs/arildenv/lib/python3.7/shutil.py\u001b[0m in \u001b[0;36mcopyfile\u001b[0;34m(src, dst, follow_symlinks)\u001b[0m\n\u001b[1;32m    118\u001b[0m         \u001b[0mos\u001b[0m\u001b[0;34m.\u001b[0m\u001b[0msymlink\u001b[0m\u001b[0;34m(\u001b[0m\u001b[0mos\u001b[0m\u001b[0;34m.\u001b[0m\u001b[0mreadlink\u001b[0m\u001b[0;34m(\u001b[0m\u001b[0msrc\u001b[0m\u001b[0;34m)\u001b[0m\u001b[0;34m,\u001b[0m \u001b[0mdst\u001b[0m\u001b[0;34m)\u001b[0m\u001b[0;34m\u001b[0m\u001b[0;34m\u001b[0m\u001b[0m\n\u001b[1;32m    119\u001b[0m     \u001b[0;32melse\u001b[0m\u001b[0;34m:\u001b[0m\u001b[0;34m\u001b[0m\u001b[0;34m\u001b[0m\u001b[0m\n\u001b[0;32m--> 120\u001b[0;31m         \u001b[0;32mwith\u001b[0m \u001b[0mopen\u001b[0m\u001b[0;34m(\u001b[0m\u001b[0msrc\u001b[0m\u001b[0;34m,\u001b[0m \u001b[0;34m'rb'\u001b[0m\u001b[0;34m)\u001b[0m \u001b[0;32mas\u001b[0m \u001b[0mfsrc\u001b[0m\u001b[0;34m:\u001b[0m\u001b[0;34m\u001b[0m\u001b[0;34m\u001b[0m\u001b[0m\n\u001b[0m\u001b[1;32m    121\u001b[0m             \u001b[0;32mwith\u001b[0m \u001b[0mopen\u001b[0m\u001b[0;34m(\u001b[0m\u001b[0mdst\u001b[0m\u001b[0;34m,\u001b[0m \u001b[0;34m'wb'\u001b[0m\u001b[0;34m)\u001b[0m \u001b[0;32mas\u001b[0m \u001b[0mfdst\u001b[0m\u001b[0;34m:\u001b[0m\u001b[0;34m\u001b[0m\u001b[0;34m\u001b[0m\u001b[0m\n\u001b[1;32m    122\u001b[0m                 \u001b[0mcopyfileobj\u001b[0m\u001b[0;34m(\u001b[0m\u001b[0mfsrc\u001b[0m\u001b[0;34m,\u001b[0m \u001b[0mfdst\u001b[0m\u001b[0;34m)\u001b[0m\u001b[0;34m\u001b[0m\u001b[0;34m\u001b[0m\u001b[0m\n",
      "\u001b[0;31mFileNotFoundError\u001b[0m: [Errno 2] No such file or directory: '/home/saeid/phd/segmentation/dataset/machine_learning_dataset_3channel/train/labels_augment/img/33-2-453-209-31_n_5120_e_1536_5.png'"
     ]
    }
   ],
   "source": [
    "copy_labeled_image(img_path=image_address, lbl_path=label_address, dest_path=image_new_address)"
   ]
  },
  {
   "cell_type": "code",
   "execution_count": 5,
   "id": "76611164-da29-427c-8cb5-b1a11b832529",
   "metadata": {},
   "outputs": [],
   "source": [
    "# merge the inputs\n",
    "import sys\n",
    "sys.path.append(\"..\")\n",
    "\n",
    "from costum_arild.source.utils import gdal_utils"
   ]
  },
  {
   "cell_type": "code",
   "execution_count": 9,
   "id": "23f7bcad-64b6-4164-ba81-a850772aca18",
   "metadata": {},
   "outputs": [
    {
     "ename": "RuntimeError",
     "evalue": "Free disk space available is 50173333504 bytes, whereas 54000000000 are at least necessary. You can disable this check by defining the CHECK_DISK_FREE_SPACE configuration option to FALSE.",
     "output_type": "error",
     "traceback": [
      "\u001b[0;31m---------------------------------------------------------------------------\u001b[0m",
      "\u001b[0;31mRuntimeError\u001b[0m                              Traceback (most recent call last)",
      "\u001b[0;32m/tmp/ipykernel_32618/1346008877.py\u001b[0m in \u001b[0;36m<module>\u001b[0;34m\u001b[0m\n\u001b[1;32m      1\u001b[0m gdal_utils.merge_all_rasters_directory(input_directory=image_new_address, \n\u001b[1;32m      2\u001b[0m                                        \u001b[0moutput_name\u001b[0m\u001b[0;34m=\u001b[0m\u001b[0;34m'merged'\u001b[0m\u001b[0;34m,\u001b[0m\u001b[0;34m\u001b[0m\u001b[0;34m\u001b[0m\u001b[0m\n\u001b[0;32m----> 3\u001b[0;31m                                       output_directory=image_new_address)\n\u001b[0m",
      "\u001b[0;32m~/phd/segmentation/costum_arild/source/utils/gdal_utils.py\u001b[0m in \u001b[0;36mmerge_all_rasters_directory\u001b[0;34m(input_directory, output_name, output_directory)\u001b[0m\n\u001b[1;32m     75\u001b[0m         \u001b[0moutput_name\u001b[0m \u001b[0;34m=\u001b[0m \u001b[0mos\u001b[0m\u001b[0;34m.\u001b[0m\u001b[0mpath\u001b[0m\u001b[0;34m.\u001b[0m\u001b[0mjoin\u001b[0m\u001b[0;34m(\u001b[0m\u001b[0moutput_directory\u001b[0m\u001b[0;34m,\u001b[0m \u001b[0moutput_name\u001b[0m\u001b[0;34m)\u001b[0m\u001b[0;34m\u001b[0m\u001b[0;34m\u001b[0m\u001b[0m\n\u001b[1;32m     76\u001b[0m     \u001b[0mvrt\u001b[0m \u001b[0;34m=\u001b[0m \u001b[0mgdal\u001b[0m\u001b[0;34m.\u001b[0m\u001b[0mBuildVRT\u001b[0m\u001b[0;34m(\u001b[0m\u001b[0;34mf'{output_name}.vrt'\u001b[0m\u001b[0;34m,\u001b[0m \u001b[0mfiles_to_mosaic\u001b[0m\u001b[0;34m)\u001b[0m\u001b[0;34m\u001b[0m\u001b[0;34m\u001b[0m\u001b[0m\n\u001b[0;32m---> 77\u001b[0;31m     \u001b[0mgdal\u001b[0m\u001b[0;34m.\u001b[0m\u001b[0mTranslate\u001b[0m\u001b[0;34m(\u001b[0m\u001b[0;34mf'{output_name}.tif'\u001b[0m\u001b[0;34m,\u001b[0m \u001b[0mvrt\u001b[0m\u001b[0;34m)\u001b[0m\u001b[0;34m\u001b[0m\u001b[0;34m\u001b[0m\u001b[0m\n\u001b[0m\u001b[1;32m     78\u001b[0m     \u001b[0mvrt\u001b[0m \u001b[0;34m=\u001b[0m \u001b[0;32mNone\u001b[0m\u001b[0;34m\u001b[0m\u001b[0;34m\u001b[0m\u001b[0m\n\u001b[1;32m     79\u001b[0m \u001b[0;34m\u001b[0m\u001b[0m\n",
      "\u001b[0;32m~/anaconda3/envs/arildenv/lib/python3.7/site-packages/osgeo/gdal.py\u001b[0m in \u001b[0;36mTranslate\u001b[0;34m(destName, srcDS, **kwargs)\u001b[0m\n\u001b[1;32m    420\u001b[0m         \u001b[0msrcDS\u001b[0m \u001b[0;34m=\u001b[0m \u001b[0mOpen\u001b[0m\u001b[0;34m(\u001b[0m\u001b[0msrcDS\u001b[0m\u001b[0;34m)\u001b[0m\u001b[0;34m\u001b[0m\u001b[0;34m\u001b[0m\u001b[0m\n\u001b[1;32m    421\u001b[0m \u001b[0;34m\u001b[0m\u001b[0m\n\u001b[0;32m--> 422\u001b[0;31m     \u001b[0;32mreturn\u001b[0m \u001b[0mTranslateInternal\u001b[0m\u001b[0;34m(\u001b[0m\u001b[0mdestName\u001b[0m\u001b[0;34m,\u001b[0m \u001b[0msrcDS\u001b[0m\u001b[0;34m,\u001b[0m \u001b[0mopts\u001b[0m\u001b[0;34m,\u001b[0m \u001b[0mcallback\u001b[0m\u001b[0;34m,\u001b[0m \u001b[0mcallback_data\u001b[0m\u001b[0;34m)\u001b[0m\u001b[0;34m\u001b[0m\u001b[0;34m\u001b[0m\u001b[0m\n\u001b[0m\u001b[1;32m    423\u001b[0m \u001b[0;34m\u001b[0m\u001b[0m\n\u001b[1;32m    424\u001b[0m def WarpOptions(options=None, format=None,\n",
      "\u001b[0;32m~/anaconda3/envs/arildenv/lib/python3.7/site-packages/osgeo/gdal.py\u001b[0m in \u001b[0;36mTranslateInternal\u001b[0;34m(*args)\u001b[0m\n\u001b[1;32m   3379\u001b[0m \u001b[0;32mdef\u001b[0m \u001b[0mTranslateInternal\u001b[0m\u001b[0;34m(\u001b[0m\u001b[0;34m*\u001b[0m\u001b[0margs\u001b[0m\u001b[0;34m)\u001b[0m\u001b[0;34m:\u001b[0m\u001b[0;34m\u001b[0m\u001b[0;34m\u001b[0m\u001b[0m\n\u001b[1;32m   3380\u001b[0m     \u001b[0;34m\"\"\"TranslateInternal(char const * dest, Dataset dataset, GDALTranslateOptions translateOptions, GDALProgressFunc callback=0, void * callback_data=None) -> Dataset\"\"\"\u001b[0m\u001b[0;34m\u001b[0m\u001b[0;34m\u001b[0m\u001b[0m\n\u001b[0;32m-> 3381\u001b[0;31m     \u001b[0;32mreturn\u001b[0m \u001b[0m_gdal\u001b[0m\u001b[0;34m.\u001b[0m\u001b[0mTranslateInternal\u001b[0m\u001b[0;34m(\u001b[0m\u001b[0;34m*\u001b[0m\u001b[0margs\u001b[0m\u001b[0;34m)\u001b[0m\u001b[0;34m\u001b[0m\u001b[0;34m\u001b[0m\u001b[0m\n\u001b[0m\u001b[1;32m   3382\u001b[0m \u001b[0;32mclass\u001b[0m \u001b[0mGDALWarpAppOptions\u001b[0m\u001b[0;34m(\u001b[0m\u001b[0m_object\u001b[0m\u001b[0;34m)\u001b[0m\u001b[0;34m:\u001b[0m\u001b[0;34m\u001b[0m\u001b[0;34m\u001b[0m\u001b[0m\n\u001b[1;32m   3383\u001b[0m     \u001b[0;34m\"\"\"Proxy of C++ GDALWarpAppOptions class.\"\"\"\u001b[0m\u001b[0;34m\u001b[0m\u001b[0;34m\u001b[0m\u001b[0m\n",
      "\u001b[0;31mRuntimeError\u001b[0m: Free disk space available is 50173333504 bytes, whereas 54000000000 are at least necessary. You can disable this check by defining the CHECK_DISK_FREE_SPACE configuration option to FALSE."
     ]
    }
   ],
   "source": [
    "gdal_utils.merge_all_rasters_directory(input_directory=image_new_address, \n",
    "                                       output_name='merged',\n",
    "                                      output_directory=image_new_address)"
   ]
  },
  {
   "cell_type": "code",
   "execution_count": 7,
   "id": "b5f15025-9f70-4b97-83e9-cf65a0bde7c5",
   "metadata": {},
   "outputs": [],
   "source": [
    "gdal_utils.merge_all_rasters_directory(input_directory=label_address, \n",
    "                                       output_name='merged',\n",
    "                                      output_directory=label_address)"
   ]
  },
  {
   "cell_type": "code",
   "execution_count": null,
   "id": "03aea645-ff13-4412-b146-99e52a8a1d7a",
   "metadata": {},
   "outputs": [],
   "source": []
  }
 ],
 "metadata": {
  "kernelspec": {
   "display_name": "Python 3 (ipykernel)",
   "language": "python",
   "name": "python3"
  },
  "language_info": {
   "codemirror_mode": {
    "name": "ipython",
    "version": 3
   },
   "file_extension": ".py",
   "mimetype": "text/x-python",
   "name": "python",
   "nbconvert_exporter": "python",
   "pygments_lexer": "ipython3",
   "version": "3.7.7"
  }
 },
 "nbformat": 4,
 "nbformat_minor": 5
}
