{
 "cells": [
  {
   "cell_type": "code",
   "execution_count": 1,
   "id": "ca2afb7d",
   "metadata": {},
   "outputs": [],
   "source": [
    "%load_ext autoreload"
   ]
  },
  {
   "cell_type": "code",
   "execution_count": 1,
   "id": "125c46a3",
   "metadata": {},
   "outputs": [
    {
     "name": "stderr",
     "output_type": "stream",
     "text": [
      "UsageError: Line magic function `%autoreload` not found.\n"
     ]
    }
   ],
   "source": [
    "%autoreload\n",
    "import numpy as np\n",
    "import sys\n",
    "import os\n",
    "import glob\n",
    "import imageio\n",
    "import time\n",
    "from scipy import ndimage, signal\n",
    "from cv2 import medianBlur\n",
    "\n",
    "sys.path.append(\"..\")\n",
    "\n",
    "from PIL import Image\n",
    "from costum_arild.source.utils import image_processing_utils, gdal_utils\n",
    "from costum_arild.source.utils import notebook_utils\n",
    "from costum_arild.source.data_processing import TrainingImage\n",
    "\n",
    "import matplotlib.pyplot as plt"
   ]
  },
  {
   "cell_type": "markdown",
   "id": "95c78c4d",
   "metadata": {},
   "source": [
    "deleting the images that are not in the source file to make a pair label and image"
   ]
  },
  {
   "cell_type": "code",
   "execution_count": 10,
   "id": "d5b4dfbe",
   "metadata": {},
   "outputs": [
    {
     "name": "stdout",
     "output_type": "stream",
     "text": [
      "name /home/saeid/phd/segmentation/dataset/new_rivers/predictions/gaula_1998/label/33-2-462-213-31.tif not found\n",
      "name /home/saeid/phd/segmentation/dataset/new_rivers/predictions/gaula_1998/label/33-2-463-214-03.tif not found\n",
      "name /home/saeid/phd/segmentation/dataset/new_rivers/predictions/gaula_1998/label/33-2-462-215-10.tif not found\n",
      "name /home/saeid/phd/segmentation/dataset/new_rivers/predictions/gaula_1998/label/33-2-462-210-23.tif not found\n",
      "name /home/saeid/phd/segmentation/dataset/new_rivers/predictions/gaula_1998/label/33-2-462-211-10.tif not found\n",
      "name /home/saeid/phd/segmentation/dataset/new_rivers/predictions/gaula_1998/label/33-2-462-215-11.tif not found\n",
      "name /home/saeid/phd/segmentation/dataset/new_rivers/predictions/gaula_1998/label/33-2-462-209-10.tif not found\n",
      "name /home/saeid/phd/segmentation/dataset/new_rivers/predictions/gaula_1998/label/33-2-462-210-11.tif not found\n",
      "name /home/saeid/phd/segmentation/dataset/new_rivers/predictions/gaula_1998/label/33-2-462-211-32.tif not found\n",
      "name /home/saeid/phd/segmentation/dataset/new_rivers/predictions/gaula_1998/label/33-2-462-208-33.tif not found\n",
      "name /home/saeid/phd/segmentation/dataset/new_rivers/predictions/gaula_1998/label/33-2-462-215-21.tif not found\n",
      "name /home/saeid/phd/segmentation/dataset/new_rivers/predictions/gaula_1998/label/33-2-462-214-12.tif not found\n",
      "name /home/saeid/phd/segmentation/dataset/new_rivers/predictions/gaula_1998/label/33-2-462-208-31.tif not found\n",
      "name /home/saeid/phd/segmentation/dataset/new_rivers/predictions/gaula_1998/label/33-2-462-211-23.tif not found\n",
      "name /home/saeid/phd/segmentation/dataset/new_rivers/predictions/gaula_1998/label/33-2-462-211-31.tif not found\n",
      "name /home/saeid/phd/segmentation/dataset/new_rivers/predictions/gaula_1998/label/33-2-462-211-21.tif not found\n",
      "name /home/saeid/phd/segmentation/dataset/new_rivers/predictions/gaula_1998/label/33-2-462-212-12.tif not found\n",
      "name /home/saeid/phd/segmentation/dataset/new_rivers/predictions/gaula_1998/label/33-2-462-211-22.tif not found\n",
      "name /home/saeid/phd/segmentation/dataset/new_rivers/predictions/gaula_1998/label/33-2-463-213-03.tif not found\n",
      "name /home/saeid/phd/segmentation/dataset/new_rivers/predictions/gaula_1998/label/33-2-462-211-11.tif not found\n",
      "name /home/saeid/phd/segmentation/dataset/new_rivers/predictions/gaula_1998/label/33-2-462-212-22.tif not found\n",
      "name /home/saeid/phd/segmentation/dataset/new_rivers/predictions/gaula_1998/label/33-2-462-211-12.tif not found\n",
      "name /home/saeid/phd/segmentation/dataset/new_rivers/predictions/gaula_1998/label/33-2-462-214-13.tif not found\n",
      "name /home/saeid/phd/segmentation/dataset/new_rivers/predictions/gaula_1998/label/33-2-462-214-22.tif not found\n",
      "name /home/saeid/phd/segmentation/dataset/new_rivers/predictions/gaula_1998/label/33-2-463-215-00.tif not found\n",
      "name /home/saeid/phd/segmentation/dataset/new_rivers/predictions/gaula_1998/label/33-2-462-210-10.tif not found\n",
      "name /home/saeid/phd/segmentation/dataset/new_rivers/predictions/gaula_1998/label/33-2-462-209-22.tif not found\n"
     ]
    }
   ],
   "source": [
    "src_path = r'/home/saeid/phd/segmentation/dataset/new_rivers/gaula_1998_plane_photos'\n",
    "dst_path = r'/home/saeid/phd/segmentation/dataset/new_rivers/predictions/gaula_1998/label'\n",
    "file_type = 'tif'\n",
    "\n",
    "notebook_utils.del_unmatch_file(\n",
    "    src_path=src_path, \n",
    "    dst_path=dst_path, \n",
    "    file_type=file_type, \n",
    "    verbose=1)"
   ]
  },
  {
   "cell_type": "markdown",
   "id": "bed7c186-f3dd-4a2e-9211-33b14f0ce3b9",
   "metadata": {},
   "source": [
    "changing the images from 2d to 3d "
   ]
  },
  {
   "cell_type": "code",
   "execution_count": 21,
   "id": "56206677-2fdc-49a5-9790-3d3eafbd908a",
   "metadata": {},
   "outputs": [
    {
     "name": "stdout",
     "output_type": "stream",
     "text": [
      "0\n"
     ]
    }
   ],
   "source": [
    "input_type = 'tif'\n",
    "lbl_path = '/media/saeid/LaCie/Saeid/Riverscape/gaula_1956_photo_prediction'\n",
    "lbl_new_path = '/media/saeid/LaCie/Saeid/Riverscape/png/gaula_1956/label'\n",
    "image_processing_utils.change2dto3d(input_type, \n",
    "                                    lbl_path = lbl_path, \n",
    "                                    lbl_new_path = lbl_new_path, \n",
    "                                    verbose=1)\n"
   ]
  },
  {
   "cell_type": "markdown",
   "id": "6be8bbf9-0353-4b88-9997-3dd3cdb13149",
   "metadata": {},
   "source": [
    "# advanced match finding function"
   ]
  },
  {
   "cell_type": "code",
   "execution_count": 17,
   "id": "221e8807-376f-4177-bd85-852f4ab362f3",
   "metadata": {},
   "outputs": [],
   "source": [
    "def del_match_file_advanced(src_path, dst_path, src_type='tif', \n",
    "                              dst_type='tif', verbose=0):\n",
    "    \"\"\"\n",
    "    Removes the files with the 'file_type' in dst_path\n",
    "    which does not exist in src_path\n",
    "    file types can vary as well\n",
    "    \"\"\"\n",
    "\n",
    "    # remove things in dst that are not in src\n",
    "\n",
    "    src_file_name = f'*.{src_type}'\n",
    "    dst_file_name = f'*.{dst_type}'\n",
    "\n",
    "    all_src_files = glob.glob(os.path.join(src_path, src_file_name))\n",
    "    all_dst_files = glob.glob(os.path.join(dst_path, dst_file_name))\n",
    "\n",
    "    all_src_names = [os.path.split(name)[-1].replace(src_type, '') for name in all_src_files]\n",
    "    all_dst_names = [os.path.split(name)[-1].replace(dst_type, '') for name in all_dst_files]\n",
    "    \n",
    "    counter = 0\n",
    "    for idx, the_name in enumerate(all_dst_names):\n",
    "        # for each image\n",
    "        found_flag = True\n",
    "        for jdx, src_name in enumerate(all_src_names):\n",
    "            if the_name == src_name:\n",
    "                found_flag = False\n",
    "\n",
    "        if not found_flag:\n",
    "            if verbose == 1:\n",
    "                print(f'name {all_dst_files[idx]} not found')\n",
    "            os.remove(all_dst_files[idx])\n",
    "            counter+=1\n",
    "    print(counter)\n"
   ]
  },
  {
   "cell_type": "code",
   "execution_count": 19,
   "id": "2b2c6b22-e267-4377-88c0-3f86befff0d2",
   "metadata": {},
   "outputs": [
    {
     "name": "stdout",
     "output_type": "stream",
     "text": [
      "name /media/saeid/LaCie/Saeid/Riverscape/png/laerdal_1978/non-done/full_laerdal_tif/label/33-2-438-164-22.tif not found\n",
      "name /media/saeid/LaCie/Saeid/Riverscape/png/laerdal_1978/non-done/full_laerdal_tif/label/33-2-439-164-23.tif not found\n",
      "name /media/saeid/LaCie/Saeid/Riverscape/png/laerdal_1978/non-done/full_laerdal_tif/label/33-2-439-164-21.tif not found\n",
      "name /media/saeid/LaCie/Saeid/Riverscape/png/laerdal_1978/non-done/full_laerdal_tif/label/33-2-439-164-11.tif not found\n",
      "name /media/saeid/LaCie/Saeid/Riverscape/png/laerdal_1978/non-done/full_laerdal_tif/label/33-2-439-164-12.tif not found\n",
      "name /media/saeid/LaCie/Saeid/Riverscape/png/laerdal_1978/non-done/full_laerdal_tif/label/33-2-439-165-31.tif not found\n",
      "name /media/saeid/LaCie/Saeid/Riverscape/png/laerdal_1978/non-done/full_laerdal_tif/label/33-2-439-165-30.tif not found\n",
      "name /media/saeid/LaCie/Saeid/Riverscape/png/laerdal_1978/non-done/full_laerdal_tif/label/33-2-439-164-13.tif not found\n",
      "name /media/saeid/LaCie/Saeid/Riverscape/png/laerdal_1978/non-done/full_laerdal_tif/label/33-2-439-165-20.tif not found\n",
      "name /media/saeid/LaCie/Saeid/Riverscape/png/laerdal_1978/non-done/full_laerdal_tif/label/33-2-437-166-00.tif not found\n",
      "name /media/saeid/LaCie/Saeid/Riverscape/png/laerdal_1978/non-done/full_laerdal_tif/label/33-2-437-164-33.tif not found\n",
      "name /media/saeid/LaCie/Saeid/Riverscape/png/laerdal_1978/non-done/full_laerdal_tif/label/33-2-437-165-00.tif not found\n",
      "name /media/saeid/LaCie/Saeid/Riverscape/png/laerdal_1978/non-done/full_laerdal_tif/label/33-2-436-165-32.tif not found\n",
      "name /media/saeid/LaCie/Saeid/Riverscape/png/laerdal_1978/non-done/full_laerdal_tif/label/33-2-437-164-22.tif not found\n",
      "name /media/saeid/LaCie/Saeid/Riverscape/png/laerdal_1978/non-done/full_laerdal_tif/label/33-2-438-164-12.tif not found\n",
      "name /media/saeid/LaCie/Saeid/Riverscape/png/laerdal_1978/non-done/full_laerdal_tif/label/33-2-437-164-23.tif not found\n",
      "name /media/saeid/LaCie/Saeid/Riverscape/png/laerdal_1978/non-done/full_laerdal_tif/label/33-2-438-164-13.tif not found\n",
      "name /media/saeid/LaCie/Saeid/Riverscape/png/laerdal_1978/non-done/full_laerdal_tif/label/33-2-436-165-33.tif not found\n",
      "name /media/saeid/LaCie/Saeid/Riverscape/png/laerdal_1978/non-done/full_laerdal_tif/label/33-2-436-166-30.tif not found\n",
      "name /media/saeid/LaCie/Saeid/Riverscape/png/laerdal_1978/non-done/full_laerdal_tif/label/33-2-436-166-20.tif not found\n",
      "name /media/saeid/LaCie/Saeid/Riverscape/png/laerdal_1978/non-done/full_laerdal_tif/label/33-2-438-164-03.tif not found\n",
      "name /media/saeid/LaCie/Saeid/Riverscape/png/laerdal_1978/non-done/full_laerdal_tif/label/33-2-437-164-13.tif not found\n",
      "name /media/saeid/LaCie/Saeid/Riverscape/png/laerdal_1978/non-done/full_laerdal_tif/label/33-2-436-166-21.tif not found\n",
      "name /media/saeid/LaCie/Saeid/Riverscape/png/laerdal_1978/non-done/full_laerdal_tif/label/33-2-436-165-31.tif not found\n",
      "name /media/saeid/LaCie/Saeid/Riverscape/png/laerdal_1978/non-done/full_laerdal_tif/label/33-2-437-165-02.tif not found\n",
      "name /media/saeid/LaCie/Saeid/Riverscape/png/laerdal_1978/non-done/full_laerdal_tif/label/33-2-437-164-32.tif not found\n",
      "name /media/saeid/LaCie/Saeid/Riverscape/png/laerdal_1978/non-done/full_laerdal_tif/label/33-2-437-164-03.tif not found\n",
      "27\n"
     ]
    }
   ],
   "source": [
    "src_path = r'/media/saeid/LaCie/Saeid/Riverscape/png/laerdal_1978/non-done/full_laerdal_tif/done_images'\n",
    "dst_path = r'/media/saeid/LaCie/Saeid/Riverscape/png/laerdal_1978/non-done/full_laerdal_tif/label'\n",
    "\n",
    "src_type = 'png'\n",
    "dst_type = 'tif'\n",
    "\n",
    "del_match_file_advanced(\n",
    "    src_path=src_path, \n",
    "    dst_path=dst_path, \n",
    "    src_type=src_type, \n",
    "    dst_type=dst_type,\n",
    "    verbose=1)"
   ]
  },
  {
   "cell_type": "code",
   "execution_count": null,
   "id": "5c2ca7f1-ce43-42e5-a687-7e002254bd9e",
   "metadata": {},
   "outputs": [],
   "source": []
  }
 ],
 "metadata": {
  "kernelspec": {
   "display_name": "Python 3 (ipykernel)",
   "language": "python",
   "name": "python3"
  },
  "language_info": {
   "codemirror_mode": {
    "name": "ipython",
    "version": 3
   },
   "file_extension": ".py",
   "mimetype": "text/x-python",
   "name": "python",
   "nbconvert_exporter": "python",
   "pygments_lexer": "ipython3",
   "version": "3.7.7"
  }
 },
 "nbformat": 4,
 "nbformat_minor": 5
}
