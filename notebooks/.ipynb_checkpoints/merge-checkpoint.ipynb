{
 "cells": [
  {
   "cell_type": "code",
   "execution_count": 1,
   "id": "incoming-substance",
   "metadata": {},
   "outputs": [],
   "source": [
    "import numpy as np\n",
    "import matplotlib.pyplot as plt\n",
    "import subprocess, glob\n",
    "from osgeo import gdal\n",
    "import os"
   ]
  },
  {
   "cell_type": "code",
   "execution_count": 6,
   "id": "certain-ordinance",
   "metadata": {},
   "outputs": [
    {
     "data": {
      "text/plain": [
       "['/home/saeid/phd/segmentation/dataset/TestPrediction/output_folder/33-2-449-208-20.tif',\n",
       " '/home/saeid/phd/segmentation/dataset/TestPrediction/output_folder/33-2-449-207-33.tif',\n",
       " '/home/saeid/phd/segmentation/dataset/TestPrediction/output_folder/33-2-449-208-30.tif',\n",
       " '/home/saeid/phd/segmentation/dataset/TestPrediction/output_folder/33-2-449-207-23.tif']"
      ]
     },
     "execution_count": 6,
     "metadata": {},
     "output_type": "execute_result"
    }
   ],
   "source": [
    "files_to_mosaic = glob.glob('/home/saeid/phd/segmentation/dataset/TestPrediction/output_folder/*.tif')\n",
    "files_to_mosaic"
   ]
  },
  {
   "cell_type": "code",
   "execution_count": 22,
   "id": "cloudy-bosnia",
   "metadata": {},
   "outputs": [
    {
     "name": "stdout",
     "output_type": "stream",
     "text": [
      "/home/saeid/phd/segmentation/dataset/TestPrediction/output_folder/33-2-449-208-20.tif /home/saeid/phd/segmentation/dataset/TestPrediction/output_folder/33-2-449-207-33.tif /home/saeid/phd/segmentation/dataset/TestPrediction/output_folder/33-2-449-208-30.tif /home/saeid/phd/segmentation/dataset/TestPrediction/output_folder/33-2-449-207-23.tif\n"
     ]
    }
   ],
   "source": [
    "files_string = \" \".join(files_to_mosaic)\n",
    "print(files_string)"
   ]
  },
  {
   "cell_type": "code",
   "execution_count": 26,
   "id": "expanded-settlement",
   "metadata": {},
   "outputs": [
    {
     "data": {
      "text/plain": [
       "b'0...10...20...30...40...50...60...70...80...90...100 - done.\\n'"
      ]
     },
     "execution_count": 26,
     "metadata": {},
     "output_type": "execute_result"
    }
   ],
   "source": [
    "command = \"gdal_merge.py -o TEAK_Aspect_Mosaic.tif -of gtiff \" + files_string\n",
    "output = subprocess.check_output(command, shell=True)\n",
    "output"
   ]
  },
  {
   "cell_type": "code",
   "execution_count": 29,
   "id": "quick-handling",
   "metadata": {},
   "outputs": [],
   "source": [
    "# build virtual raster and convert to geotiff\n",
    "vrt = gdal.BuildVRT(\"merged.vrt\", files_to_mosaic)\n",
    "gdal.Translate(\"TEAK_Aspect_Mosaic2.tif\", vrt)\n",
    "vrt = None"
   ]
  },
  {
   "cell_type": "code",
   "execution_count": 32,
   "id": "intense-easter",
   "metadata": {},
   "outputs": [],
   "source": [
    "def merge_all_rasters_directory(input_directory, output_name, output_directory=None):\n",
    "    files_to_mosaic = glob.glob(os.path.join(input_directory, '*.tif'))\n",
    "    # build virtual raster and convert to geotiff\n",
    "    merge_all_rasters_list(tif_file_list=files_to_mosaic, output_name=output_name,\n",
    "                           output_directory=output_directory)\n",
    "    \n",
    "def merge_all_rasters_list(tif_file_list, output_name, output_directory):\n",
    "    \"\"\"\n",
    "    merge all the tif file paths of which are in tif_file_list\n",
    "    \"\"\"\n",
    "    if output_directory is not None:\n",
    "        output_name = os.path.join(output_directory, output_name)\n",
    "    vrt = gdal.BuildVRT(f'{output_name}.vrt', tif_file_list)\n",
    "    if save_tif:\n",
    "        gdal.Translate(f'{output_name}.tif', vrt)\n",
    "    vrt = None"
   ]
  },
  {
   "cell_type": "code",
   "execution_count": 33,
   "id": "utility-supply",
   "metadata": {},
   "outputs": [],
   "source": [
    "input_file = '/home/saeid/phd/segmentation/dataset/TestPrediction/output_folder/'\n",
    "output_file = 'test_mosaic'\n",
    "merge_all_rasters_directory(input_directory=input_file, output_name=output_file, output_directory=input_file)"
   ]
  },
  {
   "cell_type": "code",
   "execution_count": 7,
   "id": "nominated-builder",
   "metadata": {},
   "outputs": [
    {
     "name": "stdout",
     "output_type": "stream",
     "text": [
      "Time Taken: 00:00:27\n"
     ]
    }
   ],
   "source": [
    "# just test how to log time\n",
    "import time\n",
    "start_time = time.time()\n",
    "for i in range(1000000000):\n",
    "    a = 4^21\n",
    "seconds = time.time() - start_time\n",
    "print('Time Taken:', time.strftime(\"%H:%M:%S\",time.gmtime(seconds)))"
   ]
  },
  {
   "cell_type": "code",
   "execution_count": 20,
   "id": "clinical-flooring",
   "metadata": {},
   "outputs": [],
   "source": [
    "class PipelineTrackerClass:\n",
    "    \"\"\"\n",
    "    To keep track of status of pipeline, keep track of time, operation being done, etc.\n",
    "    \"\"\"\n",
    "\n",
    "    def __init__(self):\n",
    "        self.start_time = time.time()\n",
    "        self.time_passed = 0\n",
    "        self.time_passed_operation = 0\n",
    "        self.operation_name = None\n",
    "\n",
    "    def get_operation_name(self, operation_name_val, print_flage=True):\n",
    "        self.operation_name = operation_name_val\n",
    "        if print_flage:\n",
    "            print(f'Operation {self.operation_name} begins')\n",
    "\n",
    "    def format_seconds(self, seconds):\n",
    "        return time.strftime(\"%H:%M:%S\", time.gmtime(seconds))\n",
    "\n",
    "    def report_total_time(self):\n",
    "        # calculate the time passed\n",
    "        self.time_passed_operation = (time.time() - self.start_time) - self.time_passed \n",
    "        self.time_passed = time.time() - self.start_time\n",
    "\n",
    "        print(f'Total time so far: {self.format_seconds(self.time_passed)}'\n",
    "              f', Operation {self.operation_name} time: {self.format_seconds(self.time_passed_operation)}')\n"
   ]
  },
  {
   "cell_type": "code",
   "execution_count": 21,
   "id": "vanilla-cream",
   "metadata": {},
   "outputs": [],
   "source": [
    "pipelineTracker = PipelineTrackerClass()"
   ]
  },
  {
   "cell_type": "code",
   "execution_count": 22,
   "id": "wanted-emphasis",
   "metadata": {},
   "outputs": [
    {
     "name": "stdout",
     "output_type": "stream",
     "text": [
      "Total time so far: 00:00:00, Operation None time: 00:00:00\n"
     ]
    }
   ],
   "source": [
    "pipelineTracker.report_total_time()"
   ]
  },
  {
   "cell_type": "code",
   "execution_count": 15,
   "id": "filled-phoenix",
   "metadata": {},
   "outputs": [
    {
     "data": {
      "text/plain": [
       "<__main__.PipelineTrackerClass at 0x7f53df5b0190>"
      ]
     },
     "execution_count": 15,
     "metadata": {},
     "output_type": "execute_result"
    }
   ],
   "source": [
    "pipelineTracker"
   ]
  },
  {
   "cell_type": "markdown",
   "id": "865c5cb7-206d-4766-9a5a-33f46b5daa86",
   "metadata": {},
   "source": [
    "# make large files in order to use for rotation"
   ]
  },
  {
   "cell_type": "code",
   "execution_count": 1,
   "id": "37bfe1b7-cdc3-48d2-991b-3d91a44e4469",
   "metadata": {},
   "outputs": [],
   "source": [
    "%load_ext autoreload"
   ]
  },
  {
   "cell_type": "code",
   "execution_count": 2,
   "id": "a8f20a2c-45cb-4f3a-9b2f-2e610db04661",
   "metadata": {},
   "outputs": [
    {
     "name": "stderr",
     "output_type": "stream",
     "text": [
      "2022-01-19 00:12:44.833997: I tensorflow/stream_executor/platform/default/dso_loader.cc:49] Successfully opened dynamic library libcudart.so.10.1\n"
     ]
    }
   ],
   "source": [
    "%autoreload\n",
    "import numpy as np\n",
    "import sys\n",
    "import os\n",
    "import glob\n",
    "import imageio\n",
    "import time\n",
    "import matplotlib.pyplot as plt\n",
    "sys.path.append(\"..\")\n",
    "from scipy import ndimage, signal\n",
    "from cv2 import medianBlur\n",
    "\n",
    "from PIL import Image\n",
    "from costum_arild.source.utils import image_processing_utils, gdal_utils"
   ]
  },
  {
   "cell_type": "markdown",
   "id": "72a6ebd5-848d-4695-a632-0c1f529c7f89",
   "metadata": {},
   "source": [
    "## laerdal"
   ]
  },
  {
   "cell_type": "code",
   "execution_count": 9,
   "id": "1a29cc97-70fd-41ea-ad43-db3796a4bb72",
   "metadata": {},
   "outputs": [],
   "source": [
    "src_lbl_path = '/home/saeid/phd/segmentation/dataset/large images/rasters/corrected_ipad/lærdal_1976'\n",
    "src_img_path = '/home/saeid/phd/segmentation/dataset/large images/image_labeled/lærdal_1976'\n",
    "dst_save_path = '/home/saeid/phd/segmentation/dataset/large images/rasters/corrected_ipad/lærdal_1976_connected'\n",
    "\n",
    "\n",
    "l_tif_list = []\n",
    "l_tif_list.append(['33-2-436-166-20', '33-2-436-166-30'])\n",
    "l_tif_list.append(['33-2-439-164-11', '33-2-439-164-12', '33-2-439-164-21'])\n",
    "l_tif_list.append(['33-2-437-164-33', '33-2-437-164-32', '33-2-437-164-22', '33-2-437-164-23'])\n",
    "l_tif_list.append(['33-2-437-164-03', '33-2-437-165-00'])\n",
    "l_tif_list.append(['33-2-437-165-02', '33-2-436-165-31', '33-2-436-165-32'])\n",
    "l_tif_list.append(['33-2-439-165-30', '33-2-439-165-20', '33-2-439-164-23'])"
   ]
  },
  {
   "cell_type": "code",
   "execution_count": 15,
   "id": "ad9ad1fc-e748-41d7-8725-2b67bb5c3931",
   "metadata": {},
   "outputs": [],
   "source": [
    "# label\n",
    "l_path_list = []\n",
    "for idx in range(len(l_tif_list)):\n",
    "    l_path_list.append([os.path.join(src_lbl_path, f'{name}.tif') for name in l_tif_list[idx]])"
   ]
  },
  {
   "cell_type": "code",
   "execution_count": 17,
   "id": "79e5f85c-96ec-4ff3-b764-6bf68cd76937",
   "metadata": {},
   "outputs": [],
   "source": [
    "# label\n",
    "label_path = os.path.join(dst_save_path, 'label')\n",
    "os.makedirs(label_path, exist_ok=True)\n",
    "for count, path_merge in enumerate(l_path_list):\n",
    "#     print(f'working on {count} path:{path_merge}')\n",
    "    gdal_utils.merge_all_rasters_list(tif_file_list=path_merge, output_name=f'merged_{count}',\n",
    "                                                  output_directory=label_path)"
   ]
  },
  {
   "cell_type": "code",
   "execution_count": 12,
   "id": "03750782-779c-44d8-aec7-d64d41b3d7bc",
   "metadata": {},
   "outputs": [],
   "source": [
    "# image\n",
    "i_path_list = []\n",
    "for idx in range(len(l_tif_list)):\n",
    "    i_path_list.append([os.path.join(src_img_path, f'{name}.tif') for name in l_tif_list[idx]])"
   ]
  },
  {
   "cell_type": "code",
   "execution_count": 13,
   "id": "6621a6a1-a460-49cd-8afe-2441bd59710d",
   "metadata": {},
   "outputs": [],
   "source": [
    "# image\n",
    "image_path = os.path.join(dst_save_path, 'image')\n",
    "os.makedirs(image_path, exist_ok=True)\n",
    "for count, path_merge in enumerate(i_path_list):\n",
    "    gdal_utils.merge_all_rasters_list(tif_file_list=path_merge, output_name=f'merged_{count}',\n",
    "                                                  output_directory=image_path)"
   ]
  },
  {
   "cell_type": "markdown",
   "id": "185fbd8c-1cb7-4bd1-ab76-1e0798216ed8",
   "metadata": {},
   "source": [
    "## gaula"
   ]
  },
  {
   "cell_type": "code",
   "execution_count": 24,
   "id": "346a352a-bacc-4a56-820a-0e8a9f681cd5",
   "metadata": {},
   "outputs": [],
   "source": [
    "src_lbl_path = '/home/saeid/phd/segmentation/dataset/large images/rasters/corrected_ipad/gaula_1963'\n",
    "src_img_path = '/home/saeid/phd/segmentation/dataset/large images/image_labeled/gaula_1963'\n",
    "dst_save_path = '/home/saeid/phd/segmentation/dataset/large images/rasters/corrected_ipad/gaula_1963_connected'\n",
    "\n",
    "g_tif_list = []\n",
    "\n",
    "g_tif_list.append(['33-2-462-207-23', '33-2-462-208-20'])\n",
    "g_tif_list.append(['33-2-462-208-30', '33-2-462-208-31', '33-2-462-208-32'])\n",
    "g_tif_list.append(['33-2-462-209-10', '33-2-462-209-11', '33-2-462-209-12', \n",
    "                 '33-2-462-209-13', '33-2-462-209-20', '33-2-462-209-21', '33-2-462-209-22', \n",
    "                    '33-2-462-209-23', '33-2-462-210-10', '33-2-462-210-20', '33-2-462-208-23'])\n",
    "g_tif_list.append(['33-2-462-210-32', '33-2-462-210-22', '33-2-462-210-21'])\n",
    "g_tif_list.append(['33-2-463-211-00', '33-2-462-210-33', '33-2-462-211-30'])\n",
    "g_tif_list.append(['33-2-462-211-33', '33-2-462-212-30', '33-2-462-212-31', '33-2-463-211-03', \n",
    "                   '33-2-463-212-00', '33-2-463-212-01'])\n",
    "g_tif_list.append(['33-2-463-211-00', '33-2-463-211-01', '33-2-463-211-02'])\n",
    "g_tif_list.append(['33-2-463-211-02', '33-2-463-211-01', '33-2-463-211-00'])\n",
    "g_tif_list.append(['33-2-464-206-23', '33-2-464-206-22'])\n",
    "g_tif_list.append(['33-2-464-206-03', '33-2-464-206-13'])\n",
    "g_tif_list.append(['33-2-464-206-30', '33-2-464-206-31', '33-2-464-206-32'])\n",
    "g_tif_list.append(['33-2-464-207-00', '33-2-464-207-01'])\n",
    "g_tif_list.append(['33-2-465-205-03', '33-2-465-205-13', '33-2-465-205-12', '33-2-465-205-22'])\n",
    "g_tif_list.append(['33-2-463-207-21', '33-2-463-207-22', '33-2-463-207-31', '33-2-463-207-32'])\n",
    "g_tif_list.append(['33-2-463-207-03', '33-2-463-207-02', '33-2-462-207-32'])"
   ]
  },
  {
   "cell_type": "code",
   "execution_count": 25,
   "id": "21afef9d-d298-4a3b-aaf3-209e16cc2195",
   "metadata": {},
   "outputs": [],
   "source": [
    "# label\n",
    "l_path_list = []\n",
    "for idx in range(len(g_tif_list)):\n",
    "    l_path_list.append([os.path.join(src_lbl_path, f'{name}.tif') for name in g_tif_list[idx]])"
   ]
  },
  {
   "cell_type": "code",
   "execution_count": 26,
   "id": "ef953c77-be24-48cd-9136-e130c4713de7",
   "metadata": {},
   "outputs": [],
   "source": [
    "# label\n",
    "label_path = os.path.join(dst_save_path, 'label')\n",
    "os.makedirs(label_path, exist_ok=True)\n",
    "for count, path_merge in enumerate(l_path_list):\n",
    "#     print(f'working on {count} path:{path_merge}')\n",
    "    gdal_utils.merge_all_rasters_list(tif_file_list=path_merge, output_name=f'merged_{count}',\n",
    "                                                  output_directory=label_path)"
   ]
  },
  {
   "cell_type": "code",
   "execution_count": 27,
   "id": "6f927ce8-d818-4cca-87ae-f5ca516cad69",
   "metadata": {},
   "outputs": [],
   "source": [
    "# image\n",
    "i_path_list = []\n",
    "for idx in range(len(g_tif_list)):\n",
    "    i_path_list.append([os.path.join(src_img_path, f'{name}.tif') for name in g_tif_list[idx]])"
   ]
  },
  {
   "cell_type": "code",
   "execution_count": 28,
   "id": "13acc854-adb9-4dd1-9d84-50b5a4624dbf",
   "metadata": {},
   "outputs": [],
   "source": [
    "# image\n",
    "image_path = os.path.join(dst_save_path, 'image')\n",
    "os.makedirs(image_path, exist_ok=True)\n",
    "for count, path_merge in enumerate(i_path_list):\n",
    "    gdal_utils.merge_all_rasters_list(tif_file_list=path_merge, output_name=f'merged_{count}',\n",
    "                                                  output_directory=image_path)"
   ]
  },
  {
   "cell_type": "markdown",
   "id": "53bf9cec-7621-4952-972d-a5581d482fa0",
   "metadata": {},
   "source": [
    "## Surna"
   ]
  },
  {
   "cell_type": "code",
   "execution_count": 40,
   "id": "de047daf-a7e8-4f84-8e74-bbd529b06b59",
   "metadata": {},
   "outputs": [],
   "source": [
    "src_lbl_path = '/home/saeid/phd/segmentation/dataset/large images/rasters/corrected_ipad/surna_1963'\n",
    "src_img_path = '/home/saeid/phd/segmentation/dataset/large images/image_labeled/surna_1963'\n",
    "dst_save_path = '/home/saeid/phd/segmentation/dataset/large images/rasters/corrected_ipad/surna_1963_connected'\n",
    "\n",
    "s_tif_list = [[os.path.split(file)[-1].replace('.tif', '') for file in glob.glob(os.path.join(src_lbl_path, '*.tif'))]]"
   ]
  },
  {
   "cell_type": "code",
   "execution_count": 41,
   "id": "f6d53b88-1cfe-4f8d-8997-d2dd69f81088",
   "metadata": {},
   "outputs": [
    {
     "data": {
      "text/plain": [
       "[['33-2-449-207-33',\n",
       "  '33-2-450-207-13',\n",
       "  '33-2-449-207-23',\n",
       "  '33-2-450-207-33',\n",
       "  '33-2-450-207-23',\n",
       "  '33-2-450-207-03']]"
      ]
     },
     "execution_count": 41,
     "metadata": {},
     "output_type": "execute_result"
    }
   ],
   "source": [
    "s_tif_list"
   ]
  },
  {
   "cell_type": "code",
   "execution_count": 42,
   "id": "54ce39d4-6ed3-4257-95b7-56532496eac6",
   "metadata": {},
   "outputs": [],
   "source": [
    "# label\n",
    "l_path_list = []\n",
    "for idx in range(len(s_tif_list)):\n",
    "    l_path_list.append([os.path.join(src_lbl_path, f'{name}.tif') for name in s_tif_list[idx]])"
   ]
  },
  {
   "cell_type": "code",
   "execution_count": 43,
   "id": "dfdce0ea-f6db-4efd-b3d0-80a0b1524e76",
   "metadata": {},
   "outputs": [],
   "source": [
    "# label\n",
    "label_path = os.path.join(dst_save_path, 'label')\n",
    "os.makedirs(label_path, exist_ok=True)\n",
    "for count, path_merge in enumerate(l_path_list):\n",
    "#     print(f'working on {count} path:{path_merge}')\n",
    "    gdal_utils.merge_all_rasters_list(tif_file_list=path_merge, output_name=f'merged_{count}',\n",
    "                                                  output_directory=label_path)"
   ]
  },
  {
   "cell_type": "code",
   "execution_count": 44,
   "id": "f752c68c-938e-4089-840d-577484e18d4f",
   "metadata": {},
   "outputs": [],
   "source": [
    "# image\n",
    "i_path_list = []\n",
    "for idx in range(len(s_tif_list)):\n",
    "    i_path_list.append([os.path.join(src_img_path, f'{name}.tif') for name in s_tif_list[idx]])"
   ]
  },
  {
   "cell_type": "code",
   "execution_count": 45,
   "id": "f9d1d33d-d787-474e-8a55-191bc7254954",
   "metadata": {},
   "outputs": [],
   "source": [
    "# image\n",
    "image_path = os.path.join(dst_save_path, 'image')\n",
    "os.makedirs(image_path, exist_ok=True)\n",
    "for count, path_merge in enumerate(i_path_list):\n",
    "    gdal_utils.merge_all_rasters_list(tif_file_list=path_merge, output_name=f'merged_{count}',\n",
    "                                                  output_directory=image_path)"
   ]
  },
  {
   "cell_type": "markdown",
   "id": "ba825ab8-ad93-4ced-9673-84f567f49a29",
   "metadata": {},
   "source": [
    "## Nea"
   ]
  },
  {
   "cell_type": "code",
   "execution_count": null,
   "id": "233b6f83-6c5e-48f9-b9c8-c295f11beb17",
   "metadata": {},
   "outputs": [],
   "source": [
    "src_lbl_path = '/home/saeid/phd/segmentation/dataset/large images/rasters/corrected_ipad/nea_1962'\n",
    "src_img_path = '/home/saeid/phd/segmentation/dataset/test_dataset/nea_1962_test_set/nea_1962_plane_photos'\n",
    "dst_save_path = '/home/saeid/phd/segmentation/dataset/large images/rasters/corrected_ipad/nea_1962_connected'\n",
    "\n",
    "s_tif_list = [[os.path.split(file)[-1].replace('.tif', '') for file in glob.glob(os.path.join(src_lbl_path, '*.tif'))]]"
   ]
  },
  {
   "cell_type": "code",
   "execution_count": null,
   "id": "587ec222-5d74-4959-beff-4ccd38ef0d09",
   "metadata": {},
   "outputs": [],
   "source": []
  },
  {
   "cell_type": "code",
   "execution_count": null,
   "id": "03e01995-f5f3-4a91-a16c-0077d96072e1",
   "metadata": {},
   "outputs": [],
   "source": []
  },
  {
   "cell_type": "code",
   "execution_count": null,
   "id": "9efbbfda-6632-4ceb-8b4d-b1718a9aa01d",
   "metadata": {},
   "outputs": [],
   "source": []
  }
 ],
 "metadata": {
  "kernelspec": {
   "display_name": "Python 3 (ipykernel)",
   "language": "python",
   "name": "python3"
  },
  "language_info": {
   "codemirror_mode": {
    "name": "ipython",
    "version": 3
   },
   "file_extension": ".py",
   "mimetype": "text/x-python",
   "name": "python",
   "nbconvert_exporter": "python",
   "pygments_lexer": "ipython3",
   "version": "3.7.7"
  }
 },
 "nbformat": 4,
 "nbformat_minor": 5
}
