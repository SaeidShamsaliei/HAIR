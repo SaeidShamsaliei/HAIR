{
 "cells": [
  {
   "cell_type": "markdown",
   "id": "consecutive-honduras",
   "metadata": {},
   "source": [
    "# Work with postgres "
   ]
  },
  {
   "cell_type": "code",
   "execution_count": 1,
   "id": "improved-listing",
   "metadata": {},
   "outputs": [],
   "source": [
    "import psycopg2"
   ]
  },
  {
   "cell_type": "code",
   "execution_count": 2,
   "id": "abandoned-checkout",
   "metadata": {},
   "outputs": [],
   "source": [
    "def execute_command(command_string, conn):\n",
    "    try:\n",
    "        cur = conn.cursor()\n",
    "        cur.execute(make_table_command)\n",
    "        conn.commit()\n",
    "        cur.close()\n",
    "    except (Exception, psycopg2.DatabaseError) as error:\n",
    "        print(error)\n",
    "        \n",
    "def finish_connection(conn):\n",
    "    if conn is not None:\n",
    "        conn.close()"
   ]
  },
  {
   "cell_type": "code",
   "execution_count": 3,
   "id": "sticky-astronomy",
   "metadata": {},
   "outputs": [],
   "source": [
    "conn = psycopg2.connect(\n",
    "    host=\"localhost\",\n",
    "    database=\"test\",\n",
    "    user=\"postgres\",\n",
    "    password=\"000000\")"
   ]
  },
  {
   "cell_type": "code",
   "execution_count": 4,
   "id": "upset-rebound",
   "metadata": {},
   "outputs": [],
   "source": [
    "cur = conn.cursor()"
   ]
  },
  {
   "cell_type": "code",
   "execution_count": 5,
   "id": "right-edward",
   "metadata": {},
   "outputs": [],
   "source": [
    "cur.execute('SELECT version()')\n",
    "db_version = cur.fetchone()\n",
    "cur.close()"
   ]
  },
  {
   "cell_type": "code",
   "execution_count": 6,
   "id": "rubber-bangkok",
   "metadata": {},
   "outputs": [
    {
     "name": "stdout",
     "output_type": "stream",
     "text": [
      "('PostgreSQL 12.6 (Ubuntu 12.6-1.pgdg20.04+1) on x86_64-pc-linux-gnu, compiled by gcc (Ubuntu 9.3.0-17ubuntu1~20.04) 9.3.0, 64-bit',)\n"
     ]
    }
   ],
   "source": [
    "print(db_version)"
   ]
  },
  {
   "cell_type": "markdown",
   "id": "aquatic-syndrome",
   "metadata": {},
   "source": [
    "### making a table"
   ]
  },
  {
   "cell_type": "code",
   "execution_count": 7,
   "id": "racial-saturday",
   "metadata": {},
   "outputs": [],
   "source": [
    "table_name = 'test_shape_second'\n",
    "make_table_command = f'CREATE TABLE {table_name}(id integer,code smallint, name varchar(32),shape_leng numeric,shape_area numeric,geom geometry);'"
   ]
  },
  {
   "cell_type": "code",
   "execution_count": 8,
   "id": "numerous-comfort",
   "metadata": {},
   "outputs": [],
   "source": [
    "execute_command(make_table_command, conn)"
   ]
  },
  {
   "cell_type": "markdown",
   "id": "raised-administrator",
   "metadata": {},
   "source": [
    "### close connection"
   ]
  },
  {
   "cell_type": "code",
   "execution_count": 9,
   "id": "productive-bonus",
   "metadata": {},
   "outputs": [],
   "source": [
    "finish_connection(conn)"
   ]
  },
  {
   "cell_type": "markdown",
   "id": "choice-thesaurus",
   "metadata": {},
   "source": [
    "## Shapefile to postgis"
   ]
  },
  {
   "cell_type": "code",
   "execution_count": 5,
   "id": "physical-coordinator",
   "metadata": {},
   "outputs": [],
   "source": [
    "def shape_to_postgis(shapefile_path_val, table_name_val, db_name_val, server_add='localhost', port=5432, srid=25833):\n",
    "    import os\n",
    "    import subprocess\n",
    "    \n",
    "    base_command = f'shp2pgsql -I -s {srid} -g geom -S -W \"latin1\" {shapefile_path_val} {table_name_val} | PGPASSWORD=000000 psql -h {server_add} -p {port} -U postgres -d {db_name_val};'\n",
    "    try:\n",
    "        subprocess.call(base_command, shell=True)\n",
    "        print('it works')\n",
    "    except:\n",
    "        print('it went wrong')"
   ]
  },
  {
   "cell_type": "code",
   "execution_count": 6,
   "id": "biblical-silly",
   "metadata": {},
   "outputs": [],
   "source": [
    "shapefile_path = '/home/saeid/phd/segmentation/dataset/TestPrediction/complete_surna/surna_2004/shapes/merged_output.shp'\n",
    "table_name = 'surna_2004_complete_code'\n",
    "db_name = 'test'"
   ]
  },
  {
   "cell_type": "code",
   "execution_count": 7,
   "id": "dressed-triangle",
   "metadata": {},
   "outputs": [
    {
     "name": "stdout",
     "output_type": "stream",
     "text": [
      "it works\n"
     ]
    }
   ],
   "source": [
    "shape_to_postgis(shapefile_path, table_name, db_name)"
   ]
  },
  {
   "cell_type": "markdown",
   "id": "solar-imaging",
   "metadata": {},
   "source": [
    "## Raster to postgis"
   ]
  },
  {
   "cell_type": "code",
   "execution_count": 16,
   "id": "taken-advertising",
   "metadata": {},
   "outputs": [],
   "source": [
    "rasterfile_path = '/home/saeid/phd/segmentation/dataset/TestPrediction/complete_surna/surna_2004/33-2-449-207-23.tif'\n",
    "table_name = 'raster_surna_2004_test'\n",
    "db_name = 'test'"
   ]
  },
  {
   "cell_type": "code",
   "execution_count": 17,
   "id": "corporate-denial",
   "metadata": {},
   "outputs": [],
   "source": [
    "def raster_to_postgis(raster_path_val, table_name_val, db_name_val, server_add='localhost', port=5432, srid=25833):\n",
    "    import os\n",
    "    import subprocess\n",
    "    \n",
    "    base_command = f'raster2pgsql -I -s {srid} -C -M  -F {raster_path_val} {table_name_val} | PGPASSWORD=000000 psql -h {server_add} -p {port} -U postgres -d {db_name_val};'\n",
    "    try:\n",
    "        subprocess.call(base_command, shell=True)\n",
    "        print('it works')\n",
    "    except:\n",
    "        print('it went wrong')"
   ]
  },
  {
   "cell_type": "code",
   "execution_count": 18,
   "id": "primary-lambda",
   "metadata": {},
   "outputs": [
    {
     "name": "stdout",
     "output_type": "stream",
     "text": [
      "it works\n"
     ]
    }
   ],
   "source": [
    "raster_to_postgis(rasterfile_path, table_name, db_name)"
   ]
  },
  {
   "cell_type": "code",
   "execution_count": null,
   "id": "dominican-modeling",
   "metadata": {},
   "outputs": [],
   "source": []
  },
  {
   "cell_type": "markdown",
   "id": "realistic-halifax",
   "metadata": {},
   "source": [
    "## load shapefile in sql using ogr"
   ]
  },
  {
   "cell_type": "code",
   "execution_count": null,
   "id": "infinite-budget",
   "metadata": {},
   "outputs": [],
   "source": [
    "# make a table in postgis\n"
   ]
  },
  {
   "cell_type": "code",
   "execution_count": 2,
   "id": "architectural-supplement",
   "metadata": {},
   "outputs": [],
   "source": [
    "import os.path  \n",
    "import psycopg2\n",
    "import osgeo.ogr  \n",
    "\n",
    "shapefile_directory = '/home/saeid/phd/segmentation/dataset/TestPrediction/tmp_output/shapes'\n",
    "shapefile_name = 'merged_output.shp'\n",
    "\n",
    "connection = psycopg2.connect(    \n",
    "    host=\"localhost\",\n",
    "    database=\"test\",\n",
    "    user=\"postgres\",\n",
    "    password=\"000000\")\n",
    "\n",
    "cursor = connection.cursor()  \n",
    "# cursor.execute(\"DELETE FROM test\")  \n",
    "srcFile = os.path.join(shapefile_directory,shapefile_name)\n",
    "shapefile = osgeo.ogr.Open(srcFile)    \n",
    "layer = shapefile.GetLayer(0)    "
   ]
  },
  {
   "cell_type": "code",
   "execution_count": null,
   "id": "funny-encounter",
   "metadata": {},
   "outputs": [],
   "source": [
    "# layer.GetFeature(0).GetField('NAME')\n",
    "a =(layer.GetFeature(0).GetGeometryRef().ExportToWkt())  "
   ]
  },
  {
   "cell_type": "code",
   "execution_count": null,
   "id": "blank-employee",
   "metadata": {},
   "outputs": [],
   "source": []
  },
  {
   "cell_type": "code",
   "execution_count": null,
   "id": "large-transition",
   "metadata": {},
   "outputs": [],
   "source": []
  },
  {
   "cell_type": "code",
   "execution_count": 40,
   "id": "intermediate-allah",
   "metadata": {},
   "outputs": [
    {
     "ename": "UndefinedTable",
     "evalue": "relation \"gaula_table\" does not exist\nLINE 1: INSERT INTO gaula_table (name,outline) VALUES ('\\x6e616d65':...\n                    ^\n",
     "output_type": "error",
     "traceback": [
      "\u001b[0;31m---------------------------------------------------------------------------\u001b[0m",
      "\u001b[0;31mUndefinedTable\u001b[0m                            Traceback (most recent call last)",
      "\u001b[0;32m<ipython-input-40-c8480f7f38c2>\u001b[0m in \u001b[0;36m<module>\u001b[0;34m\u001b[0m\n\u001b[1;32m      4\u001b[0m     \u001b[0mname\u001b[0m\u001b[0;34m=\u001b[0m\u001b[0;34m'name'\u001b[0m\u001b[0;34m\u001b[0m\u001b[0;34m\u001b[0m\u001b[0m\n\u001b[1;32m      5\u001b[0m     \u001b[0mwkt\u001b[0m \u001b[0;34m=\u001b[0m \u001b[0mfeature\u001b[0m\u001b[0;34m.\u001b[0m\u001b[0mGetGeometryRef\u001b[0m\u001b[0;34m(\u001b[0m\u001b[0;34m)\u001b[0m\u001b[0;34m.\u001b[0m\u001b[0mExportToWkt\u001b[0m\u001b[0;34m(\u001b[0m\u001b[0;34m)\u001b[0m\u001b[0;34m\u001b[0m\u001b[0;34m\u001b[0m\u001b[0m\n\u001b[0;32m----> 6\u001b[0;31m     \u001b[0mcursor\u001b[0m\u001b[0;34m.\u001b[0m\u001b[0mexecute\u001b[0m\u001b[0;34m(\u001b[0m\u001b[0;34m\"INSERT INTO gaula_table (name,outline) \"\u001b[0m \u001b[0;34m+\u001b[0m\u001b[0;34m\"VALUES (%s, ST_GeometryFromText(%s, \"\u001b[0m \u001b[0;34m+\u001b[0m\u001b[0;34m\"4326))\"\u001b[0m\u001b[0;34m,\u001b[0m \u001b[0;34m(\u001b[0m\u001b[0mname\u001b[0m\u001b[0;34m.\u001b[0m\u001b[0mencode\u001b[0m\u001b[0;34m(\u001b[0m\u001b[0;34m\"utf8\"\u001b[0m\u001b[0;34m)\u001b[0m\u001b[0;34m,\u001b[0m \u001b[0mwkt\u001b[0m\u001b[0;34m)\u001b[0m\u001b[0;34m)\u001b[0m\u001b[0;34m\u001b[0m\u001b[0;34m\u001b[0m\u001b[0m\n\u001b[0m\u001b[1;32m      7\u001b[0m \u001b[0mconnection\u001b[0m\u001b[0;34m.\u001b[0m\u001b[0mcommit\u001b[0m\u001b[0;34m(\u001b[0m\u001b[0;34m)\u001b[0m\u001b[0;34m\u001b[0m\u001b[0;34m\u001b[0m\u001b[0m\n",
      "\u001b[0;31mUndefinedTable\u001b[0m: relation \"gaula_table\" does not exist\nLINE 1: INSERT INTO gaula_table (name,outline) VALUES ('\\x6e616d65':...\n                    ^\n"
     ]
    }
   ],
   "source": [
    "for i in range(layer.GetFeatureCount()):  \n",
    "    feature = layer.GetFeature(i)  \n",
    "#     name = feature.GetField(\"NAME\").decode(\"Latin-1\")\n",
    "    name='name'\n",
    "    wkt = feature.GetGeometryRef().ExportToWkt()  \n",
    "    cursor.execute(\"INSERT INTO gaula_table (name,outline) \" +\"VALUES (%s, ST_GeometryFromText(%s, \" +\"4326))\", (name.encode(\"utf8\"), wkt))  \n",
    "connection.commit()  "
   ]
  },
  {
   "cell_type": "markdown",
   "id": "enormous-roads",
   "metadata": {},
   "source": [
    "# Using geo pandas"
   ]
  },
  {
   "cell_type": "code",
   "execution_count": 4,
   "id": "intended-horizon",
   "metadata": {},
   "outputs": [],
   "source": [
    "import geopandas"
   ]
  },
  {
   "cell_type": "code",
   "execution_count": 5,
   "id": "respective-weapon",
   "metadata": {},
   "outputs": [],
   "source": [
    "def shape_to_geopandadf(shape_path, shape_year):\n",
    "    \"\"\"\n",
    "    This function gets the shapefile path and year of image and makes a geo dataframe with class, geomety and year as attributes\n",
    "    Returns a dataframe\n",
    "    \"\"\"\n",
    "    # defining the dataframe\n",
    "    gdf = geopandas.read_file(shape_path)\n",
    "    \n",
    "    # change the name of the year and column '1'\n",
    "    gdf['year'] = shape_year\n",
    "    gdf = gdf.rename(columns = {'1':'class'}, inplace = False)\n",
    "    \n",
    "    return gdf\n",
    "\n",
    "def delete_polygons_class(dataframe, class_number=5):\n",
    "    \"\"\"\n",
    "    this function returns dataframe without polygons with the class_number = class_number\n",
    "    \"\"\"\n",
    "    return dataframe[dataframe['class'] != 5]\n",
    "\n",
    "# just add to the database and  see what happens\n",
    "def geopanda_to_postgis(geo_dataframe, host, user, password, database, table_name, port=5432, schema='public'):\n",
    "    from sqlalchemy import create_engine \n",
    "    engine = create_engine(f\"postgresql://{user}:{password}@{host}:{port}/{database}\") \n",
    "    try:\n",
    "        geo_dataframe.to_postgis(name=f\"{table_name}\", con=engine, if_exists='append')\n",
    "        print('it works')\n",
    "    except:\n",
    "        print('it went wrong')"
   ]
  },
  {
   "cell_type": "code",
   "execution_count": 20,
   "id": "sized-trade",
   "metadata": {},
   "outputs": [],
   "source": [
    "shapefile_path = '/home/saeid/phd/segmentation/dataset/TestPrediction/complete_surna/surna_2004/shapes/merged_output.shp'\n",
    "year = 2004\n",
    "unknown_class = 5"
   ]
  },
  {
   "cell_type": "code",
   "execution_count": 21,
   "id": "fallen-texture",
   "metadata": {},
   "outputs": [],
   "source": [
    "# get the dataframe\n",
    "geo_dataframe = shape_to_geopandadf(shapefile_path, year)"
   ]
  },
  {
   "cell_type": "code",
   "execution_count": 22,
   "id": "liked-kentucky",
   "metadata": {},
   "outputs": [
    {
     "data": {
      "text/plain": [
       "<matplotlib.axes._subplots.AxesSubplot at 0x7f4871bd9590>"
      ]
     },
     "execution_count": 22,
     "metadata": {},
     "output_type": "execute_result"
    },
    {
     "data": {
      "image/png": "[encoded data removed]",
      "text/plain": [
       "<Figure size 432x288 with 2 Axes>"
      ]
     },
     "metadata": {
      "needs_background": "light"
     },
     "output_type": "display_data"
    }
   ],
   "source": [
    "# plot it\n",
    "geo_dataframe.plot('class', legend=True)"
   ]
  },
  {
   "cell_type": "code",
   "execution_count": 23,
   "id": "mature-barrier",
   "metadata": {},
   "outputs": [
    {
     "data": {
      "text/plain": [
       "<matplotlib.axes._subplots.AxesSubplot at 0x7f484162fed0>"
      ]
     },
     "execution_count": 23,
     "metadata": {},
     "output_type": "execute_result"
    },
    {
     "data": {
      "image/png": "[encoded data removed]",
      "text/plain": [
       "<Figure size 432x288 with 2 Axes>"
      ]
     },
     "metadata": {
      "needs_background": "light"
     },
     "output_type": "display_data"
    }
   ],
   "source": [
    "# remove the unknown\n",
    "valid_geo_dataframe = delete_polygons_class(geo_dataframe, unknown_class)\n",
    "# plot it\n",
    "valid_geo_dataframe.plot('class', legend=True)"
   ]
  },
  {
   "cell_type": "code",
   "execution_count": 24,
   "id": "romantic-nylon",
   "metadata": {},
   "outputs": [
    {
     "data": {
      "text/html": [
       "<div>\n",
       "<style scoped>\n",
       "    .dataframe tbody tr th:only-of-type {\n",
       "        vertical-align: middle;\n",
       "    }\n",
       "\n",
       "    .dataframe tbody tr th {\n",
       "        vertical-align: top;\n",
       "    }\n",
       "\n",
       "    .dataframe thead th {\n",
       "        text-align: right;\n",
       "    }\n",
       "</style>\n",
       "<table border=\"1\" class=\"dataframe\">\n",
       "  <thead>\n",
       "    <tr style=\"text-align: right;\">\n",
       "      <th></th>\n",
       "      <th>class</th>\n",
       "      <th>geometry</th>\n",
       "      <th>year</th>\n",
       "    </tr>\n",
       "  </thead>\n",
       "  <tbody>\n",
       "    <tr>\n",
       "      <th>0</th>\n",
       "      <td>2</td>\n",
       "      <td>POLYGON ((177619.000 7000697.400, 177619.200 7...</td>\n",
       "      <td>2004</td>\n",
       "    </tr>\n",
       "    <tr>\n",
       "      <th>1</th>\n",
       "      <td>2</td>\n",
       "      <td>POLYGON ((177721.400 7000697.400, 177721.600 7...</td>\n",
       "      <td>2004</td>\n",
       "    </tr>\n",
       "    <tr>\n",
       "      <th>2</th>\n",
       "      <td>2</td>\n",
       "      <td>POLYGON ((177823.800 7000697.400, 177824.000 7...</td>\n",
       "      <td>2004</td>\n",
       "    </tr>\n",
       "    <tr>\n",
       "      <th>3</th>\n",
       "      <td>2</td>\n",
       "      <td>POLYGON ((177926.200 7000697.400, 177926.400 7...</td>\n",
       "      <td>2004</td>\n",
       "    </tr>\n",
       "    <tr>\n",
       "      <th>4</th>\n",
       "      <td>2</td>\n",
       "      <td>POLYGON ((178028.600 7000697.400, 178028.800 7...</td>\n",
       "      <td>2004</td>\n",
       "    </tr>\n",
       "    <tr>\n",
       "      <th>...</th>\n",
       "      <td>...</td>\n",
       "      <td>...</td>\n",
       "      <td>...</td>\n",
       "    </tr>\n",
       "    <tr>\n",
       "      <th>1660777</th>\n",
       "      <td>2</td>\n",
       "      <td>POLYGON ((197773.400 6997581.200, 197773.600 6...</td>\n",
       "      <td>2004</td>\n",
       "    </tr>\n",
       "    <tr>\n",
       "      <th>1660778</th>\n",
       "      <td>2</td>\n",
       "      <td>POLYGON ((197802.200 6997581.200, 197802.400 6...</td>\n",
       "      <td>2004</td>\n",
       "    </tr>\n",
       "    <tr>\n",
       "      <th>1660779</th>\n",
       "      <td>2</td>\n",
       "      <td>POLYGON ((197803.000 6997581.200, 197803.200 6...</td>\n",
       "      <td>2004</td>\n",
       "    </tr>\n",
       "    <tr>\n",
       "      <th>1660780</th>\n",
       "      <td>0</td>\n",
       "      <td>POLYGON ((177516.800 7000697.600, 197804.800 7...</td>\n",
       "      <td>2004</td>\n",
       "    </tr>\n",
       "    <tr>\n",
       "      <th>1660781</th>\n",
       "      <td>0</td>\n",
       "      <td>POLYGON ((197804.600 6997581.000, 197804.800 6...</td>\n",
       "      <td>2004</td>\n",
       "    </tr>\n",
       "  </tbody>\n",
       "</table>\n",
       "<p>1660782 rows × 3 columns</p>\n",
       "</div>"
      ],
      "text/plain": [
       "         class                                           geometry  year\n",
       "0            2  POLYGON ((177619.000 7000697.400, 177619.200 7...  2004\n",
       "1            2  POLYGON ((177721.400 7000697.400, 177721.600 7...  2004\n",
       "2            2  POLYGON ((177823.800 7000697.400, 177824.000 7...  2004\n",
       "3            2  POLYGON ((177926.200 7000697.400, 177926.400 7...  2004\n",
       "4            2  POLYGON ((178028.600 7000697.400, 178028.800 7...  2004\n",
       "...        ...                                                ...   ...\n",
       "1660777      2  POLYGON ((197773.400 6997581.200, 197773.600 6...  2004\n",
       "1660778      2  POLYGON ((197802.200 6997581.200, 197802.400 6...  2004\n",
       "1660779      2  POLYGON ((197803.000 6997581.200, 197803.200 6...  2004\n",
       "1660780      0  POLYGON ((177516.800 7000697.600, 197804.800 7...  2004\n",
       "1660781      0  POLYGON ((197804.600 6997581.000, 197804.800 6...  2004\n",
       "\n",
       "[1660782 rows x 3 columns]"
      ]
     },
     "execution_count": 24,
     "metadata": {},
     "output_type": "execute_result"
    }
   ],
   "source": [
    "valid_geo_dataframe"
   ]
  },
  {
   "cell_type": "code",
   "execution_count": 26,
   "id": "alleged-monkey",
   "metadata": {},
   "outputs": [
    {
     "name": "stdout",
     "output_type": "stream",
     "text": [
      "it works\n"
     ]
    }
   ],
   "source": [
    "geopanda_to_postgis(\n",
    "    geo_dataframe=valid_geo_dataframe,\n",
    "    host=\"localhost\",\n",
    "    user=\"postgres\",\n",
    "    password=\"000000\",\n",
    "    database=\"test\",\n",
    "    table_name=\"geopanda_test\"\n",
    "    )"
   ]
  }
 ],
 "metadata": {
  "kernelspec": {
   "display_name": "Python 3",
   "language": "python",
   "name": "python3"
  },
  "language_info": {
   "codemirror_mode": {
    "name": "ipython",
    "version": 3
   },
   "file_extension": ".py",
   "mimetype": "text/x-python",
   "name": "python",
   "nbconvert_exporter": "python",
   "pygments_lexer": "ipython3",
   "version": "3.7.7"
  }
 },
 "nbformat": 4,
 "nbformat_minor": 5
}
