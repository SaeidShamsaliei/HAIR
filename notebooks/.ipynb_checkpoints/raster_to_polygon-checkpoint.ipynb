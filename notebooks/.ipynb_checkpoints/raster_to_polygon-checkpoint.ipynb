{
 "cells": [
  {
   "cell_type": "code",
   "execution_count": 3,
   "metadata": {},
   "outputs": [],
   "source": [
    "from osgeo import gdal, ogr\n",
    "import sys\n",
    "# this allows GDAL to throw Python Exceptions\n",
    "gdal.UseExceptions()\n",
    "import osr\n",
    "import glob\n",
    "import os"
   ]
  },
  {
   "cell_type": "code",
   "execution_count": 3,
   "metadata": {},
   "outputs": [
    {
     "name": "stdout",
     "output_type": "stream",
     "text": [
      "<osgeo.gdal.Band; proxy of <Swig Object of type 'GDALRasterBandShadow *' at 0x000001B6DAC8B210> >\n"
     ]
    }
   ],
   "source": [
    "raster_name = '33-2-449-207-23'\n",
    "file_path = f'/home/saeid/phd/segmentation/dataset/TestPrediction/output_folder/{raster_name}.tif'\n",
    "\n",
    "sourceRaster = gdal.Open(file_path)\n",
    "sr_proj = sourceRaster.GetProjection()\n",
    "raster_proj = osr.SpatialReference()\n",
    "raster_proj.ImportFromWkt(sr_proj)\n",
    "\n",
    "band = sourceRaster.GetRasterBand(1) \n",
    "print(band)\n",
    "bandArray = band.ReadAsArray()"
   ]
  },
  {
   "cell_type": "code",
   "execution_count": 4,
   "metadata": {},
   "outputs": [
    {
     "name": "stdout",
     "output_type": "stream",
     "text": [
      "done\n"
     ]
    }
   ],
   "source": [
    "outShapefile = f'POLYGON_{raster_number}'\n",
    "driver = ogr.GetDriverByName(\"ESRI Shapefile\")\n",
    "outDatasource = driver.CreateDataSource(outShapefile+ \".shp\")\n",
    "outLayer = outDatasource.CreateLayer('polygonized', srs=raster_proj)\n",
    "newField = ogr.FieldDefn(str(1), ogr.OFTInteger)\n",
    "outLayer.CreateField(newField)\n",
    "\n",
    "gdal.Polygonize( band, None, outLayer, 0, [], callback=None )\n",
    "outDatasource.Destroy()\n",
    "sourceRaster = None\n",
    "\n",
    "print('done')"
   ]
  },
  {
   "cell_type": "markdown",
   "metadata": {},
   "source": [
    "## Function to read all tif and make shapfile out of them"
   ]
  },
  {
   "cell_type": "code",
   "execution_count": 30,
   "metadata": {},
   "outputs": [],
   "source": [
    "def raster_band_to_polygon(raster_band, output_name, raster_proj_val):\n",
    "    \"\"\"\n",
    "    save the polygon to a shape file\n",
    "    \"\"\"\n",
    "    # prepare the gdal\n",
    "    driver = ogr.GetDriverByName(\"ESRI Shapefile\")\n",
    "    outDatasource = driver.CreateDataSource(output_name)\n",
    "    outLayer = outDatasource.CreateLayer('polygonized', srs=raster_proj_val)\n",
    "    newField = ogr.FieldDefn(str(1), ogr.OFTInteger)\n",
    "    outLayer.CreateField(newField)\n",
    "    # save the polygon to the output path\n",
    "    gdal.Polygonize( raster_band, None, outLayer, 0, [], callback=None )\n",
    "    outDatasource.Destroy()\n",
    "    sourceRaster = None\n",
    "    print('done')"
   ]
  },
  {
   "cell_type": "code",
   "execution_count": 31,
   "metadata": {},
   "outputs": [],
   "source": [
    "def raster_file_to_polygon(raster_path, output_path, band_number=1):\n",
    "    # read the raster and get the band 1\n",
    "    sourceRaster = gdal.Open(raster_path)\n",
    "    sr_proj = sourceRaster.GetProjection()\n",
    "    raster_proj = osr.SpatialReference()\n",
    "    raster_proj.ImportFromWkt(sr_proj)\n",
    "    band = sourceRaster.GetRasterBand(band_number)\n",
    "    \n",
    "    # write it to polygon\n",
    "    raster_band_to_polygon(raster_band=band, output_name=output_path, raster_proj_val=raster_proj)\n",
    "    "
   ]
  },
  {
   "cell_type": "code",
   "execution_count": 44,
   "metadata": {},
   "outputs": [],
   "source": [
    "def convert_tif_to_shape_directory(input_folder_val, file_name=None):\n",
    "    \"\"\"\n",
    "    read all the raster data and convert it to shapefile in a directory\n",
    "    \"\"\"\n",
    "    big_image_paths = glob.glob(os.path.join(input_folder_val, \"*.tif\"))\n",
    "    # make a new folder for shape file\n",
    "    if big_image_paths and not os.path.exists(os.path.join(input_folder_val,'shapes')):\n",
    "        os.mkdir(os.path.join(input_folder_val,'shapes'))\n",
    "    # loop through all the images in the file\n",
    "    for tif_image in big_image_paths:\n",
    "        if tif_image.endswith('.tif'):\n",
    "            print(f'{file_name} {tif_image}')\n",
    "            if not (file_name == None or tif_image.endswith(file_name)):\n",
    "                continue\n",
    "            poly_image = tif_image.replace('.tif', '.shp')\n",
    "            # change the address to add shape directory\n",
    "            poly_image = os.path.join(*os.path.split(poly_image)[:-1],'shapes',os.path.split(poly_image)[-1])\n",
    "            print(poly_image)\n",
    "            if os.path.exists(poly_image):\n",
    "                answer = input(f'{os.path.split(poly_image)[-1]} already exist do you want to delete it (y/n)?')\n",
    "                if answer == 'y':\n",
    "                    temp_driver = ogr.GetDriverByName(\"ESRI Shapefile\")\n",
    "                    temp_driver.DeleteDataSource(poly_image)\n",
    "                else:\n",
    "                    continue\n",
    "            print(f'working on {os.path.split(tif_image)[-1]}')\n",
    "            raster_file_to_polygon(raster_path=tif_image, output_path=poly_image)\n",
    "    "
   ]
  },
  {
   "cell_type": "code",
   "execution_count": 45,
   "metadata": {},
   "outputs": [],
   "source": [
    "input_folder = 'test_tif'\n",
    "input_folder = '/home/saeid/phd/segmentation/dataset/TestPrediction/output_folder'\n",
    "specific_file_name = '33-2-449-207-23.tif'"
   ]
  },
  {
   "cell_type": "code",
   "execution_count": 46,
   "metadata": {},
   "outputs": [
    {
     "name": "stdout",
     "output_type": "stream",
     "text": [
      "33-2-449-207-23.tif /home/saeid/phd/segmentation/dataset/TestPrediction/output_folder/33-2-449-208-20.tif\n",
      "inside loop\n",
      "33-2-449-207-23.tif /home/saeid/phd/segmentation/dataset/TestPrediction/output_folder/33-2-449-207-33.tif\n",
      "inside loop\n",
      "33-2-449-207-23.tif /home/saeid/phd/segmentation/dataset/TestPrediction/output_folder/33-2-449-208-30.tif\n",
      "inside loop\n",
      "33-2-449-207-23.tif /home/saeid/phd/segmentation/dataset/TestPrediction/output_folder/33-2-449-207-23.tif\n",
      "/home/saeid/phd/segmentation/dataset/TestPrediction/output_folder/shapes/33-2-449-207-23.shp\n",
      "working on 33-2-449-207-23.tif\n",
      "done\n",
      "33-2-449-207-23.tif /home/saeid/phd/segmentation/dataset/TestPrediction/output_folder/merged_output.tif\n",
      "inside loop\n",
      "33-2-449-207-23.tif /home/saeid/phd/segmentation/dataset/TestPrediction/output_folder/TEAK_Aspect_Mosaic2.tif\n",
      "inside loop\n",
      "33-2-449-207-23.tif /home/saeid/phd/segmentation/dataset/TestPrediction/output_folder/TEAK_Aspect_Mosaic.tif\n",
      "inside loop\n",
      "33-2-449-207-23.tif /home/saeid/phd/segmentation/dataset/TestPrediction/output_folder/test_mosaic.tif\n",
      "inside loop\n"
     ]
    }
   ],
   "source": [
    "convert_tif_to_shape_directory(input_folder_val=input_folder, file_name=specific_file_name)"
   ]
  },
  {
   "cell_type": "code",
   "execution_count": 28,
   "metadata": {},
   "outputs": [],
   "source": [
    "def convert_tif_to_shape_file(input_tif_name):\n",
    "    \"\"\"\n",
    "    read all the raster data and convert it to shapefile in a directory\n",
    "    \"\"\"\n",
    "    input_tif_name = f'{input_tif_name}.tif'\n",
    "    # check if tif file exists\n",
    "    if not os.path.exists(input_tif_name):\n",
    "        raise Exeption('tif file does not exist')\n",
    "        \n",
    "    tif_image_file = glob.glob(input_tif_name)\n",
    "    \n",
    "    # check to see if it is exactly one image available\n",
    "    if len(tif_image_file) != 1:\n",
    "        raise Exeption('there is not one file to convert to polygon')\n",
    "        \n",
    "    # get the directory part of name\n",
    "    tif_image_path = os.path.split(input_tif_name)[0]\n",
    "    # get the header of the directory\n",
    "    output_name = os.path.split(input_tif_name)[-1].replace('.tif', '.shp')\n",
    "\n",
    "    poly_image = os.path.join(tif_image_path, 'shapes', output_name)\n",
    "    \n",
    "    # make a new folder for shape file\n",
    "    if tif_image_path and not os.path.exists(os.path.join(tif_image_path,'shapes')):\n",
    "        os.mkdir(os.path.join(tif_image_path,'shapes'))\n",
    "    \n",
    "    # write the polygon\n",
    "    print(f'will be saved at {poly_image}')\n",
    "    \n",
    "    if os.path.exists(poly_image):\n",
    "        answer = input(f'{os.path.split(poly_image)[-1]} already exist do you want to delete it (y/n)?')\n",
    "        if answer == 'y':\n",
    "            temp_driver = ogr.GetDriverByName(\"ESRI Shapefile\")\n",
    "            temp_driver.DeleteDataSource(poly_image)\n",
    "    print(f'working on {output_name}')\n",
    "    raster_file_to_polygon(raster_path=tif_image_file[0], output_path=poly_image)"
   ]
  },
  {
   "cell_type": "code",
   "execution_count": 29,
   "metadata": {},
   "outputs": [
    {
     "name": "stdout",
     "output_type": "stream",
     "text": [
      "will be saved at /home/saeid/phd/segmentation/dataset/TestPrediction/output_folder/shapes/33-2-449-207-23.shp\n",
      "working on 33-2-449-207-23.shp\n"
     ]
    },
    {
     "ename": "NameError",
     "evalue": "name 'raster_file_to_polygon' is not defined",
     "output_type": "error",
     "traceback": [
      "\u001b[0;31m---------------------------------------------------------------------------\u001b[0m",
      "\u001b[0;31mNameError\u001b[0m                                 Traceback (most recent call last)",
      "\u001b[0;32m<ipython-input-29-9371082a79b0>\u001b[0m in \u001b[0;36m<module>\u001b[0;34m\u001b[0m\n\u001b[1;32m      1\u001b[0m \u001b[0mtif_file_name\u001b[0m \u001b[0;34m=\u001b[0m \u001b[0;34m'/home/saeid/phd/segmentation/dataset/TestPrediction/output_folder/33-2-449-207-23'\u001b[0m\u001b[0;34m\u001b[0m\u001b[0;34m\u001b[0m\u001b[0m\n\u001b[0;32m----> 2\u001b[0;31m \u001b[0mconvert_tif_to_shape_file\u001b[0m\u001b[0;34m(\u001b[0m\u001b[0mtif_file_name\u001b[0m\u001b[0;34m)\u001b[0m\u001b[0;34m\u001b[0m\u001b[0;34m\u001b[0m\u001b[0m\n\u001b[0m",
      "\u001b[0;32m<ipython-input-28-ba03bda54a2b>\u001b[0m in \u001b[0;36mconvert_tif_to_shape_file\u001b[0;34m(input_tif_name)\u001b[0m\n\u001b[1;32m     34\u001b[0m             \u001b[0mtemp_driver\u001b[0m\u001b[0;34m.\u001b[0m\u001b[0mDeleteDataSource\u001b[0m\u001b[0;34m(\u001b[0m\u001b[0mpoly_image\u001b[0m\u001b[0;34m)\u001b[0m\u001b[0;34m\u001b[0m\u001b[0;34m\u001b[0m\u001b[0m\n\u001b[1;32m     35\u001b[0m     \u001b[0mprint\u001b[0m\u001b[0;34m(\u001b[0m\u001b[0;34mf'working on {output_name}'\u001b[0m\u001b[0;34m)\u001b[0m\u001b[0;34m\u001b[0m\u001b[0;34m\u001b[0m\u001b[0m\n\u001b[0;32m---> 36\u001b[0;31m     \u001b[0mraster_file_to_polygon\u001b[0m\u001b[0;34m(\u001b[0m\u001b[0mraster_path\u001b[0m\u001b[0;34m=\u001b[0m\u001b[0mtif_image_file\u001b[0m\u001b[0;34m[\u001b[0m\u001b[0;36m0\u001b[0m\u001b[0;34m]\u001b[0m\u001b[0;34m,\u001b[0m \u001b[0moutput_path\u001b[0m\u001b[0;34m=\u001b[0m\u001b[0mpoly_image\u001b[0m\u001b[0;34m)\u001b[0m\u001b[0;34m\u001b[0m\u001b[0;34m\u001b[0m\u001b[0m\n\u001b[0m",
      "\u001b[0;31mNameError\u001b[0m: name 'raster_file_to_polygon' is not defined"
     ]
    }
   ],
   "source": [
    "tif_file_name = '/home/saeid/phd/segmentation/dataset/TestPrediction/output_folder/33-2-449-207-23'\n",
    "convert_tif_to_shape_file(tif_file_name)"
   ]
  },
  {
   "cell_type": "code",
   "execution_count": 25,
   "metadata": {},
   "outputs": [
    {
     "data": {
      "text/plain": [
       "['/home/saeid/phd/segmentation/dataset/TestPrediction/output_folder/33-2-449-207-23.tif']"
      ]
     },
     "execution_count": 25,
     "metadata": {},
     "output_type": "execute_result"
    }
   ],
   "source": [
    "tmp_tf = glob.glob(f'{tif_file_name}.tif')\n",
    "tmp_tf"
   ]
  },
  {
   "cell_type": "code",
   "execution_count": null,
   "metadata": {},
   "outputs": [],
   "source": []
  }
 ],
 "metadata": {
  "kernelspec": {
   "display_name": "Python 3",
   "language": "python",
   "name": "python3"
  },
  "language_info": {
   "codemirror_mode": {
    "name": "ipython",
    "version": 3
   },
   "file_extension": ".py",
   "mimetype": "text/x-python",
   "name": "python",
   "nbconvert_exporter": "python",
   "pygments_lexer": "ipython3",
   "version": "3.7.7"
  }
 },
 "nbformat": 4,
 "nbformat_minor": 4
}
