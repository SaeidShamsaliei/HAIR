{
 "cells": [
  {
   "cell_type": "markdown",
   "id": "f1fde6d6-6947-4f34-8803-5c91fc87ab00",
   "metadata": {},
   "source": [
    "in this notebook, we will make the confusion map of different classes"
   ]
  },
  {
   "cell_type": "code",
   "execution_count": 1,
   "id": "f5de21ff-3672-475e-a059-c3e3dfbcd51b",
   "metadata": {},
   "outputs": [],
   "source": [
    "%load_ext autoreload"
   ]
  },
  {
   "cell_type": "code",
   "execution_count": 2,
   "id": "43148002-ba8d-48e9-91b3-ca01380c6705",
   "metadata": {},
   "outputs": [
    {
     "name": "stderr",
     "output_type": "stream",
     "text": [
      "2022-02-22 15:56:10.553769: I tensorflow/stream_executor/platform/default/dso_loader.cc:49] Successfully opened dynamic library libcudart.so.10.1\n"
     ]
    }
   ],
   "source": [
    "%autoreload\n",
    "import numpy as np\n",
    "import sys\n",
    "import os\n",
    "import glob\n",
    "import imageio\n",
    "import time\n",
    "from scipy import ndimage, signal\n",
    "from cv2 import medianBlur\n",
    "\n",
    "sys.path.append(\"..\")\n",
    "\n",
    "from PIL import Image\n",
    "from costum_arild.source.utils import image_processing_utils, gdal_utils\n",
    "from costum_arild.source.data_processing import TrainingImage\n",
    "\n",
    "import matplotlib.pyplot as plt"
   ]
  },
  {
   "cell_type": "code",
   "execution_count": 3,
   "id": "988471c6-0eb7-4681-a466-918aa5d66da2",
   "metadata": {},
   "outputs": [],
   "source": [
    "def recall_mask(pred_path, lbl_path, class_id, output_color=True):\n",
    "    \"\"\"\n",
    "    output_color determines if the output is rgb or if it is the classes\n",
    "    \"\"\"\n",
    "    # changing the value of label (unkown zero)\n",
    "    label_arr_2d = gdal_utils.read_tiff_file(large_image_path=lbl_path, numpy_array_only=True)\n",
    "    label_arr_2d = image_processing_utils.swap_labels(arr=label_arr_2d, lbl1=0, lbl2=5)\n",
    "\n",
    "    pred_arr_2d, geo, project = gdal_utils.read_tiff_file(large_image_path=pred_path)\n",
    "\n",
    "    masked_class = image_processing_utils.make_confusion_mask_pred(label=label_arr_2d, pred=pred_arr_2d, class_id=class_id)\n",
    "    if not output_color:\n",
    "        return masked_class\n",
    "    masked_color = image_processing_utils.color_masked_pred(label_2d=masked_class, class_id=class_id)\n",
    "    return masked_color, geo, project\n",
    "\n",
    "def percision_mask(pred_path, lbl_path, class_id, output_color=True):\n",
    "    \"\"\"\n",
    "    output_color determines if the output is rgb or if it is the classes\n",
    "    \"\"\"\n",
    "    # changing the value of label (unkown zero)\n",
    "    label_arr_2d = gdal_utils.read_tiff_file(large_image_path=lbl_path, numpy_array_only=True)\n",
    "    label_arr_2d = image_processing_utils.swap_labels(arr=label_arr_2d, lbl1=0, lbl2=5)\n",
    "\n",
    "    pred_arr_2d, geo, project = gdal_utils.read_tiff_file(large_image_path=pred_path)\n",
    "    \n",
    "    masked_class = image_processing_utils.make_confusion_mask_pred(label=pred_arr_2d, pred=label_arr_2d, class_id=class_id)\n",
    "    if not output_color:\n",
    "        return masked_class\n",
    "    masked_color = image_processing_utils.color_masked_pred(label_2d=masked_class, class_id=class_id)\n",
    "    return masked_color, geo, project"
   ]
  },
  {
   "cell_type": "code",
   "execution_count": 9,
   "id": "e84ad8c3-02ff-4a33-8d27-f028cf85eaea",
   "metadata": {},
   "outputs": [],
   "source": [
    "# read the actual label\n",
    "exp_type = 'recall'\n",
    "river_name = 'nea_1962_test'\n",
    "pred_base_path = f'/home/saeid/phd/segmentation/experiments_testset_predictions/New_dataset_experiments/exp_no14/2022-02-18_15:08:54.550554_vgg16_freeze_0/{river_name}/predictions'\n",
    "lbl_base_path = f'/home/saeid/phd/segmentation/dataset/test_dataset/bounding_box_images/{river_name}/labels'\n"
   ]
  },
  {
   "cell_type": "code",
   "execution_count": 10,
   "id": "e4eb80c4-4ff6-4489-843a-69d5e7ef1b3f",
   "metadata": {},
   "outputs": [],
   "source": [
    "# percision\n",
    "if exp_type == 'percision':\n",
    "    class_id_list = [1, 2, 3, 4, 5]\n",
    "    all_images = glob.glob(os.path.join(pred_base_path, \"*.tif\"))\n",
    "    for class_id in class_id_list:\n",
    "        for pred_path in all_images:\n",
    "\n",
    "            pred_name = os.path.split(pred_path)[-1]\n",
    "            lbl_path = os.path.join(lbl_base_path, pred_name)\n",
    "\n",
    "            if not os.path.isfile(lbl_path):\n",
    "                print(f'{lbl_path} not exists')\n",
    "                continue\n",
    "\n",
    "            percision_mask_color, geo, project = percision_mask(pred_path=pred_path, lbl_path=lbl_path, class_id=class_id, \n",
    "                                                                output_color=True)\n",
    "\n",
    "            # save images\n",
    "            image_path = os.path.join(pred_base_path, 'percision', f\"{pred_name}_precision_{class_id}.tif\")\n",
    "            os.makedirs(os.path.split(image_path)[0], exist_ok=True)\n",
    "\n",
    "            # write raster\n",
    "            gdal_utils.write_array_to_raster(output_filepath=image_path, array=percision_mask_color, \n",
    "                                             geo_transform=geo, projection=project)\n",
    "\n",
    "elif exp_type == 'recall':\n",
    "    class_id_list = [1, 2, 3, 4, 5]\n",
    "    all_images = glob.glob(os.path.join(pred_base_path, \"*.tif\"))\n",
    "    for class_id in class_id_list:\n",
    "        for pred_path in all_images:\n",
    "\n",
    "            pred_name = os.path.split(pred_path)[-1]\n",
    "            lbl_path = os.path.join(lbl_base_path, pred_name)\n",
    "\n",
    "            if not os.path.isfile(lbl_path):\n",
    "                print(f'{lbl_path} not exists')\n",
    "                continue\n",
    "\n",
    "\n",
    "            recall_mask_color, geo, project = recall_mask(pred_path=pred_path, lbl_path=lbl_path, class_id=class_id, \n",
    "                                                          output_color=True)\n",
    "            \n",
    "            # save images\n",
    "            image_path = os.path.join(pred_base_path, 'recall', f\"{pred_name}_recall_{class_id}.tif\")\n",
    "            os.makedirs(os.path.split(image_path)[0], exist_ok=True)\n",
    "\n",
    "            # write raster\n",
    "            gdal_utils.write_array_to_raster(output_filepath=image_path, array=recall_mask_color, \n",
    "                                             geo_transform=geo, projection=project)"
   ]
  },
  {
   "cell_type": "code",
   "execution_count": 11,
   "id": "cc92f2ee-7c45-4b76-b2f8-269341d4c3b6",
   "metadata": {},
   "outputs": [
    {
     "data": {
      "text/plain": [
       "<matplotlib.image.AxesImage at 0x7fdecd1e5ed0>"
      ]
     },
     "execution_count": 11,
     "metadata": {},
     "output_type": "execute_result"
    },
    {
     "data": {
      "image/png": "[encoded data removed]",
      "text/plain": [
       "<Figure size 432x288 with 1 Axes>"
      ]
     },
     "metadata": {
      "needs_background": "light"
     },
     "output_type": "display_data"
    }
   ],
   "source": [
    "plt.imshow(recall_mask_color)"
   ]
  },
  {
   "cell_type": "code",
   "execution_count": null,
   "id": "5895df25-3433-48d9-931d-f7e825179c07",
   "metadata": {},
   "outputs": [],
   "source": [
    "plt.imshow(percision_mask_color)"
   ]
  },
  {
   "cell_type": "code",
   "execution_count": null,
   "id": "42250382-d909-4815-80f2-10deff1a8e74",
   "metadata": {},
   "outputs": [],
   "source": []
  }
 ],
 "metadata": {
  "kernelspec": {
   "display_name": "Python 3 (ipykernel)",
   "language": "python",
   "name": "python3"
  },
  "language_info": {
   "codemirror_mode": {
    "name": "ipython",
    "version": 3
   },
   "file_extension": ".py",
   "mimetype": "text/x-python",
   "name": "python",
   "nbconvert_exporter": "python",
   "pygments_lexer": "ipython3",
   "version": "3.7.7"
  }
 },
 "nbformat": 4,
 "nbformat_minor": 5
}
