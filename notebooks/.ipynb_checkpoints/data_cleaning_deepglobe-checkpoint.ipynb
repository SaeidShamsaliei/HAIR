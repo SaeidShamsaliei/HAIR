{
 "cells": [
  {
   "cell_type": "markdown",
   "id": "6dc2e38b-c181-4b10-95da-d0b7574659d6",
   "metadata": {
    "tags": []
   },
   "source": [
    "# Prepare DeepGlobe for our experiments"
   ]
  },
  {
   "cell_type": "markdown",
   "id": "e9fdc24c-881e-4b53-8911-ba0c5667b29b",
   "metadata": {},
   "source": [
    "we need to prepare the deepglobe dataset for the training of our models"
   ]
  },
  {
   "cell_type": "code",
   "execution_count": 1,
   "id": "ffd32a55-031f-4ccc-816c-d576cca4e8ec",
   "metadata": {},
   "outputs": [],
   "source": [
    "%load_ext autoreload"
   ]
  },
  {
   "cell_type": "code",
   "execution_count": 2,
   "id": "2439ee62-2616-4248-9485-938c57553126",
   "metadata": {},
   "outputs": [
    {
     "name": "stderr",
     "output_type": "stream",
     "text": [
      "2023-02-15 03:09:25.312557: I tensorflow/stream_executor/platform/default/dso_loader.cc:49] Successfully opened dynamic library libcudart.so.10.1\n"
     ]
    }
   ],
   "source": [
    "%autoreload\n",
    "import numpy as np\n",
    "import pandas as pd\n",
    "import sys\n",
    "import os\n",
    "import glob\n",
    "import imageio\n",
    "import time\n",
    "import matplotlib.pyplot as plt\n",
    "\n",
    "from scipy import ndimage, signal\n",
    "from cv2 import medianBlur, cvtColor, COLOR_RGB2GRAY\n",
    "\n",
    "sys.path.append(\"..\")\n",
    "\n",
    "from PIL import Image\n",
    "from costum_arild.source.utils import image_processing_utils, gdal_utils\n",
    "from costum_arild.source.data_processing import TrainingImage"
   ]
  },
  {
   "cell_type": "code",
   "execution_count": 3,
   "id": "358bb320-baa3-41e8-9d14-d02f81157448",
   "metadata": {},
   "outputs": [],
   "source": [
    "def replace_rgb_to_class_deepglobe(img_arr, \n",
    "                                   unknown_zero_flag=False, \n",
    "                                   color_matrix=False):\n",
    "    \"\"\"\n",
    "    Convers labels with RGB colors as value to number of class as value\n",
    "    by default:\n",
    "        0 : water\n",
    "        5: unknown\n",
    "    if unknown_zero_flag is set to ture:\n",
    "        0 : unknown\n",
    "        5: water\n",
    "    \"\"\"\n",
    "    \n",
    "    replaced_image_onehot = image_processing_utils.one_hot_encode(\n",
    "        img_arr.astype(np.uint8), color_matrix)\n",
    "    return image_processing_utils.one_hot_decode(replaced_image_onehot)"
   ]
  },
  {
   "cell_type": "markdown",
   "id": "5b9e3041-a7d4-492e-afdd-6627f25b0153",
   "metadata": {
    "tags": []
   },
   "source": [
    "## 3d to 2d, rgb to label"
   ]
  },
  {
   "cell_type": "markdown",
   "id": "6750f10a-39a9-4ab9-8f09-0c382d09c349",
   "metadata": {},
   "source": [
    "we need to have 2d labels for the models we have"
   ]
  },
  {
   "cell_type": "code",
   "execution_count": 4,
   "id": "8e4d3422-90f0-4d6a-9eb6-efbb911c933d",
   "metadata": {},
   "outputs": [],
   "source": [
    "# list of valid colors of deepglobe\n",
    "color_matrix = np.array([[0,255,255], #urban land\n",
    "                         [255,255,0], #agrculture land\n",
    "                         [255,0,255], #range land\n",
    "                         [0,255,0], #forst land\n",
    "                         [0,0,255], #water\n",
    "                         [255,255,255], #barren land\n",
    "                         [0,0,0]], # unknown\n",
    "                        dtype=np.uint8)\n",
    "\n",
    "color_matrix_float = color_matrix / 255\n",
    "\n",
    "# list of all images\n",
    "src_image_path = '/media/saeid/LaCie/Saeid/segmentation/dataset/deepglobe/CodaLab/land-train/land-train'\n",
    "dest_folder_path = '/media/saeid/LaCie/Saeid/segmentation/dataset/deepglobe/GrayScaled/2448/label_2d'"
   ]
  },
  {
   "cell_type": "code",
   "execution_count": 9,
   "id": "442114ce-3d66-4e1e-9b4e-94fc0e712963",
   "metadata": {},
   "outputs": [
    {
     "name": "stdout",
     "output_type": "stream",
     "text": [
      "working on image 949235_mask.png\n",
      "the time takes 1.0956294536590576\n",
      "working on image 940229_mask.png\n",
      "the time takes 0.9181716442108154\n",
      "working on image 256189_mask.png\n",
      "the time takes 0.9559581279754639\n",
      "working on image 601966_mask.png\n",
      "the time takes 0.7787680625915527\n",
      "working on image 387018_mask.png\n",
      "the time takes 0.8121402263641357\n",
      "working on image 761189_mask.png\n",
      "the time takes 0.8142452239990234\n",
      "working on image 68078_mask.png\n",
      "the time takes 0.8014872074127197\n",
      "working on image 848649_mask.png\n",
      "the time takes 0.8755347728729248\n",
      "working on image 172854_mask.png\n",
      "the time takes 0.8579421043395996\n"
     ]
    }
   ],
   "source": [
    "for idx, image_path in enumerate(glob.glob(os.path.join(src_image_path, '*mask.png'))):\n",
    "    start = time.time()\n",
    "    if idx % 100 == 0:\n",
    "        print(f'working on image {os.path.split(image_path)[-1]}')\n",
    "    \n",
    "    dest_path = os.path.join(dest_folder_path, os.path.split(image_path)[-1])\n",
    "    # read image\n",
    "    original_image_matrix = imageio.imread(image_path)\n",
    "    if original_image_matrix.shape[-1] > 3:\n",
    "        print('image has more than 3 channels, only first 3 channels are used')\n",
    "        original_image_matrix = original_image_matrix[:,:,:3]\n",
    "    \n",
    "    # change rgb to 2d_class labels\n",
    "    replaced_image_cleaned = replace_rgb_to_class_deepglobe(\n",
    "        original_image_matrix, \n",
    "        color_matrix=color_matrix)\n",
    "    \n",
    "    # save to file\n",
    "    replaced_image_png = Image.fromarray(replaced_image_cleaned.astype(np.uint8))\n",
    "    replaced_image_png.save(dest_path)\n",
    "    \n",
    "    end = time.time()\n",
    "    if idx % 100 == 0:\n",
    "        print(f'the time takes {end - start}')"
   ]
  },
  {
   "cell_type": "markdown",
   "id": "321e8d0d-67be-418a-a5d7-a00d94806abb",
   "metadata": {},
   "source": [
    "# Covert RGB to Grayscale"
   ]
  },
  {
   "cell_type": "code",
   "execution_count": 19,
   "id": "d8f98a6e-28e4-40df-b43c-ef2399e6ee62",
   "metadata": {},
   "outputs": [],
   "source": [
    "# list of all images\n",
    "src_image_path = '/media/saeid/LaCie/Saeid/segmentation/dataset/deepglobe/CodaLab/land-train/land-train'\n",
    "dest_folder_path = '/media/saeid/LaCie/Saeid/segmentation/dataset/deepglobe/GrayScaled/2448/image_grayscale'\n",
    "\n",
    "all_image_paths = glob.glob(os.path.join(src_image_path, '*_sat.jpg'))"
   ]
  },
  {
   "cell_type": "code",
   "execution_count": 20,
   "id": "279b0212-cb7a-4145-b18e-10c864c9dc4c",
   "metadata": {},
   "outputs": [
    {
     "name": "stdout",
     "output_type": "stream",
     "text": [
      "working on image 164029_sat.jpg\n",
      "working on image 990573_sat.jpg\n",
      "working on image 940229_sat.jpg\n",
      "working on image 21717_sat.jpg\n",
      "working on image 835147_sat.jpg\n",
      "working on image 45676_sat.jpg\n",
      "working on image 204562_sat.jpg\n",
      "working on image 584865_sat.jpg\n",
      "working on image 358591_sat.jpg\n"
     ]
    }
   ],
   "source": [
    "# \n",
    "for idx, img_path in enumerate(all_image_paths):\n",
    "    # get the name\n",
    "    img_name = os.path.split(img_path)[-1]\n",
    "    # read the image\n",
    "    img_matrix = image_processing_utils.read_png_file(img_path)\n",
    "    # convert to grayscale\n",
    "    img_matrix_gray = cvtColor(img_matrix, COLOR_RGB2GRAY)\n",
    "    \n",
    "    # save image\n",
    "    image_processing_utils.save_to_png(img_array=img_matrix_gray, \n",
    "                                       img_path=os.path.join(dest_folder_path, \n",
    "                                                             f'{img_name}.png'))\n",
    "    if idx % 100 == 0:\n",
    "        print(f'working on image {img_name}')"
   ]
  },
  {
   "cell_type": "markdown",
   "id": "22bad31b-bd96-4e3b-914d-d7ae9c85969c",
   "metadata": {},
   "source": [
    "# Move the val used in MagNet here as well"
   ]
  },
  {
   "cell_type": "markdown",
   "id": "9eaa299d-79f7-4647-8db9-e9c1781f7e2f",
   "metadata": {},
   "source": [
    "we read all the training file and move the images that are described to be val, into the validation folder"
   ]
  },
  {
   "cell_type": "code",
   "execution_count": 31,
   "id": "f6306f22-8d33-450f-a201-41be85fdc141",
   "metadata": {},
   "outputs": [],
   "source": [
    "# load the csv\n",
    "val_csv_path = '/home/saeid/phd/segmentation/MagNet-main/data/list/deepglobe/val.txt'\n",
    "\n",
    "src_images = '/media/saeid/LaCie/Saeid/segmentation/dataset/deepglobe/GrayScaled/2448/train'\n",
    "\n",
    "dst_images = '/media/saeid/LaCie/Saeid/segmentation/dataset/deepglobe/GrayScaled/2448/val'"
   ]
  },
  {
   "cell_type": "code",
   "execution_count": 35,
   "id": "8befa275-525c-4b20-8319-109d9df9404f",
   "metadata": {},
   "outputs": [],
   "source": [
    " with open(val_csv_path) as f:\n",
    "    for file_line in f:\n",
    "        img_src_path, lbl_src_path = file_line.replace('\\n','').split('\\t')\n",
    "        img_src_name = img_src_path.replace('land-train', 'image_grayscale').replace('jpg', 'png')\n",
    "        lbl_src_name = lbl_src_path.replace('land-train', 'label_2d')      \n",
    "        \n",
    "        # make the overall src path\n",
    "        img_src_path = os.path.join(src_images, img_src_name)\n",
    "        lbl_src_path = os.path.join(src_images, lbl_src_name)\n",
    "        \n",
    "        # make the overall dst path\n",
    "        img_dst_path = os.path.join(dst_images, img_src_name)\n",
    "        lbl_dst_path = os.path.join(dst_images, lbl_src_name)\n",
    "        \n",
    "        break"
   ]
  },
  {
   "cell_type": "code",
   "execution_count": 36,
   "id": "3a1a4940-3063-4ad9-9f38-dd408bef328b",
   "metadata": {},
   "outputs": [
    {
     "data": {
      "text/plain": [
       "('/media/saeid/LaCie/Saeid/segmentation/dataset/deepglobe/GrayScaled/2448/train/label_2d/455374_mask.png',\n",
       " '/media/saeid/LaCie/Saeid/segmentation/dataset/deepglobe/GrayScaled/2448/val/label_2d/455374_mask.png')"
      ]
     },
     "execution_count": 36,
     "metadata": {},
     "output_type": "execute_result"
    }
   ],
   "source": [
    "lbl_src_path, lbl_dst_path"
   ]
  },
  {
   "cell_type": "markdown",
   "id": "c66e1b79-eb02-4352-9d48-0d79746832b3",
   "metadata": {},
   "source": [
    "# devide the image"
   ]
  },
  {
   "cell_type": "code",
   "execution_count": 24,
   "id": "30d9826e-5085-4477-a252-dbd27b53e988",
   "metadata": {},
   "outputs": [],
   "source": [
    "all_image_path = '/media/saeid/LaCie/Saeid/segmentation/dataset/deepglobe/GrayScaled/2448/image_grayscale'\n",
    "all_label_path = '/media/saeid/LaCie/Saeid/segmentation/dataset/deepglobe/GrayScaled/2448/label_2d'\n",
    "\n",
    "all_label_paths = glob.glob(os.path.join(all_label_path, '*.png'))\n",
    "all_image_paths = glob.glob(os.path.join(all_image_path, '*.png'))\n",
    "# get all the image names\n",
    "all_label_names = [os.path.split(name)[-1] for name in all_label_paths]\n",
    "all_image_names = [os.path.split(name)[-1] for name in all_image_paths]\n",
    "\n",
    "dst_path = '/media/saeid/LaCie/Saeid/segmentation/dataset/deepglobe/GrayScaled/512'"
   ]
  },
  {
   "cell_type": "code",
   "execution_count": 32,
   "id": "f0395a0d-5c44-4d79-b265-a39c87466c65",
   "metadata": {},
   "outputs": [],
   "source": [
    "image_size = 512\n",
    "# determines if we need to show messages or not\n",
    "verbose = True\n",
    "UNKNOWN_CLASS = 6\n",
    "small_image_list = []\n",
    "small_label_list = []\n",
    "verbose = False\n",
    "\n",
    "dst_path_img = os.path.join(dst_path, 'image')\n",
    "dst_path_lbl = os.path.join(dst_path, 'label')\n",
    "\n",
    "os.makedirs(dst_path_img, exist_ok=True)\n",
    "os.makedirs(dst_path_lbl, exist_ok=True)\n",
    "\n",
    "for idx, img_path in enumerate(all_image_paths):    \n",
    "    if verbose:\n",
    "        if idx % 100 == 0:\n",
    "            print(f\"working on image {all_image_names[idx].replace('.png', '')}\")\n",
    "    start = time.time()\n",
    "    large_img_arr = image_processing_utils.read_png_file(image_path=all_image_paths[idx])\n",
    "    large_lbl_arr = image_processing_utils.read_png_file(image_path=all_label_paths[idx])\n",
    "    \n",
    "#     large_lbl_arr_2d = image_processing_utils.replace_rgb_to_class(large_lbl_arr, \n",
    "#                                                                    unknown_zero_flag=True)\n",
    "    current_time = time.time()\n",
    "    if verbose:\n",
    "        if idx % 100 == 0:\n",
    "            print(f'loading images took: {current_time - start}')\n",
    "    \n",
    "    # now we dont need to rotate the image\n",
    "    # rotate image by angle\n",
    "    # rotated_lbl_arr_2d = image_processing_utils.rotate_image_skimage(angle=30, \n",
    "    #                                                                      img=large_lbl_arr_2d)\n",
    "    \n",
    "#     # we might need to swap the value of unknown class\n",
    "#     UNKNOWN_CLASS = 0\n",
    "#     large_lbl_arr_2d = image_processing_utils.swap_value_np(array=large_lbl_arr_2d, val1=5, val2=0)\n",
    "#     current_time = time.time()\n",
    "#     if verbose:\n",
    "#         print(f'swapping classes took: {current_time - start}')\n",
    "    \n",
    "    image_processing_utils.devide_small_image(\n",
    "        large_img_arr=large_img_arr, \n",
    "        large_lbl_arr_2d = large_lbl_arr, \n",
    "        image_size=image_size, \n",
    "        dst_path_lbl=dst_path_lbl, \n",
    "        dst_path_img=dst_path_img,\n",
    "        unknown_class=UNKNOWN_CLASS, \n",
    "        large_image_name=all_image_names[idx])\n",
    "    \n",
    "    current_time = time.time()\n",
    "    if verbose:\n",
    "        if idx % 100 == 0:\n",
    "            print(f'deviding took: {current_time - start}')\n"
   ]
  },
  {
   "cell_type": "code",
   "execution_count": null,
   "id": "f1902d68-d1cf-47c0-a23d-7ccfa1da043c",
   "metadata": {},
   "outputs": [],
   "source": []
  }
 ],
 "metadata": {
  "kernelspec": {
   "display_name": "Python 3 (ipykernel)",
   "language": "python",
   "name": "python3"
  },
  "language_info": {
   "codemirror_mode": {
    "name": "ipython",
    "version": 3
   },
   "file_extension": ".py",
   "mimetype": "text/x-python",
   "name": "python",
   "nbconvert_exporter": "python",
   "pygments_lexer": "ipython3",
   "version": "3.7.7"
  }
 },
 "nbformat": 4,
 "nbformat_minor": 5
}
