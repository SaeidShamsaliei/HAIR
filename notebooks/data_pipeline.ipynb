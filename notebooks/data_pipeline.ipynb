{
 "cells": [
  {
   "cell_type": "markdown",
   "id": "22a4c288-205a-41a6-b831-606be0dbf8a1",
   "metadata": {},
   "source": [
    "Pipeline for making train and test out of large images"
   ]
  },
  {
   "cell_type": "code",
   "execution_count": 1,
   "id": "a8e2097e-8ec9-4a06-8b20-f7116e8fcf5a",
   "metadata": {},
   "outputs": [],
   "source": [
    "%load_ext autoreload"
   ]
  },
  {
   "cell_type": "code",
   "execution_count": 2,
   "id": "28b657e0-21a3-47b4-85f5-8f097abf45c2",
   "metadata": {},
   "outputs": [],
   "source": [
    "# merge the inputs\n",
    "%autoreload\n",
    "import sys\n",
    "import os\n",
    "sys.path.append(\"..\")\n",
    "\n",
    "from costum_arild.source import data_processing\n",
    "from costum_arild.source.data_processing import TrainingImage\n",
    "from costum_arild.source.utils import image_processing_utils"
   ]
  },
  {
   "cell_type": "code",
   "execution_count": 3,
   "id": "e193e9bc-3396-480a-8b5a-2070f8cc55d1",
   "metadata": {},
   "outputs": [],
   "source": [
    "import numpy as np\n",
    "import gdal\n",
    "import json\n",
    "import glob\n",
    "import os\n",
    "import sys\n",
    "from osgeo import ogr\n",
    "from osgeo import osr\n",
    "import copy\n",
    "import random\n",
    "import pandas as pd\n",
    "import shutil"
   ]
  },
  {
   "cell_type": "markdown",
   "id": "aa2d0cff-38a5-440c-9770-c7ac75dffcb2",
   "metadata": {},
   "source": [
    "first lets just try to see how it works"
   ]
  },
  {
   "cell_type": "code",
   "execution_count": 4,
   "id": "748433e9-e6f0-4266-a865-daca0ca107e3",
   "metadata": {},
   "outputs": [],
   "source": [
    "# make a list of files we want to split\n",
    "image_list = ['/home/saeid/phd/segmentation/dataset/large images/image_labeled/gaula_1963/33-2-462-207-23.tif']\n",
    "label_list = ['/home/saeid/phd/segmentation/dataset/large images/rasters/gaula_1963/label33-2-462-207-23.tif']\n",
    "output_directory = '/home/saeid/phd/segmentation/dataset/large images/test_small_images'"
   ]
  },
  {
   "cell_type": "markdown",
   "id": "0540cc20-659e-4014-ad2d-50aa2f7ec577",
   "metadata": {},
   "source": [
    "applying other methods to large images is time consuming. so we can apply them to small images. so we need to rewrite the devide image function and add 3 channel as well"
   ]
  },
  {
   "cell_type": "code",
   "execution_count": 4,
   "id": "2c780a46-1e52-435a-8656-3082839084b8",
   "metadata": {},
   "outputs": [],
   "source": [
    "def divide_image_add_channel(image_filepath, label_filepath, image_size=512, do_overlap=False, do_crop=False, add_filter_channel=False):\n",
    "    \n",
    "    \"\"\"\n",
    "    add_filter_channel: indicate if we want to have filters as external channels\n",
    "    \"\"\"\n",
    "    \n",
    "    # Load image\n",
    "    image_ds = gdal.Open(image_filepath)\n",
    "    geo_transform = image_ds.GetGeoTransform()\n",
    "    projection = image_ds.GetProjection()\n",
    "    # check the number of rasters\n",
    "    image_matrix = np.array(([image_ds.GetRasterBand(band_idx+1).ReadAsArray() for band_idx in range(image_ds.RasterCount)]))\n",
    "    if len(image_matrix.shape) > 2:\n",
    "        # get (x,y, channel) form\n",
    "        image_matrix = np.transpose(image_matrix, axes=[1, 2, 0])\n",
    "    \n",
    "    # this part is different since we want to have Gray scale\n",
    "    from PIL import Image\n",
    "    image_matrix = np.array(Image.fromarray(image_matrix).convert('L'))\n",
    "    image_ds = None\n",
    "    \n",
    "\n",
    "    # Load label\n",
    "    label_ds = gdal.Open(label_filepath)\n",
    "    if label_ds.GetGeoTransform() != geo_transform:\n",
    "        raise Exception(f\"The geo transforms of image {image_filepath} and label {label_filepath} did not match\")\n",
    "    label_matrix = label_ds.GetRasterBand(1).ReadAsArray()\n",
    "    label_ds = None\n",
    "\n",
    "    training_data = []\n",
    "    # Make properly sized training data\n",
    "    # Make sure that the whole image is covered, even if the last one has to overlap\n",
    "    if do_overlap:\n",
    "        shape_0_indices = list(range(image_size // 4, image_matrix.shape[0], image_size // 4))[:-4]\n",
    "        shape_1_indices = list(range(image_size // 4, image_matrix.shape[1], image_size // 4))[:-4]\n",
    "    else:\n",
    "        shape_0_indices = list(range(0, image_matrix.shape[0], image_size))\n",
    "        shape_0_indices[-1] = image_matrix.shape[0] - image_size\n",
    "        shape_1_indices = list(range(0, image_matrix.shape[1], image_size))\n",
    "        shape_1_indices[-1] = image_matrix.shape[1] - image_size\n",
    "    # Split the images\n",
    "    for shape_0 in shape_0_indices:\n",
    "        for shape_1 in shape_1_indices:\n",
    "            if do_crop:\n",
    "                # Extract labels for the center of the image\n",
    "                labels = label_matrix[shape_0 + image_size // 4:shape_0 + image_size - image_size // 4,\n",
    "                         shape_1 + image_size // 4:shape_1 + image_size - image_size // 4]\n",
    "            else:\n",
    "                labels = label_matrix[shape_0:shape_0 + image_size, shape_1:shape_1 + image_size]\n",
    "            # Check if the image has to much unknown\n",
    "            if not data_processing.is_quality_image(labels):\n",
    "                continue\n",
    "\n",
    "            # Calculate the geo transform of the label\n",
    "            label_geo_transform = list(geo_transform)\n",
    "            if do_crop:\n",
    "                label_geo_transform[0] += (shape_1 + image_size//4) * geo_transform[1]  # East\n",
    "                label_geo_transform[3] += (shape_0 + image_size//4) * geo_transform[5]  # North\n",
    "            else:\n",
    "                label_geo_transform[0] += (shape_1) * geo_transform[1]  # East\n",
    "                label_geo_transform[3] += (shape_0) * geo_transform[5]  # North\n",
    "\n",
    "            data = image_matrix[shape_0:shape_0 + image_size, shape_1:shape_1 + image_size]\n",
    "            filter_channel = image_processing_utils.qshitf_boundary(data, ratio=0.9)\n",
    "            cluster_channel = image_processing_utils.laplacian_filter(data, sigma=5)\n",
    "            \n",
    "            data_3d = np.stack([data, filter_channel, cluster_channel], axis=-1)\n",
    "            \n",
    "            new_data_geo_transform = list(geo_transform)\n",
    "            new_data_geo_transform[0] += shape_1 * geo_transform[1]  # East\n",
    "            new_data_geo_transform[3] += shape_0 * geo_transform[5]  # North\n",
    "\n",
    "            name = os.path.split(image_filepath)[-1].replace(\".tif\", \"\") + f\"_n_{shape_0}_e_{shape_1}\"\n",
    "            training_data.append(TrainingImage(data_3d, labels, new_data_geo_transform, name=name, projection=projection,\n",
    "                                               label_geo_transform=label_geo_transform, east_offset=shape_1,\n",
    "                                               north_offset=shape_0))\n",
    "    return training_data"
   ]
  },
  {
   "cell_type": "code",
   "execution_count": 5,
   "id": "3320be18-2584-47ec-9054-f9a196462fa0",
   "metadata": {},
   "outputs": [],
   "source": [
    "def divide_and_save_channeled_images(image_filepaths, label_filepaths, output_folder=None, image_size=512,\n",
    "                           do_overlap=False, do_crop=False):\n",
    "    \"\"\"\n",
    "    This function takes big images and splits them into smaller images and saves them to disk\n",
    "    :param image_filepaths: A list of filepaths to the images that will be loaded\n",
    "    :param label_filepaths: A list of filepaths to the label (rasters) that will be loaded\n",
    "    :param output_folder: The folder where the new rasters will be saved. If it is None, the files will not be saved\n",
    "    :param image_size: The size of the new images, measured in pixels\n",
    "    :return: list of TrainingImage objects\n",
    "    \"\"\"\n",
    "\n",
    "    # Check that the size of the filepaths are the same are loaded\n",
    "    if len(image_filepaths) != len(label_filepaths):\n",
    "        raise Exception(f\"The image filepaths and label filepaths must be in sync,\"\n",
    "                        f\" but their lengths did not match. {len(image_filepaths)} != {len(label_filepaths)}\")\n",
    "    # Load the images\n",
    "    # Write the images to disk\n",
    "    if output_folder is not None:\n",
    "        # Make output folders\n",
    "        os.makedirs(os.path.join(output_folder, \"images\"), exist_ok=True)\n",
    "        os.makedirs(os.path.join(output_folder, \"labels\"), exist_ok=True)\n",
    "        for i in range(len(image_filepaths)):\n",
    "            training_images = divide_image_add_channel(image_filepaths[i], label_filepaths[i], image_size=image_size,\n",
    "                                           do_overlap=do_overlap, do_crop=do_crop)\n",
    "            for image in training_images:\n",
    "                # Data\n",
    "                data_path = os.path.join(output_folder, \"images\", image.name + \".tif\")\n",
    "                image.write_data_to_raster(data_path)\n",
    "                # Labels\n",
    "                label_path = os.path.join(output_folder, \"labels\", image.name + \".tif\")\n",
    "                image.write_labels_to_raster(label_path)\n"
   ]
  },
  {
   "cell_type": "code",
   "execution_count": 6,
   "id": "080e4f34-be6d-4384-9ae4-74d691e4e61e",
   "metadata": {},
   "outputs": [],
   "source": [
    "divide_and_save_channeled_images(image_filepaths=image_list, \n",
    "                                 label_filepaths=label_list,\n",
    "                                 output_folder=output_directory)"
   ]
  },
  {
   "cell_type": "code",
   "execution_count": 20,
   "id": "5809aded-07d1-429e-9d25-e2b8dbf118cf",
   "metadata": {},
   "outputs": [],
   "source": [
    "# adding channel to small images"
   ]
  },
  {
   "cell_type": "code",
   "execution_count": 33,
   "id": "872cbf1c-0280-4cd7-bd82-79e1e3b02068",
   "metadata": {},
   "outputs": [],
   "source": [
    "# read the images\n",
    "%autoreload\n",
    "from costum_arild.source.utils import model_utils"
   ]
  },
  {
   "cell_type": "code",
   "execution_count": 34,
   "id": "d0ccda33-2076-41d3-82e0-51c691e9ada9",
   "metadata": {},
   "outputs": [],
   "source": [
    "image_directory = '/home/saeid/phd/segmentation/dataset/machine_learning_dataset/train/images'\n",
    "label_directory = '/home/saeid/phd/segmentation/dataset/machine_learning_dataset/train/labels'\n",
    "\n",
    "\n",
    "image_file_list = glob.glob(os.path.join(image_directory, \"*.tif\"))\n",
    "label_file_list = glob.glob(os.path.join(label_directory, \"*.tif\"))"
   ]
  },
  {
   "cell_type": "code",
   "execution_count": 35,
   "id": "77b7bdbc-69ba-4062-9f4a-28f49b594d74",
   "metadata": {},
   "outputs": [],
   "source": [
    "def add_extra_channel_save(image_file_list, output_directory):\n",
    "    \"\"\"\n",
    "    This function adds two channels to the images and save them with the same name at output_directory\n",
    "    \"\"\"\n",
    "    output_image_directory = os.path.join(output_directory, 'image_3channel')\n",
    "\n",
    "    os.makedirs(output_image_directory, exist_ok=True)\n",
    "\n",
    "    for idx, _ in enumerate(image_file_list):\n",
    "        # Check if the image and label have the same name\n",
    "        image_name = os.path.split(image_file_list[idx])[-1]\n",
    "        if os.path.split(label_file_list[idx])[-1].replace(\"label\", \"\") != image_name:\n",
    "            raise ValueError(f'name of {os.path.split(label_file_list[idx])[-1]} and {os.path.split(image_file_list[idx])[-1]} are not the same.')\n",
    "\n",
    "        # Get all the channels\n",
    "        image_object = model_utils.load_data(image_file_list[idx], label_file_list[idx])\n",
    "        filter_channel = image_processing_utils.qshitf_boundary(data, ratio=0.9)\n",
    "        cluster_channel = image_processing_utils.laplacian_filter(data, sigma=5)\n",
    "        data_channel = image_object.data\n",
    "\n",
    "        # Add channels as data for image object\n",
    "        image_object.data = np.stack([data_channel, cluster_channel, filter_channel], -1)\n",
    "        image_object.write_data_to_raster(os.path.join(output_image_directory, image_name))\n",
    "        print(f'made image {idx}')"
   ]
  },
  {
   "cell_type": "code",
   "execution_count": 36,
   "id": "ca18a782-4882-47d6-9c85-ea141fc5e8b6",
   "metadata": {},
   "outputs": [
    {
     "ename": "ModuleNotFoundError",
     "evalue": "No module named 'data_processing'",
     "output_type": "error",
     "traceback": [
      "\u001b[0;31m---------------------------------------------------------------------------\u001b[0m",
      "\u001b[0;31mModuleNotFoundError\u001b[0m                       Traceback (most recent call last)",
      "\u001b[0;32m/tmp/ipykernel_67490/2803740467.py\u001b[0m in \u001b[0;36m<module>\u001b[0;34m\u001b[0m\n\u001b[1;32m      1\u001b[0m \u001b[0moutput_path\u001b[0m \u001b[0;34m=\u001b[0m \u001b[0;34m'/home/saeid/phd/segmentation/dataset/machine_learning_dataset_3channel/'\u001b[0m\u001b[0;34m\u001b[0m\u001b[0;34m\u001b[0m\u001b[0m\n\u001b[1;32m      2\u001b[0m \u001b[0;34m\u001b[0m\u001b[0m\n\u001b[0;32m----> 3\u001b[0;31m \u001b[0madd_extra_channel_save\u001b[0m\u001b[0;34m(\u001b[0m\u001b[0mimage_file_list\u001b[0m\u001b[0;34m=\u001b[0m\u001b[0mimage_file_list\u001b[0m\u001b[0;34m,\u001b[0m \u001b[0moutput_directory\u001b[0m\u001b[0;34m=\u001b[0m\u001b[0moutput_path\u001b[0m\u001b[0;34m)\u001b[0m\u001b[0;34m\u001b[0m\u001b[0;34m\u001b[0m\u001b[0m\n\u001b[0m",
      "\u001b[0;32m/tmp/ipykernel_67490/3626027499.py\u001b[0m in \u001b[0;36madd_extra_channel_save\u001b[0;34m(image_file_list, output_directory)\u001b[0m\n\u001b[1;32m     14\u001b[0m \u001b[0;34m\u001b[0m\u001b[0m\n\u001b[1;32m     15\u001b[0m         \u001b[0;31m# Get all the channels\u001b[0m\u001b[0;34m\u001b[0m\u001b[0;34m\u001b[0m\u001b[0;34m\u001b[0m\u001b[0m\n\u001b[0;32m---> 16\u001b[0;31m         \u001b[0mimage_object\u001b[0m \u001b[0;34m=\u001b[0m \u001b[0mmodel_utils\u001b[0m\u001b[0;34m.\u001b[0m\u001b[0mload_data\u001b[0m\u001b[0;34m(\u001b[0m\u001b[0mimage_file_list\u001b[0m\u001b[0;34m[\u001b[0m\u001b[0midx\u001b[0m\u001b[0;34m]\u001b[0m\u001b[0;34m,\u001b[0m \u001b[0mlabel_file_list\u001b[0m\u001b[0;34m[\u001b[0m\u001b[0midx\u001b[0m\u001b[0;34m]\u001b[0m\u001b[0;34m)\u001b[0m\u001b[0;34m\u001b[0m\u001b[0;34m\u001b[0m\u001b[0m\n\u001b[0m\u001b[1;32m     17\u001b[0m         \u001b[0mfilter_channel\u001b[0m \u001b[0;34m=\u001b[0m \u001b[0mimage_processing_utils\u001b[0m\u001b[0;34m.\u001b[0m\u001b[0mqshitf_boundary\u001b[0m\u001b[0;34m(\u001b[0m\u001b[0mdata\u001b[0m\u001b[0;34m,\u001b[0m \u001b[0mratio\u001b[0m\u001b[0;34m=\u001b[0m\u001b[0;36m0.9\u001b[0m\u001b[0;34m)\u001b[0m\u001b[0;34m\u001b[0m\u001b[0;34m\u001b[0m\u001b[0m\n\u001b[1;32m     18\u001b[0m         \u001b[0mcluster_channel\u001b[0m \u001b[0;34m=\u001b[0m \u001b[0mimage_processing_utils\u001b[0m\u001b[0;34m.\u001b[0m\u001b[0mlaplacian_filter\u001b[0m\u001b[0;34m(\u001b[0m\u001b[0mdata\u001b[0m\u001b[0;34m,\u001b[0m \u001b[0msigma\u001b[0m\u001b[0;34m=\u001b[0m\u001b[0;36m5\u001b[0m\u001b[0;34m)\u001b[0m\u001b[0;34m\u001b[0m\u001b[0;34m\u001b[0m\u001b[0m\n",
      "\u001b[0;32m~/phd/segmentation/costum_arild/source/utils/model_utils.py\u001b[0m in \u001b[0;36mload_data\u001b[0;34m(image_path, label_path)\u001b[0m\n\u001b[1;32m     16\u001b[0m     \u001b[0;31m# Load image\u001b[0m\u001b[0;34m\u001b[0m\u001b[0;34m\u001b[0m\u001b[0;34m\u001b[0m\u001b[0m\n\u001b[1;32m     17\u001b[0m     \u001b[0msys\u001b[0m\u001b[0;34m.\u001b[0m\u001b[0mpath\u001b[0m\u001b[0;34m.\u001b[0m\u001b[0mappend\u001b[0m\u001b[0;34m(\u001b[0m\u001b[0;34m\"..\"\u001b[0m\u001b[0;34m)\u001b[0m\u001b[0;34m\u001b[0m\u001b[0;34m\u001b[0m\u001b[0m\n\u001b[0;32m---> 18\u001b[0;31m     \u001b[0;32mimport\u001b[0m \u001b[0mdata_processing\u001b[0m\u001b[0;34m\u001b[0m\u001b[0;34m\u001b[0m\u001b[0m\n\u001b[0m\u001b[1;32m     19\u001b[0m     \u001b[0mimage_ds\u001b[0m \u001b[0;34m=\u001b[0m \u001b[0mgdal\u001b[0m\u001b[0;34m.\u001b[0m\u001b[0mOpen\u001b[0m\u001b[0;34m(\u001b[0m\u001b[0mimage_path\u001b[0m\u001b[0;34m,\u001b[0m \u001b[0mgdal\u001b[0m\u001b[0;34m.\u001b[0m\u001b[0mGA_ReadOnly\u001b[0m\u001b[0;34m)\u001b[0m\u001b[0;34m\u001b[0m\u001b[0;34m\u001b[0m\u001b[0m\n\u001b[1;32m     20\u001b[0m     \u001b[0mgeo_transform\u001b[0m \u001b[0;34m=\u001b[0m \u001b[0mimage_ds\u001b[0m\u001b[0;34m.\u001b[0m\u001b[0mGetGeoTransform\u001b[0m\u001b[0;34m(\u001b[0m\u001b[0;34m)\u001b[0m\u001b[0;34m\u001b[0m\u001b[0;34m\u001b[0m\u001b[0m\n",
      "\u001b[0;31mModuleNotFoundError\u001b[0m: No module named 'data_processing'"
     ]
    }
   ],
   "source": [
    "output_path = '/home/saeid/phd/segmentation/dataset/machine_learning_dataset_3channel/'\n",
    "\n",
    "add_extra_channel_save(image_file_list=image_file_list, output_directory=output_path)"
   ]
  },
  {
   "cell_type": "markdown",
   "id": "d8a4547e-77b2-49e3-9f2b-41517c535ddd",
   "metadata": {},
   "source": [
    "# Tensorflow data "
   ]
  },
  {
   "cell_type": "code",
   "execution_count": 4,
   "id": "74453000-aea3-4f8c-ad94-a9c3a64ca0cf",
   "metadata": {},
   "outputs": [
    {
     "name": "stderr",
     "output_type": "stream",
     "text": [
      "2021-11-07 19:02:10.325200: I tensorflow/stream_executor/platform/default/dso_loader.cc:49] Successfully opened dynamic library libcudart.so.10.1\n"
     ]
    },
    {
     "name": "stdout",
     "output_type": "stream",
     "text": [
      "\n",
      "Set memory growth to True\n",
      "\n"
     ]
    },
    {
     "name": "stderr",
     "output_type": "stream",
     "text": [
      "2021-11-07 19:02:10.982094: I tensorflow/compiler/jit/xla_cpu_device.cc:41] Not creating XLA devices, tf_xla_enable_xla_devices not set\n",
      "2021-11-07 19:02:10.986576: I tensorflow/stream_executor/platform/default/dso_loader.cc:49] Successfully opened dynamic library libcuda.so.1\n",
      "2021-11-07 19:02:11.102702: I tensorflow/stream_executor/cuda/cuda_gpu_executor.cc:941] successful NUMA node read from SysFS had negative value (-1), but there must be at least one NUMA node, so returning NUMA node zero\n",
      "2021-11-07 19:02:11.103217: I tensorflow/core/common_runtime/gpu/gpu_device.cc:1720] Found device 0 with properties: \n",
      "pciBusID: 0000:01:00.0 name: GeForce RTX 2080 Super with Max-Q Design computeCapability: 7.5\n",
      "coreClock: 1.08GHz coreCount: 48 deviceMemorySize: 7.79GiB deviceMemoryBandwidth: 327.88GiB/s\n",
      "2021-11-07 19:02:11.103280: I tensorflow/stream_executor/platform/default/dso_loader.cc:49] Successfully opened dynamic library libcudart.so.10.1\n",
      "2021-11-07 19:02:11.127023: I tensorflow/stream_executor/platform/default/dso_loader.cc:49] Successfully opened dynamic library libcublas.so.10\n",
      "2021-11-07 19:02:11.127104: I tensorflow/stream_executor/platform/default/dso_loader.cc:49] Successfully opened dynamic library libcublasLt.so.10\n",
      "2021-11-07 19:02:11.139842: I tensorflow/stream_executor/platform/default/dso_loader.cc:49] Successfully opened dynamic library libcufft.so.10\n",
      "2021-11-07 19:02:11.143383: I tensorflow/stream_executor/platform/default/dso_loader.cc:49] Successfully opened dynamic library libcurand.so.10\n",
      "2021-11-07 19:02:11.168577: I tensorflow/stream_executor/platform/default/dso_loader.cc:49] Successfully opened dynamic library libcusolver.so.10\n",
      "2021-11-07 19:02:11.172093: I tensorflow/stream_executor/platform/default/dso_loader.cc:49] Successfully opened dynamic library libcusparse.so.10\n",
      "2021-11-07 19:02:11.211943: I tensorflow/stream_executor/platform/default/dso_loader.cc:49] Successfully opened dynamic library libcudnn.so.7\n",
      "2021-11-07 19:02:11.212098: I tensorflow/stream_executor/cuda/cuda_gpu_executor.cc:941] successful NUMA node read from SysFS had negative value (-1), but there must be at least one NUMA node, so returning NUMA node zero\n",
      "2021-11-07 19:02:11.212404: I tensorflow/stream_executor/cuda/cuda_gpu_executor.cc:941] successful NUMA node read from SysFS had negative value (-1), but there must be at least one NUMA node, so returning NUMA node zero\n",
      "2021-11-07 19:02:11.212614: I tensorflow/core/common_runtime/gpu/gpu_device.cc:1862] Adding visible gpu devices: 0\n"
     ]
    }
   ],
   "source": [
    "# check the datadrive\n",
    "import tensorflow as tf\n",
    "\n",
    "physical_devices = tf.config.list_physical_devices('GPU')\n",
    "for physical_device in physical_devices:\n",
    "    try:\n",
    "        tf.config.experimental.set_memory_growth(physical_device, True)\n",
    "        print('\\nSet memory growth to True\\n')\n",
    "    except:\n",
    "        print('\\nDid not set growth rate\\n')"
   ]
  },
  {
   "cell_type": "code",
   "execution_count": 91,
   "id": "cbdac904-5a8f-43a2-b83c-00166b8c9b84",
   "metadata": {},
   "outputs": [
    {
     "name": "stdout",
     "output_type": "stream",
     "text": [
      "Found 38432 images belonging to 1 classes.\n",
      "Found 38432 images belonging to 1 classes.\n"
     ]
    }
   ],
   "source": [
    "# Setup data generators\n",
    "train_data_folder_path = '/home/saeid/phd/segmentation/dataset/machine_learning_dataset_3channel/train'\n",
    "train_image_directory_name = 'image_png3d'\n",
    "train_label_directory_name = 'labels_png3d'\n",
    "batch_size = 4\n",
    "\n",
    "image_datagen = tf.keras.preprocessing.image.ImageDataGenerator(\n",
    "                        preprocessing_function=lambda x: x/(2**8 -1)\n",
    ")\n",
    "\n",
    "mask_datagen = tf.keras.preprocessing.image.ImageDataGenerator()\n",
    "\n",
    "image_generator = image_datagen.flow_from_directory(os.path.join(train_data_folder_path, train_image_directory_name),\n",
    "                        class_mode=None, target_size=(512, 512), seed=1, batch_size=batch_size)\n",
    "\n",
    "mask_generator = mask_datagen.flow_from_directory(os.path.join(train_data_folder_path, train_label_directory_name),\n",
    "                                                  class_mode=None, target_size=(512, 512), seed=1, batch_size=batch_size,\n",
    "                                                  color_mode=\"grayscale\")\n",
    "\n",
    "train_generator = (pair for pair in zip(image_generator, mask_generator))\n"
   ]
  },
  {
   "cell_type": "code",
   "execution_count": 92,
   "id": "66ebff11-425a-4637-81d9-3df64e6e9239",
   "metadata": {},
   "outputs": [],
   "source": [
    "import matplotlib.pyplot as plt"
   ]
  },
  {
   "cell_type": "code",
   "execution_count": 93,
   "id": "b4b692d9-0419-4f2f-848c-8c058b1ea4db",
   "metadata": {},
   "outputs": [
    {
     "name": "stderr",
     "output_type": "stream",
     "text": [
      "Clipping input data to the valid range for imshow with RGB data ([0..1] for floats or [0..255] for integers).\n"
     ]
    },
    {
     "data": {
      "image/png": "[encoded data removed]",
      "text/plain": [
       "<Figure size 432x288 with 2 Axes>"
      ]
     },
     "metadata": {
      "needs_background": "light"
     },
     "output_type": "display_data"
    }
   ],
   "source": [
    "tmp_img_instance, tmp_mask_instance = next(train_generator)\n",
    "fig, axs = plt.subplots(2)\n",
    "fig.suptitle('check the image 1')\n",
    "axs[0].imshow(tmp_img_instance[0])\n",
    "axs[1].imshow(tmp_mask_instance[0].squeeze())\n",
    "plt.show()"
   ]
  },
  {
   "cell_type": "code",
   "execution_count": 94,
   "id": "18f724a8-863c-44d3-98d5-f793cfd444ae",
   "metadata": {},
   "outputs": [
    {
     "data": {
      "text/plain": [
       "(254.0, 255.0, 1.0)"
      ]
     },
     "execution_count": 94,
     "metadata": {},
     "output_type": "execute_result"
    }
   ],
   "source": [
    "tmp_img_instance[1][:,:,0].max(), tmp_img_instance[1][:,:,1].max(), tmp_img_instance[1][:,:,2].max()"
   ]
  },
  {
   "cell_type": "code",
   "execution_count": 134,
   "id": "df36e829-e2e5-4eac-85c4-313c29bb02f0",
   "metadata": {},
   "outputs": [],
   "source": [
    "train_data_folder_path = '/home/saeid/phd/segmentation/dataset/machine_learning_dataset_3channel/val'\n",
    "train_image_directory_name = 'image_png3d'\n",
    "train_label_directory_name = 'labels_png3d'\n",
    "\n",
    "# val_x_direct = glob.glob(os.path.join(train_data_folder_path, \n",
    "#                                       train_image_directory_name,\n",
    "#                                       \"img/*.png\"))\n"
   ]
  },
  {
   "cell_type": "code",
   "execution_count": 149,
   "id": "2603bc87-298d-4ae5-b8e6-a698b093328b",
   "metadata": {},
   "outputs": [],
   "source": [
    "from imageio import imread\n",
    "\n",
    "def load_png_to_np_normalized(img_path, image_name, normalized=False):\n",
    "    from imageio import imread\n",
    "    \"\"\"\n",
    "    return: A numpy array with shape (n, image_size, image_size, 3)\n",
    "    \"\"\"\n",
    "    val_x_direct = glob.glob(os.path.join(img_path, \n",
    "                                      image_name,\n",
    "                                      \"img/*.png\"))\n",
    "    if normalized:\n",
    "        image_np = np.stack([imread(img_path)/ 255.0 for img_path in val_x_direct], axis=0)\n",
    "    else:\n",
    "        image_np = np.stack([imread(img_path) for img_path in val_x_direct], axis=0)\n",
    "    if image_np.ndim < 4:\n",
    "        image_np= np.expand_dims(image_np, axis=-1)\n",
    "        \n",
    "    return image_np"
   ]
  },
  {
   "cell_type": "code",
   "execution_count": 150,
   "id": "10ea1261-938a-4c86-a2b9-8378f38307b5",
   "metadata": {},
   "outputs": [],
   "source": [
    "tmp_np = load_png_to_np_normalized(img_path=train_data_folder_path, \n",
    "                     image_name=train_image_directory_name, normalized=True)"
   ]
  },
  {
   "cell_type": "code",
   "execution_count": 151,
   "id": "9d1c6520-6bfd-45ea-ba92-d1b756fd9921",
   "metadata": {},
   "outputs": [],
   "source": [
    "tmp_lbl = load_png_to_np_normalized(img_path=train_data_folder_path, \n",
    "                     image_name=train_label_directory_name)"
   ]
  },
  {
   "cell_type": "code",
   "execution_count": 152,
   "id": "f44637c5-1e3e-4f58-b889-e1eae8d3df0b",
   "metadata": {},
   "outputs": [
    {
     "data": {
      "text/plain": [
       "((118, 512, 512, 1), (1210, 512, 512, 3))"
      ]
     },
     "execution_count": 152,
     "metadata": {},
     "output_type": "execute_result"
    }
   ],
   "source": [
    "tmp_lbl.shape, tmp_np.shape"
   ]
  },
  {
   "cell_type": "code",
   "execution_count": 129,
   "id": "ba257c4c-c389-4b19-b49f-f4cf607af204",
   "metadata": {},
   "outputs": [
    {
     "data": {
      "image/png": "[encoded data removed]",
      "text/plain": [
       "<Figure size 432x288 with 2 Axes>"
      ]
     },
     "metadata": {
      "needs_background": "light"
     },
     "output_type": "display_data"
    }
   ],
   "source": [
    "tmp_img_instance, tmp_mask_instance = next(train_generator)\n",
    "fig, axs = plt.subplots(2)\n",
    "fig.suptitle('check the image 1')\n",
    "axs[0].imshow(tmp_np[0])\n",
    "axs[1].imshow(tmp_np[1])\n",
    "plt.show()"
   ]
  },
  {
   "cell_type": "code",
   "execution_count": 111,
   "id": "033471a4-edc5-4d6a-b745-a2375e366288",
   "metadata": {},
   "outputs": [
    {
     "data": {
      "text/plain": [
       "0.8392156862745098"
      ]
     },
     "execution_count": 111,
     "metadata": {},
     "output_type": "execute_result"
    }
   ],
   "source": [
    "tmp_np[0][:,:,0].max()"
   ]
  },
  {
   "cell_type": "markdown",
   "id": "4f0572c1-0acf-402f-a5d7-1a4e68ca06a4",
   "metadata": {},
   "source": [
    "## change channels"
   ]
  },
  {
   "cell_type": "code",
   "execution_count": 95,
   "id": "bfb8753e-8952-4cf5-b89a-2d8219da2e82",
   "metadata": {},
   "outputs": [],
   "source": [
    "from PIL import Image\n",
    "def change_superpixel_edge_value(src_img_path, dst_img_path):\n",
    "    \n",
    "    val_x_direct = glob.glob(os.path.join(src_img_path,\n",
    "                                          \"img/*.png\"))\n",
    "    os.makedirs(dst_img_path, exist_ok=True)\n",
    "    \n",
    "    for idx, img_path in enumerate(val_x_direct):\n",
    "#         print(f'image {idx}')\n",
    "        img_matrix = imread(img_path)\n",
    "        img_matrix[:,:,2] = img_matrix[:,:,2]*255.0\n",
    "        \n",
    "        img_name = os.path.split(img_path)[-1]\n",
    "        save_path = os.path.join(dst_img_path, img_name)\n",
    "        \n",
    "        # save the image\n",
    "        im = Image.fromarray(img_matrix)\n",
    "        im.save(save_path)"
   ]
  },
  {
   "cell_type": "code",
   "execution_count": 96,
   "id": "b99ce351-70fc-4995-8c9e-6546b54ae016",
   "metadata": {},
   "outputs": [],
   "source": [
    "src_data_folder_path = '/home/saeid/phd/segmentation/dataset/machine_learning_dataset_3channel/train/image_png3d'\n",
    "dst_data_folder_path = '/home/saeid/phd/segmentation/dataset/machine_learning_dataset_3channel/train/image_png3d_new/img'\n",
    "\n",
    "change_superpixel_edge_value(src_img_path=src_data_folder_path,\n",
    "                             dst_img_path=dst_data_folder_path)"
   ]
  },
  {
   "cell_type": "code",
   "execution_count": 73,
   "id": "9d3c7c2a-da92-47c6-b312-9abccbd3a0cf",
   "metadata": {},
   "outputs": [
    {
     "name": "stdout",
     "output_type": "stream",
     "text": [
      "/home/saeid/phd/segmentation/dataset/machine_learning_dataset_3channel/val1/33-2-454-210-30_n_1536_e_4608.png\n"
     ]
    }
   ],
   "source": [
    "change_superpixel_edge_value(src_img_path=os.path.join(train_data_folder_path, train_image_directory_name),\n",
    "                             dst_img_path='/home/saeid/phd/segmentation/dataset/machine_learning_dataset_3channel/val')"
   ]
  },
  {
   "cell_type": "code",
   "execution_count": 59,
   "id": "c42d6aed-d1f4-42b1-8d83-570854a30e48",
   "metadata": {},
   "outputs": [],
   "source": [
    "img_list_tmp = load_png_np(\n",
    "    img_path=train_data_folder_path, \n",
    "    image_name=train_image_directory_name)"
   ]
  },
  {
   "cell_type": "code",
   "execution_count": 69,
   "id": "bad7eebe-7436-4ac8-b2fb-963ee2b45d55",
   "metadata": {},
   "outputs": [
    {
     "data": {
      "text/plain": [
       "(1210,\n",
       " Array([[0., 0., 0., ..., 0., 0., 0.],\n",
       "        [0., 0., 0., ..., 0., 0., 0.],\n",
       "        [0., 0., 0., ..., 0., 0., 0.],\n",
       "        ...,\n",
       "        [0., 0., 0., ..., 0., 0., 0.],\n",
       "        [0., 0., 0., ..., 0., 0., 0.],\n",
       "        [0., 0., 0., ..., 0., 0., 0.]]))"
      ]
     },
     "execution_count": 69,
     "metadata": {},
     "output_type": "execute_result"
    }
   ],
   "source": [
    "len(img_list_tmp), img_list_tmp[2][:,:,2]*255.0"
   ]
  },
  {
   "cell_type": "code",
   "execution_count": null,
   "id": "63f83c02-69fa-4640-a862-9afa27d33644",
   "metadata": {},
   "outputs": [],
   "source": []
  }
 ],
 "metadata": {
  "kernelspec": {
   "display_name": "Python 3 (ipykernel)",
   "language": "python",
   "name": "python3"
  },
  "language_info": {
   "codemirror_mode": {
    "name": "ipython",
    "version": 3
   },
   "file_extension": ".py",
   "mimetype": "text/x-python",
   "name": "python",
   "nbconvert_exporter": "python",
   "pygments_lexer": "ipython3",
   "version": "3.7.7"
  }
 },
 "nbformat": 4,
 "nbformat_minor": 5
}
