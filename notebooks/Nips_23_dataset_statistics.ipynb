{
 "cells": [
  {
   "cell_type": "markdown",
   "id": "00fffba7-a28c-4099-87fc-7a2270e4e071",
   "metadata": {},
   "source": [
    "# This notebook provides the statistics of the datsets"
   ]
  },
  {
   "cell_type": "code",
   "execution_count": 1,
   "id": "3ce7b201-9e58-4e9e-8e97-20b80723c749",
   "metadata": {},
   "outputs": [],
   "source": [
    "%load_ext autoreload"
   ]
  },
  {
   "cell_type": "code",
   "execution_count": 2,
   "id": "04c2797b-571f-4543-9b3c-75b5feff65a3",
   "metadata": {},
   "outputs": [
    {
     "name": "stderr",
     "output_type": "stream",
     "text": [
      "2023-05-28 18:36:57.249673: I tensorflow/stream_executor/platform/default/dso_loader.cc:49] Successfully opened dynamic library libcudart.so.10.1\n"
     ]
    }
   ],
   "source": [
    "%autoreload\n",
    "import numpy as np\n",
    "import pandas as pd\n",
    "import sys\n",
    "import os\n",
    "import glob\n",
    "import imageio\n",
    "import time\n",
    "from scipy import ndimage, signal\n",
    "from cv2 import medianBlur\n",
    "\n",
    "sys.path.append(\"..\")\n",
    "\n",
    "from PIL import Image\n",
    "Image.MAX_IMAGE_PIXELS = 192000000000\n",
    "from costum_arild.source.utils import image_processing_utils, gdal_utils\n",
    "from costum_arild.source.data_processing import TrainingImage"
   ]
  },
  {
   "cell_type": "code",
   "execution_count": 19,
   "id": "273afc92-7f66-44a7-9b7c-f2aa83a39c14",
   "metadata": {},
   "outputs": [],
   "source": [
    "# get number of all pixels\n",
    "def get_num_pixels(count_list_tmp):\n",
    "    pixel_count = 0\n",
    "    for img_count in count_list_tmp:\n",
    "        pixel_count += img_count.sum()\n",
    "    return pixel_count"
   ]
  },
  {
   "cell_type": "code",
   "execution_count": 20,
   "id": "c473456d-156d-42eb-89ed-20f5b4740e3b",
   "metadata": {},
   "outputs": [],
   "source": [
    "def class_count_list_dataframe(class_count_list, unknown_zero):\n",
    "    class_df = pd.DataFrame(class_count_list, dtype='float32')\n",
    "\n",
    "    class_df.loc['class_sum'] = class_df.sum(axis=0)\n",
    "\n",
    "    if unknown_zero == True:\n",
    "        class_df = class_df.rename(columns={5: \"W\", 1: \"G\", 2: \"V\", 3: \"F\", 4: \"A\", 0: \"U\"})\n",
    "    else:\n",
    "        class_df = class_df.rename(columns={0: \"W\", 1: \"G\", 2: \"V\", 3: \"F\", 4: \"A\", 5: \"U\"})\n",
    "\n",
    "    class_df.loc['class_sum_percent'] = ((class_df.loc['class_sum'] / class_df.loc['class_sum'].sum()) * 100)\n",
    "    pd.set_option('display.float_format', lambda x: '%.2f' % x)\n",
    "    return class_df"
   ]
  },
  {
   "cell_type": "code",
   "execution_count": 4,
   "id": "eb740c64-d9a5-421a-8eab-3b3037fca2b4",
   "metadata": {},
   "outputs": [],
   "source": [
    "dest_save = '/media/saeid/LaCie/Saeid/segmentation/dataset/neurips dataset/After_revision/ml_final_version/dataset_statistics'"
   ]
  },
  {
   "cell_type": "markdown",
   "id": "161895f7-0aa9-4586-af2c-fb82bb0ca58a",
   "metadata": {
    "tags": []
   },
   "source": [
    "# Statistics of dataset"
   ]
  },
  {
   "cell_type": "markdown",
   "id": "2b4e02ef-9cdd-44e4-9414-6a90f1af4d07",
   "metadata": {},
   "source": [
    "### all images"
   ]
  },
  {
   "cell_type": "code",
   "execution_count": 36,
   "id": "95089e5c-c587-4227-9222-fead0b415e35",
   "metadata": {},
   "outputs": [],
   "source": [
    "new_dataset = None"
   ]
  },
  {
   "cell_type": "code",
   "execution_count": 6,
   "id": "411a387b-f9ce-490e-b2d8-b805c30e9696",
   "metadata": {},
   "outputs": [
    {
     "name": "stdout",
     "output_type": "stream",
     "text": [
      "working on label 33-2-462-208-23_g47.png\n",
      "working on label 33-2-462-209-13_g47.png\n",
      "working on label 33-2-462-210-32_g47.png\n",
      "working on label 33-2-462-210-33_g47.png\n",
      "working on label 33-2-462-212-31_g47.png\n",
      "working on label 33-2-462-212-32_g47.png\n",
      "working on label 33-2-462-212-33_g47.png\n",
      "working on label 33-2-462-213-20_g47.png\n",
      "working on label 33-2-462-213-30_g47.png\n",
      "working on label 33-2-462-215-20_g47.png\n",
      "working on label 33-2-462-215-30_g47.png\n",
      "working on label 33-2-463-211-00_g47.png\n",
      "working on label 33-2-463-211-01_g47.png\n",
      "working on label 33-2-463-211-02_g47.png\n",
      "working on label 33-2-463-212-00_g47.png\n",
      "working on label 33-2-463-212-01_g47.png\n",
      "working on label 33-2-463-213-01_g47.png\n",
      "working on label 33-2-463-213-02_g47.png\n",
      "working on label 33-2-463-214-00_g47.png\n",
      "working on label 33-2-463-214-01_g47.png\n",
      "working on label 33-2-463-214-02_g47.png\n",
      "working on label 33-2-462-209-20_g47.png\n",
      "working on label 33-2-462-211-30_g47.png\n",
      "working on label 33-2-462-212-23_g47.png\n",
      "working on label 33-2-462-207-22.png\n",
      "working on label 33-2-462-209-10.png\n",
      "working on label 33-2-462-210-11.png\n",
      "working on label 33-2-462-210-23.png\n",
      "working on label 33-2-462-211-20.png\n",
      "working on label 33-2-463-207-10.png\n",
      "working on label 33-2-463-207-20.png\n",
      "working on label 33-2-463-208-01.png\n",
      "working on label 33-2-463-210-02.png\n",
      "working on label 33-2-463-211-13.png\n",
      "working on label 33-2-463-212-02.png\n",
      "working on label 33-2-463-212-10.png\n",
      "working on label 33-2-464-206-02.png\n",
      "working on label 33-2-464-206-11.png\n",
      "working on label 33-2-464-206-21.png\n",
      "working on label 33-2-465-205-21.png\n",
      "working on label 33-2-465-205-33.png\n",
      "working on label 33-2-466-205-03.png\n",
      "working on label 33-2-466-205-23.png\n",
      "working on label 33-2-463-211-02.png\n",
      "working on label 33-2-464-206-22.png\n",
      "working on label 33-2-463-211-03.png\n",
      "working on label 33-2-462-211-33.png\n",
      "working on label 33-2-463-211-00.png\n",
      "working on label 33-2-463-212-00.png\n",
      "working on label 33-2-463-212-01.png\n",
      "working on label 33-2-462-207-32.png\n",
      "working on label 33-2-462-212-30.png\n",
      "working on label 33-2-463-207-02.png\n",
      "working on label 33-2-462-209-20.png\n",
      "working on label 33-2-463-207-21.png\n",
      "working on label 33-2-463-207-03.png\n",
      "working on label 33-2-462-208-20.png\n",
      "working on label 33-2-463-207-11.png\n",
      "working on label 33-2-462-208-23.png\n",
      "working on label 33-2-464-207-01.png\n",
      "working on label 33-2-463-207-32.png\n",
      "working on label 33-2-462-209-21.png\n",
      "working on label 33-2-462-210-32.png\n",
      "working on label 33-2-462-212-33.png\n",
      "working on label 33-2-462-209-22.png\n",
      "working on label 33-2-463-211-01.png\n",
      "working on label 33-2-462-209-11.png\n",
      "working on label 33-2-462-210-33.png\n",
      "working on label 33-2-466-205-02.png\n",
      "working on label 33-2-464-206-23.png\n",
      "working on label 33-2-462-211-30.png\n",
      "working on label 33-2-464-206-31.png\n",
      "working on label 33-2-464-207-00.png\n",
      "working on label 33-2-464-206-30.png\n",
      "working on label 33-2-462-208-32.png\n",
      "working on label 33-2-465-205-03.png\n",
      "working on label 33-2-462-210-22.png\n",
      "working on label 33-2-462-209-30.png\n",
      "working on label 33-2-465-205-12.png\n",
      "working on label 33-2-462-208-30.png\n",
      "working on label 33-2-463-208-00.png\n",
      "working on label 33-2-464-206-32.png\n",
      "working on label 33-2-462-209-13.png\n",
      "working on label 33-2-463-207-31.png\n",
      "working on label 33-2-462-210-21.png\n",
      "working on label 33-2-462-212-31.png\n",
      "working on label 33-2-465-206-00.png\n",
      "working on label 33-2-462-210-10.png\n",
      "working on label 33-2-462-208-31.png\n",
      "working on label 33-2-465-205-22.png\n",
      "working on label 33-2-462-212-32.png\n",
      "working on label 33-2-464-206-03.png\n",
      "working on label 33-2-462-207-23.png\n",
      "working on label 33-2-462-209-12.png\n",
      "working on label 33-2-462-209-23.png\n",
      "working on label 33-2-462-210-20.png\n",
      "working on label 33-2-463-207-22.png\n",
      "working on label 33-2-464-206-13.png\n",
      "working on label 33-2-465-205-13.png\n",
      "working on label 33-2-462-213-32_g98.png\n",
      "working on label 33-2-463-213-01_g98.png\n",
      "working on label 33-2-462-212-32_g98.png\n",
      "working on label 33-2-463-214-01_g98.png\n",
      "working on label 33-2-462-209-12_g98.png\n",
      "working on label 33-2-462-214-33_g98.png\n",
      "working on label 33-2-436-165-23.png\n",
      "working on label 33-2-439-165-31.png\n",
      "working on label 33-2-439-165-20.png\n",
      "working on label 33-2-439-164-23.png\n",
      "working on label 33-2-437-164-22.png\n",
      "working on label 33-2-437-164-33.png\n",
      "working on label 33-2-436-166-21.png\n",
      "working on label 33-2-439-164-21.png\n",
      "working on label 33-2-436-166-30.png\n",
      "working on label 33-2-437-164-23.png\n",
      "working on label 33-2-439-164-11.png\n",
      "working on label 33-2-436-165-33.png\n",
      "working on label 33-2-436-166-20.png\n",
      "working on label 33-2-437-164-32.png\n",
      "working on label 33-2-437-165-00.png\n",
      "working on label 33-2-439-164-13.png\n",
      "working on label 33-2-437-164-03.png\n",
      "working on label 33-2-439-164-12.png\n",
      "working on label 33-2-437-164-13.png\n",
      "working on label 33-2-437-166-00.png\n",
      "working on label 33-2-438-164-03.png\n",
      "working on label 33-2-438-164-12.png\n",
      "working on label 33-2-438-164-13.png\n",
      "working on label 33-2-438-164-22.png\n",
      "working on label 33-2-436-164-33.png\n",
      "working on label 33-2-436-165-30.png\n",
      "working on label 33-2-437-165-03.png\n",
      "working on label 33-2-438-164-02.png\n",
      "working on label 33-2-438-164-23.png\n",
      "working on label 33-2-438-164-31.png\n",
      "working on label 33-2-438-164-33.png\n",
      "working on label 33-2-439-164-00.png\n",
      "working on label 33-2-439-164-02.png\n",
      "working on label 33-2-439-164-22.png\n",
      "working on label 33-2-439-165-10.png\n",
      "working on label 33-2-439-165-21.png\n",
      "working on label 33-2-440-164-03.png\n",
      "working on label 33-2-440-164-13.png\n",
      "working on label 33-2-440-164-33.png\n",
      "working on label 33-2-440-165-10.png\n",
      "working on label 33-2-440-165-30.png\n",
      "working on label 33-2-441-165-00.png\n",
      "working on label 33-2-441-165-01.png\n",
      "working on label 33-2-441-165-11.png\n",
      "working on label 33-2-439-165-30.png\n",
      "working on label 33-2-439-164-10.png\n",
      "working on label 33-2-437-165-02.png\n",
      "working on label 33-2-436-165-32.png\n",
      "working on label 33-2-436-165-31.png\n",
      "working on label 33-2-468-211-23.png\n",
      "working on label 33-2-469-211-00.png\n",
      "working on label 33-2-468-211-31.png\n",
      "working on label 33-2-470-210-03.png\n",
      "working on label 33-2-470-210-02.png\n",
      "working on label 33-2-468-211-32.png\n",
      "working on label 33-2-468-211-33.png\n",
      "working on label 33-2-468-211-22.png\n",
      "working on label 33-2-470-208-23.png\n",
      "working on label 33-2-470-210-01.png\n",
      "working on label 33-2-469-211-20.png\n",
      "working on label 33-2-458-211-11.png\n",
      "working on label 33-2-458-212-31.png\n",
      "working on label 33-2-459-212-02.png\n",
      "working on label 33-2-451-208-21.png\n",
      "working on label 33-2-449-207-33.png\n",
      "working on label 33-2-450-207-13.png\n",
      "working on label 33-2-450-208-10.png\n",
      "working on label 33-2-449-207-23.png\n",
      "working on label 33-2-451-208-00.png\n",
      "working on label 33-2-450-207-33.png\n",
      "working on label 33-2-450-207-03.png\n",
      "working on label 33-2-450-207-23.png\n",
      "working on label 33-2-450-208-20.png\n",
      "the time takes 140.5098466873169\n"
     ]
    },
    {
     "data": {
      "text/plain": [
       "[array([19232088.,  1793591., 15171455.,  9420568.,   706207.,  1676091.]),\n",
       " array([12874590.,  1940675., 13610700., 18085020.,   604257.,   884758.]),\n",
       " array([       0.,  1748544., 12911836., 29653640.,  2017066.,  1668914.]),\n",
       " array([  786408.,  5457934., 20758878., 16960116.,  1167348.,  2869316.]),\n",
       " array([ 4287753.,  2205864., 11171421., 27460835.,  1120599.,  1753528.]),\n",
       " array([6.3360000e+03, 4.0054190e+06, 1.0846545e+07, 2.8077644e+07,\n",
       "        2.1006760e+06, 2.9633800e+06]),\n",
       " array([ 1862217.,  2455399.,  7010663., 32773178.,  1559935.,  2338608.]),\n",
       " array([       0.,   951943., 31745211., 13675668.,   589729.,  1037449.]),\n",
       " array([ 4962192.,  4525892., 15189376., 19779953.,   659913.,  2882674.]),\n",
       " array([ 9275781.,  6266312.,  2670218., 11890127.,   513818., 17383744.]),\n",
       " array([  177678.,  6341281., 15368740., 17418693.,  1107762.,  7585846.]),\n",
       " array([ 3235397.,   986334.,  9647675., 30886359.,  2051401.,  1192834.]),\n",
       " array([ 3644194.,  4796164.,  8480877., 27478084.,  1708834.,  1891847.]),\n",
       " array([ 2462747.,  3668199.,  5623993., 31257121.,  2881006.,  2106934.]),\n",
       " array([  347893.,  4774865., 17148539., 22318001.,  1522940.,  1887762.]),\n",
       " array([2.4400000e+02, 6.3322500e+05, 2.6318148e+07, 1.7892046e+07,\n",
       "        1.5917160e+06, 1.5646210e+06]),\n",
       " array([       0.,  2476071., 25516101., 15780820.,  1839398.,  2387610.]),\n",
       " array([       0.,  1575447., 13588410., 29561061.,  2259291.,  1015791.]),\n",
       " array([       0.,  1557810.,  9413555., 33232073.,  1948641.,  1847921.]),\n",
       " array([       0.,  2007250., 11298113., 30844932.,  1251279.,  2598426.]),\n",
       " array([       0.,  3647781.,  8351571., 31726895.,  1463462.,  2810291.]),\n",
       " array([17094483.,  2403913., 16969070.,  8984516.,   773992.,  1774026.]),\n",
       " array([ 8779464.,   709678., 26345362., 10488452.,   425374.,  1251670.]),\n",
       " array([       0.,  3374481., 27968925., 13881767.,   237868.,  2536959.]),\n",
       " array([42420561.,        0.,  3550700.,  1824971.,   203768.,        0.]),\n",
       " array([1.1910000e+03, 1.6996000e+05, 3.7423906e+07, 7.6514210e+06,\n",
       "        1.3385950e+06, 1.4149270e+06]),\n",
       " array([2.1514087e+07, 0.0000000e+00, 1.6970919e+07, 8.8890360e+06,\n",
       "        6.2579200e+05, 1.6600000e+02]),\n",
       " array([21318840.,        0., 25726502.,   762099.,    61191.,   131368.]),\n",
       " array([3.0623004e+07, 6.4593000e+04, 1.6607491e+07, 4.4600000e+02,\n",
       "        0.0000000e+00, 7.0446600e+05]),\n",
       " array([2.3007272e+07, 0.0000000e+00, 2.4991004e+07, 1.4120000e+03,\n",
       "        2.9600000e+02, 1.6000000e+01]),\n",
       " array([2.4455503e+07, 0.0000000e+00, 2.3421269e+07, 9.3000000e+02,\n",
       "        2.1000000e+02, 1.2208800e+05]),\n",
       " array([4.3679534e+07, 0.0000000e+00, 4.1248430e+06, 4.8000000e+01,\n",
       "        1.5000000e+01, 1.9556000e+05]),\n",
       " array([26772853.,    96556., 14143439.,  5704505.,   833755.,   448892.]),\n",
       " array([37583036.,        0.,  3459946.,  6694786.,   262232.,        0.]),\n",
       " array([3.7535977e+07, 1.0000000e+01, 6.4519300e+06, 3.7788310e+06,\n",
       "        2.3288100e+05, 3.7100000e+02]),\n",
       " array([39959997.,        0.,  3527790.,  4250253.,   261960.,        0.]),\n",
       " array([2.4061823e+07, 0.0000000e+00, 2.3937036e+07, 3.0700000e+02,\n",
       "        8.3400000e+02, 0.0000000e+00]),\n",
       " array([39918970.,        0.,  6294094.,  1743822.,    43114.,        0.]),\n",
       " array([ 6712528.,        0., 37832341.,  3051455.,   403676.,        0.]),\n",
       " array([ 5514570.,   562556., 25727029., 13378045.,  1432482.,  1385318.]),\n",
       " array([21179916.,   753386., 18078487.,  5994809.,  1021557.,   971845.]),\n",
       " array([18859053.,   862414., 11347100., 11475237.,  3194877.,  2261319.]),\n",
       " array([15628778.,    83314., 28215773.,  1500002.,   637655.,  1934478.]),\n",
       " array([1.1700000e+02, 1.2971610e+06, 6.8970110e+06, 3.3147134e+07,\n",
       "        3.6115690e+06, 3.0470080e+06]),\n",
       " array([1.7000000e+02, 1.9053700e+05, 4.4454007e+07, 1.9568910e+06,\n",
       "        4.5248300e+05, 9.4591200e+05]),\n",
       " array([8.7300000e+02, 1.5691100e+06, 1.2625266e+07, 2.9381603e+07,\n",
       "        2.0287930e+06, 2.3943550e+06]),\n",
       " array([6.0100000e+02, 5.2835500e+05, 1.5618202e+07, 2.9669059e+07,\n",
       "        1.2167940e+06, 9.6698900e+05]),\n",
       " array([1.3080000e+03, 1.0808180e+06, 1.1566597e+07, 3.1690849e+07,\n",
       "        2.2629200e+06, 1.3975080e+06]),\n",
       " array([  190273.,  1527541., 19312914., 22575241.,  1127060.,  3266971.]),\n",
       " array([ 8082119.,   465434., 19823282., 16619999.,  1451772.,  1557394.]),\n",
       " array([2.6700000e+02, 1.6923230e+06, 4.1815567e+07, 2.3222310e+06,\n",
       "        7.3441700e+05, 1.4351950e+06]),\n",
       " array([ 2751209.,  1669553., 12885890., 28404675.,  1485796.,   802877.]),\n",
       " array([3.2940000e+03, 2.2613180e+06, 3.3086215e+07, 7.7058220e+06,\n",
       "        1.7557790e+06, 3.1875720e+06]),\n",
       " array([9.6800000e+03, 1.1427970e+06, 3.4494419e+07, 8.7988020e+06,\n",
       "        1.1045350e+06, 2.4497670e+06]),\n",
       " array([2.6000000e+01, 2.1478560e+06, 3.9167427e+07, 3.6962760e+06,\n",
       "        6.6308400e+05, 2.3253310e+06]),\n",
       " array([8.5181100e+05, 0.0000000e+00, 4.2388502e+07, 3.8495880e+06,\n",
       "        8.8657900e+05, 2.3520000e+04]),\n",
       " array([2.6300000e+02, 1.1832000e+04, 4.3033275e+07, 2.9699630e+06,\n",
       "        1.9846670e+06, 0.0000000e+00]),\n",
       " array([7.2000000e+01, 1.7628690e+06, 3.4486994e+07, 7.8831120e+06,\n",
       "        9.4417400e+05, 2.9227790e+06]),\n",
       " array([3.0500000e+03, 1.2069010e+06, 2.8499511e+07, 1.2509532e+07,\n",
       "        1.6303480e+06, 4.1506580e+06]),\n",
       " array([ 1776595.,   404858., 43577040.,  1278642.,   462356.,   500509.]),\n",
       " array([13342254.,   173720., 30661784.,  2937859.,   571814.,   312569.]),\n",
       " array([ 4077402.,   378858., 31800141.,  9556036.,  1255301.,   932262.]),\n",
       " array([6.0470000e+03, 6.3381200e+05, 1.4112836e+07, 2.5723291e+07,\n",
       "        5.5746080e+06, 1.9494060e+06]),\n",
       " array([32297818.,   340171.,  1392276., 11845094.,   695419.,  1429222.]),\n",
       " array([3.8062130e+06, 3.6140000e+03, 3.6925328e+07, 6.5885210e+06,\n",
       "        3.9824800e+05, 2.7807600e+05]),\n",
       " array([1.0000000e+01, 2.9412550e+06, 1.1001911e+07, 2.9866371e+07,\n",
       "        1.8170210e+06, 2.3734320e+06]),\n",
       " array([5.7500000e+03, 1.0655360e+06, 3.0443896e+07, 1.3204499e+07,\n",
       "        2.0479170e+06, 1.2324020e+06]),\n",
       " array([2.0500000e+03, 2.6811940e+06, 2.4203072e+07, 1.6300783e+07,\n",
       "        1.7398700e+06, 3.0730310e+06]),\n",
       " array([0.0000000e+00, 1.3394000e+04, 3.8802002e+07, 7.3156680e+06,\n",
       "        9.4349500e+05, 9.2544100e+05]),\n",
       " array([3.7400000e+02, 1.3252490e+06, 3.2595150e+07, 1.0489616e+07,\n",
       "        7.1619000e+05, 2.8734210e+06]),\n",
       " array([1.5860000e+03, 3.0865400e+05, 3.5315331e+07, 9.6850730e+06,\n",
       "        1.1239970e+06, 1.5653590e+06]),\n",
       " array([4.9000000e+01, 1.1032190e+06, 3.5332976e+07, 7.5248320e+06,\n",
       "        1.6408870e+06, 2.3980370e+06]),\n",
       " array([2.034000e+03, 2.321972e+06, 3.740210e+07, 4.679751e+06,\n",
       "        2.072429e+06, 1.521714e+06]),\n",
       " array([3.7500000e+02, 7.6143300e+05, 3.9977459e+07, 5.9804080e+06,\n",
       "        5.5680600e+05, 7.2351900e+05]),\n",
       " array([ 2163329.,   495967., 38426149.,  3091220.,  1261637.,  2561698.]),\n",
       " array([       0.,  1604919., 32121166.,  9822514.,  1409919.,  3041482.]),\n",
       " array([7.5700000e+02, 6.8649500e+05, 3.5021756e+07, 1.0358663e+07,\n",
       "        6.4348500e+05, 1.2888440e+06]),\n",
       " array([34217325.,        0., 13782675.,        0.,        0.,        0.]),\n",
       " array([4.1000000e+01, 3.4001600e+05, 3.4379985e+07, 8.5551920e+06,\n",
       "        2.0030950e+06, 2.7216710e+06]),\n",
       " array([2.2000000e+02, 3.1919530e+06, 2.9511003e+07, 8.2763400e+06,\n",
       "        4.8450430e+06, 2.1754410e+06]),\n",
       " array([13890695.,        0., 33088231.,        0.,   260858.,   760216.]),\n",
       " array([2.1700000e+02, 7.7744000e+05, 3.2706321e+07, 1.1501869e+07,\n",
       "        1.2649270e+06, 1.7492260e+06]),\n",
       " array([9.8900000e+02, 8.8300900e+05, 1.9274368e+07, 2.3101285e+07,\n",
       "        2.9590400e+06, 1.7813090e+06]),\n",
       " array([5.4300000e+02, 2.7699660e+06, 3.2588126e+07, 8.5431010e+06,\n",
       "        1.2465720e+06, 2.8516920e+06]),\n",
       " array([7.2500000e+02, 1.4870210e+06, 1.0172737e+07, 2.9197720e+07,\n",
       "        3.4262260e+06, 3.7155710e+06]),\n",
       " array([ 7697319.,   942189., 11789048., 23055731.,  2115299.,  2400414.]),\n",
       " array([       0.,   687952., 39895885.,  4491137.,   815169.,  2109857.]),\n",
       " array([1.2000000e+01, 5.5999000e+04, 2.3252218e+07, 2.3156097e+07,\n",
       "        1.4886070e+06, 4.7067000e+04]),\n",
       " array([2.7310000e+03, 2.7070190e+06, 2.9123296e+07, 6.6365880e+06,\n",
       "        5.3750560e+06, 4.1553100e+06]),\n",
       " array([       0.,   968255., 35159639.,  7336980.,  1651039.,  2884087.]),\n",
       " array([11549243.,   927948.,  7035666., 24005089.,  1866146.,  2615908.]),\n",
       " array([3.5600000e+02, 1.0690450e+06, 3.8684691e+07, 5.8706780e+06,\n",
       "        8.9785500e+05, 1.4773750e+06]),\n",
       " array([5.2000000e+01, 4.7885400e+05, 3.0619905e+07, 1.2418354e+07,\n",
       "        2.8256010e+06, 1.6572340e+06]),\n",
       " array([2.2480000e+03, 1.6399830e+06, 1.3672887e+07, 2.5088608e+07,\n",
       "        5.9719550e+06, 1.6243190e+06]),\n",
       " array([       0.,   177746., 40037726.,  5734214.,   855587.,  1194727.]),\n",
       " array([2.8400000e+02, 3.5630700e+05, 2.1682208e+07, 2.0920670e+07,\n",
       "        2.0941380e+06, 2.9463930e+06]),\n",
       " array([9.8124070e+06, 1.1219000e+05, 3.3943052e+07, 3.4693070e+06,\n",
       "        6.5932400e+05, 3.7200000e+03]),\n",
       " array([5.7600000e+02, 1.7362360e+06, 3.2408404e+07, 9.2310950e+06,\n",
       "        1.2424510e+06, 3.3812380e+06]),\n",
       " array([       0.,   727449., 38539123.,  5924466.,  1155802.,  1653160.]),\n",
       " array([26883988.,   112628.,  6028806.,  8636162.,  2346367.,  3992049.]),\n",
       " array([1.3129270e+06, 1.0716000e+04, 2.3366195e+07, 1.5296358e+07,\n",
       "        4.6997240e+06, 3.3140800e+06]),\n",
       " array([       0.,  1091151.,  9943572., 26463311.,  5291396.,  5210570.]),\n",
       " array([       0.,  2007349., 11298209., 30844720.,  1251274.,  2598448.]),\n",
       " array([17700213.,        0.,  7222804., 16478696.,  4327096.,  2271191.]),\n",
       " array([       0.,   870953.,  3442397., 33509598.,  1158055.,  9018997.]),\n",
       " array([3.5254839e+07, 0.0000000e+00, 1.2682584e+07, 0.0000000e+00,\n",
       "        6.2570000e+04, 7.0000000e+00]),\n",
       " array([40924838.,        0.,  6600655.,   421871.,    52636.,        0.]),\n",
       " array([19048200.,    37063., 22796026.,  3297132.,   765746.,  2055833.]),\n",
       " array([ 8166313.,        0., 32544963.,  3507606.,   721955.,  3059163.]),\n",
       " array([19919021.,   452753.,  8070621., 14649417.,  2829911.,  2078277.]),\n",
       " array([3.3433040e+07, 8.5810000e+03, 1.3861553e+07, 4.2405400e+05,\n",
       "        2.0685900e+05, 6.5913000e+04]),\n",
       " array([4.468707e+07, 4.887000e+03, 3.156707e+06, 0.000000e+00,\n",
       "        0.000000e+00, 1.513360e+05]),\n",
       " array([3.7205245e+07, 0.0000000e+00, 1.0612678e+07, 0.0000000e+00,\n",
       "        1.7097400e+05, 1.1103000e+04]),\n",
       " array([  536287.,   749419., 24328694.,  8775869., 10508125.,  3101606.]),\n",
       " array([27240885.,   148542., 14966026.,  4668072.,   630988.,   345487.]),\n",
       " array([2.1800000e+03, 0.0000000e+00, 4.2174526e+07, 3.2239340e+06,\n",
       "        1.3404720e+06, 1.2588880e+06]),\n",
       " array([3.7462488e+07, 1.2255000e+04, 8.5925150e+06, 1.2469280e+06,\n",
       "        6.7952200e+05, 6.2920000e+03]),\n",
       " array([25903903.,  3668192.,  9115294.,   445875.,  3507907.,  5358829.]),\n",
       " array([ 3442516.,   505853., 23600656., 14751030.,  2248838.,  3451107.]),\n",
       " array([15142762.,   550583., 22471377.,  8131552.,   445244.,  1258482.]),\n",
       " array([4.1413359e+07, 0.0000000e+00, 6.1725130e+06, 3.0622800e+05,\n",
       "        7.3801000e+04, 3.4099000e+04]),\n",
       " array([15538255.,   610806., 13081866., 14803339.,  1442825.,  2522909.]),\n",
       " array([20334841.,    47664., 21717838.,  3548984.,  1024063.,  1326610.]),\n",
       " array([       0.,   460991., 28546897., 14587744.,  1844407.,  2559961.]),\n",
       " array([ 9852631.,   301252., 25084971.,  8941009.,  2092708.,  1727429.]),\n",
       " array([ 1153237.,   130780., 43327278.,   888825.,   499767.,  2000113.]),\n",
       " array([5.7444950e+06, 1.3621200e+05, 4.1026701e+07, 1.0340000e+03,\n",
       "        2.2628500e+05, 8.6527300e+05]),\n",
       " array([ 8575505.,   212312., 35385915.,  2567063.,   369644.,   889561.]),\n",
       " array([11701907.,   166905., 32042352.,  1690237.,   495901.,  1902698.]),\n",
       " array([2.84589e+06, 0.00000e+00, 6.50592e+05, 2.69000e+02, 2.44900e+03,\n",
       "        0.00000e+00]),\n",
       " array([18361211.,   371188., 19392625.,  7313145.,  1394852.,  1166979.]),\n",
       " array([  108221.,   259243., 29332246., 14080291.,  2015571.,  2204428.]),\n",
       " array([1.8726269e+07, 0.0000000e+00, 2.9245180e+07, 7.0000000e+00,\n",
       "        0.0000000e+00, 2.8544000e+04]),\n",
       " array([4.7443290e+06, 4.7057000e+04, 4.2640636e+07, 4.9800000e+02,\n",
       "        6.5679000e+04, 5.0180100e+05]),\n",
       " array([29432571.,        0., 18567429.,        0.,        0.,        0.]),\n",
       " array([3.5575481e+07, 2.1917000e+04, 1.1755753e+07, 6.2700000e+02,\n",
       "        8.5890000e+03, 6.3763300e+05]),\n",
       " array([3.0246516e+07, 0.0000000e+00, 1.7750845e+07, 0.0000000e+00,\n",
       "        0.0000000e+00, 2.6390000e+03]),\n",
       " array([1.7345029e+07, 5.2650000e+03, 2.9395939e+07, 7.2492300e+05,\n",
       "        1.2865000e+05, 4.0019400e+05]),\n",
       " array([27665345.,        0., 19248415.,   340011.,   705362.,    40867.]),\n",
       " array([3.7447366e+07, 3.9300000e+02, 8.6445780e+06, 3.6160000e+03,\n",
       "        2.1440000e+03, 1.9019030e+06]),\n",
       " array([4.0905795e+07, 0.0000000e+00, 6.9931820e+06, 1.0000000e+00,\n",
       "        0.0000000e+00, 1.0102200e+05]),\n",
       " array([3.9782616e+07, 0.0000000e+00, 7.7049150e+06, 3.7566500e+05,\n",
       "        1.2023600e+05, 1.6568000e+04]),\n",
       " array([ 1214727.,    87147., 36900911.,  7071209.,   978110.,  1747896.]),\n",
       " array([1.3973403e+07, 1.1700400e+05, 3.3015382e+07, 2.1250000e+03,\n",
       "        3.1712700e+05, 5.7495900e+05]),\n",
       " array([8.6557730e+06, 2.8555000e+04, 3.8297302e+07, 1.4377000e+04,\n",
       "        4.3831000e+04, 9.6016200e+05]),\n",
       " array([0.0000000e+00, 0.0000000e+00, 4.5395055e+07, 1.0000000e+00,\n",
       "        2.1986100e+05, 2.3850830e+06]),\n",
       " array([8.8907600e+05, 1.1999500e+05, 2.9130312e+07, 9.2000000e+02,\n",
       "        3.8930200e+05, 1.7470395e+07]),\n",
       " array([1.3822000e+04, 7.9000000e+01, 4.6165471e+07, 1.1400500e+05,\n",
       "        5.8677200e+05, 1.1198510e+06]),\n",
       " array([2.2213033e+07, 2.0940000e+03, 2.5020602e+07, 6.9081800e+05,\n",
       "        6.6170000e+04, 7.2830000e+03]),\n",
       " array([18608200.,    28827., 18471270.,  7702998.,   998051.,  2190654.]),\n",
       " array([14136160.,   127446., 28616913.,  3263498.,   571695.,  1284288.]),\n",
       " array([21815043.,   424862., 15219863.,  8052592.,   498326.,  1989314.]),\n",
       " array([29682259.,   144210.,  5493980., 10783557.,  1008829.,   887165.]),\n",
       " array([21451001.,   711509., 11837085., 10702114.,  1060224.,  2238067.]),\n",
       " array([4.5750000e+03, 7.7342300e+05, 3.1960850e+06, 3.3772070e+06,\n",
       "        4.0022800e+05, 2.2968482e+07]),\n",
       " array([  556508.,   608472., 10064430., 14613983.,   739785.,  4136822.]),\n",
       " array([   51164.,   446822.,  8452333., 15824589.,  1092205.,  4852887.]),\n",
       " array([ 5702833.,    93969., 19083837.,  4186362.,   540737.,  1112262.]),\n",
       " array([  245375.,   145153., 25743365.,  1871734.,   433093.,  2281280.]),\n",
       " array([2.3190000e+03, 2.6706400e+05, 4.9068810e+06, 1.9936503e+07,\n",
       "        1.9513760e+06, 3.6558570e+06]),\n",
       " array([ 1568350.,    75030.,  4677440., 16565530.,  2810538.,  5023112.]),\n",
       " array([   52383.,   271806., 10053252., 12981476.,   522925.,  6838158.]),\n",
       " array([ 2840388.,   546508., 22164932.,   963518.,   347355.,  3857299.]),\n",
       " array([1.2990304e+07, 4.5583000e+04, 1.7148879e+07, 4.1580000e+03,\n",
       "        1.4691000e+05, 3.8416600e+05]),\n",
       " array([       0.,   290411.,  6875731., 18529453.,  1968607.,  3055798.]),\n",
       " array([29641932.,  4303459., 75326500., 46318631.,  3141548.,  7191930.]),\n",
       " array([9.32116000e+05, 3.37225800e+06, 1.26826324e+08, 4.76462330e+07,\n",
       "        3.05391400e+06, 1.01691550e+07]),\n",
       " array([  323910.,  2803237., 73456548., 55461688.,  3640852., 15405765.]),\n",
       " array([ 6353832.,   820098., 29614485.,  8587032.,   483697.,  2140856.]),\n",
       " array([ 3975465.,   670830., 34557091.,  2666695.,  2179765.,  3950154.]),\n",
       " array([12695430.,   994901., 22927834.,  7111239.,  2690603.,  1579993.]),\n",
       " array([   41788.,   829989., 20994879., 20687746.,  1429328.,  4016270.]),\n",
       " array([10919490.,  1682040., 29400412.,  1469333.,   314043.,  4214682.]),\n",
       " array([   41788.,   829989., 20994879., 20687746.,  1429328.,  4016270.]),\n",
       " array([2.1444809e+07, 1.4259000e+04, 1.5676069e+07, 1.0218381e+07,\n",
       "        4.4784400e+05, 1.9863800e+05]),\n",
       " array([ 8339348.,  1261135., 13492139., 18893677.,  1940155.,  4073546.]),\n",
       " array([17028561.,   239398., 18532211.,  9930630.,  1223208.,  1045992.]),\n",
       " array([9.9080000e+03, 1.6652190e+06, 2.1666025e+07, 2.0833413e+07,\n",
       "        1.2347550e+06, 2.5906800e+06])]"
      ]
     },
     "execution_count": 6,
     "metadata": {},
     "output_type": "execute_result"
    }
   ],
   "source": [
    "all_label_path = '/media/saeid/LaCie/Saeid/segmentation/dataset/neurips dataset/After_revision/ml_final_version/full_images_together/all/label'\n",
    "\n",
    "all_label_count = image_processing_utils.count_class_list_directory_2d(\n",
    "    all_label_path, verbose=1)\n",
    "\n",
    "all_label_count"
   ]
  },
  {
   "cell_type": "code",
   "execution_count": 51,
   "id": "3b384d91-aa9c-4df7-a9c9-8d2f7bb9117f",
   "metadata": {},
   "outputs": [],
   "source": [
    "class_col = ['G','V','F','A', 'W']"
   ]
  },
  {
   "cell_type": "code",
   "execution_count": 16,
   "id": "d1100ecc-a276-46ae-988d-61fb07a06534",
   "metadata": {},
   "outputs": [],
   "source": [
    "all_pixel_count = get_num_pixels(\n",
    "    count_list_tmp=all_label_count)"
   ]
  },
  {
   "cell_type": "code",
   "execution_count": 17,
   "id": "0188ccb6-9ff0-4d03-b3d5-1960d4233179",
   "metadata": {},
   "outputs": [
    {
     "name": "stdout",
     "output_type": "stream",
     "text": [
      "HAIR 2023 contains 8674435200.0 pixels\n"
     ]
    }
   ],
   "source": [
    "print(f'HAIR 2023 contains {all_pixel_count} pixels')"
   ]
  },
  {
   "cell_type": "code",
   "execution_count": 18,
   "id": "aa833242-08c8-4fac-9316-c2aaea5cea58",
   "metadata": {},
   "outputs": [
    {
     "name": "stdout",
     "output_type": "stream",
     "text": [
      "This means we are 126.96\n"
     ]
    }
   ],
   "source": [
    "print(f'This means we are {round(((8718936000)/(6867638784)) * 100, 2)}')"
   ]
  },
  {
   "cell_type": "markdown",
   "id": "b3b9d8ce-cf62-4d84-87e3-7080f26d7555",
   "metadata": {},
   "source": [
    "#### draw some diagrams"
   ]
  },
  {
   "cell_type": "code",
   "execution_count": 24,
   "id": "8ebaf52e-473e-47a6-a3d1-ff0e947bb081",
   "metadata": {},
   "outputs": [
    {
     "data": {
      "text/plain": [
       "8674435200.0"
      ]
     },
     "execution_count": 24,
     "metadata": {},
     "output_type": "execute_result"
    }
   ],
   "source": [
    "all_pixel_count"
   ]
  },
  {
   "cell_type": "code",
   "execution_count": 79,
   "id": "5acff5cb-6e01-4a35-9494-458d1150359a",
   "metadata": {},
   "outputs": [
    {
     "data": {
      "text/html": [
       "<div>\n",
       "<style scoped>\n",
       "    .dataframe tbody tr th:only-of-type {\n",
       "        vertical-align: middle;\n",
       "    }\n",
       "\n",
       "    .dataframe tbody tr th {\n",
       "        vertical-align: top;\n",
       "    }\n",
       "\n",
       "    .dataframe thead th {\n",
       "        text-align: right;\n",
       "    }\n",
       "</style>\n",
       "<table border=\"1\" class=\"dataframe\">\n",
       "  <thead>\n",
       "    <tr style=\"text-align: right;\">\n",
       "      <th></th>\n",
       "      <th>class_sum_percent</th>\n",
       "    </tr>\n",
       "  </thead>\n",
       "  <tbody>\n",
       "    <tr>\n",
       "      <th>U</th>\n",
       "      <td>20.94</td>\n",
       "    </tr>\n",
       "    <tr>\n",
       "      <th>G</th>\n",
       "      <td>1.94</td>\n",
       "    </tr>\n",
       "    <tr>\n",
       "      <th>V</th>\n",
       "      <td>46.80</td>\n",
       "    </tr>\n",
       "    <tr>\n",
       "      <th>F</th>\n",
       "      <td>23.00</td>\n",
       "    </tr>\n",
       "    <tr>\n",
       "      <th>A</th>\n",
       "      <td>2.68</td>\n",
       "    </tr>\n",
       "    <tr>\n",
       "      <th>W</th>\n",
       "      <td>4.64</td>\n",
       "    </tr>\n",
       "  </tbody>\n",
       "</table>\n",
       "</div>"
      ],
      "text/plain": [
       "   class_sum_percent\n",
       "U              20.94\n",
       "G               1.94\n",
       "V              46.80\n",
       "F              23.00\n",
       "A               2.68\n",
       "W               4.64"
      ]
     },
     "execution_count": 79,
     "metadata": {},
     "output_type": "execute_result"
    }
   ],
   "source": [
    "unknown_zero = True\n",
    "all_class_df = class_count_list_dataframe(\n",
    "    class_count_list=all_label_count, \n",
    "    unknown_zero=unknown_zero)\n",
    "\n",
    "all_dataset = all_class_df.loc['class_sum_percent'].to_frame()\n",
    "all_dataset = all_dataset.rename(columns={\"class_sum_percent\": \"Dataset\"})\n",
    "\n",
    "all_class_df.loc['class_sum_percent'].to_frame()"
   ]
  },
  {
   "cell_type": "code",
   "execution_count": 80,
   "id": "ec18fe41-38dc-454a-ab12-b2526a3b8999",
   "metadata": {},
   "outputs": [
    {
     "data": {
      "text/plain": [
       "G   0.02\n",
       "V   0.59\n",
       "F   0.29\n",
       "A   0.03\n",
       "W   0.06\n",
       "Name: class_sum, dtype: float32"
      ]
     },
     "execution_count": 80,
     "metadata": {},
     "output_type": "execute_result"
    }
   ],
   "source": [
    "all_class_df[class_col].loc['class_sum'] / all_class_df[class_col].loc['class_sum'].sum()\n",
    "# all_class_df"
   ]
  },
  {
   "cell_type": "code",
   "execution_count": 81,
   "id": "e6135606-a3b9-4880-8e6f-65c6cbc5f6c3",
   "metadata": {},
   "outputs": [
    {
     "data": {
      "image/png": "[encoded data removed]",
      "text/plain": [
       "<Figure size 432x288 with 1 Axes>"
      ]
     },
     "metadata": {
      "needs_background": "light"
     },
     "output_type": "display_data"
    }
   ],
   "source": [
    "# all_class_df.loc['class_sum_percent'] = (all_class_df[class_col].loc['class_sum'] / all_class_df[class_col].loc['class_sum'].sum()) * 100\n",
    "%matplotlib inline\n",
    "import matplotlib.pyplot as plt\n",
    "\n",
    "old_dataset = all_class_df.loc['class_sum_percent'].to_frame()\n",
    "old_dataset = old_dataset.rename(columns={\"class_sum_percent\": \"class percentage\"})\n",
    "plot = old_dataset.plot.bar(legend=False, color='teal', width=0.85)\n",
    "\n",
    "for p in plot.patches:\n",
    "    plot.annotate(np.round(p.get_height(),decimals=2), (p.get_x()+p.get_width()/2., p.get_height()), ha='center', va='center', xytext=(0, 10), textcoords='offset points')\n",
    "\n",
    "plot.set(ylabel=\"Percentage, %\")\n",
    "\n",
    "fig = plot.get_figure()\n",
    "plot.set_ylim(0,70)\n",
    "plt.xticks(rotation='horizontal')\n",
    "fig.tight_layout()\n",
    "fig.savefig( os.path.join(dest_save, 'dataset_statistics_percent.png'), dpi=600)"
   ]
  },
  {
   "cell_type": "code",
   "execution_count": 68,
   "id": "fdef3112-7a3e-4165-bca4-7226adeb38a7",
   "metadata": {},
   "outputs": [
    {
     "name": "stdout",
     "output_type": "stream",
     "text": [
      "Our dataset has 6857922048.0 annotated images\n"
     ]
    }
   ],
   "source": [
    "unkown_class_annotated = all_class_df[class_col].loc['class_sum'].sum()\n",
    "print(f\"Our dataset has {unkown_class_annotated} annotated images\")"
   ]
  },
  {
   "cell_type": "code",
   "execution_count": 69,
   "id": "c72573d8-1082-4641-8296-ddcee9f21fc1",
   "metadata": {},
   "outputs": [
    {
     "name": "stdout",
     "output_type": "stream",
     "text": [
      "This means we are 99.86\n"
     ]
    }
   ],
   "source": [
    "print(f'This means we are {round(((unkown_class_annotated)/(6867638784)) * 100, 2)}')"
   ]
  },
  {
   "cell_type": "markdown",
   "id": "ba26d7bf-aab6-4f96-bdde-81e0c7ec1e63",
   "metadata": {},
   "source": [
    "# Test sets (ID and OOD)"
   ]
  },
  {
   "cell_type": "code",
   "execution_count": 44,
   "id": "2d4003ca-a3e3-453b-aff4-0fcbe97b0e1f",
   "metadata": {},
   "outputs": [],
   "source": [
    "ood_label_path = '/media/saeid/LaCie/Saeid/segmentation/dataset/neurips dataset/After_revision/ml_final_version/full_images_together/ood/label'\n",
    "id_label_path = '/media/saeid/LaCie/Saeid/segmentation/dataset/neurips dataset/After_revision/ml_final_version/full_images_together/testset/label'\n",
    "\n",
    "id_label_count = image_processing_utils.count_class_list_directory_2d(\n",
    "    id_label_path, verbose=0)\n",
    "\n",
    "ood_label_count = image_processing_utils.count_class_list_directory_2d(\n",
    "    ood_label_path, verbose=0)"
   ]
  },
  {
   "cell_type": "markdown",
   "id": "67aa5ba7-d8fb-465e-871b-e837c1a4d083",
   "metadata": {},
   "source": [
    "ID"
   ]
  },
  {
   "cell_type": "code",
   "execution_count": 83,
   "id": "0da3d767-53f1-4921-b910-d4a490901552",
   "metadata": {},
   "outputs": [
    {
     "data": {
      "text/html": [
       "<div>\n",
       "<style scoped>\n",
       "    .dataframe tbody tr th:only-of-type {\n",
       "        vertical-align: middle;\n",
       "    }\n",
       "\n",
       "    .dataframe tbody tr th {\n",
       "        vertical-align: top;\n",
       "    }\n",
       "\n",
       "    .dataframe thead th {\n",
       "        text-align: right;\n",
       "    }\n",
       "</style>\n",
       "<table border=\"1\" class=\"dataframe\">\n",
       "  <thead>\n",
       "    <tr style=\"text-align: right;\">\n",
       "      <th></th>\n",
       "      <th>class_sum_percent</th>\n",
       "    </tr>\n",
       "  </thead>\n",
       "  <tbody>\n",
       "    <tr>\n",
       "      <th>U</th>\n",
       "      <td>15.54</td>\n",
       "    </tr>\n",
       "    <tr>\n",
       "      <th>G</th>\n",
       "      <td>2.30</td>\n",
       "    </tr>\n",
       "    <tr>\n",
       "      <th>V</th>\n",
       "      <td>45.09</td>\n",
       "    </tr>\n",
       "    <tr>\n",
       "      <th>F</th>\n",
       "      <td>30.01</td>\n",
       "    </tr>\n",
       "    <tr>\n",
       "      <th>A</th>\n",
       "      <td>2.52</td>\n",
       "    </tr>\n",
       "    <tr>\n",
       "      <th>W</th>\n",
       "      <td>4.55</td>\n",
       "    </tr>\n",
       "  </tbody>\n",
       "</table>\n",
       "</div>"
      ],
      "text/plain": [
       "   class_sum_percent\n",
       "U              15.54\n",
       "G               2.30\n",
       "V              45.09\n",
       "F              30.01\n",
       "A               2.52\n",
       "W               4.55"
      ]
     },
     "execution_count": 83,
     "metadata": {},
     "output_type": "execute_result"
    }
   ],
   "source": [
    "unknown_zero = True\n",
    "id_class_df = class_count_list_dataframe(\n",
    "    class_count_list=id_label_count, \n",
    "    unknown_zero=unknown_zero)\n",
    "\n",
    "all_dataset = id_class_df.loc['class_sum_percent'].to_frame()\n",
    "all_dataset = all_dataset.rename(columns={\"class_sum_percent\": \"Dataset\"})\n",
    "\n",
    "id_class_df.loc['class_sum_percent'].to_frame()"
   ]
  },
  {
   "cell_type": "code",
   "execution_count": 112,
   "id": "8696ae12-caf3-458a-858d-90d48c7ae883",
   "metadata": {},
   "outputs": [
    {
     "data": {
      "image/png": "[encoded data removed]",
      "text/plain": [
       "<Figure size 432x288 with 1 Axes>"
      ]
     },
     "metadata": {
      "needs_background": "light"
     },
     "output_type": "display_data"
    }
   ],
   "source": [
    "# id_class_df.loc['class_sum_percent'] = (id_class_df[class_col].loc['class_sum'] / id_class_df[class_col].loc['class_sum'].sum()) * 100\n",
    "# id_class_df = id_class_df[class_col]\n",
    "%matplotlib inline\n",
    "import matplotlib.pyplot as plt\n",
    "\n",
    "old_dataset = id_class_df.loc['class_sum_percent'].to_frame()\n",
    "old_dataset = old_dataset.rename(columns={\"class_sum_percent\": \"class percentage\"})\n",
    "plot = old_dataset.plot.bar(legend=False, color='teal', width=0.85)\n",
    "\n",
    "for p in plot.patches:\n",
    "    plot.annotate(np.round(p.get_height(),decimals=2), (p.get_x()+p.get_width()/2., p.get_height()), ha='center', va='center', xytext=(0, 10), textcoords='offset points')\n",
    "\n",
    "# plot.set(ylabel=\"Percentage, %\")\n",
    "\n",
    "fig = plot.get_figure()\n",
    "plot.set_ylim(0,70)\n",
    "plt.xticks(rotation='horizontal')\n",
    "\n",
    "# remove the y ticks\n",
    "plt.yticks([])\n",
    "\n",
    "fig.tight_layout()\n",
    "fig.savefig( os.path.join(dest_save, 'id_statistics_percent.png'), dpi=600)"
   ]
  },
  {
   "cell_type": "markdown",
   "id": "dbe95917-2f78-4b84-8169-fc3712883707",
   "metadata": {},
   "source": [
    "OOD"
   ]
  },
  {
   "cell_type": "code",
   "execution_count": 88,
   "id": "61b527a2-50d2-48c1-8a4b-01aef89fa6c9",
   "metadata": {},
   "outputs": [
    {
     "data": {
      "text/html": [
       "<div>\n",
       "<style scoped>\n",
       "    .dataframe tbody tr th:only-of-type {\n",
       "        vertical-align: middle;\n",
       "    }\n",
       "\n",
       "    .dataframe tbody tr th {\n",
       "        vertical-align: top;\n",
       "    }\n",
       "\n",
       "    .dataframe thead th {\n",
       "        text-align: right;\n",
       "    }\n",
       "</style>\n",
       "<table border=\"1\" class=\"dataframe\">\n",
       "  <thead>\n",
       "    <tr style=\"text-align: right;\">\n",
       "      <th></th>\n",
       "      <th>class_sum_percent</th>\n",
       "    </tr>\n",
       "  </thead>\n",
       "  <tbody>\n",
       "    <tr>\n",
       "      <th>U</th>\n",
       "      <td>9.64</td>\n",
       "    </tr>\n",
       "    <tr>\n",
       "      <th>G</th>\n",
       "      <td>1.83</td>\n",
       "    </tr>\n",
       "    <tr>\n",
       "      <th>V</th>\n",
       "      <td>42.27</td>\n",
       "    </tr>\n",
       "    <tr>\n",
       "      <th>F</th>\n",
       "      <td>35.21</td>\n",
       "    </tr>\n",
       "    <tr>\n",
       "      <th>A</th>\n",
       "      <td>3.63</td>\n",
       "    </tr>\n",
       "    <tr>\n",
       "      <th>W</th>\n",
       "      <td>7.42</td>\n",
       "    </tr>\n",
       "  </tbody>\n",
       "</table>\n",
       "</div>"
      ],
      "text/plain": [
       "   class_sum_percent\n",
       "U               9.64\n",
       "G               1.83\n",
       "V              42.27\n",
       "F              35.21\n",
       "A               3.63\n",
       "W               7.42"
      ]
     },
     "execution_count": 88,
     "metadata": {},
     "output_type": "execute_result"
    }
   ],
   "source": [
    "unknown_zero = True\n",
    "ood_class_df = class_count_list_dataframe(\n",
    "    class_count_list=ood_label_count, \n",
    "    unknown_zero=unknown_zero)\n",
    "\n",
    "all_dataset = ood_class_df.loc['class_sum_percent'].to_frame()\n",
    "all_dataset = all_dataset.rename(columns={\"class_sum_percent\": \"Dataset\"})\n",
    "\n",
    "ood_class_df.loc['class_sum_percent'].to_frame()"
   ]
  },
  {
   "cell_type": "code",
   "execution_count": 110,
   "id": "03ed7d1a-1f34-40b8-af10-2b5583f2b0cc",
   "metadata": {},
   "outputs": [
    {
     "data": {
      "image/png": "[encoded data removed]",
      "text/plain": [
       "<Figure size 432x288 with 1 Axes>"
      ]
     },
     "metadata": {
      "needs_background": "light"
     },
     "output_type": "display_data"
    }
   ],
   "source": [
    "# ood_class_df.loc['class_sum_percent'] = (ood_class_df[class_col].loc['class_sum'] / ood_class_df[class_col].loc['class_sum'].sum()) * 100\n",
    "# ood_class_df = ood_class_df[class_col]\n",
    "%matplotlib inline\n",
    "import matplotlib.pyplot as plt\n",
    "\n",
    "old_dataset = ood_class_df.loc['class_sum_percent'].to_frame()\n",
    "old_dataset = old_dataset.rename(columns={\"class_sum_percent\": \"class percentage\"})\n",
    "plot = old_dataset.plot.bar(legend=False, color='teal', width=0.85)\n",
    "\n",
    "for p in plot.patches:\n",
    "    plot.annotate(np.round(p.get_height(),decimals=2), (p.get_x()+p.get_width()/2., p.get_height()), ha='center', va='center', xytext=(0, 10), textcoords='offset points')\n",
    "\n",
    "# plot.set(ylabel=\"Percentage, %\")\n",
    "\n",
    "fig = plot.get_figure()\n",
    "plot.set_ylim(0,70)\n",
    "plt.xticks(rotation='horizontal')\n",
    "# remove the y ticks\n",
    "plt.yticks([])\n",
    "\n",
    "fig.tight_layout()\n",
    "fig.savefig( os.path.join(dest_save, 'ood_statistics_percent.png'), dpi=600)"
   ]
  },
  {
   "cell_type": "code",
   "execution_count": null,
   "id": "aef519c2-6dc1-44b1-9594-524f27a0ba94",
   "metadata": {},
   "outputs": [],
   "source": []
  },
  {
   "cell_type": "code",
   "execution_count": null,
   "id": "b7ed1deb-3b90-47a3-8901-d16599f6d0a5",
   "metadata": {},
   "outputs": [],
   "source": []
  },
  {
   "cell_type": "code",
   "execution_count": null,
   "id": "fb1824ff-1b42-4734-aa7b-02536cb5f891",
   "metadata": {},
   "outputs": [],
   "source": []
  },
  {
   "cell_type": "code",
   "execution_count": null,
   "id": "010b8daa-e5d1-49f5-900b-19db6550e186",
   "metadata": {},
   "outputs": [],
   "source": []
  },
  {
   "cell_type": "code",
   "execution_count": null,
   "id": "7b3d8ff2-9c3c-4f22-9f38-54059983e62a",
   "metadata": {},
   "outputs": [],
   "source": []
  }
 ],
 "metadata": {
  "kernelspec": {
   "display_name": "Python 3 (ipykernel)",
   "language": "python",
   "name": "python3"
  },
  "language_info": {
   "codemirror_mode": {
    "name": "ipython",
    "version": 3
   },
   "file_extension": ".py",
   "mimetype": "text/x-python",
   "name": "python",
   "nbconvert_exporter": "python",
   "pygments_lexer": "ipython3",
   "version": "3.7.7"
  }
 },
 "nbformat": 4,
 "nbformat_minor": 5
}
