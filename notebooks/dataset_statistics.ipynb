{
 "cells": [
  {
   "cell_type": "markdown",
   "id": "00fffba7-a28c-4099-87fc-7a2270e4e071",
   "metadata": {},
   "source": [
    "# This notebook provides the statistics of the datsets"
   ]
  },
  {
   "cell_type": "code",
   "execution_count": 1,
   "id": "3ce7b201-9e58-4e9e-8e97-20b80723c749",
   "metadata": {},
   "outputs": [],
   "source": [
    "%load_ext autoreload"
   ]
  },
  {
   "cell_type": "code",
   "execution_count": 2,
   "id": "04c2797b-571f-4543-9b3c-75b5feff65a3",
   "metadata": {},
   "outputs": [
    {
     "name": "stderr",
     "output_type": "stream",
     "text": [
      "2023-02-27 12:18:36.701667: I tensorflow/stream_executor/platform/default/dso_loader.cc:49] Successfully opened dynamic library libcudart.so.10.1\n"
     ]
    }
   ],
   "source": [
    "%autoreload\n",
    "import numpy as np\n",
    "import pandas as pd\n",
    "import sys\n",
    "import os\n",
    "import glob\n",
    "import imageio\n",
    "import time\n",
    "from scipy import ndimage, signal\n",
    "from cv2 import medianBlur\n",
    "\n",
    "sys.path.append(\"..\")\n",
    "\n",
    "from PIL import Image\n",
    "from costum_arild.source.utils import image_processing_utils, gdal_utils\n",
    "from costum_arild.source.data_processing import TrainingImage"
   ]
  },
  {
   "cell_type": "code",
   "execution_count": 3,
   "id": "c473456d-156d-42eb-89ed-20f5b4740e3b",
   "metadata": {},
   "outputs": [],
   "source": [
    "def class_count_list_dataframe(class_count_list, unknown_zero):\n",
    "    class_df = pd.DataFrame(class_count_list, dtype='float32')\n",
    "\n",
    "    class_df.loc['class_sum'] = class_df.sum(axis=0)\n",
    "\n",
    "    if unknown_zero == True:\n",
    "        class_df = class_df.rename(columns={5: \"water\", 1: \"gravel\", 2: \"vegetation\", 3: \"farmland\", 4: \"h_c\", 0: \"unknown\"})\n",
    "    else:\n",
    "        class_df = class_df.rename(columns={0: \"water\", 1: \"gravel\", 2: \"vegetation\", 3: \"farmland\", 4: \"h_c\", 5: \"unknown\"})\n",
    "\n",
    "    class_df.loc['class_sum_percent'] = ((class_df.loc['class_sum'] / class_df.loc['class_sum'].sum()) * 100)\n",
    "    pd.set_option('display.float_format', lambda x: '%.2f' % x)\n",
    "    return class_df"
   ]
  },
  {
   "cell_type": "code",
   "execution_count": 4,
   "id": "eb740c64-d9a5-421a-8eab-3b3037fca2b4",
   "metadata": {},
   "outputs": [],
   "source": [
    "dest_save = '/home/saeid/phd/segmentation/experiments_testset_predictions/New_dataset_experiments/plots/dataset_statistics'"
   ]
  },
  {
   "cell_type": "markdown",
   "id": "161895f7-0aa9-4586-af2c-fb82bb0ca58a",
   "metadata": {
    "tags": []
   },
   "source": [
    "# new image"
   ]
  },
  {
   "cell_type": "markdown",
   "id": "2b4e02ef-9cdd-44e4-9414-6a90f1af4d07",
   "metadata": {
    "tags": []
   },
   "source": [
    "### ex1"
   ]
  },
  {
   "cell_type": "markdown",
   "id": "856fa8ed-fe61-46d9-b486-1149b89382fb",
   "metadata": {},
   "source": [
    "the first version of dataset"
   ]
  },
  {
   "cell_type": "code",
   "execution_count": 8,
   "id": "95089e5c-c587-4227-9222-fead0b415e35",
   "metadata": {},
   "outputs": [],
   "source": [
    "new_dataset = None"
   ]
  },
  {
   "cell_type": "code",
   "execution_count": 9,
   "id": "5baf629f-0ab9-4c30-92af-9d2be2946b67",
   "metadata": {},
   "outputs": [],
   "source": [
    "all_lbl_path_train = '/home/saeid/phd/segmentation/dataset/new_dataset/Ex1_image_unknown0/train/label/img'\n",
    "all_lbl_path_val = '/home/saeid/phd/segmentation/dataset/new_dataset/Ex1_image_unknown0/val/label/img'\n",
    "all_lbl_path_test = '/home/saeid/phd/segmentation/dataset/new_dataset/Ex1_image_unknown0/test/label/img'\n",
    "\n",
    "all_lbl_class_count_train = image_processing_utils.count_class_list_directory_2d(all_lbl_path_train)\n",
    "all_lbl_class_count_val = image_processing_utils.count_class_list_directory_2d(all_lbl_path_val)\n",
    "all_lbl_class_count_test = image_processing_utils.count_class_list_directory_2d(all_lbl_path_test)"
   ]
  },
  {
   "cell_type": "code",
   "execution_count": 10,
   "id": "7f24f9d5-6da3-446a-ac87-5a41e298245d",
   "metadata": {},
   "outputs": [],
   "source": [
    "all_lbl_class_count = all_lbl_class_count_train + all_lbl_class_count_val + all_lbl_class_count_test"
   ]
  },
  {
   "cell_type": "markdown",
   "id": "66e7073e-d5cd-4782-b019-34ee63214a2a",
   "metadata": {},
   "source": [
    "all images"
   ]
  },
  {
   "cell_type": "code",
   "execution_count": 11,
   "id": "614793fb-ba20-4b8d-9ad8-e3d54560b7c5",
   "metadata": {},
   "outputs": [
    {
     "data": {
      "text/html": [
       "<div>\n",
       "<style scoped>\n",
       "    .dataframe tbody tr th:only-of-type {\n",
       "        vertical-align: middle;\n",
       "    }\n",
       "\n",
       "    .dataframe tbody tr th {\n",
       "        vertical-align: top;\n",
       "    }\n",
       "\n",
       "    .dataframe thead th {\n",
       "        text-align: right;\n",
       "    }\n",
       "</style>\n",
       "<table border=\"1\" class=\"dataframe\">\n",
       "  <thead>\n",
       "    <tr style=\"text-align: right;\">\n",
       "      <th></th>\n",
       "      <th>class_sum_percent</th>\n",
       "    </tr>\n",
       "  </thead>\n",
       "  <tbody>\n",
       "    <tr>\n",
       "      <th>unknown</th>\n",
       "      <td>0.59</td>\n",
       "    </tr>\n",
       "    <tr>\n",
       "      <th>gravel</th>\n",
       "      <td>2.10</td>\n",
       "    </tr>\n",
       "    <tr>\n",
       "      <th>vegetation</th>\n",
       "      <td>62.20</td>\n",
       "    </tr>\n",
       "    <tr>\n",
       "      <th>farmland</th>\n",
       "      <td>26.32</td>\n",
       "    </tr>\n",
       "    <tr>\n",
       "      <th>h_c</th>\n",
       "      <td>4.13</td>\n",
       "    </tr>\n",
       "    <tr>\n",
       "      <th>water</th>\n",
       "      <td>4.66</td>\n",
       "    </tr>\n",
       "  </tbody>\n",
       "</table>\n",
       "</div>"
      ],
      "text/plain": [
       "            class_sum_percent\n",
       "unknown                  0.59\n",
       "gravel                   2.10\n",
       "vegetation              62.20\n",
       "farmland                26.32\n",
       "h_c                      4.13\n",
       "water                    4.66"
      ]
     },
     "execution_count": 11,
     "metadata": {},
     "output_type": "execute_result"
    }
   ],
   "source": [
    "unknown_zero = True\n",
    "all_class_df = class_count_list_dataframe(class_count_list=all_lbl_class_count, unknown_zero=unknown_zero)\n",
    "new_dataset = all_class_df.loc['class_sum_percent'].to_frame()\n",
    "new_dataset = new_dataset.rename(columns={\"class_sum_percent\": \"initial\"})\n",
    "\n",
    "all_class_df.loc['class_sum_percent'].to_frame()"
   ]
  },
  {
   "cell_type": "code",
   "execution_count": 14,
   "id": "cd5ca3d6-361f-40df-b4bc-a91bf6d762f3",
   "metadata": {},
   "outputs": [
    {
     "data": {
      "image/png": "[encoded data removed]",
      "text/plain": [
       "<Figure size 432x288 with 1 Axes>"
      ]
     },
     "metadata": {
      "needs_background": "light"
     },
     "output_type": "display_data"
    }
   ],
   "source": [
    "plot = new_dataset.plot.bar(legend=False)\n",
    "fig = plot.get_figure()\n",
    "plot.set_ylim(0,70)\n",
    "fig.savefig( os.path.join(dest_save, 'normal_sampling.png'))"
   ]
  },
  {
   "cell_type": "markdown",
   "id": "27b0a67f-6f8f-481b-aa36-5acaed49ffa3",
   "metadata": {},
   "source": [
    "training images"
   ]
  },
  {
   "cell_type": "code",
   "execution_count": 9,
   "id": "5c10f4bd-dab2-4cb7-8101-7bead2d6467c",
   "metadata": {},
   "outputs": [
    {
     "data": {
      "text/html": [
       "<div>\n",
       "<style scoped>\n",
       "    .dataframe tbody tr th:only-of-type {\n",
       "        vertical-align: middle;\n",
       "    }\n",
       "\n",
       "    .dataframe tbody tr th {\n",
       "        vertical-align: top;\n",
       "    }\n",
       "\n",
       "    .dataframe thead th {\n",
       "        text-align: right;\n",
       "    }\n",
       "</style>\n",
       "<table border=\"1\" class=\"dataframe\">\n",
       "  <thead>\n",
       "    <tr style=\"text-align: right;\">\n",
       "      <th></th>\n",
       "      <th>class_sum_percent</th>\n",
       "    </tr>\n",
       "  </thead>\n",
       "  <tbody>\n",
       "    <tr>\n",
       "      <th>unknown</th>\n",
       "      <td>0.60</td>\n",
       "    </tr>\n",
       "    <tr>\n",
       "      <th>gravel</th>\n",
       "      <td>2.13</td>\n",
       "    </tr>\n",
       "    <tr>\n",
       "      <th>vegetation</th>\n",
       "      <td>62.53</td>\n",
       "    </tr>\n",
       "    <tr>\n",
       "      <th>farmland</th>\n",
       "      <td>26.12</td>\n",
       "    </tr>\n",
       "    <tr>\n",
       "      <th>h_c</th>\n",
       "      <td>4.09</td>\n",
       "    </tr>\n",
       "    <tr>\n",
       "      <th>water</th>\n",
       "      <td>4.52</td>\n",
       "    </tr>\n",
       "  </tbody>\n",
       "</table>\n",
       "</div>"
      ],
      "text/plain": [
       "            class_sum_percent\n",
       "unknown                  0.60\n",
       "gravel                   2.13\n",
       "vegetation              62.53\n",
       "farmland                26.12\n",
       "h_c                      4.09\n",
       "water                    4.52"
      ]
     },
     "execution_count": 9,
     "metadata": {},
     "output_type": "execute_result"
    }
   ],
   "source": [
    "unknown_zero = True\n",
    "all_class_df = class_count_list_dataframe(class_count_list=all_lbl_class_count_train, unknown_zero=unknown_zero)\n",
    "all_class_df.loc['class_sum_percent'].to_frame()"
   ]
  },
  {
   "cell_type": "markdown",
   "id": "2812c556-66f1-45ba-8af1-001a427eff61",
   "metadata": {},
   "source": [
    "### ex2"
   ]
  },
  {
   "cell_type": "code",
   "execution_count": 5,
   "id": "0ddf92fe-3ac5-4c68-b887-03f480381594",
   "metadata": {},
   "outputs": [],
   "source": [
    "all_lbl_path_train = '/home/saeid/phd/segmentation/dataset/new_dataset/Ex2_images/train/label/img'\n",
    "all_lbl_path_val = '/home/saeid/phd/segmentation/dataset/new_dataset/Ex1_image_unknown0/val/label/img'\n",
    "all_lbl_path_test = '/home/saeid/phd/segmentation/dataset/new_dataset/Ex1_image_unknown0/test/label/img'\n",
    "\n",
    "all_lbl_class_count_train = image_processing_utils.count_class_list_directory_2d(all_lbl_path_train)\n",
    "all_lbl_class_count_val = image_processing_utils.count_class_list_directory_2d(all_lbl_path_val)\n",
    "all_lbl_class_count_test = image_processing_utils.count_class_list_directory_2d(all_lbl_path_test)"
   ]
  },
  {
   "cell_type": "code",
   "execution_count": 6,
   "id": "5b4c9966-9455-4d98-a2ef-8819a0363e2c",
   "metadata": {},
   "outputs": [],
   "source": [
    "all_lbl_class_count = all_lbl_class_count_train + all_lbl_class_count_val + all_lbl_class_count_test"
   ]
  },
  {
   "cell_type": "code",
   "execution_count": 7,
   "id": "4302999e-38b7-4a2a-9db6-03654196e9ed",
   "metadata": {},
   "outputs": [
    {
     "ename": "NameError",
     "evalue": "name 'new_dataset' is not defined",
     "output_type": "error",
     "traceback": [
      "\u001b[0;31m---------------------------------------------------------------------------\u001b[0m",
      "\u001b[0;31mNameError\u001b[0m                                 Traceback (most recent call last)",
      "\u001b[0;32m/tmp/ipykernel_29683/3478447207.py\u001b[0m in \u001b[0;36m<module>\u001b[0;34m\u001b[0m\n\u001b[1;32m      1\u001b[0m \u001b[0munknown_zero\u001b[0m \u001b[0;34m=\u001b[0m \u001b[0;32mTrue\u001b[0m\u001b[0;34m\u001b[0m\u001b[0;34m\u001b[0m\u001b[0m\n\u001b[1;32m      2\u001b[0m \u001b[0mall_class_df\u001b[0m \u001b[0;34m=\u001b[0m \u001b[0mclass_count_list_dataframe\u001b[0m\u001b[0;34m(\u001b[0m\u001b[0mclass_count_list\u001b[0m\u001b[0;34m=\u001b[0m\u001b[0mall_lbl_class_count\u001b[0m\u001b[0;34m,\u001b[0m \u001b[0munknown_zero\u001b[0m\u001b[0;34m=\u001b[0m\u001b[0munknown_zero\u001b[0m\u001b[0;34m)\u001b[0m\u001b[0;34m\u001b[0m\u001b[0;34m\u001b[0m\u001b[0m\n\u001b[0;32m----> 3\u001b[0;31m \u001b[0mnew_dataset\u001b[0m\u001b[0;34m[\u001b[0m\u001b[0;34m'rotated'\u001b[0m\u001b[0;34m]\u001b[0m \u001b[0;34m=\u001b[0m \u001b[0mall_class_df\u001b[0m\u001b[0;34m.\u001b[0m\u001b[0mloc\u001b[0m\u001b[0;34m[\u001b[0m\u001b[0;34m'class_sum_percent'\u001b[0m\u001b[0;34m]\u001b[0m\u001b[0;34m.\u001b[0m\u001b[0mto_frame\u001b[0m\u001b[0;34m(\u001b[0m\u001b[0;34m)\u001b[0m\u001b[0;34m\u001b[0m\u001b[0;34m\u001b[0m\u001b[0m\n\u001b[0m\u001b[1;32m      4\u001b[0m \u001b[0;34m\u001b[0m\u001b[0m\n\u001b[1;32m      5\u001b[0m \u001b[0mall_class_df\u001b[0m\u001b[0;34m.\u001b[0m\u001b[0mloc\u001b[0m\u001b[0;34m[\u001b[0m\u001b[0;34m'class_sum_percent'\u001b[0m\u001b[0;34m]\u001b[0m\u001b[0;34m.\u001b[0m\u001b[0mto_frame\u001b[0m\u001b[0;34m(\u001b[0m\u001b[0;34m)\u001b[0m\u001b[0;34m\u001b[0m\u001b[0;34m\u001b[0m\u001b[0m\n",
      "\u001b[0;31mNameError\u001b[0m: name 'new_dataset' is not defined"
     ]
    }
   ],
   "source": [
    "unknown_zero = True\n",
    "all_class_df = class_count_list_dataframe(class_count_list=all_lbl_class_count, unknown_zero=unknown_zero)\n",
    "new_dataset['rotated'] = all_class_df.loc['class_sum_percent'].to_frame()\n",
    "\n",
    "all_class_df.loc['class_sum_percent'].to_frame()"
   ]
  },
  {
   "cell_type": "code",
   "execution_count": 19,
   "id": "62affcd7-35a1-4587-854d-b076bc0f0728",
   "metadata": {},
   "outputs": [
    {
     "data": {
      "image/png": "[encoded data removed]",
      "text/plain": [
       "<Figure size 432x288 with 1 Axes>"
      ]
     },
     "metadata": {
      "needs_background": "light"
     },
     "output_type": "display_data"
    }
   ],
   "source": [
    "plot = new_dataset.plot.bar(color=['teal', 'darkblue'], width=0.7)\n",
    "fig = plot.get_figure()\n",
    "plot.set_ylim(0,70)\n",
    "fig.savefig( os.path.join(dest_save, 'new_dataset.png'))"
   ]
  },
  {
   "cell_type": "code",
   "execution_count": 37,
   "id": "f412340a-efe3-4552-a898-d9e2401a7abd",
   "metadata": {},
   "outputs": [
    {
     "ename": "NameError",
     "evalue": "name 'new_dataset' is not defined",
     "output_type": "error",
     "traceback": [
      "\u001b[0;31m---------------------------------------------------------------------------\u001b[0m",
      "\u001b[0;31mNameError\u001b[0m                                 Traceback (most recent call last)",
      "\u001b[0;32m/tmp/ipykernel_137023/1115215058.py\u001b[0m in \u001b[0;36m<module>\u001b[0;34m\u001b[0m\n\u001b[0;32m----> 1\u001b[0;31m \u001b[0mnew_dataset\u001b[0m \u001b[0;34m=\u001b[0m \u001b[0mnew_dataset\u001b[0m\u001b[0;34m[\u001b[0m\u001b[0;34m-\u001b[0m\u001b[0;36m1\u001b[0m\u001b[0;34m:\u001b[0m\u001b[0;34m]\u001b[0m \u001b[0;34m+\u001b[0m \u001b[0mnew_dataset\u001b[0m\u001b[0;34m[\u001b[0m\u001b[0;34m:\u001b[0m\u001b[0;34m-\u001b[0m\u001b[0;36m1\u001b[0m\u001b[0;34m]\u001b[0m\u001b[0;34m\u001b[0m\u001b[0;34m\u001b[0m\u001b[0m\n\u001b[0m",
      "\u001b[0;31mNameError\u001b[0m: name 'new_dataset' is not defined"
     ]
    }
   ],
   "source": [
    "new_dataset = new_dataset[-1:] + new_dataset[:-1]"
   ]
  },
  {
   "cell_type": "markdown",
   "id": "05c418ad-e280-43d6-a475-571d2b0146e3",
   "metadata": {
    "tags": []
   },
   "source": [
    "# Old dataset"
   ]
  },
  {
   "cell_type": "markdown",
   "id": "62d8c911-ad06-432e-9487-b0a7781a57c4",
   "metadata": {
    "tags": []
   },
   "source": [
    "### ex1"
   ]
  },
  {
   "cell_type": "code",
   "execution_count": 20,
   "id": "6376e87e-41e5-408f-b0de-1b4cc3efbed0",
   "metadata": {},
   "outputs": [],
   "source": [
    "old_dataset = None"
   ]
  },
  {
   "cell_type": "code",
   "execution_count": 21,
   "id": "ff359476-c299-4120-a2e9-0f033a8400d1",
   "metadata": {},
   "outputs": [],
   "source": [
    "def count_class_list_directory_2d_tif(src_label_path, verbose=0):\n",
    "    \"\"\" returns list of vectors in which number of classes of one image is mentioned (2d)\"\"\"\n",
    "    class_count_list = []\n",
    "    start = time.time()\n",
    "    for label_path in glob.glob(os.path.join(src_label_path, '*.tif')):\n",
    "        if verbose == 1:\n",
    "            print(f'working on label {os.path.split(label_path)[-1]}')\n",
    "\n",
    "        # read label\n",
    "        original_label_matrix = imageio.imread(label_path)\n",
    "\n",
    "        if original_label_matrix.shape[-1] != 3:\n",
    "            # it is not a 3 channel label so we can calculate the class info\n",
    "            # get the information about the classes\n",
    "            (unique_tmp, counts_tmp) = np.unique(\n",
    "                original_label_matrix, return_counts=True)\n",
    "            class_count_vec = np.zeros(6)\n",
    "            class_count_vec[unique_tmp] = counts_tmp\n",
    "            class_count_list.append(class_count_vec)\n",
    "        else:\n",
    "            raise NotImplementedError('it is not 2d')\n",
    "\n",
    "    end = time.time()\n",
    "    if verbose == 1:\n",
    "        print(f'the time takes {end - start}')\n",
    "    return class_count_list"
   ]
  },
  {
   "cell_type": "code",
   "execution_count": 22,
   "id": "4e440238-5fd4-4881-9f83-e3ba40bed478",
   "metadata": {},
   "outputs": [],
   "source": [
    "all_lbl_path_train = '/home/saeid/phd/segmentation/dataset/machine_learning_dataset/train/labels'\n",
    "all_lbl_path_val = '/home/saeid/phd/segmentation/dataset/machine_learning_dataset/val/labels'\n",
    "# all_lbl_path_test = '/home/saeid/phd/segmentation/dataset/new_dataset/Ex1_image_unknown0/test/label/img'\n",
    "\n",
    "all_lbl_class_count_train = count_class_list_directory_2d_tif(all_lbl_path_train)\n",
    "all_lbl_class_count_val = count_class_list_directory_2d_tif(all_lbl_path_val)\n",
    "# all_lbl_class_count_test = image_processing_utils.count_class_list_directory_2d(all_lbl_path_test)"
   ]
  },
  {
   "cell_type": "code",
   "execution_count": 23,
   "id": "988f23f3-554a-43aa-ba6d-a585bd614ee9",
   "metadata": {},
   "outputs": [],
   "source": [
    "all_lbl_class_count = all_lbl_class_count_val + all_lbl_class_count_train"
   ]
  },
  {
   "cell_type": "markdown",
   "id": "84156212-6b74-4136-852c-89fb031ea6bc",
   "metadata": {},
   "source": [
    "all images"
   ]
  },
  {
   "cell_type": "code",
   "execution_count": 24,
   "id": "1e60cd76-206f-425c-88f5-da7d83ce6e74",
   "metadata": {},
   "outputs": [],
   "source": [
    "unknown_zero = False\n",
    "all_class_df_old = class_count_list_dataframe(class_count_list=all_lbl_class_count, unknown_zero=unknown_zero)\n",
    "all_class_df_old.loc['class_sum_percent'].to_frame()\n",
    "\n",
    "old_dataset = all_class_df_old.loc['class_sum_percent'].to_frame()\n",
    "old_dataset = old_dataset.rename(columns={\"class_sum_percent\": \"initial\"})"
   ]
  },
  {
   "cell_type": "markdown",
   "id": "6f8747c7-4859-4103-af80-ce1bf431345f",
   "metadata": {},
   "source": [
    "train"
   ]
  },
  {
   "cell_type": "code",
   "execution_count": 25,
   "id": "6a641278-079a-4aef-b451-d73e99ed2c93",
   "metadata": {},
   "outputs": [
    {
     "data": {
      "text/plain": [
       "<AxesSubplot:>"
      ]
     },
     "execution_count": 25,
     "metadata": {},
     "output_type": "execute_result"
    },
    {
     "data": {
      "image/png": "[encoded data removed]",
      "text/plain": [
       "<Figure size 432x288 with 1 Axes>"
      ]
     },
     "metadata": {
      "needs_background": "light"
     },
     "output_type": "display_data"
    }
   ],
   "source": [
    "old_dataset.plot.bar()"
   ]
  },
  {
   "cell_type": "markdown",
   "id": "521eeffb-5642-4401-a12c-d9953e6f9562",
   "metadata": {},
   "source": [
    "### ex2"
   ]
  },
  {
   "cell_type": "code",
   "execution_count": 26,
   "id": "d632c71f-bc68-4b5f-a7d8-013e8005dcf5",
   "metadata": {},
   "outputs": [],
   "source": [
    "all_lbl_path_train = '/media/saeid/ADATA HD710/NTNU/PHD/old dataset/rotation_augmentation/train/label/img'\n",
    "all_lbl_path_val = '/media/saeid/ADATA HD710/NTNU/PHD/old dataset/rotation_augmentation/val/label/img'\n",
    "\n",
    "all_lbl_class_count_train = image_processing_utils.count_class_list_directory_2d(all_lbl_path_train)\n",
    "all_lbl_class_count_val = image_processing_utils.count_class_list_directory_2d(all_lbl_path_val)"
   ]
  },
  {
   "cell_type": "code",
   "execution_count": 27,
   "id": "c9177a46-cca7-425b-a955-b4de09fa44b4",
   "metadata": {},
   "outputs": [],
   "source": [
    "all_lbl_class_count = all_lbl_class_count_val + all_lbl_class_count_train"
   ]
  },
  {
   "cell_type": "code",
   "execution_count": 28,
   "id": "938bd117-a31d-4a69-939e-fbfe82b316c0",
   "metadata": {},
   "outputs": [],
   "source": [
    "unknown_zero = False\n",
    "all_class_df_old = class_count_list_dataframe(class_count_list=all_lbl_class_count, unknown_zero=unknown_zero)\n",
    "all_class_df_old.loc['class_sum_percent'].to_frame()\n",
    "\n",
    "old_dataset['rotated'] = all_class_df_old.loc['class_sum_percent'].to_frame()"
   ]
  },
  {
   "cell_type": "code",
   "execution_count": 29,
   "id": "8da10cf5-6734-4006-bd59-569e8e02f238",
   "metadata": {},
   "outputs": [
    {
     "data": {
      "image/png": "[encoded data removed]",
      "text/plain": [
       "<Figure size 432x288 with 1 Axes>"
      ]
     },
     "metadata": {
      "needs_background": "light"
     },
     "output_type": "display_data"
    }
   ],
   "source": [
    "old_dataset = old_dataset.reindex(index = ['unknown','gravel', 'vegetation', 'farmland', 'h_c', 'water'])\n",
    "plot = old_dataset.plot.bar(color=['teal', 'darkblue'], width=0.7, legend=False)\n",
    "fig = plot.get_figure()\n",
    "plot.set_ylim(0,70)\n",
    "fig.savefig( os.path.join(dest_save, 'old_dataset_nolegend.png'))"
   ]
  },
  {
   "cell_type": "code",
   "execution_count": null,
   "id": "0c3252e1-1a7f-4263-a183-3040859e1b7c",
   "metadata": {},
   "outputs": [],
   "source": [
    "old_dataset"
   ]
  },
  {
   "cell_type": "code",
   "execution_count": null,
   "id": "14789f3b-2489-4a3d-b9b4-ba01d3f6ac3d",
   "metadata": {},
   "outputs": [],
   "source": []
  }
 ],
 "metadata": {
  "kernelspec": {
   "display_name": "Python 3 (ipykernel)",
   "language": "python",
   "name": "python3"
  },
  "language_info": {
   "codemirror_mode": {
    "name": "ipython",
    "version": 3
   },
   "file_extension": ".py",
   "mimetype": "text/x-python",
   "name": "python",
   "nbconvert_exporter": "python",
   "pygments_lexer": "ipython3",
   "version": "3.7.7"
  }
 },
 "nbformat": 4,
 "nbformat_minor": 5
}
